{
 "cells": [
  {
   "cell_type": "markdown",
   "id": "fa543ff8-2cb8-415a-a35d-c087620b93c1",
   "metadata": {},
   "source": [
    "### 18.1 Inheritence"
   ]
  },
  {
   "cell_type": "markdown",
   "id": "bc57f11e-1fef-46d2-9157-16bd79974290",
   "metadata": {},
   "source": [
    "##### Inherited class derives the data and behaviour from the parent class"
   ]
  },
  {
   "cell_type": "code",
   "execution_count": 35,
   "id": "78094f7f-719d-4e93-8423-8a5d14911fc8",
   "metadata": {},
   "outputs": [],
   "source": [
    "class employee:\n",
    "\n",
    "    # class variable\n",
    "    nEmployees = 0\n",
    "\n",
    "    # attributes\n",
    "    def __init__(self, name='', age=0, company='', salary=''):\n",
    "        self.name = name\n",
    "        self.age  = age\n",
    "        self.company = company\n",
    "        self.salary = salary  # 1000000 INR\n",
    "        self.taxrate = 0\n",
    "        self.bonus = 0\n",
    "        self.net_salary = self.salary \n",
    "        employee.nEmployees += 1\n",
    "\n",
    "    # methods\n",
    "\n",
    "    def set_taxrate(self, tr):\n",
    "        self.taxrate = tr\n",
    "        self.update_net_salary()\n",
    "        return\n",
    "\n",
    "    def set_bonus(self, bonus_pct):\n",
    "        try:\n",
    "            self.bonus = bonus_pct\n",
    "            temp = float(self.net_salary.split()[0])\n",
    "            temp = temp + (temp * self.bonus/100)\n",
    "            self.net_salary = ' '.join([str(temp), 'INR'])\n",
    "            return\n",
    "        except:\n",
    "            print(\"Incompatible operation\")\n",
    "\n",
    "    def update_net_salary(self):\n",
    "        try:\n",
    "            temp = float(self.salary.split()[0])\n",
    "            temp = temp - (temp * self.taxrate/100)\n",
    "            print(temp)\n",
    "            self.net_salary = ' '.join([str(temp), 'INR'])\n",
    "            return\n",
    "        except:\n",
    "            print(\"Incompatible input\")\n",
    "\n",
    "    def print(self):\n",
    "        print(\"\\n\")\n",
    "        print(\"NAME\".ljust(20), ' -> ', self.name)\n",
    "        print(\"AGE\".ljust(20), ' -> ', self.age)\n",
    "        print(\"COMPANY\".ljust(20), ' -> ', self.company)\n",
    "        print(\"-\"*80)\n",
    "        print(\"GROSS SALARY\".ljust(20), ' = ', self.salary)\n",
    "        print(\"TAX RATE\".ljust(20), ' = ', self.taxrate)\n",
    "        print(\"BONUS\".ljust(20), ' = ', self.bonus, ' pct')\n",
    "        print(\"-\"*80)\n",
    "        print(\"NET SALARY\".ljust(20), ' = ', self.net_salary)"
   ]
  },
  {
   "cell_type": "markdown",
   "id": "9785052f-9e03-4991-ac70-012cf82ca43b",
   "metadata": {},
   "source": [
    "##### Syntax for inheritance"
   ]
  },
  {
   "cell_type": "code",
   "execution_count": 36,
   "id": "51c88b62-2980-4b90-82b0-2dcdcd0c07b2",
   "metadata": {},
   "outputs": [],
   "source": [
    "class newEmployee(employee): # newEmployee is inherited from employee\n",
    "    pass"
   ]
  },
  {
   "cell_type": "code",
   "execution_count": 37,
   "id": "0c77af5f-fdb3-4d02-8002-940226be0bde",
   "metadata": {},
   "outputs": [
    {
     "name": "stdout",
     "output_type": "stream",
     "text": [
      "1350000.0\n",
      "\n",
      "\n",
      "NAME                  ->  Anil\n",
      "AGE                   ->  35\n",
      "COMPANY               ->  UST Global\n",
      "--------------------------------------------------------------------------------\n",
      "GROSS SALARY          =  1500000 INR\n",
      "TAX RATE              =  10\n",
      "BONUS                 =  10  pct\n",
      "--------------------------------------------------------------------------------\n",
      "NET SALARY            =  1485000.0 INR\n"
     ]
    }
   ],
   "source": [
    "e = newEmployee(\"Anil\", 35, \"UST Global\", \"1500000 INR\")\n",
    "e.set_taxrate(10)\n",
    "e.set_bonus(10)\n",
    "e.print()"
   ]
  },
  {
   "cell_type": "code",
   "execution_count": 7,
   "id": "90954c71-fb27-448f-9a50-86ae29801670",
   "metadata": {},
   "outputs": [
    {
     "data": {
      "text/plain": [
       "3"
      ]
     },
     "execution_count": 7,
     "metadata": {},
     "output_type": "execute_result"
    }
   ],
   "source": [
    "e.nEmployees"
   ]
  },
  {
   "cell_type": "markdown",
   "id": "3b1ce7d0-8fd0-4b6d-8eda-b988956b9984",
   "metadata": {},
   "source": [
    "### 18.2 Adding new attributes and behavior"
   ]
  },
  {
   "cell_type": "markdown",
   "id": "7ce34d83-bda4-4b38-a211-05a3ac62ff27",
   "metadata": {},
   "source": [
    "Attributes: married, phone, address, workmode\n",
    "Functionality: update_maritalstatus, update_phone, update_address, update_workmode\n",
    "Override: print"
   ]
  },
  {
   "cell_type": "code",
   "execution_count": 32,
   "id": "a856d51a-1347-4af9-ad3d-f4367838b8f0",
   "metadata": {},
   "outputs": [],
   "source": [
    "import re\n",
    "\n",
    "class extEmployee(employee):\n",
    "\n",
    "    def __init__(self, name, age, company, salary, marital_status):\n",
    "        # New attributes\n",
    "        self.phone = \"+910000000000\"\n",
    "        self.address = \"\"\n",
    "        self.workmode = \"Office\"\n",
    "        self.maritalstatus = marital_status\n",
    "        # Attributes initialized in parent class\n",
    "        super().__init__(name, age, company, salary)\n",
    "\n",
    "    # New functions\n",
    "    def update_maritalstatus(self, status):\n",
    "        if(status in [\"married\", \"unmarried\", \"single\"]):\n",
    "            self.maritalstatus = status\n",
    "        return\n",
    "\n",
    "    def update_phone(self, phone):\n",
    "        if re.match(r\"\\+91\\d{10}\", phone):\n",
    "            self.phone = phone\n",
    "        return\n",
    "\n",
    "    def update_address(self, addr):\n",
    "        self.addr = addr\n",
    "\n",
    "    def update_workmode(self, mode):\n",
    "        if mode in [\"home\", \"office\", \"hybrid\"]:\n",
    "            self.workmode = mode\n",
    "    "
   ]
  },
  {
   "cell_type": "code",
   "execution_count": 11,
   "id": "17d0f8e3-079c-4edf-9495-a75adb52da23",
   "metadata": {},
   "outputs": [
    {
     "name": "stdout",
     "output_type": "stream",
     "text": [
      "1350000.0\n",
      "\n",
      "\n",
      "NAME                  ->  Sunil\n",
      "AGE                   ->  35\n",
      "COMPANY               ->  UST Global\n",
      "--------------------------------------------------------------------------------\n",
      "GROSS SALARY          =  1500000 INR\n",
      "TAX RATE              =  10\n",
      "BONUS                 =  10  pct\n",
      "--------------------------------------------------------------------------------\n",
      "NET SALARY            =  1485000.0 INR\n"
     ]
    }
   ],
   "source": [
    "e = extEmployee(\"Sunil\", 35, \"UST Global\", \"1500000 INR\", \"married\")\n",
    "# Calling functions from parent side\n",
    "e.set_taxrate(10)\n",
    "e.set_bonus(10)\n",
    "# Calling functions from the child\n",
    "e.update_phone(\"+918876534545\")\n",
    "e.update_address(\"Jayanagar, Bengaluru - 560040\")\n",
    "# Print from parent class - why?\n",
    "e.print()"
   ]
  },
  {
   "cell_type": "markdown",
   "id": "200d817c-1967-49ca-868c-6240dae460cc",
   "metadata": {},
   "source": [
    "##### Obvious expectation: print the newly added attributes as well!"
   ]
  },
  {
   "cell_type": "markdown",
   "id": "a6135732-79ff-460b-850d-9f023d3e3804",
   "metadata": {},
   "source": [
    "### 18.3 Method Override"
   ]
  },
  {
   "cell_type": "markdown",
   "id": "fafbedcd-81ec-43d2-8982-2e6582b3214e",
   "metadata": {},
   "source": [
    "The print() from the parent side is not suffient enough to handle the newly added attributes\n",
    "Most importantly it does not even have the access to the newly added attributes"
   ]
  },
  {
   "cell_type": "code",
   "execution_count": 40,
   "id": "a61f9b41-60c2-414e-ac29-9112206f77ec",
   "metadata": {},
   "outputs": [],
   "source": [
    "import re\n",
    "\n",
    "class extEmployee(employee):\n",
    "\n",
    "    def __init__(self, name, age, company, salary, marital_status):\n",
    "        # New attributes\n",
    "        self.phone = \"+910000000000\"\n",
    "        self.address = \"\"\n",
    "        self.workmode = \"Office\"\n",
    "        self.maritalstatus = marital_status\n",
    "        # Attributes initialized in parent class\n",
    "        super().__init__(name, age, company, salary)\n",
    "\n",
    "    # New functions\n",
    "    def update_maritalstatus(self, status):\n",
    "        if(status in [\"married\", \"unmarried\", \"single\"]):\n",
    "            self.maritalstatus = status\n",
    "        return\n",
    "\n",
    "    def update_phone(self, phone):\n",
    "        if re.match(r\"\\+91\\d{10}\", phone):\n",
    "            self.phone = phone\n",
    "        return\n",
    "\n",
    "    def update_address(self, addr):\n",
    "        self.address = addr\n",
    "\n",
    "    def update_workmode(self, mode):\n",
    "        if mode in [\"home\", \"office\", \"hybrid\"]:\n",
    "            self.workmode = mode\n",
    "\n",
    "    # Override the print()\n",
    "    def print(self):\n",
    "        super().print() # To print the parent side details\n",
    "        print(\"-\"*80)\n",
    "        print(\"MARITAL STATUS\".ljust(20), ' = ', self.maritalstatus)\n",
    "        print(\"PHONE\".ljust(20), ' = ', self.phone)\n",
    "        print(\"ADDRESS\".ljust(20), ' = ', self.address)\n",
    "        print(\"WORK MODE\".ljust(20), ' = ', self.workmode)\n",
    "    \n",
    "        "
   ]
  },
  {
   "cell_type": "code",
   "execution_count": 41,
   "id": "c2dcc6e4-646e-4015-bf50-375ce6158a5b",
   "metadata": {},
   "outputs": [
    {
     "name": "stdout",
     "output_type": "stream",
     "text": [
      "1350000.0\n",
      "\n",
      "\n",
      "NAME                  ->  Sunil\n",
      "AGE                   ->  35\n",
      "COMPANY               ->  UST Global\n",
      "--------------------------------------------------------------------------------\n",
      "GROSS SALARY          =  1500000 INR\n",
      "TAX RATE              =  10\n",
      "BONUS                 =  10  pct\n",
      "--------------------------------------------------------------------------------\n",
      "NET SALARY            =  1485000.0 INR\n",
      "--------------------------------------------------------------------------------\n",
      "MARITAL STATUS        =  married\n",
      "PHONE                 =  +918876534545\n",
      "ADDRESS               =  Jayanagar, Bengaluru - 560040\n",
      "WORK MODE             =  Office\n"
     ]
    }
   ],
   "source": [
    "e = extEmployee(\"Sunil\", 35, \"UST Global\", \"1500000 INR\", \"married\")\n",
    "# Calling functions from parent side\n",
    "e.set_taxrate(10)\n",
    "e.set_bonus(10)\n",
    "# Calling functions from the child\n",
    "e.update_phone(\"+918876534545\")\n",
    "e.update_address(\"Jayanagar, Bengaluru - 560040\")\n",
    "# Print from parent class - why?\n",
    "e.print()"
   ]
  },
  {
   "cell_type": "code",
   "execution_count": null,
   "id": "9f729e29-1080-4ffc-9aac-002036e596d9",
   "metadata": {},
   "outputs": [],
   "source": []
  }
 ],
 "metadata": {
  "kernelspec": {
   "display_name": "Python 3 (ipykernel)",
   "language": "python",
   "name": "python3"
  },
  "language_info": {
   "codemirror_mode": {
    "name": "ipython",
    "version": 3
   },
   "file_extension": ".py",
   "mimetype": "text/x-python",
   "name": "python",
   "nbconvert_exporter": "python",
   "pygments_lexer": "ipython3",
   "version": "3.11.7"
  }
 },
 "nbformat": 4,
 "nbformat_minor": 5
}
