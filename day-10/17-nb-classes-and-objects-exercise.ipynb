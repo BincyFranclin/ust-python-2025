{
 "cells": [
  {
   "cell_type": "markdown",
   "id": "4f0934ac-87eb-4a80-8d63-acc9c123a0cb",
   "metadata": {},
   "source": [
    "### Core Developer"
   ]
  },
  {
   "cell_type": "code",
   "execution_count": 27,
   "id": "f6866d40-4ea4-4783-8cc4-d7c3e843a880",
   "metadata": {},
   "outputs": [],
   "source": [
    "\n",
    "class employee:\n",
    "\n",
    "    # class variable\n",
    "    nEmployees = 0\n",
    "\n",
    "    # attributes\n",
    "    def __init__(self, name, age, company, salary):\n",
    "        self.name = name\n",
    "        self.age  = age\n",
    "        self.company = company\n",
    "        self.salary = salary  # 1000000 INR\n",
    "        self.taxrate = 0\n",
    "        self.bonus = 0\n",
    "        self.net_salary = self.salary \n",
    "        employee.nEmployees += 1\n",
    "\n",
    "    # methods\n",
    "\n",
    "    def set_taxrate(self, tr):\n",
    "        self.taxrate = tr\n",
    "        self.update_net_salary()\n",
    "        return\n",
    "\n",
    "    def set_bonus(self, bonus_pct):\n",
    "        try:\n",
    "            self.bonus = bonus_pct\n",
    "            temp = float(self.net_salary.split()[0])\n",
    "            temp = temp + (temp * self.bonus/100)\n",
    "            self.net_salary = ' '.join([str(temp), 'INR'])\n",
    "            return\n",
    "        except:\n",
    "            print(\"Incompatible operation\")\n",
    "\n",
    "    def update_net_salary(self):\n",
    "        try:\n",
    "            temp = float(self.salary.split()[0])\n",
    "            temp = temp - (temp * self.taxrate/100)\n",
    "            print(temp)\n",
    "            self.net_salary = ' '.join([str(temp), 'INR'])\n",
    "            return\n",
    "        except:\n",
    "            print(\"Incompatible input\")\n",
    "\n",
    "    def print(self):\n",
    "        print(\"\\n\")\n",
    "        print(\"NAME\".ljust(20), ' -> ', self.name)\n",
    "        print(\"AGE\".ljust(20), ' -> ', self.age)\n",
    "        print(\"COMPANY\".ljust(20), ' -> ', self.company)\n",
    "        print(\"-\"*80)\n",
    "        print(\"GROSS SALARY\".ljust(20), ' = ', self.salary)\n",
    "        print(\"TAX RATE\".ljust(20), ' = ', self.taxrate)\n",
    "        print(\"BONUS\".ljust(20), ' = ', self.bonus, ' pct')\n",
    "        print(\"-\"*80)\n",
    "        print(\"NET SALARY\".ljust(20), ' = ', self.net_salary)\n",
    "\n",
    "    "
   ]
  },
  {
   "cell_type": "markdown",
   "id": "6946f075-33bd-490c-9ba6-d908a8bb49ae",
   "metadata": {},
   "source": [
    "### Application Developer"
   ]
  },
  {
   "cell_type": "code",
   "execution_count": 28,
   "id": "d067c5bc-1260-45f5-8c86-d49bccc78f5c",
   "metadata": {},
   "outputs": [],
   "source": [
    "e = employee(\"Anil\", 35, \"UST Global\", \"1500000 INR\")"
   ]
  },
  {
   "cell_type": "code",
   "execution_count": 29,
   "id": "392b7779-1cb5-4b22-aa3e-91a5965def0c",
   "metadata": {},
   "outputs": [
    {
     "name": "stdout",
     "output_type": "stream",
     "text": [
      "\n",
      "\n",
      "NAME                  ->  Anil\n",
      "AGE                   ->  35\n",
      "COMPANY               ->  UST Global\n",
      "--------------------------------------------------------------------------------\n",
      "GROSS SALARY          =  1500000 INR\n",
      "TAX RATE              =  0\n",
      "BONUS                 =  0  pct\n",
      "--------------------------------------------------------------------------------\n",
      "NET SALARY            =  1500000 INR\n"
     ]
    }
   ],
   "source": [
    "e.print()"
   ]
  },
  {
   "cell_type": "code",
   "execution_count": 30,
   "id": "4cb92df5-b09b-4805-93e2-11b2f467ac45",
   "metadata": {},
   "outputs": [
    {
     "name": "stdout",
     "output_type": "stream",
     "text": [
      "1350000.0\n",
      "\n",
      "\n",
      "NAME                  ->  Anil\n",
      "AGE                   ->  35\n",
      "COMPANY               ->  UST Global\n",
      "--------------------------------------------------------------------------------\n",
      "GROSS SALARY          =  1500000 INR\n",
      "TAX RATE              =  10\n",
      "BONUS                 =  0  pct\n",
      "--------------------------------------------------------------------------------\n",
      "NET SALARY            =  1350000.0 INR\n"
     ]
    }
   ],
   "source": [
    "e.set_taxrate(10)\n",
    "e.print()"
   ]
  },
  {
   "cell_type": "code",
   "execution_count": 31,
   "id": "95934dc4-edff-4b47-8653-21138b4f24e3",
   "metadata": {},
   "outputs": [
    {
     "name": "stdout",
     "output_type": "stream",
     "text": [
      "\n",
      "\n",
      "NAME                  ->  Anil\n",
      "AGE                   ->  35\n",
      "COMPANY               ->  UST Global\n",
      "--------------------------------------------------------------------------------\n",
      "GROSS SALARY          =  1500000 INR\n",
      "TAX RATE              =  10\n",
      "BONUS                 =  10  pct\n",
      "--------------------------------------------------------------------------------\n",
      "NET SALARY            =  1485000.0 INR\n"
     ]
    }
   ],
   "source": [
    "e.set_bonus(10)\n",
    "e.print()"
   ]
  },
  {
   "cell_type": "code",
   "execution_count": null,
   "id": "1c11cd4d-8b3e-4a90-adfe-17901e08ad40",
   "metadata": {},
   "outputs": [],
   "source": []
  },
  {
   "cell_type": "markdown",
   "id": "222bb344-9753-4bac-a5f3-b33e4e1a5f88",
   "metadata": {},
   "source": [
    "### Class Variables"
   ]
  },
  {
   "cell_type": "code",
   "execution_count": 32,
   "id": "ecad3b18-9b30-42c8-b640-64a4a94f61d9",
   "metadata": {},
   "outputs": [
    {
     "data": {
      "text/plain": [
       "1"
      ]
     },
     "execution_count": 32,
     "metadata": {},
     "output_type": "execute_result"
    }
   ],
   "source": [
    "employee.nEmployees"
   ]
  },
  {
   "cell_type": "code",
   "execution_count": 33,
   "id": "cfcf6d07-26f3-41a6-92e9-90719f901375",
   "metadata": {},
   "outputs": [
    {
     "data": {
      "text/plain": [
       "1"
      ]
     },
     "execution_count": 33,
     "metadata": {},
     "output_type": "execute_result"
    }
   ],
   "source": [
    "e.nEmployees"
   ]
  },
  {
   "cell_type": "code",
   "execution_count": 34,
   "id": "5ad1669f-1312-4a37-88de-4f53e92447bb",
   "metadata": {},
   "outputs": [],
   "source": [
    "e1 = employee(\"Sunil\", 35, \"UST Global\", \"1500000 INR\")\n",
    "e2 = employee(\"Vinil\", 35, \"UST Global\", \"1500000 INR\")"
   ]
  },
  {
   "cell_type": "code",
   "execution_count": 35,
   "id": "9bd943cb-2a4b-4190-aea5-2f712db29cdc",
   "metadata": {},
   "outputs": [
    {
     "data": {
      "text/plain": [
       "3"
      ]
     },
     "execution_count": 35,
     "metadata": {},
     "output_type": "execute_result"
    }
   ],
   "source": [
    "employee.nEmployees"
   ]
  },
  {
   "cell_type": "code",
   "execution_count": 36,
   "id": "8391e728-0583-462a-82ee-c2f738d53663",
   "metadata": {},
   "outputs": [
    {
     "data": {
      "text/plain": [
       "(3, 3, 3)"
      ]
     },
     "execution_count": 36,
     "metadata": {},
     "output_type": "execute_result"
    }
   ],
   "source": [
    "e.nEmployees, e1.nEmployees, e2.nEmployees"
   ]
  },
  {
   "cell_type": "code",
   "execution_count": null,
   "id": "ca98fdf3-e8a8-4a48-9172-94070de36daa",
   "metadata": {},
   "outputs": [],
   "source": []
  }
 ],
 "metadata": {
  "kernelspec": {
   "display_name": "Python 3 (ipykernel)",
   "language": "python",
   "name": "python3"
  },
  "language_info": {
   "codemirror_mode": {
    "name": "ipython",
    "version": 3
   },
   "file_extension": ".py",
   "mimetype": "text/x-python",
   "name": "python",
   "nbconvert_exporter": "python",
   "pygments_lexer": "ipython3",
   "version": "3.11.7"
  }
 },
 "nbformat": 4,
 "nbformat_minor": 5
}
