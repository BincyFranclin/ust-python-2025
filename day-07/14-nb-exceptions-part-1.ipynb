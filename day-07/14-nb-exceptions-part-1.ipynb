{
 "cells": [
  {
   "cell_type": "markdown",
   "id": "0866c1f2-9621-4db1-a6e1-5a566b906cd7",
   "metadata": {},
   "source": [
    "### 14.1 Exceptions"
   ]
  },
  {
   "cell_type": "code",
   "execution_count": 1,
   "id": "98c24708-409c-4491-9c6d-9ad967d561f9",
   "metadata": {},
   "outputs": [
    {
     "ename": "ZeroDivisionError",
     "evalue": "division by zero",
     "output_type": "error",
     "traceback": [
      "\u001b[1;31m---------------------------------------------------------------------------\u001b[0m",
      "\u001b[1;31mZeroDivisionError\u001b[0m                         Traceback (most recent call last)",
      "Cell \u001b[1;32mIn[1], line 1\u001b[0m\n\u001b[1;32m----> 1\u001b[0m \u001b[38;5;241m12\u001b[39m\u001b[38;5;241m/\u001b[39m\u001b[38;5;241m0\u001b[39m\n",
      "\u001b[1;31mZeroDivisionError\u001b[0m: division by zero"
     ]
    }
   ],
   "source": [
    "12/0"
   ]
  },
  {
   "cell_type": "code",
   "execution_count": 2,
   "id": "d7aa1b0f-1d50-499f-9e6e-5a45f331d4c1",
   "metadata": {},
   "outputs": [
    {
     "ename": "FileNotFoundError",
     "evalue": "[Errno 2] No such file or directory: 'xyz'",
     "output_type": "error",
     "traceback": [
      "\u001b[1;31m---------------------------------------------------------------------------\u001b[0m",
      "\u001b[1;31mFileNotFoundError\u001b[0m                         Traceback (most recent call last)",
      "Cell \u001b[1;32mIn[2], line 1\u001b[0m\n\u001b[1;32m----> 1\u001b[0m \u001b[38;5;28mopen\u001b[39m(\u001b[38;5;124m\"\u001b[39m\u001b[38;5;124mxyz\u001b[39m\u001b[38;5;124m\"\u001b[39m)\n",
      "File \u001b[1;32m~\\anaconda3\\Lib\\site-packages\\IPython\\core\\interactiveshell.py:310\u001b[0m, in \u001b[0;36m_modified_open\u001b[1;34m(file, *args, **kwargs)\u001b[0m\n\u001b[0;32m    303\u001b[0m \u001b[38;5;28;01mif\u001b[39;00m file \u001b[38;5;129;01min\u001b[39;00m {\u001b[38;5;241m0\u001b[39m, \u001b[38;5;241m1\u001b[39m, \u001b[38;5;241m2\u001b[39m}:\n\u001b[0;32m    304\u001b[0m     \u001b[38;5;28;01mraise\u001b[39;00m \u001b[38;5;167;01mValueError\u001b[39;00m(\n\u001b[0;32m    305\u001b[0m         \u001b[38;5;124mf\u001b[39m\u001b[38;5;124m\"\u001b[39m\u001b[38;5;124mIPython won\u001b[39m\u001b[38;5;124m'\u001b[39m\u001b[38;5;124mt let you open fd=\u001b[39m\u001b[38;5;132;01m{\u001b[39;00mfile\u001b[38;5;132;01m}\u001b[39;00m\u001b[38;5;124m by default \u001b[39m\u001b[38;5;124m\"\u001b[39m\n\u001b[0;32m    306\u001b[0m         \u001b[38;5;124m\"\u001b[39m\u001b[38;5;124mas it is likely to crash IPython. If you know what you are doing, \u001b[39m\u001b[38;5;124m\"\u001b[39m\n\u001b[0;32m    307\u001b[0m         \u001b[38;5;124m\"\u001b[39m\u001b[38;5;124myou can use builtins\u001b[39m\u001b[38;5;124m'\u001b[39m\u001b[38;5;124m open.\u001b[39m\u001b[38;5;124m\"\u001b[39m\n\u001b[0;32m    308\u001b[0m     )\n\u001b[1;32m--> 310\u001b[0m \u001b[38;5;28;01mreturn\u001b[39;00m io_open(file, \u001b[38;5;241m*\u001b[39margs, \u001b[38;5;241m*\u001b[39m\u001b[38;5;241m*\u001b[39mkwargs)\n",
      "\u001b[1;31mFileNotFoundError\u001b[0m: [Errno 2] No such file or directory: 'xyz'"
     ]
    }
   ],
   "source": [
    "open(\"xyz\")"
   ]
  },
  {
   "cell_type": "code",
   "execution_count": 3,
   "id": "5fe37c92-0ead-4b5b-ad05-dc7217455bb2",
   "metadata": {},
   "outputs": [
    {
     "ename": "KeyError",
     "evalue": "'name'",
     "output_type": "error",
     "traceback": [
      "\u001b[1;31m---------------------------------------------------------------------------\u001b[0m",
      "\u001b[1;31mKeyError\u001b[0m                                  Traceback (most recent call last)",
      "Cell \u001b[1;32mIn[3], line 2\u001b[0m\n\u001b[0;32m      1\u001b[0m D \u001b[38;5;241m=\u001b[39m {}\n\u001b[1;32m----> 2\u001b[0m D[\u001b[38;5;124m'\u001b[39m\u001b[38;5;124mname\u001b[39m\u001b[38;5;124m'\u001b[39m]\n",
      "\u001b[1;31mKeyError\u001b[0m: 'name'"
     ]
    }
   ],
   "source": [
    "D = {}\n",
    "D['name']"
   ]
  },
  {
   "cell_type": "code",
   "execution_count": 4,
   "id": "ed0bc548-5229-4604-82e0-df74d345db5a",
   "metadata": {},
   "outputs": [
    {
     "ename": "TypeError",
     "evalue": "can only concatenate str (not \"int\") to str",
     "output_type": "error",
     "traceback": [
      "\u001b[1;31m---------------------------------------------------------------------------\u001b[0m",
      "\u001b[1;31mTypeError\u001b[0m                                 Traceback (most recent call last)",
      "Cell \u001b[1;32mIn[4], line 1\u001b[0m\n\u001b[1;32m----> 1\u001b[0m \u001b[38;5;124m'\u001b[39m\u001b[38;5;124m123\u001b[39m\u001b[38;5;124m'\u001b[39m \u001b[38;5;241m+\u001b[39m \u001b[38;5;241m345\u001b[39m\n",
      "\u001b[1;31mTypeError\u001b[0m: can only concatenate str (not \"int\") to str"
     ]
    }
   ],
   "source": [
    "'123' + 345"
   ]
  },
  {
   "cell_type": "markdown",
   "id": "c3a7cb0c-2e2a-4849-accc-31d9297b9acb",
   "metadata": {},
   "source": [
    "### 14.2 Handling exceptions"
   ]
  },
  {
   "cell_type": "code",
   "execution_count": 5,
   "id": "419558d2-efa8-4729-a1c0-10e7a901cdbf",
   "metadata": {},
   "outputs": [
    {
     "name": "stdout",
     "output_type": "stream",
     "text": [
      "1.0\n"
     ]
    }
   ],
   "source": [
    "try:\n",
    "    a = 10\n",
    "    b = 20\n",
    "    print(a/10)\n",
    "except:\n",
    "    print(\"Exception Occured!\")"
   ]
  },
  {
   "cell_type": "code",
   "execution_count": 6,
   "id": "58b66776-9388-4aa2-ab05-65fc583d6cde",
   "metadata": {},
   "outputs": [
    {
     "name": "stdout",
     "output_type": "stream",
     "text": [
      "Exception Occured!\n"
     ]
    }
   ],
   "source": [
    "try:\n",
    "    a = 10\n",
    "    b = 20\n",
    "    print(a/0)\n",
    "except:\n",
    "    print(\"Exception Occured!\")"
   ]
  },
  {
   "cell_type": "code",
   "execution_count": 7,
   "id": "287ece3d-217e-4e9a-9d6b-86323236bfb7",
   "metadata": {},
   "outputs": [
    {
     "name": "stdout",
     "output_type": "stream",
     "text": [
      "Exception Occured! division by zero\n"
     ]
    }
   ],
   "source": [
    "try:\n",
    "    a = 10\n",
    "    b = 20\n",
    "    print(a/0)\n",
    "except Exception as e:\n",
    "    print(f\"Exception Occured! {e}\")"
   ]
  },
  {
   "cell_type": "code",
   "execution_count": 8,
   "id": "ddca8b54-b33b-4bd4-b9fc-30f91b204456",
   "metadata": {},
   "outputs": [
    {
     "name": "stdout",
     "output_type": "stream",
     "text": [
      "Exception Occured! division by zero\n",
      "The block completed execution\n"
     ]
    }
   ],
   "source": [
    "# To prove the flow of execution didnot break...\n",
    "try:\n",
    "    a = 10\n",
    "    b = 20\n",
    "    print(a/0)\n",
    "except Exception as e:\n",
    "    print(f\"Exception Occured! {e}\")\n",
    "\n",
    "\n",
    "print(\"The block completed execution\")"
   ]
  },
  {
   "cell_type": "code",
   "execution_count": 9,
   "id": "ee9ae624-2cac-42b8-8d87-bbf08cb8a455",
   "metadata": {},
   "outputs": [
    {
     "name": "stdout",
     "output_type": "stream",
     "text": [
      "Exception Occured! division by zero\n",
      "Thank you!\n"
     ]
    }
   ],
   "source": [
    "# With exception\n",
    "try:\n",
    "    a = 10\n",
    "    b = 20\n",
    "    print(a/0)\n",
    "except Exception as e:\n",
    "    print(f\"Exception Occured! {e}\")\n",
    "else:\n",
    "    print(\"Completed operations\")\n",
    "finally:\n",
    "    print(\"Thank you!\")"
   ]
  },
  {
   "cell_type": "code",
   "execution_count": 10,
   "id": "89b7e7f4-a6c0-460f-9e70-7ca12ed7fc14",
   "metadata": {},
   "outputs": [
    {
     "name": "stdout",
     "output_type": "stream",
     "text": [
      "0.5\n",
      "Completed operations\n",
      "Thank you!\n"
     ]
    }
   ],
   "source": [
    "# Without exception\n",
    "try:\n",
    "    a = 10\n",
    "    b = 20\n",
    "    print(a/b)\n",
    "except Exception as e:  # if there is an exception in try block\n",
    "    print(f\"Exception Occured! {e}\")\n",
    "else: # if there is no exception in try block\n",
    "    print(\"Completed operations\")\n",
    "finally: # this will happen whatever be the case\n",
    "    print(\"Thank you!\")"
   ]
  },
  {
   "cell_type": "markdown",
   "id": "39c8ad4e-81d4-4878-aa17-efaadebdee66",
   "metadata": {},
   "source": [
    "### 14.3 Case analysis"
   ]
  },
  {
   "cell_type": "code",
   "execution_count": 11,
   "id": "1167edd3-9d1f-47a8-8e57-6ec0082a9cfa",
   "metadata": {},
   "outputs": [
    {
     "name": "stdout",
     "output_type": "stream",
     "text": [
      "0.5\n",
      "Completed operations\n",
      "Thank you!\n"
     ]
    }
   ],
   "source": [
    "# Without exception\n",
    "try:\n",
    "    a = 10\n",
    "    b = 20\n",
    "    print(a/b)\n",
    "    #open('x')\n",
    "    D = {}\n",
    "    #print(D['name'])\n",
    "except ZeroDivisionError:  # specific handling when ZeroDivisionError occurs\n",
    "    print(f\"Exception Occured! {e}\")\n",
    "except ValueError:\n",
    "    print(\"Value error occured\")\n",
    "except FileNotFoundError:\n",
    "    print(\"File does not exist for reading\")\n",
    "except Exception as e: # Generic, if apart from ZeroDivisionError, ValueError, FileNotFoundError occurs\n",
    "    print(\"Some other exception occured -> \", e)\n",
    "else: # if there is no exception in try block\n",
    "    print(\"Completed operations\")\n",
    "finally: # this will happen whatever be the case\n",
    "    print(\"Thank you!\")"
   ]
  },
  {
   "cell_type": "code",
   "execution_count": 13,
   "id": "03e03fb5-e8fd-40d3-9c00-6ea9bb8abc67",
   "metadata": {},
   "outputs": [
    {
     "name": "stdout",
     "output_type": "stream",
     "text": [
      "Do not divide by zero\n",
      "Thank you!\n"
     ]
    }
   ],
   "source": [
    "# Zero Division Error\n",
    "try:\n",
    "    a = 10\n",
    "    b = 20\n",
    "    print(a/0)\n",
    "    #open('x')\n",
    "    D = {}\n",
    "    #print(D['name'])\n",
    "except ZeroDivisionError:  # specific handling when ZeroDivisionError occurs\n",
    "    print(f\"Do not divide by zero\")\n",
    "except ValueError:\n",
    "    print(\"Value error occured\")\n",
    "except FileNotFoundError:\n",
    "    print(\"File does not exist for reading\")\n",
    "except Exception as e: # Generic, if apart from ZeroDivisionError, ValueError, FileNotFoundError occurs\n",
    "    print(\"Some other exception occured -> \", e)\n",
    "else: # if there is no exception in try block\n",
    "    print(\"Completed operations\")\n",
    "finally: # this will happen whatever be the case\n",
    "    print(\"Thank you!\")"
   ]
  },
  {
   "cell_type": "code",
   "execution_count": 14,
   "id": "fa4ccf87-0a6b-4d0a-a6e6-c325264d0aed",
   "metadata": {},
   "outputs": [
    {
     "name": "stdout",
     "output_type": "stream",
     "text": [
      "0.5\n",
      "File does not exist for reading\n",
      "Thank you!\n"
     ]
    }
   ],
   "source": [
    "# Zero Division Error\n",
    "try:\n",
    "    a = 10\n",
    "    b = 20\n",
    "    print(a/b)\n",
    "    open('x')\n",
    "    D = {}\n",
    "    #print(D['name'])\n",
    "except ZeroDivisionError:  # specific handling when ZeroDivisionError occurs\n",
    "    print(f\"Do not divide by zero\")\n",
    "except ValueError:\n",
    "    print(\"Value error occured\")\n",
    "except FileNotFoundError:\n",
    "    print(\"File does not exist for reading\")\n",
    "except Exception as e: # Generic, if apart from ZeroDivisionError, ValueError, FileNotFoundError occurs\n",
    "    print(\"Some other exception occured -> \", e)\n",
    "else: # if there is no exception in try block\n",
    "    print(\"Completed operations\")\n",
    "finally: # this will happen whatever be the case\n",
    "    print(\"Thank you!\")"
   ]
  },
  {
   "cell_type": "code",
   "execution_count": 15,
   "id": "ec5e5610-30cf-4198-a726-c2418e2be9f5",
   "metadata": {},
   "outputs": [
    {
     "name": "stdout",
     "output_type": "stream",
     "text": [
      "0.5\n",
      "Some other exception occured ->  'name'\n",
      "Thank you!\n"
     ]
    }
   ],
   "source": [
    "# Key error - which is not explicitly mentioned\n",
    "try:\n",
    "    a = 10\n",
    "    b = 20\n",
    "    print(a/b)\n",
    "    #open('x')\n",
    "    D = {}\n",
    "    print(D['name'])\n",
    "except ZeroDivisionError:  # specific handling when ZeroDivisionError occurs\n",
    "    print(f\"Do not divide by zero\")\n",
    "except ValueError:\n",
    "    print(\"Value error occured\")\n",
    "except FileNotFoundError:\n",
    "    print(\"File does not exist for reading\")\n",
    "except Exception as e: # Generic, if apart from ZeroDivisionError, ValueError, FileNotFoundError occurs\n",
    "    print(\"Some other exception occured -> \", e)\n",
    "else: # if there is no exception in try block\n",
    "    print(\"Completed operations\")\n",
    "finally: # this will happen whatever be the case\n",
    "    print(\"Thank you!\")"
   ]
  },
  {
   "cell_type": "markdown",
   "id": "eba3b95c-88a4-416e-bad7-9343638b2e7c",
   "metadata": {},
   "source": [
    "### 14.4 Assertion"
   ]
  },
  {
   "cell_type": "code",
   "execution_count": 17,
   "id": "5f19e6d1-6284-4276-a965-139b62ff51f6",
   "metadata": {},
   "outputs": [
    {
     "name": "stdout",
     "output_type": "stream",
     "text": [
      "Completed operations\n",
      "Thank you!\n"
     ]
    }
   ],
   "source": [
    "# Key error - which is not explicitly mentioned\n",
    "try:\n",
    "    a = 10\n",
    "    b = 20\n",
    "    assert (a + b > 10), 'Sum of a and b cannot be less than 10'\n",
    "except Exception as e:  \n",
    "    print(\"Some other exception occured -> \", e)\n",
    "else: # if there is no exception in try block\n",
    "    print(\"Completed operations\")\n",
    "finally: # this will happen whatever be the case\n",
    "    print(\"Thank you!\")"
   ]
  },
  {
   "cell_type": "code",
   "execution_count": 18,
   "id": "1d10f33f-6cfb-4db5-bce2-0d4f26265789",
   "metadata": {},
   "outputs": [
    {
     "name": "stdout",
     "output_type": "stream",
     "text": [
      "Some other exception occured ->  Sum of a and b cannot be less than 10\n",
      "Thank you!\n"
     ]
    }
   ],
   "source": [
    "# Key error - which is not explicitly mentioned\n",
    "try:\n",
    "    a = 10\n",
    "    b = 20\n",
    "    assert (a + b > 40), 'Sum of a and b cannot be less than 10'\n",
    "except Exception as e:  \n",
    "    print(\"Some other exception occured -> \", e)\n",
    "else: # if there is no exception in try block\n",
    "    print(\"Completed operations\")\n",
    "finally: # this will happen whatever be the case\n",
    "    print(\"Thank you!\")"
   ]
  },
  {
   "cell_type": "markdown",
   "id": "d98b6622-d0c0-465e-875a-fa563f5a25b1",
   "metadata": {},
   "source": [
    "### 14.5 Practical Usage Example"
   ]
  },
  {
   "cell_type": "code",
   "execution_count": 24,
   "id": "160c9bf9-2dd3-4bef-a4f0-f26b59cfc9c6",
   "metadata": {},
   "outputs": [],
   "source": [
    "def div(a, b):\n",
    "    if(b == 0):\n",
    "        raise ZeroDivisionError(\"Do not divide by zero\")\n",
    "    else:\n",
    "        return a/b"
   ]
  },
  {
   "cell_type": "code",
   "execution_count": 25,
   "id": "336a66e8-96c8-44e0-a2e4-5aca1a1f5837",
   "metadata": {},
   "outputs": [
    {
     "name": "stdout",
     "output_type": "stream",
     "text": [
      "0.6\n"
     ]
    }
   ],
   "source": [
    "try:\n",
    "    print(div(3, 5))\n",
    "except:\n",
    "    print(\"Error\")"
   ]
  },
  {
   "cell_type": "code",
   "execution_count": 27,
   "id": "fc666f85-12ff-44bb-9ad4-be94feadf794",
   "metadata": {},
   "outputs": [
    {
     "name": "stdout",
     "output_type": "stream",
     "text": [
      "Error Do not divide by zero\n"
     ]
    }
   ],
   "source": [
    "try:\n",
    "    print(div(3, 0))\n",
    "except Exception as e:\n",
    "    print(f\"Error {e}\")"
   ]
  },
  {
   "cell_type": "code",
   "execution_count": null,
   "id": "ed37106e-56cb-4e8a-abf4-6f969f2633c3",
   "metadata": {},
   "outputs": [],
   "source": []
  }
 ],
 "metadata": {
  "kernelspec": {
   "display_name": "Python 3 (ipykernel)",
   "language": "python",
   "name": "python3"
  },
  "language_info": {
   "codemirror_mode": {
    "name": "ipython",
    "version": 3
   },
   "file_extension": ".py",
   "mimetype": "text/x-python",
   "name": "python",
   "nbconvert_exporter": "python",
   "pygments_lexer": "ipython3",
   "version": "3.11.7"
  }
 },
 "nbformat": 4,
 "nbformat_minor": 5
}
