{
 "cells": [
  {
   "cell_type": "markdown",
   "id": "3989f195-ff26-4f99-b634-4addeff77460",
   "metadata": {},
   "source": [
    "### 11.1 File"
   ]
  },
  {
   "cell_type": "markdown",
   "id": "db6fac43-17c7-4577-90a1-a7b831886f50",
   "metadata": {},
   "source": [
    "Opening and closing -> open(), close()\n",
    "Modes -> r, w, a, (b, ....)\n",
    "reading -> read(), readline(), readlines()\n",
    "writing -> write(), writelines()\n",
    "other functions -> seek(), tell()\n",
    "attributes -> f.mode, f.name, f.closed. f.encoding, f.newlines"
   ]
  },
  {
   "cell_type": "markdown",
   "id": "d153c7bc-9aab-444d-9027-d8bd4fbb46d1",
   "metadata": {},
   "source": [
    "### 11.2 Reading from a file"
   ]
  },
  {
   "cell_type": "code",
   "execution_count": 1,
   "id": "25dd54e7-c90f-425a-807e-0bde8fb556d8",
   "metadata": {},
   "outputs": [
    {
     "ename": "SyntaxError",
     "evalue": "(unicode error) 'unicodeescape' codec can't decode bytes in position 2-3: truncated \\UXXXXXXXX escape (1704579522.py, line 1)",
     "output_type": "error",
     "traceback": [
      "\u001b[1;36m  Cell \u001b[1;32mIn[1], line 1\u001b[1;36m\u001b[0m\n\u001b[1;33m    path = \"C:\\Users\\mindf\\Desktop\\current-training\\python-work\\day-07\\sample.txt\"\u001b[0m\n\u001b[1;37m                                                                                  ^\u001b[0m\n\u001b[1;31mSyntaxError\u001b[0m\u001b[1;31m:\u001b[0m (unicode error) 'unicodeescape' codec can't decode bytes in position 2-3: truncated \\UXXXXXXXX escape\n"
     ]
    }
   ],
   "source": [
    "path = \"C:\\Users\\mindf\\Desktop\\current-training\\python-work\\day-07\\sample.txt\""
   ]
  },
  {
   "cell_type": "code",
   "execution_count": 2,
   "id": "88939491-6863-45c3-a4f1-854bef4f533a",
   "metadata": {},
   "outputs": [],
   "source": [
    "path = r\"C:\\Users\\mindf\\Desktop\\current-training\\python-work\\day-07\\sample.txt\""
   ]
  },
  {
   "cell_type": "code",
   "execution_count": 3,
   "id": "a8ade75a-b580-4431-986f-0dffbf49e73f",
   "metadata": {},
   "outputs": [],
   "source": [
    "f = open(path, 'r')"
   ]
  },
  {
   "cell_type": "code",
   "execution_count": 4,
   "id": "4a0cb3e3-27cc-46f5-b274-dde06c32ba40",
   "metadata": {},
   "outputs": [
    {
     "data": {
      "text/plain": [
       "'r'"
      ]
     },
     "execution_count": 4,
     "metadata": {},
     "output_type": "execute_result"
    }
   ],
   "source": [
    "f.mode"
   ]
  },
  {
   "cell_type": "code",
   "execution_count": 6,
   "id": "7fa7417d-60ea-4553-9e3b-1c165112a1b6",
   "metadata": {},
   "outputs": [
    {
     "data": {
      "text/plain": [
       "'cp1252'"
      ]
     },
     "execution_count": 6,
     "metadata": {},
     "output_type": "execute_result"
    }
   ],
   "source": [
    "f.encoding"
   ]
  },
  {
   "cell_type": "code",
   "execution_count": 7,
   "id": "94a6e339-19b8-4c31-8e0d-9a5f3ca7a49f",
   "metadata": {},
   "outputs": [
    {
     "data": {
      "text/plain": [
       "'C:\\\\Users\\\\mindf\\\\Desktop\\\\current-training\\\\python-work\\\\day-07\\\\sample.txt'"
      ]
     },
     "execution_count": 7,
     "metadata": {},
     "output_type": "execute_result"
    }
   ],
   "source": [
    "f.name"
   ]
  },
  {
   "cell_type": "code",
   "execution_count": 8,
   "id": "d1e7257e-e815-4294-a32b-e9c3a190b9ef",
   "metadata": {},
   "outputs": [],
   "source": [
    "data = f.read()"
   ]
  },
  {
   "cell_type": "code",
   "execution_count": 10,
   "id": "b1f2fba4-0950-466d-9b5a-0263ea89e1ec",
   "metadata": {},
   "outputs": [
    {
     "name": "stdout",
     "output_type": "stream",
     "text": [
      "First things first, I'ma say all the words inside my head\n",
      "I'm fired up, and tired of the way that things have been, oh-ooh\n",
      "The way that things have been, oh-ooh\n",
      "Second thing second, don't you tell me what you think that I can be\n",
      "I'm the one at the sail, I'm the master of my sea, oh-ooh\n",
      "The master of my sea, oh-ooh\n",
      "I was broken from a young age\n",
      "Taking my sulking to the masses\n",
      "Writing my poems for the few\n",
      "That look at me, took to me, shook to me, feelin' me\n",
      "Singing from heartache from the pain\n",
      "Taking my message from the veins\n",
      "Speaking my lesson from the brain\n",
      "Seeing the beauty through the\n",
      "Pain!\n",
      "You made me a, you made me a believer, believer\n",
      "Pain!\n",
      "You break me down, and build me up, believer, believer\n",
      "Pain!\n",
      "Oh, let the bullets fly, oh, let them rain\n",
      "My life, my love, my drive it came from\n",
      "Pain!\n",
      "You made me a, you made me a believer, believer\n",
      "Third things third, send a prayer to the ones up above\n",
      "All the hate that you've heard has turned your spirit to a dove, oh-ooh\n",
      "Your spirit up above, oh-ooh\n",
      "I was choking in the crowd\n",
      "Building my rain up in the cloud\n",
      "Falling like ashes to the ground\n",
      "Hoping my feelings, they would drown\n",
      "But they never did, ever lived, ebbin' and flowin'\n",
      "Inhibited, limited, 'til it broke open, and it rained down\n",
      "It rained down like\n",
      "Pain!\n",
      "You made me a, you made me a believer, believer\n",
      "Pain!\n",
      "You break me down, and build me up, believer, believer\n",
      "Pain!\n",
      "Oh, let the bullets fly, oh, let them rain\n",
      "My life, my love, my drive it came from\n",
      "Pain!\n",
      "You made me a, you made me a believer, believer\n",
      "Last things last, by the grace of the fire and the flames\n",
      "You're the face of the future, the blood in my veins, oh-ooh\n",
      "The blood in my veins, oh-ooh\n",
      "But they never did, ever lived, ebbin' and flowin'\n",
      "Inhibited, limited, 'til it broke open, and it rained down\n",
      "It rained down like\n",
      "Pain!\n",
      "You made me a, you made me a believer, believer\n",
      "Pain!\n",
      "You break me down, and build me up, believer, believer\n",
      "Pain!\n",
      "Oh, let the bullets fly, oh, let them rain\n",
      "My life, my love, my drive it came from\n",
      "Pain!\n",
      "You made me a, you made me a believer, believer\n"
     ]
    }
   ],
   "source": [
    "print(data)"
   ]
  },
  {
   "cell_type": "code",
   "execution_count": 11,
   "id": "678309c3-ea30-4cdb-ad2e-eac02d9ef22d",
   "metadata": {},
   "outputs": [
    {
     "data": {
      "text/plain": [
       "''"
      ]
     },
     "execution_count": 11,
     "metadata": {},
     "output_type": "execute_result"
    }
   ],
   "source": [
    "d = f.readline()\n",
    "d"
   ]
  },
  {
   "cell_type": "code",
   "execution_count": 12,
   "id": "6ad5058e-e25b-489a-892e-699e48e63342",
   "metadata": {},
   "outputs": [
    {
     "data": {
      "text/plain": [
       "2118"
      ]
     },
     "execution_count": 12,
     "metadata": {},
     "output_type": "execute_result"
    }
   ],
   "source": [
    "f.tell()"
   ]
  },
  {
   "cell_type": "code",
   "execution_count": 13,
   "id": "57f63d90-dd89-415a-85bf-de4d3bfc66eb",
   "metadata": {},
   "outputs": [
    {
     "data": {
      "text/plain": [
       "2062"
      ]
     },
     "execution_count": 13,
     "metadata": {},
     "output_type": "execute_result"
    }
   ],
   "source": [
    "len(data)"
   ]
  },
  {
   "cell_type": "code",
   "execution_count": 14,
   "id": "59054d45-6e0a-4a22-a1dc-bfb69ac31e5e",
   "metadata": {},
   "outputs": [
    {
     "data": {
      "text/plain": [
       "0"
      ]
     },
     "execution_count": 14,
     "metadata": {},
     "output_type": "execute_result"
    }
   ],
   "source": [
    "f.seek(0)"
   ]
  },
  {
   "cell_type": "code",
   "execution_count": 15,
   "id": "9b174f3f-aaa1-4ba2-98e9-6fb30e0e1039",
   "metadata": {},
   "outputs": [
    {
     "data": {
      "text/plain": [
       "\"First things first, I'ma say all the words inside my head\\n\""
      ]
     },
     "execution_count": 15,
     "metadata": {},
     "output_type": "execute_result"
    }
   ],
   "source": [
    "f.readline()"
   ]
  },
  {
   "cell_type": "code",
   "execution_count": 16,
   "id": "9b802a0d-7c88-4e6f-8c22-536a76bb9ccc",
   "metadata": {},
   "outputs": [
    {
     "data": {
      "text/plain": [
       "\"I'm fired up, and tired of the way that things have been, oh-ooh\\n\""
      ]
     },
     "execution_count": 16,
     "metadata": {},
     "output_type": "execute_result"
    }
   ],
   "source": [
    "f.readline()"
   ]
  },
  {
   "cell_type": "code",
   "execution_count": 19,
   "id": "33c3bea1-e865-437f-b76d-9628e178407a",
   "metadata": {},
   "outputs": [
    {
     "data": {
      "text/plain": [
       "'The way that things have been, oh-ooh\\n'"
      ]
     },
     "execution_count": 19,
     "metadata": {},
     "output_type": "execute_result"
    }
   ],
   "source": [
    "f.readline()"
   ]
  },
  {
   "cell_type": "code",
   "execution_count": 20,
   "id": "ae825a66-b243-4e85-a4cf-db725a9f10eb",
   "metadata": {},
   "outputs": [
    {
     "data": {
      "text/plain": [
       "\"Second thing second, don't you tell me what you think that I can be\\nI'm the one at the sail, I'm the\""
      ]
     },
     "execution_count": 20,
     "metadata": {},
     "output_type": "execute_result"
    }
   ],
   "source": [
    "f.read(100) # The number of bytes to read from a file -> 100"
   ]
  },
  {
   "cell_type": "code",
   "execution_count": 21,
   "id": "fe42b883-22bc-4732-b5d9-a61735c224eb",
   "metadata": {},
   "outputs": [
    {
     "data": {
      "text/plain": [
       "0"
      ]
     },
     "execution_count": 21,
     "metadata": {},
     "output_type": "execute_result"
    }
   ],
   "source": [
    "f.seek(0)"
   ]
  },
  {
   "cell_type": "code",
   "execution_count": 22,
   "id": "661937d4-95f6-4408-a268-f6bbb1c54950",
   "metadata": {},
   "outputs": [
    {
     "data": {
      "text/plain": [
       "[\"First things first, I'ma say all the words inside my head\\n\",\n",
       " \"I'm fired up, and tired of the way that things have been, oh-ooh\\n\",\n",
       " 'The way that things have been, oh-ooh\\n',\n",
       " \"Second thing second, don't you tell me what you think that I can be\\n\",\n",
       " \"I'm the one at the sail, I'm the master of my sea, oh-ooh\\n\",\n",
       " 'The master of my sea, oh-ooh\\n',\n",
       " 'I was broken from a young age\\n',\n",
       " 'Taking my sulking to the masses\\n',\n",
       " 'Writing my poems for the few\\n',\n",
       " \"That look at me, took to me, shook to me, feelin' me\\n\",\n",
       " 'Singing from heartache from the pain\\n',\n",
       " 'Taking my message from the veins\\n',\n",
       " 'Speaking my lesson from the brain\\n',\n",
       " 'Seeing the beauty through the\\n',\n",
       " 'Pain!\\n',\n",
       " 'You made me a, you made me a believer, believer\\n',\n",
       " 'Pain!\\n',\n",
       " 'You break me down, and build me up, believer, believer\\n',\n",
       " 'Pain!\\n',\n",
       " 'Oh, let the bullets fly, oh, let them rain\\n',\n",
       " 'My life, my love, my drive it came from\\n',\n",
       " 'Pain!\\n',\n",
       " 'You made me a, you made me a believer, believer\\n',\n",
       " 'Third things third, send a prayer to the ones up above\\n',\n",
       " \"All the hate that you've heard has turned your spirit to a dove, oh-ooh\\n\",\n",
       " 'Your spirit up above, oh-ooh\\n',\n",
       " 'I was choking in the crowd\\n',\n",
       " 'Building my rain up in the cloud\\n',\n",
       " 'Falling like ashes to the ground\\n',\n",
       " 'Hoping my feelings, they would drown\\n',\n",
       " \"But they never did, ever lived, ebbin' and flowin'\\n\",\n",
       " \"Inhibited, limited, 'til it broke open, and it rained down\\n\",\n",
       " 'It rained down like\\n',\n",
       " 'Pain!\\n',\n",
       " 'You made me a, you made me a believer, believer\\n',\n",
       " 'Pain!\\n',\n",
       " 'You break me down, and build me up, believer, believer\\n',\n",
       " 'Pain!\\n',\n",
       " 'Oh, let the bullets fly, oh, let them rain\\n',\n",
       " 'My life, my love, my drive it came from\\n',\n",
       " 'Pain!\\n',\n",
       " 'You made me a, you made me a believer, believer\\n',\n",
       " 'Last things last, by the grace of the fire and the flames\\n',\n",
       " \"You're the face of the future, the blood in my veins, oh-ooh\\n\",\n",
       " 'The blood in my veins, oh-ooh\\n',\n",
       " \"But they never did, ever lived, ebbin' and flowin'\\n\",\n",
       " \"Inhibited, limited, 'til it broke open, and it rained down\\n\",\n",
       " 'It rained down like\\n',\n",
       " 'Pain!\\n',\n",
       " 'You made me a, you made me a believer, believer\\n',\n",
       " 'Pain!\\n',\n",
       " 'You break me down, and build me up, believer, believer\\n',\n",
       " 'Pain!\\n',\n",
       " 'Oh, let the bullets fly, oh, let them rain\\n',\n",
       " 'My life, my love, my drive it came from\\n',\n",
       " 'Pain!\\n',\n",
       " 'You made me a, you made me a believer, believer']"
      ]
     },
     "execution_count": 22,
     "metadata": {},
     "output_type": "execute_result"
    }
   ],
   "source": [
    "content = f.readlines()\n",
    "content"
   ]
  },
  {
   "cell_type": "code",
   "execution_count": 23,
   "id": "809258df-2573-442d-a7cd-982cb18ebcd1",
   "metadata": {},
   "outputs": [
    {
     "data": {
      "text/plain": [
       "[\"I'm the one at the sail, I'm the master of my sea, oh-ooh\\n\",\n",
       " 'The master of my sea, oh-ooh\\n',\n",
       " 'I was broken from a young age\\n',\n",
       " 'Taking my sulking to the masses\\n',\n",
       " 'Writing my poems for the few\\n',\n",
       " \"That look at me, took to me, shook to me, feelin' me\\n\"]"
      ]
     },
     "execution_count": 23,
     "metadata": {},
     "output_type": "execute_result"
    }
   ],
   "source": [
    "content[4:10]"
   ]
  },
  {
   "cell_type": "code",
   "execution_count": 24,
   "id": "8299f986-1059-453c-952f-249af0ee00b4",
   "metadata": {},
   "outputs": [],
   "source": [
    "f.close()"
   ]
  },
  {
   "cell_type": "markdown",
   "id": "5f79f50a-688a-4950-9dd2-0eacf2a0a521",
   "metadata": {},
   "source": [
    "### 11.3 Write into a file"
   ]
  },
  {
   "cell_type": "code",
   "execution_count": 26,
   "id": "8e42dbec-ec51-4b73-93d9-fd6650e4bb49",
   "metadata": {},
   "outputs": [],
   "source": [
    "path = r\"C:\\Users\\mindf\\Desktop\\current-training\\python-work\\day-07\\sample2.txt\""
   ]
  },
  {
   "cell_type": "code",
   "execution_count": 27,
   "id": "a562b0dc-3f62-452a-b28d-ac42aa1b5b95",
   "metadata": {},
   "outputs": [],
   "source": [
    "f = open(path, 'w')"
   ]
  },
  {
   "cell_type": "code",
   "execution_count": 28,
   "id": "bd5e8d35-dddc-48f3-b600-408494a5bbe9",
   "metadata": {},
   "outputs": [
    {
     "data": {
      "text/plain": [
       "81"
      ]
     },
     "execution_count": 28,
     "metadata": {},
     "output_type": "execute_result"
    }
   ],
   "source": [
    "f.write(\"Song    : Believer \\n\")\n",
    "f.write(\"Artist  : Imagine Dragons \\n\")\n",
    "f.write(\"-\" * 80 + '\\n')"
   ]
  },
  {
   "cell_type": "code",
   "execution_count": 29,
   "id": "58e7b2c0-5c0c-40bf-8939-2d0ca1e4afe2",
   "metadata": {},
   "outputs": [],
   "source": [
    "f.close()"
   ]
  },
  {
   "cell_type": "code",
   "execution_count": 30,
   "id": "799d7774-0aeb-4a55-9089-c03641737d6a",
   "metadata": {},
   "outputs": [],
   "source": [
    "f = open(path, 'a')"
   ]
  },
  {
   "cell_type": "code",
   "execution_count": 31,
   "id": "6de2e8ee-d73d-4a9b-bb8d-5ffebd8f64ca",
   "metadata": {},
   "outputs": [],
   "source": [
    "f.writelines(content) # content -> list of lines"
   ]
  },
  {
   "cell_type": "code",
   "execution_count": 32,
   "id": "1f38b50c-87ca-402d-a8b4-d10f018bc130",
   "metadata": {},
   "outputs": [],
   "source": [
    "f.close()"
   ]
  },
  {
   "cell_type": "markdown",
   "id": "1508679d-9e54-4900-b09a-8c0f7a997078",
   "metadata": {},
   "source": [
    "### 11.4 Exercise"
   ]
  },
  {
   "cell_type": "markdown",
   "id": "40784148-2cdc-4695-8a2d-d1fddd7e120c",
   "metadata": {},
   "source": [
    "##### Count how many times the word 'believer' occurs in the text"
   ]
  },
  {
   "cell_type": "code",
   "execution_count": 33,
   "id": "3232933a-ae39-4507-9f1f-a4fc02619344",
   "metadata": {},
   "outputs": [
    {
     "data": {
      "text/plain": [
       "18"
      ]
     },
     "execution_count": 33,
     "metadata": {},
     "output_type": "execute_result"
    }
   ],
   "source": [
    "data.count('believer')"
   ]
  },
  {
   "cell_type": "code",
   "execution_count": 34,
   "id": "ea2e0e31-e763-4ebe-9f6b-7debdc245250",
   "metadata": {},
   "outputs": [],
   "source": [
    "path = r\"C:\\Users\\mindf\\Desktop\\current-training\\python-work\\day-07\\sample.txt\"\n",
    "f = open(path)"
   ]
  },
  {
   "cell_type": "code",
   "execution_count": 35,
   "id": "0f8d8f54-ef80-47c7-b804-38044bef8c57",
   "metadata": {},
   "outputs": [
    {
     "data": {
      "text/plain": [
       "18"
      ]
     },
     "execution_count": 35,
     "metadata": {},
     "output_type": "execute_result"
    }
   ],
   "source": [
    "count = 0\n",
    "while True:\n",
    "    d = f.readline()\n",
    "    if d == '':\n",
    "        break\n",
    "    else:\n",
    "        count += d.count('believer')\n",
    "count"
   ]
  },
  {
   "cell_type": "code",
   "execution_count": 36,
   "id": "deeea2b9-fb1c-45dd-a8fd-35982758d4af",
   "metadata": {},
   "outputs": [],
   "source": [
    "f.close()"
   ]
  },
  {
   "cell_type": "code",
   "execution_count": 38,
   "id": "4f58c862-811f-45dc-8ea7-2b366c399fdf",
   "metadata": {},
   "outputs": [],
   "source": [
    "path = r\"C:\\Users\\mindf\\Desktop\\current-training\\python-work\\day-07\\sample2.txt\"\n",
    "f = open(path, 'a')\n",
    "f.write(\"\\n\\n\" + \"-\" * 80 + '\\n')\n",
    "f.write(f\"Believer    : {count} \\n\")\n",
    "f.close()"
   ]
  },
  {
   "cell_type": "code",
   "execution_count": 39,
   "id": "09e48c26-0376-41f6-bf58-b03c8a55a34b",
   "metadata": {},
   "outputs": [
    {
     "data": {
      "text/plain": [
       "'--------------------------------------------------------------------------------'"
      ]
     },
     "execution_count": 39,
     "metadata": {},
     "output_type": "execute_result"
    }
   ],
   "source": [
    "\"-\" * 80"
   ]
  },
  {
   "cell_type": "code",
   "execution_count": null,
   "id": "f4597d1a-1443-490f-a25b-83b48172c71f",
   "metadata": {},
   "outputs": [],
   "source": []
  }
 ],
 "metadata": {
  "kernelspec": {
   "display_name": "Python 3 (ipykernel)",
   "language": "python",
   "name": "python3"
  },
  "language_info": {
   "codemirror_mode": {
    "name": "ipython",
    "version": 3
   },
   "file_extension": ".py",
   "mimetype": "text/x-python",
   "name": "python",
   "nbconvert_exporter": "python",
   "pygments_lexer": "ipython3",
   "version": "3.11.7"
  }
 },
 "nbformat": 4,
 "nbformat_minor": 5
}
