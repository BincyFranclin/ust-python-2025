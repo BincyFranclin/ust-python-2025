{
 "cells": [
  {
   "cell_type": "markdown",
   "id": "52785aef-89ff-494e-8801-d0840e70bdeb",
   "metadata": {},
   "source": [
    "### 22.1 Class Methods"
   ]
  },
  {
   "cell_type": "markdown",
   "id": "e7343c46-ad69-4494-b841-512ef4705ff3",
   "metadata": {},
   "source": [
    "A class method operates on class rather than on instances\n",
    "It takes cls as the first parameter rather than self\n",
    "It can be used to modify class level attributes or as alternative constructors as shown in the following example\n",
    "It cannot modify instance level attributes"
   ]
  },
  {
   "cell_type": "code",
   "execution_count": 28,
   "id": "77135edf-3533-43ca-920c-9e25e488a761",
   "metadata": {},
   "outputs": [],
   "source": [
    "class Person:\n",
    "\n",
    "    nPersons = 0\n",
    "\n",
    "    def __init__(self, name, age):\n",
    "        self.name = name\n",
    "        self.age = age\n",
    "\n",
    "    def __repr__(self):\n",
    "        return str(self.name) + ' ' + str(self.age)\n",
    "\n",
    "    # Due to the way it is being used, it can be an alternative constructer\n",
    "    def from_birth_year(cls, name, birth_year): # class method because first argument is cls\n",
    "        # self.name = name # XXX cannot modify instance methods\n",
    "        cls.nPersons += 1 # Can modify class variables\n",
    "        return cls(name, 2025 - birth_year)   # cls => the class name, in this case Person -> Person(name, 2025 - birth_year)\n",
    "\n",
    "    from_birth_year = classmethod(from_birth_year)\n",
    "    "
   ]
  },
  {
   "cell_type": "code",
   "execution_count": 29,
   "id": "8db857e9-6d24-49fd-957a-d0803b610b74",
   "metadata": {},
   "outputs": [
    {
     "data": {
      "text/plain": [
       "Anil 45"
      ]
     },
     "execution_count": 29,
     "metadata": {},
     "output_type": "execute_result"
    }
   ],
   "source": [
    "p1 = Person(\"Anil\", 45)\n",
    "p1"
   ]
  },
  {
   "cell_type": "code",
   "execution_count": 30,
   "id": "afe18039-c048-4e39-aa9e-fd5c8bc0bf2a",
   "metadata": {},
   "outputs": [
    {
     "data": {
      "text/plain": [
       "Sunil 30"
      ]
     },
     "execution_count": 30,
     "metadata": {},
     "output_type": "execute_result"
    }
   ],
   "source": [
    "p2 = Person.from_birth_year(\"Sunil\", 1995)\n",
    "p2"
   ]
  },
  {
   "cell_type": "markdown",
   "id": "171d2a6e-a6c7-40d2-bb9b-b468762a1a10",
   "metadata": {},
   "source": [
    "### 22.2 Static Methods"
   ]
  },
  {
   "cell_type": "markdown",
   "id": "36ee317d-7f8c-43a4-b054-3542a1a8b202",
   "metadata": {},
   "source": [
    "A static method does not operate on self -> object/instance or cls -> class itself\n",
    "It behaves like a regular function but belongs to a class\n",
    "Can be used as helper or utility functions that do not need access to class or instance variables\n",
    "They cannot modify instance or class variables"
   ]
  },
  {
   "cell_type": "code",
   "execution_count": 46,
   "id": "e88d4d89-51c9-487e-8549-9f18a94804ad",
   "metadata": {},
   "outputs": [],
   "source": [
    "class MathOps:\n",
    "\n",
    "    classVar = 0\n",
    "\n",
    "    def __init__(self):\n",
    "        self.instanceVar = 0\n",
    "        print(\"Math Ops Object Created\")\n",
    "\n",
    "    def add(x, y):\n",
    "        MathOps.classVar = 1    # Can change the class variables, but should not because they act like independent functions\n",
    "        # self.instanceVar = 1  # Cannot change instance variables\n",
    "        return x + y\n",
    "\n",
    "    def multiply(x, y):\n",
    "        return x*y\n",
    "\n",
    "    add = staticmethod(add)\n",
    "    multiply = staticmethod(multiply)\n",
    "    \n",
    "\n"
   ]
  },
  {
   "cell_type": "code",
   "execution_count": 41,
   "id": "5311b2b4-8f0f-41cf-9281-64ae0fc26040",
   "metadata": {},
   "outputs": [
    {
     "name": "stdout",
     "output_type": "stream",
     "text": [
      "Math Ops Object Created\n"
     ]
    }
   ],
   "source": [
    "m = MathOps()"
   ]
  },
  {
   "cell_type": "code",
   "execution_count": 42,
   "id": "99fcb7e6-0572-48ba-84fc-57b65bdd9bf8",
   "metadata": {},
   "outputs": [
    {
     "data": {
      "text/plain": [
       "30"
      ]
     },
     "execution_count": 42,
     "metadata": {},
     "output_type": "execute_result"
    }
   ],
   "source": [
    "m.add(10, 20)"
   ]
  },
  {
   "cell_type": "code",
   "execution_count": 43,
   "id": "370f2995-3b47-40fc-9c78-b385ca92aa70",
   "metadata": {},
   "outputs": [
    {
     "data": {
      "text/plain": [
       "20"
      ]
     },
     "execution_count": 43,
     "metadata": {},
     "output_type": "execute_result"
    }
   ],
   "source": [
    "m.multiply(10, 2)"
   ]
  },
  {
   "cell_type": "code",
   "execution_count": 44,
   "id": "c1c734f8-9930-4cb8-8e4a-818306f781b1",
   "metadata": {},
   "outputs": [
    {
     "data": {
      "text/plain": [
       "20"
      ]
     },
     "execution_count": 44,
     "metadata": {},
     "output_type": "execute_result"
    }
   ],
   "source": [
    "MathOps.add(10, 10)"
   ]
  },
  {
   "cell_type": "code",
   "execution_count": 45,
   "id": "530c01b5-f152-45aa-8b76-96772845891e",
   "metadata": {},
   "outputs": [
    {
     "data": {
      "text/plain": [
       "40"
      ]
     },
     "execution_count": 45,
     "metadata": {},
     "output_type": "execute_result"
    }
   ],
   "source": [
    "MathOps.multiply(10, 4)"
   ]
  },
  {
   "cell_type": "code",
   "execution_count": null,
   "id": "9c35bf8c-a22d-4d61-8ec2-e27f87043153",
   "metadata": {},
   "outputs": [],
   "source": []
  },
  {
   "cell_type": "code",
   "execution_count": null,
   "id": "b6fa3bda-190e-4a6d-a59a-9a8ef618116d",
   "metadata": {},
   "outputs": [],
   "source": []
  }
 ],
 "metadata": {
  "kernelspec": {
   "display_name": "Python 3 (ipykernel)",
   "language": "python",
   "name": "python3"
  },
  "language_info": {
   "codemirror_mode": {
    "name": "ipython",
    "version": 3
   },
   "file_extension": ".py",
   "mimetype": "text/x-python",
   "name": "python",
   "nbconvert_exporter": "python",
   "pygments_lexer": "ipython3",
   "version": "3.11.7"
  }
 },
 "nbformat": 4,
 "nbformat_minor": 5
}
