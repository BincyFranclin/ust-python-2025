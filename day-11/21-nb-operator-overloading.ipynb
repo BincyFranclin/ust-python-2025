{
 "cells": [
  {
   "cell_type": "markdown",
   "id": "1e95aa90-4e2e-4b78-b4d6-676ebb666da5",
   "metadata": {},
   "source": [
    "### 21.1 Why Operator Overloading?"
   ]
  },
  {
   "cell_type": "markdown",
   "id": "b171cd86-5510-46ca-bb81-968f6a7f76ae",
   "metadata": {},
   "source": [
    "m -> matrix\n",
    "n -> matrix\n",
    "\n",
    "For matrix addition, which syntax is convenient and intuitive?\n",
    "\n",
    "Method #1:\n",
    "m.add(n) or add(m, n)\n",
    "\n",
    "Method #2:\n",
    "m + n\n",
    "m - n\n",
    "m * n\n",
    "m * N\n",
    "m / N\n"
   ]
  },
  {
   "cell_type": "markdown",
   "id": "61a42790-1ff0-4bf4-8b91-f21ab01ff6cc",
   "metadata": {},
   "source": [
    "Operator Overloading -> Is the process of re-defining the functionality of the existing operators in python for the sake of custom classes. This adds more convenience to work with the objects of the custom class."
   ]
  },
  {
   "cell_type": "markdown",
   "id": "65c21256-cc6e-4cfd-a66a-e408c22c1f2e",
   "metadata": {},
   "source": [
    "### 21.2 How to overload the operators?"
   ]
  },
  {
   "cell_type": "code",
   "execution_count": 1,
   "id": "49817c15-cdaf-4f1a-ba69-13f5acc5fc23",
   "metadata": {},
   "outputs": [],
   "source": [
    "class ComplexNumber(object):\n",
    "\n",
    "    def __init__(self, a, b):\n",
    "        self.real = a\n",
    "        self.img  = b\n",
    "\n",
    "    def print(self):\n",
    "        return f'{self.real} + j{self.img}'"
   ]
  },
  {
   "cell_type": "code",
   "execution_count": 2,
   "id": "d3375716-a14c-4979-bfa1-8967fe50383c",
   "metadata": {},
   "outputs": [],
   "source": [
    "a = ComplexNumber(10, 4)\n",
    "b = ComplexNumber(5, 6)"
   ]
  },
  {
   "cell_type": "code",
   "execution_count": 3,
   "id": "08839c1e-23fb-4971-9857-44e9fd331063",
   "metadata": {},
   "outputs": [
    {
     "data": {
      "text/plain": [
       "'10 + j4'"
      ]
     },
     "execution_count": 3,
     "metadata": {},
     "output_type": "execute_result"
    }
   ],
   "source": [
    "a.print()"
   ]
  },
  {
   "cell_type": "code",
   "execution_count": 4,
   "id": "1cbff47e-d95c-4495-b6b5-09bf64361adc",
   "metadata": {},
   "outputs": [
    {
     "data": {
      "text/plain": [
       "'5 + j6'"
      ]
     },
     "execution_count": 4,
     "metadata": {},
     "output_type": "execute_result"
    }
   ],
   "source": [
    "b.print()"
   ]
  },
  {
   "cell_type": "code",
   "execution_count": 5,
   "id": "cf1e879a-a26b-4aef-9ebf-15c95325f69b",
   "metadata": {},
   "outputs": [
    {
     "ename": "TypeError",
     "evalue": "unsupported operand type(s) for +: 'ComplexNumber' and 'ComplexNumber'",
     "output_type": "error",
     "traceback": [
      "\u001b[1;31m---------------------------------------------------------------------------\u001b[0m",
      "\u001b[1;31mTypeError\u001b[0m                                 Traceback (most recent call last)",
      "Cell \u001b[1;32mIn[5], line 1\u001b[0m\n\u001b[1;32m----> 1\u001b[0m a \u001b[38;5;241m+\u001b[39m b\n",
      "\u001b[1;31mTypeError\u001b[0m: unsupported operand type(s) for +: 'ComplexNumber' and 'ComplexNumber'"
     ]
    }
   ],
   "source": [
    "a + b"
   ]
  },
  {
   "cell_type": "code",
   "execution_count": 6,
   "id": "14e0710e-aa7a-41f7-907b-09a44bce7b50",
   "metadata": {},
   "outputs": [
    {
     "ename": "TypeError",
     "evalue": "unsupported operand type(s) for -: 'ComplexNumber' and 'ComplexNumber'",
     "output_type": "error",
     "traceback": [
      "\u001b[1;31m---------------------------------------------------------------------------\u001b[0m",
      "\u001b[1;31mTypeError\u001b[0m                                 Traceback (most recent call last)",
      "Cell \u001b[1;32mIn[6], line 1\u001b[0m\n\u001b[1;32m----> 1\u001b[0m a \u001b[38;5;241m-\u001b[39m b\n",
      "\u001b[1;31mTypeError\u001b[0m: unsupported operand type(s) for -: 'ComplexNumber' and 'ComplexNumber'"
     ]
    }
   ],
   "source": [
    "a - b"
   ]
  },
  {
   "cell_type": "markdown",
   "id": "3182b13b-1c38-4e0e-b105-1650da2cbd66",
   "metadata": {},
   "source": [
    "Why does it not work?\n",
    "+ and - are not defined for custom classes. They can only work with numbers, strings, lists and tuples"
   ]
  },
  {
   "cell_type": "markdown",
   "id": "fa787de5-1c3f-41af-8953-c4718ac03a54",
   "metadata": {},
   "source": [
    "##### We can achieve it using Operator Overloading"
   ]
  },
  {
   "cell_type": "code",
   "execution_count": 7,
   "id": "67398838-3c09-4176-96c2-f67046f8cbb8",
   "metadata": {},
   "outputs": [],
   "source": [
    "class ComplexNumber(object):\n",
    "\n",
    "    def __init__(self, a, b):\n",
    "        self.real = a\n",
    "        self.img  = b\n",
    "\n",
    "    def __add__(self, other): # for overloading + => a + b => a -> self b -> other\n",
    "        return ComplexNumber((self.real + other.real), (self.img + other.img))\n",
    "\n",
    "    def __sub__(self, other): # for overloading \n",
    "        return ComplexNumber((self.real - other.real), (self.img - other.img))\n",
    "\n",
    "    def print(self):\n",
    "        return f'{self.real} + j{self.img}'"
   ]
  },
  {
   "cell_type": "code",
   "execution_count": 8,
   "id": "169f2811-d45e-4a44-8f6e-438742145c1c",
   "metadata": {},
   "outputs": [],
   "source": [
    "a = ComplexNumber(10, 4)\n",
    "b = ComplexNumber(5, 6)"
   ]
  },
  {
   "cell_type": "code",
   "execution_count": 11,
   "id": "c086d33e-4334-4458-a989-5a98d8c86410",
   "metadata": {},
   "outputs": [
    {
     "data": {
      "text/plain": [
       "'15 + j10'"
      ]
     },
     "execution_count": 11,
     "metadata": {},
     "output_type": "execute_result"
    }
   ],
   "source": [
    "x = a + b\n",
    "x.print()"
   ]
  },
  {
   "cell_type": "code",
   "execution_count": 12,
   "id": "67e098b1-d8ba-411f-984a-a3210f61113b",
   "metadata": {},
   "outputs": [
    {
     "data": {
      "text/plain": [
       "'5 + j-2'"
      ]
     },
     "execution_count": 12,
     "metadata": {},
     "output_type": "execute_result"
    }
   ],
   "source": [
    "y = a - b\n",
    "y.print()"
   ]
  },
  {
   "cell_type": "code",
   "execution_count": 13,
   "id": "b5d79b94-84f7-4008-bbb8-faca60b7c807",
   "metadata": {},
   "outputs": [
    {
     "data": {
      "text/plain": [
       "(__main__.ComplexNumber, __main__.ComplexNumber)"
      ]
     },
     "execution_count": 13,
     "metadata": {},
     "output_type": "execute_result"
    }
   ],
   "source": [
    "type(x), type(y)"
   ]
  },
  {
   "cell_type": "markdown",
   "id": "fc1e23c3-b7d8-42ac-9350-a9190decd6ab",
   "metadata": {},
   "source": [
    "### 21.3 Another example"
   ]
  },
  {
   "cell_type": "markdown",
   "id": "c9e55314-1644-4a5d-989c-c52a5098f8c2",
   "metadata": {},
   "source": [
    "The - and & operators are not defined for strings, let's define them\n",
    "a - b -> remove all charecter in b from a  apples - pp  -> ales\n",
    "a & b -> common charecters pineapples & snapple = apple"
   ]
  },
  {
   "cell_type": "code",
   "execution_count": 16,
   "id": "90279dab-662c-409d-b6e7-0af3c1129872",
   "metadata": {},
   "outputs": [],
   "source": [
    "class CustomString:\n",
    "    \n",
    "    def __init__(self, text):\n",
    "        self.text = text\n",
    "\n",
    "    def __sub__(self, other):\n",
    "        \"\"\"Removes all characters from self.text that are in other.text\"\"\"\n",
    "        if not isinstance(other, CustomString):\n",
    "            return NotImplemented\n",
    "        return CustomString(\"\".join(c for c in self.text if c not in other.text))\n",
    "\n",
    "    def __and__(self, other):\n",
    "        \"\"\"Returns a string with only the common characters between self.text and other.text\"\"\"\n",
    "        if not isinstance(other, CustomString):\n",
    "            return NotImplemented\n",
    "        common_chars = set(other.text)  # Unique characters in other.text\n",
    "        return CustomString(\"\".join(c for c in self.text if c in common_chars))\n",
    "\n",
    "    def print(self):\n",
    "        return self.text\n"
   ]
  },
  {
   "cell_type": "code",
   "execution_count": 17,
   "id": "745c862f-df96-4205-9d8c-a64aee877063",
   "metadata": {},
   "outputs": [],
   "source": [
    "a = \"pineapple\"\n",
    "b = \"snapple\""
   ]
  },
  {
   "cell_type": "code",
   "execution_count": 18,
   "id": "7533f9b4-cf56-4abe-b5d0-cb99bd6ff104",
   "metadata": {},
   "outputs": [
    {
     "data": {
      "text/plain": [
       "'pineapplesnapple'"
      ]
     },
     "execution_count": 18,
     "metadata": {},
     "output_type": "execute_result"
    }
   ],
   "source": [
    "a + b"
   ]
  },
  {
   "cell_type": "code",
   "execution_count": 19,
   "id": "f8f599e6-9f59-4567-9513-180e074dd497",
   "metadata": {},
   "outputs": [
    {
     "ename": "TypeError",
     "evalue": "unsupported operand type(s) for -: 'str' and 'str'",
     "output_type": "error",
     "traceback": [
      "\u001b[1;31m---------------------------------------------------------------------------\u001b[0m",
      "\u001b[1;31mTypeError\u001b[0m                                 Traceback (most recent call last)",
      "Cell \u001b[1;32mIn[19], line 1\u001b[0m\n\u001b[1;32m----> 1\u001b[0m a \u001b[38;5;241m-\u001b[39m b\n",
      "\u001b[1;31mTypeError\u001b[0m: unsupported operand type(s) for -: 'str' and 'str'"
     ]
    }
   ],
   "source": [
    "a - b"
   ]
  },
  {
   "cell_type": "code",
   "execution_count": 26,
   "id": "01d94b85-69a8-49ea-b474-faccea497d83",
   "metadata": {},
   "outputs": [
    {
     "ename": "TypeError",
     "evalue": "unsupported operand type(s) for &: 'str' and 'str'",
     "output_type": "error",
     "traceback": [
      "\u001b[1;31m---------------------------------------------------------------------------\u001b[0m",
      "\u001b[1;31mTypeError\u001b[0m                                 Traceback (most recent call last)",
      "Cell \u001b[1;32mIn[26], line 1\u001b[0m\n\u001b[1;32m----> 1\u001b[0m a \u001b[38;5;241m&\u001b[39m b\n",
      "\u001b[1;31mTypeError\u001b[0m: unsupported operand type(s) for &: 'str' and 'str'"
     ]
    }
   ],
   "source": [
    "a & b"
   ]
  },
  {
   "cell_type": "code",
   "execution_count": 20,
   "id": "63761d03-3040-46ba-aa25-c25b1ad7350e",
   "metadata": {},
   "outputs": [],
   "source": [
    "m = CustomString(\"pineapple\")\n",
    "n = CustomString(\"snapple\")"
   ]
  },
  {
   "cell_type": "code",
   "execution_count": 21,
   "id": "24a8bcdc-a171-4085-9989-bc9e6e7c9571",
   "metadata": {},
   "outputs": [
    {
     "ename": "TypeError",
     "evalue": "unsupported operand type(s) for +: 'CustomString' and 'CustomString'",
     "output_type": "error",
     "traceback": [
      "\u001b[1;31m---------------------------------------------------------------------------\u001b[0m",
      "\u001b[1;31mTypeError\u001b[0m                                 Traceback (most recent call last)",
      "Cell \u001b[1;32mIn[21], line 1\u001b[0m\n\u001b[1;32m----> 1\u001b[0m m \u001b[38;5;241m+\u001b[39m n\n",
      "\u001b[1;31mTypeError\u001b[0m: unsupported operand type(s) for +: 'CustomString' and 'CustomString'"
     ]
    }
   ],
   "source": [
    "m + n"
   ]
  },
  {
   "cell_type": "code",
   "execution_count": 22,
   "id": "acf00702-951f-46c5-9e24-d95a84a23e22",
   "metadata": {},
   "outputs": [
    {
     "data": {
      "text/plain": [
       "'pineapplesnapple'"
      ]
     },
     "execution_count": 22,
     "metadata": {},
     "output_type": "execute_result"
    }
   ],
   "source": [
    "m.print() + n.print()"
   ]
  },
  {
   "cell_type": "code",
   "execution_count": 24,
   "id": "c9a051d7-1f72-4a96-a50c-436d24cef717",
   "metadata": {},
   "outputs": [
    {
     "data": {
      "text/plain": [
       "'i'"
      ]
     },
     "execution_count": 24,
     "metadata": {},
     "output_type": "execute_result"
    }
   ],
   "source": [
    "x = m - n\n",
    "x.print()"
   ]
  },
  {
   "cell_type": "code",
   "execution_count": 25,
   "id": "3a0af2a2-6f0e-4eae-8d31-3bc3f65f8ea7",
   "metadata": {},
   "outputs": [
    {
     "data": {
      "text/plain": [
       "'pneapple'"
      ]
     },
     "execution_count": 25,
     "metadata": {},
     "output_type": "execute_result"
    }
   ],
   "source": [
    "y = m & n\n",
    "y.print()"
   ]
  },
  {
   "cell_type": "markdown",
   "id": "e8177b22-8881-4a07-911f-a22850aab0a8",
   "metadata": {},
   "source": [
    "### Exercise"
   ]
  },
  {
   "cell_type": "markdown",
   "id": "47c126ad-4b7b-43b4-bc4c-3e9f207c6c27",
   "metadata": {},
   "source": [
    "Operators to be overridden are: __add__ and __gt__\n",
    "Also, let's learn about a way to represent the objects in python space by overloading __repr__ and __str__"
   ]
  },
  {
   "cell_type": "code",
   "execution_count": 31,
   "id": "9faff458-48d9-40f5-9346-8f1631626911",
   "metadata": {},
   "outputs": [],
   "source": [
    "class Time(object):\n",
    "\n",
    "    def __init__(self, hours, minutes, seconds):\n",
    "        self.hours = hours\n",
    "        self.minutes = minutes\n",
    "        self.seconds = seconds\n",
    "\n",
    "    def print(self):\n",
    "        return ':'.join([str(self.hours), str(self.minutes), str(self.seconds)])"
   ]
  },
  {
   "cell_type": "code",
   "execution_count": 32,
   "id": "bbdbc0c4-8560-4d36-a979-28158c6743f2",
   "metadata": {},
   "outputs": [],
   "source": [
    "t = Time(10, 30, 30)"
   ]
  },
  {
   "cell_type": "code",
   "execution_count": 35,
   "id": "1ea934b9-1506-4b09-a75d-765b660e1637",
   "metadata": {},
   "outputs": [
    {
     "name": "stdout",
     "output_type": "stream",
     "text": [
      "<__main__.Time object at 0x0000027D50333010>\n"
     ]
    },
    {
     "data": {
      "text/plain": [
       "(<__main__.Time at 0x27d50333010>, None)"
      ]
     },
     "execution_count": 35,
     "metadata": {},
     "output_type": "execute_result"
    }
   ],
   "source": [
    "t, print(t) # '10:30:30'"
   ]
  },
  {
   "cell_type": "code",
   "execution_count": 34,
   "id": "b7d84f35-1af0-4523-b044-2b40b1febf0e",
   "metadata": {},
   "outputs": [
    {
     "data": {
      "text/plain": [
       "'10:30:30'"
      ]
     },
     "execution_count": 34,
     "metadata": {},
     "output_type": "execute_result"
    }
   ],
   "source": [
    "t.print()"
   ]
  },
  {
   "cell_type": "code",
   "execution_count": 36,
   "id": "4e6d23c8-e4f6-4af1-84a1-d69b67ee6e08",
   "metadata": {},
   "outputs": [],
   "source": [
    "a = \"computer\""
   ]
  },
  {
   "cell_type": "code",
   "execution_count": 37,
   "id": "ef0bdc4a-fb24-4e6f-86f9-7c862b773979",
   "metadata": {},
   "outputs": [
    {
     "name": "stdout",
     "output_type": "stream",
     "text": [
      "computer\n"
     ]
    },
    {
     "data": {
      "text/plain": [
       "('computer', None)"
      ]
     },
     "execution_count": 37,
     "metadata": {},
     "output_type": "execute_result"
    }
   ],
   "source": [
    "a, print(a)"
   ]
  },
  {
   "cell_type": "code",
   "execution_count": 38,
   "id": "b489713b-d584-4272-a971-298357566954",
   "metadata": {},
   "outputs": [],
   "source": [
    "L = [\"red\", \"green\", \"blue\"]"
   ]
  },
  {
   "cell_type": "code",
   "execution_count": 39,
   "id": "b43a9eab-0028-40c2-a1d4-34298e607f92",
   "metadata": {},
   "outputs": [
    {
     "data": {
      "text/plain": [
       "['red', 'green', 'blue']"
      ]
     },
     "execution_count": 39,
     "metadata": {},
     "output_type": "execute_result"
    }
   ],
   "source": [
    "L"
   ]
  },
  {
   "cell_type": "code",
   "execution_count": 40,
   "id": "ba165336-ec72-4b2d-a351-4dea50ff923c",
   "metadata": {},
   "outputs": [
    {
     "name": "stdout",
     "output_type": "stream",
     "text": [
      "['red', 'green', 'blue']\n"
     ]
    }
   ],
   "source": [
    "print(L)"
   ]
  },
  {
   "cell_type": "markdown",
   "id": "7c6c0618-fbee-4b36-aa2c-c87b1cc3bced",
   "metadata": {},
   "source": [
    "##### Re-write with __repr__ and __str__"
   ]
  },
  {
   "cell_type": "code",
   "execution_count": 100,
   "id": "34f69bbd-7aa9-48f5-81f5-ba7523812183",
   "metadata": {},
   "outputs": [],
   "source": [
    "class Time(object):\n",
    "\n",
    "    def __init__(self, hours, minutes, seconds):\n",
    "        self.hours = hours\n",
    "        self.minutes = minutes\n",
    "        self.seconds = seconds\n",
    "\n",
    "    # Overriding the python built-in functionality\n",
    "\n",
    "  \n",
    "    def __repr__(self): # variable representation and output\n",
    "        return ':'.join([str(self.hours), str(self.minutes), str(self.seconds)])\n",
    "\n",
    "    def __str__(self): # print() statement\n",
    "        return ':'.join([str(self.hours), str(self.minutes), str(self.seconds)])\n",
    "\n",
    "    def __len__(self): # len() -> not suitable in this context\n",
    "        return 4\n",
    "\n",
    "\n",
    "    # Override the operators\n",
    "\n",
    "    def __add__(self, other):\n",
    "        h = self.hours + other.hours\n",
    "        m = self.minutes + other.minutes\n",
    "        s = self.seconds + other.seconds\n",
    "        if(s >= 60):\n",
    "            s = s - 60\n",
    "            m = m + 1\n",
    "        if(m >= 60):\n",
    "            m = m - 60\n",
    "            h = h + 1\n",
    "        if(h >= 24):\n",
    "            h = 0\n",
    "            m = 0\n",
    "            s = 0\n",
    "        return Time(h, m, s)\n",
    "\n",
    "    def __gt__(self, other):\n",
    "        if(self.hours > other.hours):\n",
    "            return True\n",
    "        elif(self.minutes > other.minutes):\n",
    "            return True\n",
    "        elif(self.seconds > other.seconds):\n",
    "            return True\n",
    "        else:\n",
    "            return False"
   ]
  },
  {
   "cell_type": "code",
   "execution_count": 101,
   "id": "221d5eb8-bf59-45b4-b90d-44b6ad8faf0c",
   "metadata": {},
   "outputs": [],
   "source": [
    "t = Time(10, 30, 30)"
   ]
  },
  {
   "cell_type": "code",
   "execution_count": 102,
   "id": "a8bc9b43-eeab-4142-8c77-ebe0cd87fc39",
   "metadata": {},
   "outputs": [
    {
     "data": {
      "text/plain": [
       "<__main__.Time at 0x27d5033b190>"
      ]
     },
     "execution_count": 102,
     "metadata": {},
     "output_type": "execute_result"
    }
   ],
   "source": [
    "t"
   ]
  },
  {
   "cell_type": "code",
   "execution_count": 103,
   "id": "fd8f3d66-979b-457a-b258-c3279da89692",
   "metadata": {},
   "outputs": [
    {
     "name": "stdout",
     "output_type": "stream",
     "text": [
      "<__main__.Time object at 0x0000027D5033B190>\n"
     ]
    }
   ],
   "source": [
    "print(t)"
   ]
  },
  {
   "cell_type": "code",
   "execution_count": 104,
   "id": "ffaec8ab-4cc9-4bbc-9f7e-cbb007277c0c",
   "metadata": {},
   "outputs": [
    {
     "ename": "TypeError",
     "evalue": "object of type 'Time' has no len()",
     "output_type": "error",
     "traceback": [
      "\u001b[1;31m---------------------------------------------------------------------------\u001b[0m",
      "\u001b[1;31mTypeError\u001b[0m                                 Traceback (most recent call last)",
      "Cell \u001b[1;32mIn[104], line 1\u001b[0m\n\u001b[1;32m----> 1\u001b[0m \u001b[38;5;28mlen\u001b[39m(t)\n",
      "\u001b[1;31mTypeError\u001b[0m: object of type 'Time' has no len()"
     ]
    }
   ],
   "source": [
    "len(t)"
   ]
  },
  {
   "cell_type": "code",
   "execution_count": 105,
   "id": "7b0c86cc-99d8-49b5-9754-e3ff53b32f0d",
   "metadata": {},
   "outputs": [
    {
     "data": {
      "text/plain": [
       "<__main__.Time at 0x27d50372810>"
      ]
     },
     "execution_count": 105,
     "metadata": {},
     "output_type": "execute_result"
    }
   ],
   "source": [
    "t1 = Time(1, 1, 1)\n",
    "t2 = Time(2, 2, 2)\n",
    "t3 = t1 + t2\n",
    "t3"
   ]
  },
  {
   "cell_type": "code",
   "execution_count": 106,
   "id": "bbbff924-3446-4edc-9963-be78ea317650",
   "metadata": {},
   "outputs": [
    {
     "data": {
      "text/plain": [
       "<__main__.Time at 0x27d5033dd50>"
      ]
     },
     "execution_count": 106,
     "metadata": {},
     "output_type": "execute_result"
    }
   ],
   "source": [
    "t1 = Time(12, 11, 59)\n",
    "t2 = Time(11, 20, 24)\n",
    "t3 = t1 + t2\n",
    "t3"
   ]
  },
  {
   "cell_type": "code",
   "execution_count": 107,
   "id": "d3586577-a438-416d-86d8-c0ee75eebd71",
   "metadata": {},
   "outputs": [
    {
     "data": {
      "text/plain": [
       "(23, 32, 23)"
      ]
     },
     "execution_count": 107,
     "metadata": {},
     "output_type": "execute_result"
    }
   ],
   "source": [
    "getattr(t3, 'hours'), getattr(t3, 'minutes'), getattr(t3, 'seconds'),"
   ]
  },
  {
   "cell_type": "code",
   "execution_count": null,
   "id": "75c1186d-f41d-4d60-964e-8e2758b749cb",
   "metadata": {},
   "outputs": [],
   "source": []
  }
 ],
 "metadata": {
  "kernelspec": {
   "display_name": "Python 3 (ipykernel)",
   "language": "python",
   "name": "python3"
  },
  "language_info": {
   "codemirror_mode": {
    "name": "ipython",
    "version": 3
   },
   "file_extension": ".py",
   "mimetype": "text/x-python",
   "name": "python",
   "nbconvert_exporter": "python",
   "pygments_lexer": "ipython3",
   "version": "3.11.7"
  }
 },
 "nbformat": 4,
 "nbformat_minor": 5
}
