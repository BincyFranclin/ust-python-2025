{
 "cells": [
  {
   "cell_type": "markdown",
   "id": "06d245a2-d518-435f-9fbf-502a984e158e",
   "metadata": {},
   "source": [
    "### 20.1 Polymorphism"
   ]
  },
  {
   "cell_type": "code",
   "execution_count": 3,
   "id": "791e8135-12f2-440b-a6ab-94a8343af586",
   "metadata": {},
   "outputs": [],
   "source": [
    "class Car(object):\n",
    "\n",
    "    # Class variables\n",
    "    nCars = 0\n",
    "\n",
    "    # Constructor\n",
    "    def __init__(self, brand, model, year, mileage=0): # double underscored = dunder\n",
    "        # Instance variables\n",
    "        self.brand = brand\n",
    "        self.model = model\n",
    "        self.year  = year\n",
    "        self.mileage = mileage\n",
    "\n",
    "    # Member functions\n",
    "    def drive(self, distance):\n",
    "        self.mileage += distance\n",
    "\n",
    "    def display_info(self):\n",
    "        print(\"BRAND\".ljust(10), '|', self.brand)\n",
    "        print(\"MODEL\".ljust(10), '|', self.model)\n",
    "        print(\"YEAR\".ljust(10), '|', self.year)\n",
    "        print(\"MILEAGE\".ljust(10), '|', self.mileage)"
   ]
  },
  {
   "cell_type": "code",
   "execution_count": 2,
   "id": "46eb79fd-f023-46ee-94dc-05bb0624208c",
   "metadata": {},
   "outputs": [],
   "source": [
    "class ElectricCar(Car):\n",
    "\n",
    "    def __init__(self, brand, model, year, mileage=0, battery=10):\n",
    "        super().__init__(brand, model, year, mileage)  # initialize the parent with appropriate values\n",
    "        # local to ElectricCar - instance variables\n",
    "        self.battery = battery\n",
    "\n",
    "    # Newly added mothod\n",
    "    def charge(self, units):\n",
    "        self.battery += units\n",
    "\n",
    "    # Overridden methods to accomodate the changes in the electric car\n",
    "    def drive(self, distance):\n",
    "        self.battery -= distance/10  # charge reduces 1 unit for 10 KMS driven -> assumption\n",
    "\n",
    "    def display_info(self):\n",
    "        super().display_info()\n",
    "        print(\"CHARGE\".ljust(10), '|', self.battery)"
   ]
  },
  {
   "cell_type": "code",
   "execution_count": 12,
   "id": "de395c45-89ab-4255-b131-cf439063d587",
   "metadata": {},
   "outputs": [],
   "source": [
    "class dummy:\n",
    "\n",
    "    def display_info(self):\n",
    "        print(\"This is a dummy class\")"
   ]
  },
  {
   "cell_type": "code",
   "execution_count": 19,
   "id": "857bdbe3-fd47-430c-91cd-be875937caf6",
   "metadata": {},
   "outputs": [],
   "source": [
    "c1 = Car(\"Toyota\", \"Innova Crysta\", 2024, 1000)\n",
    "c2 = ElectricCar(\"Hyundai\", \"IONIQ\", 2024, 1000, 10)\n",
    "c3 = ElectricCar(\"MG\", \"Windsor\", 2025, 100, 10)\n",
    "d = dummy()"
   ]
  },
  {
   "cell_type": "code",
   "execution_count": 14,
   "id": "b78848f3-7e03-41d1-924f-2a4552064b70",
   "metadata": {},
   "outputs": [
    {
     "name": "stdout",
     "output_type": "stream",
     "text": [
      "BRAND      | Toyota\n",
      "MODEL      | Innova Crysta\n",
      "YEAR       | 2024\n",
      "MILEAGE    | 1000\n"
     ]
    }
   ],
   "source": [
    "c = c1\n",
    "c.display_info()"
   ]
  },
  {
   "cell_type": "code",
   "execution_count": 15,
   "id": "4c5b3d26-b786-4816-a97d-e796c7f71bc7",
   "metadata": {},
   "outputs": [
    {
     "name": "stdout",
     "output_type": "stream",
     "text": [
      "BRAND      | Hyundai\n",
      "MODEL      | IONIQ\n",
      "YEAR       | 2024\n",
      "MILEAGE    | 1000\n",
      "CHARGE     | 10\n"
     ]
    }
   ],
   "source": [
    "c = c2\n",
    "c.display_info()"
   ]
  },
  {
   "cell_type": "code",
   "execution_count": 16,
   "id": "640f5759-7778-4025-8266-9ceb64ce0d15",
   "metadata": {},
   "outputs": [
    {
     "name": "stdout",
     "output_type": "stream",
     "text": [
      "This is a dummy class\n"
     ]
    }
   ],
   "source": [
    "c = d \n",
    "c.display_info()"
   ]
  },
  {
   "cell_type": "markdown",
   "id": "52ffadec-4ffb-43e6-b8e8-86b7e8d8a84e",
   "metadata": {},
   "source": [
    "### 20.2 Built in functions"
   ]
  },
  {
   "cell_type": "code",
   "execution_count": 17,
   "id": "fdc9faaa-399e-4329-a0bb-55853c5b9c4c",
   "metadata": {},
   "outputs": [
    {
     "data": {
      "text/plain": [
       "'Hyundai'"
      ]
     },
     "execution_count": 17,
     "metadata": {},
     "output_type": "execute_result"
    }
   ],
   "source": [
    "getattr(c2, 'brand')"
   ]
  },
  {
   "cell_type": "code",
   "execution_count": 20,
   "id": "c15a1d0c-86e6-4218-bdd5-cd8d3cae6d13",
   "metadata": {},
   "outputs": [
    {
     "data": {
      "text/plain": [
       "(True, False)"
      ]
     },
     "execution_count": 20,
     "metadata": {},
     "output_type": "execute_result"
    }
   ],
   "source": [
    "hasattr(c2, 'charge'), hasattr(c3, 'baas')"
   ]
  },
  {
   "cell_type": "code",
   "execution_count": 21,
   "id": "063b6a29-72a9-4a1f-be3f-a177bcbba6df",
   "metadata": {},
   "outputs": [],
   "source": [
    "setattr(c3, 'baas', 'True') # dynamically inserting a variable into the object directly - not coming from class"
   ]
  },
  {
   "cell_type": "code",
   "execution_count": 24,
   "id": "21c9afd5-7a31-449d-8949-f704fa217bb8",
   "metadata": {},
   "outputs": [
    {
     "data": {
      "text/plain": [
       "(False, True, 'True')"
      ]
     },
     "execution_count": 24,
     "metadata": {},
     "output_type": "execute_result"
    }
   ],
   "source": [
    "hasattr(c2, 'baas'), hasattr(c3, 'baas'), getattr(c3, 'baas')"
   ]
  },
  {
   "cell_type": "code",
   "execution_count": 25,
   "id": "b4b99607-7818-4bbd-b56a-c3b2f9bde710",
   "metadata": {},
   "outputs": [],
   "source": [
    "delattr(c3, 'baas') # can delete any attribute - even those that came from the class definition"
   ]
  },
  {
   "cell_type": "code",
   "execution_count": 26,
   "id": "731829c2-7338-45a0-bcae-235b077746f4",
   "metadata": {},
   "outputs": [
    {
     "data": {
      "text/plain": [
       "False"
      ]
     },
     "execution_count": 26,
     "metadata": {},
     "output_type": "execute_result"
    }
   ],
   "source": [
    "hasattr(c3, 'baas')"
   ]
  },
  {
   "cell_type": "markdown",
   "id": "2b9d7b2f-b54b-4450-bcc3-5ae04d7a440e",
   "metadata": {},
   "source": [
    "### 20.3 Built in module - operator"
   ]
  },
  {
   "cell_type": "code",
   "execution_count": 28,
   "id": "d5966e56-7b9d-4142-838e-5b53b26b6dc6",
   "metadata": {},
   "outputs": [],
   "source": [
    "from operator import itemgetter, methodcaller, attrgetter"
   ]
  },
  {
   "cell_type": "code",
   "execution_count": 29,
   "id": "d665eef5-fd17-4e8e-96de-9ac15d7099e4",
   "metadata": {},
   "outputs": [
    {
     "data": {
      "text/plain": [
       "'bananas'"
      ]
     },
     "execution_count": 29,
     "metadata": {},
     "output_type": "execute_result"
    }
   ],
   "source": [
    "itemgetter(1)(['apples', 'bananas', 'cherries'])"
   ]
  },
  {
   "cell_type": "code",
   "execution_count": 30,
   "id": "08ca5a2b-cf44-4776-aebd-1233af7fd743",
   "metadata": {},
   "outputs": [],
   "source": [
    "class Person:\n",
    "\n",
    "    def __init__(self, name, age):\n",
    "        self.name = name\n",
    "        self.age = age\n",
    "        \n",
    "    def greet(self):\n",
    "        return f\"Hello, my name is {self.name} and age is {self.age}\""
   ]
  },
  {
   "cell_type": "code",
   "execution_count": 31,
   "id": "b4679ec9-82d5-4906-a5ce-fc7bba4ef35f",
   "metadata": {},
   "outputs": [],
   "source": [
    "people = [\n",
    "            Person(\"Anil\", 35),\n",
    "            Person(\"Sunil\", 36),\n",
    "            Person(\"Vinil\", 37) \n",
    "]"
   ]
  },
  {
   "cell_type": "code",
   "execution_count": 32,
   "id": "3eb6f47c-8dbc-4eb8-9ed4-8a7f90a00159",
   "metadata": {},
   "outputs": [
    {
     "data": {
      "text/plain": [
       "[<__main__.Person at 0x24854463b50>,\n",
       " <__main__.Person at 0x24854456c10>,\n",
       " <__main__.Person at 0x24854463e50>]"
      ]
     },
     "execution_count": 32,
     "metadata": {},
     "output_type": "execute_result"
    }
   ],
   "source": [
    "people"
   ]
  },
  {
   "cell_type": "code",
   "execution_count": 33,
   "id": "a9849e12-3763-4365-8da1-655794f8af31",
   "metadata": {},
   "outputs": [
    {
     "data": {
      "text/plain": [
       "<__main__.Person at 0x24854456c10>"
      ]
     },
     "execution_count": 33,
     "metadata": {},
     "output_type": "execute_result"
    }
   ],
   "source": [
    "itemgetter(1)(people)"
   ]
  },
  {
   "cell_type": "code",
   "execution_count": 34,
   "id": "e59dbec2-39fe-4ab5-9bf9-d7f3dbe410c7",
   "metadata": {},
   "outputs": [
    {
     "data": {
      "text/plain": [
       "'Sunil'"
      ]
     },
     "execution_count": 34,
     "metadata": {},
     "output_type": "execute_result"
    }
   ],
   "source": [
    "attrgetter('name')(people[1])"
   ]
  },
  {
   "cell_type": "code",
   "execution_count": 35,
   "id": "06fdf164-5cf3-457c-b7d9-9d96844f44c9",
   "metadata": {},
   "outputs": [
    {
     "data": {
      "text/plain": [
       "'Hello, my name is Vinil and age is 37'"
      ]
     },
     "execution_count": 35,
     "metadata": {},
     "output_type": "execute_result"
    }
   ],
   "source": [
    "methodcaller('greet')(people[2])"
   ]
  },
  {
   "cell_type": "code",
   "execution_count": 36,
   "id": "03d80fc0-680d-420c-a9a8-818873fb5d63",
   "metadata": {},
   "outputs": [],
   "source": [
    "# Extract all names and ages\n",
    "names = list(map(attrgetter('name'), people))\n",
    "ages = list(map(attrgetter('age'), people))"
   ]
  },
  {
   "cell_type": "code",
   "execution_count": 37,
   "id": "c46ae28d-2529-4b5a-b9a9-86eb51f24c3c",
   "metadata": {},
   "outputs": [
    {
     "data": {
      "text/plain": [
       "['Anil', 'Sunil', 'Vinil']"
      ]
     },
     "execution_count": 37,
     "metadata": {},
     "output_type": "execute_result"
    }
   ],
   "source": [
    "names"
   ]
  },
  {
   "cell_type": "code",
   "execution_count": 38,
   "id": "09ea2009-0bd7-4176-a73e-957c860af203",
   "metadata": {},
   "outputs": [
    {
     "data": {
      "text/plain": [
       "[35, 36, 37]"
      ]
     },
     "execution_count": 38,
     "metadata": {},
     "output_type": "execute_result"
    }
   ],
   "source": [
    "ages"
   ]
  },
  {
   "cell_type": "code",
   "execution_count": 39,
   "id": "dfe551c8-55e9-46f1-8238-6f16baf97971",
   "metadata": {},
   "outputs": [
    {
     "data": {
      "text/plain": [
       "{'Anil': 35, 'Sunil': 36, 'Vinil': 37}"
      ]
     },
     "execution_count": 39,
     "metadata": {},
     "output_type": "execute_result"
    }
   ],
   "source": [
    "dict(zip(names, ages))"
   ]
  },
  {
   "cell_type": "code",
   "execution_count": 40,
   "id": "2fd9fe1b-5915-44c7-a6cc-b0a722e29e49",
   "metadata": {},
   "outputs": [
    {
     "data": {
      "text/plain": [
       "['Hello, my name is Anil and age is 35',\n",
       " 'Hello, my name is Sunil and age is 36',\n",
       " 'Hello, my name is Vinil and age is 37']"
      ]
     },
     "execution_count": 40,
     "metadata": {},
     "output_type": "execute_result"
    }
   ],
   "source": [
    "greetings = list(map(methodcaller('greet'), people))\n",
    "greetings"
   ]
  },
  {
   "cell_type": "code",
   "execution_count": null,
   "id": "e8de6059-928c-4c04-814b-8a8a12aaa9b7",
   "metadata": {},
   "outputs": [],
   "source": []
  }
 ],
 "metadata": {
  "kernelspec": {
   "display_name": "Python 3 (ipykernel)",
   "language": "python",
   "name": "python3"
  },
  "language_info": {
   "codemirror_mode": {
    "name": "ipython",
    "version": 3
   },
   "file_extension": ".py",
   "mimetype": "text/x-python",
   "name": "python",
   "nbconvert_exporter": "python",
   "pygments_lexer": "ipython3",
   "version": "3.11.7"
  }
 },
 "nbformat": 4,
 "nbformat_minor": 5
}
