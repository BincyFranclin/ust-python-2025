{
 "cells": [
  {
   "cell_type": "markdown",
   "id": "d5608a19-aaa4-4f69-97ee-add6a67ca5da",
   "metadata": {},
   "source": [
    "### 6.1 Sets"
   ]
  },
  {
   "cell_type": "code",
   "execution_count": 1,
   "id": "8dbad60b-cd20-4e01-a822-3535e1702515",
   "metadata": {},
   "outputs": [],
   "source": [
    "s = \"mississippi\""
   ]
  },
  {
   "cell_type": "code",
   "execution_count": 2,
   "id": "fcaf9a4f-3c22-4fba-a0a4-2a5c6ec825f7",
   "metadata": {},
   "outputs": [
    {
     "data": {
      "text/plain": [
       "['m', 'i', 's', 's', 'i', 's', 's', 'i', 'p', 'p', 'i']"
      ]
     },
     "execution_count": 2,
     "metadata": {},
     "output_type": "execute_result"
    }
   ],
   "source": [
    "list(s)"
   ]
  },
  {
   "cell_type": "code",
   "execution_count": 3,
   "id": "19c9682c-d3c8-4c9d-a9a3-d1e9ebcafa8e",
   "metadata": {},
   "outputs": [
    {
     "data": {
      "text/plain": [
       "('m', 'i', 's', 's', 'i', 's', 's', 'i', 'p', 'p', 'i')"
      ]
     },
     "execution_count": 3,
     "metadata": {},
     "output_type": "execute_result"
    }
   ],
   "source": [
    "tuple(s)"
   ]
  },
  {
   "cell_type": "code",
   "execution_count": 4,
   "id": "ea23c552-f258-45a9-ab62-ee4df66c9cb1",
   "metadata": {},
   "outputs": [
    {
     "data": {
      "text/plain": [
       "{'i', 'm', 'p', 's'}"
      ]
     },
     "execution_count": 4,
     "metadata": {},
     "output_type": "execute_result"
    }
   ],
   "source": [
    "set(s)"
   ]
  },
  {
   "cell_type": "markdown",
   "id": "bdcd4ed3-75a6-4eb9-a55d-533c2f563ec0",
   "metadata": {},
   "source": [
    "### 6.1 Operations on sets"
   ]
  },
  {
   "cell_type": "code",
   "execution_count": 5,
   "id": "0cfc1023-dd9d-40d4-a7aa-0bc2856ba820",
   "metadata": {},
   "outputs": [],
   "source": [
    "s1 = set(\"abcdefg\")\n",
    "s2 = {'e', 'f', 'g', 'h', 'i', 'j'}"
   ]
  },
  {
   "cell_type": "code",
   "execution_count": 6,
   "id": "1ec15fae-0a6e-4852-a4c3-71c2e1f211fa",
   "metadata": {},
   "outputs": [
    {
     "data": {
      "text/plain": [
       "{'a', 'b', 'c', 'd', 'e', 'f', 'g'}"
      ]
     },
     "execution_count": 6,
     "metadata": {},
     "output_type": "execute_result"
    }
   ],
   "source": [
    "s1"
   ]
  },
  {
   "cell_type": "code",
   "execution_count": 7,
   "id": "9f381ff2-3981-45c9-98f3-24db7224e1f2",
   "metadata": {},
   "outputs": [
    {
     "data": {
      "text/plain": [
       "{'e', 'f', 'g', 'h', 'i', 'j'}"
      ]
     },
     "execution_count": 7,
     "metadata": {},
     "output_type": "execute_result"
    }
   ],
   "source": [
    "s2"
   ]
  },
  {
   "cell_type": "code",
   "execution_count": 8,
   "id": "802ae5c2-b43d-4122-b029-01f651a1de01",
   "metadata": {},
   "outputs": [
    {
     "data": {
      "text/plain": [
       "{'e', 'f', 'g'}"
      ]
     },
     "execution_count": 8,
     "metadata": {},
     "output_type": "execute_result"
    }
   ],
   "source": [
    "s1 & s2"
   ]
  },
  {
   "cell_type": "code",
   "execution_count": 9,
   "id": "be39ff24-6fac-41c6-8ddb-417e624c0408",
   "metadata": {},
   "outputs": [
    {
     "data": {
      "text/plain": [
       "{'a', 'b', 'c', 'd', 'e', 'f', 'g', 'h', 'i', 'j'}"
      ]
     },
     "execution_count": 9,
     "metadata": {},
     "output_type": "execute_result"
    }
   ],
   "source": [
    "s1 | s2"
   ]
  },
  {
   "cell_type": "code",
   "execution_count": 10,
   "id": "af286254-7490-4358-9983-775aec188594",
   "metadata": {},
   "outputs": [
    {
     "data": {
      "text/plain": [
       "{'a', 'b', 'c', 'd', 'h', 'i', 'j'}"
      ]
     },
     "execution_count": 10,
     "metadata": {},
     "output_type": "execute_result"
    }
   ],
   "source": [
    "s1 ^ s2"
   ]
  },
  {
   "cell_type": "code",
   "execution_count": 11,
   "id": "d7536356-dff8-4c63-b14f-754c32c501bc",
   "metadata": {},
   "outputs": [
    {
     "data": {
      "text/plain": [
       "{'a', 'b', 'c', 'd', 'e', 'f', 'g'}"
      ]
     },
     "execution_count": 11,
     "metadata": {},
     "output_type": "execute_result"
    }
   ],
   "source": [
    "s1"
   ]
  },
  {
   "cell_type": "code",
   "execution_count": 13,
   "id": "f8117104-6ad8-455f-b32d-54c6a30d9b88",
   "metadata": {},
   "outputs": [
    {
     "data": {
      "text/plain": [
       "{'a', 'b', 'c', 'd', 'e', 'f', 'g', 'x'}"
      ]
     },
     "execution_count": 13,
     "metadata": {},
     "output_type": "execute_result"
    }
   ],
   "source": [
    "s1.add('x')\n",
    "s1"
   ]
  },
  {
   "cell_type": "code",
   "execution_count": 15,
   "id": "44ac29dc-db23-4ff4-8cb9-3a5f807e466b",
   "metadata": {},
   "outputs": [
    {
     "data": {
      "text/plain": [
       "{'a', 'b', 'c', 'd', 'e', 'f', 'g', 'x', 'y', 'z'}"
      ]
     },
     "execution_count": 15,
     "metadata": {},
     "output_type": "execute_result"
    }
   ],
   "source": [
    "s1.update({'y', 'z'})\n",
    "s1"
   ]
  },
  {
   "cell_type": "code",
   "execution_count": 17,
   "id": "f7a09cf5-3d69-4b0f-8887-cfd017a8f5c8",
   "metadata": {},
   "outputs": [],
   "source": [
    "s1.remove('x')"
   ]
  },
  {
   "cell_type": "code",
   "execution_count": 18,
   "id": "8a4bb4d7-19da-47db-9cbe-c0ebfedc9160",
   "metadata": {},
   "outputs": [
    {
     "data": {
      "text/plain": [
       "{'a', 'b', 'c', 'd', 'e', 'f', 'g', 'y', 'z'}"
      ]
     },
     "execution_count": 18,
     "metadata": {},
     "output_type": "execute_result"
    }
   ],
   "source": [
    "s1"
   ]
  },
  {
   "cell_type": "code",
   "execution_count": 19,
   "id": "fc085020-d995-4b04-80c8-6074913cbe13",
   "metadata": {},
   "outputs": [
    {
     "data": {
      "text/plain": [
       "{'a', 'b', 'c', 'd', 'e', 'f', 'g', 'h', 'i', 'j', 'y', 'z'}"
      ]
     },
     "execution_count": 19,
     "metadata": {},
     "output_type": "execute_result"
    }
   ],
   "source": [
    "s1.union(s2)"
   ]
  },
  {
   "cell_type": "code",
   "execution_count": 20,
   "id": "cfaa781b-bab8-4368-9294-1ed6a77ef869",
   "metadata": {},
   "outputs": [
    {
     "data": {
      "text/plain": [
       "{'e', 'f', 'g'}"
      ]
     },
     "execution_count": 20,
     "metadata": {},
     "output_type": "execute_result"
    }
   ],
   "source": [
    "s1.intersection(s2)"
   ]
  },
  {
   "cell_type": "code",
   "execution_count": 21,
   "id": "58a2a31f-18eb-44bb-a001-b799d43b3f05",
   "metadata": {},
   "outputs": [],
   "source": [
    "s3 = {'a', 'b'}"
   ]
  },
  {
   "cell_type": "code",
   "execution_count": 23,
   "id": "5bfbbf59-eaca-4ffa-985b-2c49eee7a2f1",
   "metadata": {},
   "outputs": [
    {
     "data": {
      "text/plain": [
       "True"
      ]
     },
     "execution_count": 23,
     "metadata": {},
     "output_type": "execute_result"
    }
   ],
   "source": [
    "s1.issuperset(s3)"
   ]
  },
  {
   "cell_type": "code",
   "execution_count": 24,
   "id": "fd898b1e-1f90-4abf-92a3-2d3517d85e8d",
   "metadata": {},
   "outputs": [
    {
     "data": {
      "text/plain": [
       "True"
      ]
     },
     "execution_count": 24,
     "metadata": {},
     "output_type": "execute_result"
    }
   ],
   "source": [
    "s3.issubset(s1)"
   ]
  },
  {
   "cell_type": "code",
   "execution_count": 25,
   "id": "3fa47bd7-a760-47d2-9ff5-612bde0ba5c8",
   "metadata": {},
   "outputs": [
    {
     "ename": "TypeError",
     "evalue": "unhashable type: 'set'",
     "output_type": "error",
     "traceback": [
      "\u001b[1;31m---------------------------------------------------------------------------\u001b[0m",
      "\u001b[1;31mTypeError\u001b[0m                                 Traceback (most recent call last)",
      "Cell \u001b[1;32mIn[25], line 1\u001b[0m\n\u001b[1;32m----> 1\u001b[0m s1\u001b[38;5;241m.\u001b[39madd({\u001b[38;5;124m'\u001b[39m\u001b[38;5;124ma\u001b[39m\u001b[38;5;124m'\u001b[39m, \u001b[38;5;124m'\u001b[39m\u001b[38;5;124mb\u001b[39m\u001b[38;5;124m'\u001b[39m})\n",
      "\u001b[1;31mTypeError\u001b[0m: unhashable type: 'set'"
     ]
    }
   ],
   "source": [
    "s1.add({'a', 'b'})"
   ]
  },
  {
   "cell_type": "code",
   "execution_count": 26,
   "id": "c556459c-9e61-474b-bc10-842536bd579b",
   "metadata": {},
   "outputs": [
    {
     "ename": "TypeError",
     "evalue": "unhashable type: 'list'",
     "output_type": "error",
     "traceback": [
      "\u001b[1;31m---------------------------------------------------------------------------\u001b[0m",
      "\u001b[1;31mTypeError\u001b[0m                                 Traceback (most recent call last)",
      "Cell \u001b[1;32mIn[26], line 1\u001b[0m\n\u001b[1;32m----> 1\u001b[0m s1\u001b[38;5;241m.\u001b[39madd([\u001b[38;5;124m'\u001b[39m\u001b[38;5;124ma\u001b[39m\u001b[38;5;124m'\u001b[39m, \u001b[38;5;124m'\u001b[39m\u001b[38;5;124mb\u001b[39m\u001b[38;5;124m'\u001b[39m])\n",
      "\u001b[1;31mTypeError\u001b[0m: unhashable type: 'list'"
     ]
    }
   ],
   "source": [
    "s1.add(['a', 'b'])"
   ]
  },
  {
   "cell_type": "code",
   "execution_count": 29,
   "id": "b02a2cb8-9781-496b-8673-78fd1e8f44fe",
   "metadata": {},
   "outputs": [
    {
     "data": {
      "text/plain": [
       "['a', 'b', {'x', 'y'}]"
      ]
     },
     "execution_count": 29,
     "metadata": {},
     "output_type": "execute_result"
    }
   ],
   "source": [
    "L = ['a', 'b', {'x', 'y'}]\n",
    "L"
   ]
  },
  {
   "cell_type": "code",
   "execution_count": 30,
   "id": "998321b2-0459-451c-b603-dc0c850966c8",
   "metadata": {},
   "outputs": [
    {
     "ename": "TypeError",
     "evalue": "unhashable type: 'set'",
     "output_type": "error",
     "traceback": [
      "\u001b[1;31m---------------------------------------------------------------------------\u001b[0m",
      "\u001b[1;31mTypeError\u001b[0m                                 Traceback (most recent call last)",
      "Cell \u001b[1;32mIn[30], line 1\u001b[0m\n\u001b[1;32m----> 1\u001b[0m \u001b[38;5;28mset\u001b[39m(L)\n",
      "\u001b[1;31mTypeError\u001b[0m: unhashable type: 'set'"
     ]
    }
   ],
   "source": [
    "set(L)"
   ]
  },
  {
   "cell_type": "markdown",
   "id": "ffd3f1b3-bd44-4155-988a-725f9d71689e",
   "metadata": {},
   "source": [
    "### 6.3 Dictionaries"
   ]
  },
  {
   "cell_type": "code",
   "execution_count": 31,
   "id": "a052d777-8830-452b-a136-53caa4572e85",
   "metadata": {},
   "outputs": [],
   "source": [
    "rec = ['Anil', 35, 'UST Global', 'Bangalore', '1000000']"
   ]
  },
  {
   "cell_type": "code",
   "execution_count": 32,
   "id": "2adca808-8ab6-47cf-a8fa-1e65e86cc41b",
   "metadata": {},
   "outputs": [],
   "source": [
    "recnew = ['Anil', '10-03-1990', '8977653421', 'UST Global', 'Bangalore', '1000000']"
   ]
  },
  {
   "cell_type": "code",
   "execution_count": 33,
   "id": "333ab2e0-5045-4073-a5dd-6a6ae1fafc7d",
   "metadata": {},
   "outputs": [],
   "source": [
    "D = {'name':'Anil', 'age':35, 'company':'UST Global', 'location':'Bangalore', 'salary':'1000000'}"
   ]
  },
  {
   "cell_type": "code",
   "execution_count": 34,
   "id": "e6e711b7-decd-419a-8276-3b3317e25fd1",
   "metadata": {},
   "outputs": [
    {
     "data": {
      "text/plain": [
       "'Anil'"
      ]
     },
     "execution_count": 34,
     "metadata": {},
     "output_type": "execute_result"
    }
   ],
   "source": [
    "D['name'] # Access"
   ]
  },
  {
   "cell_type": "code",
   "execution_count": 35,
   "id": "fe343782-bbd1-4ced-a8a8-beb201de7a13",
   "metadata": {},
   "outputs": [
    {
     "data": {
      "text/plain": [
       "'1000000'"
      ]
     },
     "execution_count": 35,
     "metadata": {},
     "output_type": "execute_result"
    }
   ],
   "source": [
    "D['salary']"
   ]
  },
  {
   "cell_type": "code",
   "execution_count": 37,
   "id": "585a5273-e048-4db0-8b97-98cc755a72f8",
   "metadata": {},
   "outputs": [
    {
     "data": {
      "text/plain": [
       "35"
      ]
     },
     "execution_count": 37,
     "metadata": {},
     "output_type": "execute_result"
    }
   ],
   "source": [
    "D.pop('age') # REmove"
   ]
  },
  {
   "cell_type": "code",
   "execution_count": 38,
   "id": "88df250c-5c93-4ea4-9eb9-a01ebccb4ab5",
   "metadata": {},
   "outputs": [
    {
     "data": {
      "text/plain": [
       "{'name': 'Anil',\n",
       " 'company': 'UST Global',\n",
       " 'location': 'Bangalore',\n",
       " 'salary': '1000000'}"
      ]
     },
     "execution_count": 38,
     "metadata": {},
     "output_type": "execute_result"
    }
   ],
   "source": [
    "D"
   ]
  },
  {
   "cell_type": "code",
   "execution_count": 39,
   "id": "421ccfbc-f131-4d95-bd31-83ec26d524c7",
   "metadata": {},
   "outputs": [],
   "source": [
    "D['phone'] = '8977653421' # Add"
   ]
  },
  {
   "cell_type": "code",
   "execution_count": 40,
   "id": "58fc448e-be3f-4e1d-be66-b4046a240990",
   "metadata": {},
   "outputs": [
    {
     "data": {
      "text/plain": [
       "{'name': 'Anil',\n",
       " 'company': 'UST Global',\n",
       " 'location': 'Bangalore',\n",
       " 'salary': '1000000',\n",
       " 'phone': '8977653421'}"
      ]
     },
     "execution_count": 40,
     "metadata": {},
     "output_type": "execute_result"
    }
   ],
   "source": [
    "D"
   ]
  },
  {
   "cell_type": "code",
   "execution_count": 42,
   "id": "723afc8c-bc13-4a87-9ef3-b5326397960b",
   "metadata": {},
   "outputs": [],
   "source": [
    "D['phone'] = '8977653420' # Modify"
   ]
  },
  {
   "cell_type": "code",
   "execution_count": 43,
   "id": "447b475a-6247-4469-932b-8c1a772051d1",
   "metadata": {},
   "outputs": [
    {
     "data": {
      "text/plain": [
       "{'name': 'Anil',\n",
       " 'company': 'UST Global',\n",
       " 'location': 'Bangalore',\n",
       " 'salary': '1000000',\n",
       " 'phone': '8977653420'}"
      ]
     },
     "execution_count": 43,
     "metadata": {},
     "output_type": "execute_result"
    }
   ],
   "source": [
    "D"
   ]
  },
  {
   "cell_type": "code",
   "execution_count": 45,
   "id": "a8c51ebd-e31d-49dc-9c36-01f5fccd2a74",
   "metadata": {},
   "outputs": [],
   "source": [
    "D1 = {'addr': 'J P Nagar', \"country\":\"India\"}"
   ]
  },
  {
   "cell_type": "code",
   "execution_count": 46,
   "id": "cfe4fdce-cec0-49e5-97fa-a5107a109003",
   "metadata": {},
   "outputs": [],
   "source": [
    "D.update(D1)"
   ]
  },
  {
   "cell_type": "code",
   "execution_count": 47,
   "id": "f377c688-ccbe-44ae-b626-5e0706e409d9",
   "metadata": {},
   "outputs": [
    {
     "data": {
      "text/plain": [
       "{'name': 'Anil',\n",
       " 'company': 'UST Global',\n",
       " 'location': 'Bangalore',\n",
       " 'salary': '1000000',\n",
       " 'phone': '8977653420',\n",
       " 'addr': 'J P Nagar',\n",
       " 'country': 'India'}"
      ]
     },
     "execution_count": 47,
     "metadata": {},
     "output_type": "execute_result"
    }
   ],
   "source": [
    "D"
   ]
  },
  {
   "cell_type": "markdown",
   "id": "db073765-b08c-412b-b046-452da90e2b2d",
   "metadata": {},
   "source": [
    "### 6.4 Important functions for dictionaries"
   ]
  },
  {
   "cell_type": "code",
   "execution_count": 48,
   "id": "03602924-a9b1-4055-b9d4-6a558969add6",
   "metadata": {},
   "outputs": [
    {
     "data": {
      "text/plain": [
       "dict_values(['Anil', 'UST Global', 'Bangalore', '1000000', '8977653420', 'J P Nagar', 'India'])"
      ]
     },
     "execution_count": 48,
     "metadata": {},
     "output_type": "execute_result"
    }
   ],
   "source": [
    "D.values()"
   ]
  },
  {
   "cell_type": "code",
   "execution_count": 49,
   "id": "8d5e1e63-241d-49bf-9c9e-d7a5ca0818fd",
   "metadata": {},
   "outputs": [
    {
     "data": {
      "text/plain": [
       "dict_keys(['name', 'company', 'location', 'salary', 'phone', 'addr', 'country'])"
      ]
     },
     "execution_count": 49,
     "metadata": {},
     "output_type": "execute_result"
    }
   ],
   "source": [
    "D.keys()"
   ]
  },
  {
   "cell_type": "code",
   "execution_count": 50,
   "id": "d79a4204-c501-4047-b6b9-b33b872ab03e",
   "metadata": {},
   "outputs": [
    {
     "data": {
      "text/plain": [
       "dict_items([('name', 'Anil'), ('company', 'UST Global'), ('location', 'Bangalore'), ('salary', '1000000'), ('phone', '8977653420'), ('addr', 'J P Nagar'), ('country', 'India')])"
      ]
     },
     "execution_count": 50,
     "metadata": {},
     "output_type": "execute_result"
    }
   ],
   "source": [
    "D.items()"
   ]
  },
  {
   "cell_type": "code",
   "execution_count": 51,
   "id": "93d74276-8f6e-43c7-b3f0-4d046b054a10",
   "metadata": {},
   "outputs": [],
   "source": [
    "# Mahesh"
   ]
  },
  {
   "cell_type": "code",
   "execution_count": 52,
   "id": "b21af968-e7f3-4f9f-b062-461cc52d9cc1",
   "metadata": {},
   "outputs": [],
   "source": [
    "s = {'a', 'b', 'c'}"
   ]
  },
  {
   "cell_type": "code",
   "execution_count": 53,
   "id": "5d3f6d55-1fba-4971-8b31-584451860323",
   "metadata": {},
   "outputs": [
    {
     "ename": "ValueError",
     "evalue": "dictionary update sequence element #0 has length 1; 2 is required",
     "output_type": "error",
     "traceback": [
      "\u001b[1;31m---------------------------------------------------------------------------\u001b[0m",
      "\u001b[1;31mValueError\u001b[0m                                Traceback (most recent call last)",
      "Cell \u001b[1;32mIn[53], line 1\u001b[0m\n\u001b[1;32m----> 1\u001b[0m \u001b[38;5;28mdict\u001b[39m(s)\n",
      "\u001b[1;31mValueError\u001b[0m: dictionary update sequence element #0 has length 1; 2 is required"
     ]
    }
   ],
   "source": [
    "dict(s)"
   ]
  },
  {
   "cell_type": "code",
   "execution_count": 54,
   "id": "960439f8-4c48-4069-bd18-bb163fce8558",
   "metadata": {},
   "outputs": [
    {
     "data": {
      "text/plain": [
       "{0: 'red', 1: 'green', 2: 'blue'}"
      ]
     },
     "execution_count": 54,
     "metadata": {},
     "output_type": "execute_result"
    }
   ],
   "source": [
    "L = [\"red\", \"green\", \"blue\"]\n",
    "dict(enumerate(L))"
   ]
  },
  {
   "cell_type": "code",
   "execution_count": 55,
   "id": "92cee9eb-3f9a-4186-9b0e-81992d295ea3",
   "metadata": {},
   "outputs": [
    {
     "data": {
      "text/plain": [
       "{'a': 'red', 'b': 'green', 'c': 'blue'}"
      ]
     },
     "execution_count": 55,
     "metadata": {},
     "output_type": "execute_result"
    }
   ],
   "source": [
    "N = ['a', 'b', 'c']\n",
    "dict(zip(N, L))"
   ]
  },
  {
   "cell_type": "markdown",
   "id": "b7e80e8d-c51f-42b5-8972-c1422ef696aa",
   "metadata": {},
   "source": [
    "### 6.5 Examples"
   ]
  },
  {
   "cell_type": "code",
   "execution_count": 57,
   "id": "0c6eb849-b76e-4ce0-815d-75bcc8073082",
   "metadata": {},
   "outputs": [
    {
     "name": "stdout",
     "output_type": "stream",
     "text": [
      "{'m': 1}\n",
      "{'m': 1, 'i': 1}\n",
      "{'m': 1, 'i': 1, 's': 1}\n",
      "{'m': 1, 'i': 1, 's': 2}\n",
      "{'m': 1, 'i': 2, 's': 2}\n",
      "{'m': 1, 'i': 2, 's': 3}\n",
      "{'m': 1, 'i': 2, 's': 4}\n",
      "{'m': 1, 'i': 3, 's': 4}\n",
      "{'m': 1, 'i': 3, 's': 4, 'p': 1}\n",
      "{'m': 1, 'i': 3, 's': 4, 'p': 2}\n",
      "{'m': 1, 'i': 4, 's': 4, 'p': 2}\n"
     ]
    },
    {
     "data": {
      "text/plain": [
       "{'m': 1, 'i': 4, 's': 4, 'p': 2}"
      ]
     },
     "execution_count": 57,
     "metadata": {},
     "output_type": "execute_result"
    }
   ],
   "source": [
    "# Calculate the charecter histogram of a string\n",
    "s = \"Mississippi\"\n",
    "# {'m':1, 's':4, 'i':4, 'p':2}\n",
    "\n",
    "ch = {}\n",
    "for c in s.lower():\n",
    "    if c in ch.keys():\n",
    "        ch[c] = ch[c] + 1\n",
    "    else:\n",
    "        ch[c] = 1\n",
    "    print(ch)\n",
    "\n",
    "'''\n",
    "1 -> ch = {'m':1}\n",
    "2 -> ch = {'m':1, 'i':1}\n",
    "3 -> ch = {'m':1, 'i':1, 's':1}\n",
    "4 -> ch = {'m':1, 'i':1, 's':2}\n",
    "..\n",
    "..\n",
    "..\n",
    "'''\n",
    "\n",
    "ch"
   ]
  },
  {
   "cell_type": "code",
   "execution_count": null,
   "id": "40d9c950-8b25-4f82-8cae-0dcff90880dc",
   "metadata": {},
   "outputs": [],
   "source": []
  },
  {
   "cell_type": "code",
   "execution_count": null,
   "id": "e9293276-9194-420c-ab4a-911da501922a",
   "metadata": {},
   "outputs": [],
   "source": [
    "# Mahesh"
   ]
  },
  {
   "cell_type": "code",
   "execution_count": 59,
   "id": "3f83625a-3610-4b08-b0e2-d690d8599555",
   "metadata": {},
   "outputs": [
    {
     "data": {
      "text/plain": [
       "{'Mahesh': 25, 'Lakith': 26}"
      ]
     },
     "execution_count": 59,
     "metadata": {},
     "output_type": "execute_result"
    }
   ],
   "source": [
    "a = ['Mahesh', 'Lakith', 25, 26] \n",
    "# how to convert this to below dict format\n",
    "# a = {'Mahesh:25','lakith:26']  \n",
    "\n",
    "x = a[:2]\n",
    "y = a[2:]\n",
    "dict(zip(x, y))"
   ]
  },
  {
   "cell_type": "code",
   "execution_count": 60,
   "id": "a27e6858-6578-4728-af2d-f53c3c3795fb",
   "metadata": {},
   "outputs": [
    {
     "data": {
      "text/plain": [
       "{'Mahesh': 25, 'Lakith': 26}"
      ]
     },
     "execution_count": 60,
     "metadata": {},
     "output_type": "execute_result"
    }
   ],
   "source": [
    "d = {}\n",
    "for i in range(len(x)):\n",
    "    d[x[i]] = y[i]\n",
    "d"
   ]
  },
  {
   "cell_type": "code",
   "execution_count": null,
   "id": "93d60f04-6716-482b-88aa-9365b4f524fe",
   "metadata": {},
   "outputs": [],
   "source": []
  },
  {
   "cell_type": "code",
   "execution_count": 61,
   "id": "d46ecfac-8dfd-4584-b9ff-5f5926603f7c",
   "metadata": {},
   "outputs": [],
   "source": [
    "# reverse the keys and values\n",
    "D = {'name':'Anil', 'age':35, 'company':'UST Global', 'location':'Bangalore', 'salary':'1000000'}"
   ]
  },
  {
   "cell_type": "code",
   "execution_count": 62,
   "id": "9927dc4b-2a5c-41de-824c-ee65a89a29e4",
   "metadata": {},
   "outputs": [
    {
     "data": {
      "text/plain": [
       "{'Anil': 'name',\n",
       " 35: 'age',\n",
       " 'UST Global': 'company',\n",
       " 'Bangalore': 'location',\n",
       " '1000000': 'salary'}"
      ]
     },
     "execution_count": 62,
     "metadata": {},
     "output_type": "execute_result"
    }
   ],
   "source": [
    "D1 = {}\n",
    "for key,value in D.items():\n",
    "    D1[value] = key\n",
    "D1"
   ]
  },
  {
   "cell_type": "code",
   "execution_count": null,
   "id": "7d1736cc-2753-4d53-8450-648905b81e5b",
   "metadata": {},
   "outputs": [],
   "source": []
  }
 ],
 "metadata": {
  "kernelspec": {
   "display_name": "Python 3 (ipykernel)",
   "language": "python",
   "name": "python3"
  },
  "language_info": {
   "codemirror_mode": {
    "name": "ipython",
    "version": 3
   },
   "file_extension": ".py",
   "mimetype": "text/x-python",
   "name": "python",
   "nbconvert_exporter": "python",
   "pygments_lexer": "ipython3",
   "version": "3.11.7"
  }
 },
 "nbformat": 4,
 "nbformat_minor": 5
}
