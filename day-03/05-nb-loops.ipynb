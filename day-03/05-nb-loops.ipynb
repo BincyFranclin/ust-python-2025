{
 "cells": [
  {
   "cell_type": "markdown",
   "id": "9f9f4c55-d55a-4885-8ead-9ea1fe1372d7",
   "metadata": {},
   "source": [
    "### 5.1 for Loop basics"
   ]
  },
  {
   "cell_type": "code",
   "execution_count": 1,
   "id": "6e0817f4-9f1d-494c-bd29-3bb2459cf0e7",
   "metadata": {},
   "outputs": [],
   "source": [
    "S = \"apples\"\n",
    "L = [\"red\", \"green\", \"blue\"]"
   ]
  },
  {
   "cell_type": "code",
   "execution_count": 2,
   "id": "1b0d9e23-3855-4030-87d7-15268c9a11c5",
   "metadata": {},
   "outputs": [
    {
     "name": "stdout",
     "output_type": "stream",
     "text": [
      "a 97\n",
      "p 112\n",
      "p 112\n",
      "l 108\n",
      "e 101\n",
      "s 115\n"
     ]
    }
   ],
   "source": [
    "for c in S:\n",
    "    print(c, ord(c))"
   ]
  },
  {
   "cell_type": "code",
   "execution_count": 3,
   "id": "58c476dc-a34b-4e03-8914-63702434bc5b",
   "metadata": {},
   "outputs": [
    {
     "name": "stdout",
     "output_type": "stream",
     "text": [
      "RED GREEN BLUE "
     ]
    }
   ],
   "source": [
    "for color in L:\n",
    "    print(color.upper(), end=' ')"
   ]
  },
  {
   "cell_type": "markdown",
   "id": "c12bd77b-94e4-4110-b3dc-c7514eb0114a",
   "metadata": {},
   "source": [
    "### 5.2 Understanding for loop"
   ]
  },
  {
   "cell_type": "code",
   "execution_count": 4,
   "id": "4ffde69c-f439-4af8-b982-e4c4e6825900",
   "metadata": {},
   "outputs": [],
   "source": [
    "# Create a multiplication table"
   ]
  },
  {
   "cell_type": "code",
   "execution_count": 5,
   "id": "b7847be1-5b0a-49db-9194-e6f1d01fbb0e",
   "metadata": {},
   "outputs": [
    {
     "name": "stdout",
     "output_type": "stream",
     "text": [
      "5  X  1  =  5\n"
     ]
    }
   ],
   "source": [
    "print('5', ' X ', '1', ' = ', (5*1))"
   ]
  },
  {
   "cell_type": "code",
   "execution_count": 6,
   "id": "f2d91aaf-1b0b-484e-8c53-94fdcc9fc1b6",
   "metadata": {},
   "outputs": [
    {
     "name": "stdout",
     "output_type": "stream",
     "text": [
      "5  X  1  =  5\n",
      "5  X  2  =  10\n",
      "5  X  3  =  15\n",
      "5  X  4  =  20\n",
      "5  X  5  =  25\n"
     ]
    }
   ],
   "source": [
    "N = [1, 2, 3, 4, 5]\n",
    "for i in N:\n",
    "    print('5', ' X ', i, ' = ', (5*i))"
   ]
  },
  {
   "cell_type": "code",
   "execution_count": 8,
   "id": "6ba1f28f-cbf6-4461-bfad-8a2237945ac4",
   "metadata": {},
   "outputs": [
    {
     "data": {
      "text/plain": [
       "[0, 1, 2, 3, 4, 5, 6, 7, 8, 9]"
      ]
     },
     "execution_count": 8,
     "metadata": {},
     "output_type": "execute_result"
    }
   ],
   "source": [
    "list(range(10))"
   ]
  },
  {
   "cell_type": "code",
   "execution_count": 9,
   "id": "bca6b068-8dac-4fd4-9b24-1c021d47087e",
   "metadata": {},
   "outputs": [
    {
     "data": {
      "text/plain": [
       "[10, 11, 12, 13, 14, 15, 16, 17, 18, 19]"
      ]
     },
     "execution_count": 9,
     "metadata": {},
     "output_type": "execute_result"
    }
   ],
   "source": [
    "list(range(10, 20))"
   ]
  },
  {
   "cell_type": "code",
   "execution_count": 10,
   "id": "777dbee8-e29d-4ef5-ad06-3253a5e5b538",
   "metadata": {},
   "outputs": [
    {
     "data": {
      "text/plain": [
       "[10, 15, 20, 25, 30, 35, 40, 45, 50, 55, 60, 65, 70, 75, 80, 85, 90, 95]"
      ]
     },
     "execution_count": 10,
     "metadata": {},
     "output_type": "execute_result"
    }
   ],
   "source": [
    "list(range(10, 100, 5))"
   ]
  },
  {
   "cell_type": "code",
   "execution_count": 11,
   "id": "2aa31660-2364-4af9-a4d5-784a11eb727c",
   "metadata": {},
   "outputs": [
    {
     "data": {
      "text/plain": [
       "[10, 9, 8, 7, 6, 5, 4, 3, 2, 1]"
      ]
     },
     "execution_count": 11,
     "metadata": {},
     "output_type": "execute_result"
    }
   ],
   "source": [
    "list(range(10, 0, -1))"
   ]
  },
  {
   "cell_type": "code",
   "execution_count": 12,
   "id": "0006e1de-20a2-43f6-9942-d108b034ff21",
   "metadata": {},
   "outputs": [
    {
     "name": "stdout",
     "output_type": "stream",
     "text": [
      "5  X  1  =  5\n",
      "5  X  2  =  10\n",
      "5  X  3  =  15\n",
      "5  X  4  =  20\n",
      "5  X  5  =  25\n",
      "5  X  6  =  30\n",
      "5  X  7  =  35\n",
      "5  X  8  =  40\n",
      "5  X  9  =  45\n",
      "5  X  10  =  50\n"
     ]
    }
   ],
   "source": [
    "for i in range(1, 11):\n",
    "    print('5', ' X ', i, ' = ', (5*i))"
   ]
  },
  {
   "cell_type": "markdown",
   "id": "3564254a-66a7-43d9-bf60-be8cf01864d6",
   "metadata": {},
   "source": [
    "### 5.3 Understanding while loop"
   ]
  },
  {
   "cell_type": "code",
   "execution_count": 13,
   "id": "191099a0-ee94-4ac8-bd2f-9a36e824ebf1",
   "metadata": {},
   "outputs": [
    {
     "name": "stdout",
     "output_type": "stream",
     "text": [
      "5  X  1  =  5\n",
      "5  X  2  =  10\n",
      "5  X  3  =  15\n",
      "5  X  4  =  20\n",
      "5  X  5  =  25\n",
      "5  X  6  =  30\n",
      "5  X  7  =  35\n",
      "5  X  8  =  40\n",
      "5  X  9  =  45\n",
      "5  X  10  =  50\n"
     ]
    }
   ],
   "source": [
    "i = 1\n",
    "while i <= 10:\n",
    "    print('5', ' X ', i, ' = ', (5*i))\n",
    "    i += 1"
   ]
  },
  {
   "cell_type": "markdown",
   "id": "d977a07c-604a-423d-a793-4a2ac0c8aa7c",
   "metadata": {},
   "source": [
    "### 5.4 Loop control statements"
   ]
  },
  {
   "cell_type": "code",
   "execution_count": 14,
   "id": "005c01c6-4bf6-4eb7-9065-df19b29ff08c",
   "metadata": {},
   "outputs": [
    {
     "name": "stdout",
     "output_type": "stream",
     "text": [
      "5  X  1  =  5\n",
      "5  X  2  =  10\n",
      "5  X  3  =  15\n",
      "5  X  4  =  20\n",
      "5  X  5  =  25\n"
     ]
    }
   ],
   "source": [
    "for i in range(1, 11):\n",
    "    print('5', ' X ', i, ' = ', (5*i))\n",
    "    if(i == 5):\n",
    "        break"
   ]
  },
  {
   "cell_type": "code",
   "execution_count": 15,
   "id": "5b543d4c-0711-4b8e-95af-f3481701694e",
   "metadata": {},
   "outputs": [
    {
     "name": "stdout",
     "output_type": "stream",
     "text": [
      "5  X  1  =  5\n",
      "5  X  2  =  10\n",
      "5  X  4  =  20\n",
      "5  X  5  =  25\n",
      "5  X  7  =  35\n",
      "5  X  8  =  40\n",
      "5  X  10  =  50\n"
     ]
    }
   ],
   "source": [
    "for i in range(1, 11):\n",
    "    if(i % 3 == 0):\n",
    "        continue\n",
    "    print('5', ' X ', i, ' = ', (5*i))\n",
    "    "
   ]
  },
  {
   "cell_type": "markdown",
   "id": "7c59d4a6-5b89-4dfc-8dbe-f5496962c005",
   "metadata": {},
   "source": [
    "### 5.5 Loop else block"
   ]
  },
  {
   "cell_type": "code",
   "execution_count": 17,
   "id": "b7563eb9-1acf-4eb0-9088-2c3cf4d7effc",
   "metadata": {},
   "outputs": [
    {
     "name": "stdin",
     "output_type": "stream",
     "text": [
      "Enter a number:  14\n"
     ]
    },
    {
     "name": "stdout",
     "output_type": "stream",
     "text": [
      "The number is not prime\n"
     ]
    }
   ],
   "source": [
    "# Program to determine is a number is prime or not\n",
    "# input\n",
    "n = int(input(\"Enter a number: \"))\n",
    "\n",
    "# process\n",
    "prime = True\n",
    "for i in range(2, n):\n",
    "    if(n % i == 0):\n",
    "        prime = False\n",
    "        break\n",
    "\n",
    "# output\n",
    "if(prime):\n",
    "    print(\"The number is prime\")\n",
    "else:\n",
    "    print(\"The number is not prime\")"
   ]
  },
  {
   "cell_type": "code",
   "execution_count": 19,
   "id": "60b018db-f2ca-463d-8823-20a2c4ec5dba",
   "metadata": {},
   "outputs": [
    {
     "name": "stdin",
     "output_type": "stream",
     "text": [
      "Enter a number:  14\n"
     ]
    },
    {
     "name": "stdout",
     "output_type": "stream",
     "text": [
      "The number is not prime\n"
     ]
    }
   ],
   "source": [
    "# Program to determine is a number is prime or not\n",
    "# input\n",
    "n = int(input(\"Enter a number: \"))\n",
    "\n",
    "# process/output\n",
    "for i in range(2, n):\n",
    "    if(n % i == 0):\n",
    "        print(\"The number is not prime\")\n",
    "        break\n",
    "else:\n",
    "    print(\"The number is prime\")\n"
   ]
  },
  {
   "cell_type": "markdown",
   "id": "10784208-9224-4b66-817c-c092839b29ef",
   "metadata": {},
   "source": [
    "If the for loop comes out naturally, the else block executes once"
   ]
  },
  {
   "cell_type": "markdown",
   "id": "a096ce87-29a9-475d-9e1b-aff1afd7c243",
   "metadata": {},
   "source": [
    "IF the for loop comes out because of break statement, the else block will not execute"
   ]
  },
  {
   "cell_type": "markdown",
   "id": "b3bdd4fa-5c60-402e-8203-663d9ef8b8cd",
   "metadata": {},
   "source": [
    "### 5.6 Nested Loops"
   ]
  },
  {
   "cell_type": "code",
   "execution_count": 20,
   "id": "99628827-e4bb-41ab-8078-f226f81de078",
   "metadata": {},
   "outputs": [],
   "source": [
    "# [ (1, 1), (2, 4), (3, 9) ... ]"
   ]
  },
  {
   "cell_type": "code",
   "execution_count": 22,
   "id": "a5b322f1-727d-4cc9-906b-72da83cbdb5c",
   "metadata": {},
   "outputs": [
    {
     "name": "stdout",
     "output_type": "stream",
     "text": [
      "[(1, 1), (2, 4), (3, 9), (4, 16), (5, 25), (6, 36), (7, 49), (8, 64), (9, 81), (10, 100)]\n"
     ]
    }
   ],
   "source": [
    "v = []\n",
    "for i in range(1, 11):\n",
    "    t = i, i**2 # packing\n",
    "    v.append(t)\n",
    "print(v)"
   ]
  },
  {
   "cell_type": "code",
   "execution_count": 23,
   "id": "89542429-b1eb-49ee-9b92-bb2ad28a3856",
   "metadata": {},
   "outputs": [
    {
     "name": "stdout",
     "output_type": "stream",
     "text": [
      "0 0 0\n",
      "0 1 0\n",
      "0 2 0\n",
      "0 3 0\n",
      "1 0 0\n",
      "1 1 1\n",
      "1 2 2\n",
      "1 3 3\n",
      "2 0 0\n",
      "2 1 2\n",
      "2 2 4\n",
      "2 3 6\n",
      "3 0 0\n",
      "3 1 3\n",
      "3 2 6\n",
      "3 3 9\n"
     ]
    }
   ],
   "source": [
    "for m in range(4):\n",
    "    for n in range(4):\n",
    "        print(m, n, m*n)"
   ]
  },
  {
   "cell_type": "code",
   "execution_count": null,
   "id": "2f82d0f9-8ec8-49b1-b94c-9e4fc3bed15f",
   "metadata": {},
   "outputs": [],
   "source": []
  }
 ],
 "metadata": {
  "kernelspec": {
   "display_name": "Python 3 (ipykernel)",
   "language": "python",
   "name": "python3"
  },
  "language_info": {
   "codemirror_mode": {
    "name": "ipython",
    "version": 3
   },
   "file_extension": ".py",
   "mimetype": "text/x-python",
   "name": "python",
   "nbconvert_exporter": "python",
   "pygments_lexer": "ipython3",
   "version": "3.11.7"
  }
 },
 "nbformat": 4,
 "nbformat_minor": 5
}
