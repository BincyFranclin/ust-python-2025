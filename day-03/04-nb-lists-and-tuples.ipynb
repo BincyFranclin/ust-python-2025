{
 "cells": [
  {
   "cell_type": "markdown",
   "id": "7c3e76f7-1ac0-4df4-9bc3-ee95407a39e2",
   "metadata": {},
   "source": [
    "### 4 Lists and Tuples"
   ]
  },
  {
   "cell_type": "markdown",
   "id": "ca1fba99-59bd-4c93-a41c-f2e0718cd546",
   "metadata": {},
   "source": [
    "### 4.1 List Definition"
   ]
  },
  {
   "cell_type": "code",
   "execution_count": 1,
   "id": "0b6e3a1e-ae89-4cdd-8dbd-6f049ddc0666",
   "metadata": {},
   "outputs": [],
   "source": [
    "L = [1, 2, 3.4, 'red', 'green', 'blue', ['cat', 'dog'], int, bin, oct]"
   ]
  },
  {
   "cell_type": "code",
   "execution_count": 2,
   "id": "20d38917-bd15-4640-849c-6184cd6508fc",
   "metadata": {},
   "outputs": [
    {
     "data": {
      "text/plain": [
       "list"
      ]
     },
     "execution_count": 2,
     "metadata": {},
     "output_type": "execute_result"
    }
   ],
   "source": [
    "type(L)"
   ]
  },
  {
   "cell_type": "markdown",
   "id": "72cafa1f-4792-427f-aa60-a208e63ffe62",
   "metadata": {},
   "source": [
    "### 4.2 Mutability"
   ]
  },
  {
   "cell_type": "code",
   "execution_count": 3,
   "id": "52ca77c2-fe65-4ce4-a2e4-1d82752f87ac",
   "metadata": {},
   "outputs": [
    {
     "data": {
      "text/plain": [
       "[1,\n",
       " 2,\n",
       " 3.4,\n",
       " 'red',\n",
       " 'green',\n",
       " 'blue',\n",
       " ['cat', 'dog'],\n",
       " int,\n",
       " <function bin(number, /)>,\n",
       " <function oct(number, /)>]"
      ]
     },
     "execution_count": 3,
     "metadata": {},
     "output_type": "execute_result"
    }
   ],
   "source": [
    "L"
   ]
  },
  {
   "cell_type": "code",
   "execution_count": 4,
   "id": "7d0a6ac7-a5b7-4fa4-a5ef-954baa0c5ea4",
   "metadata": {},
   "outputs": [
    {
     "data": {
      "text/plain": [
       "3.4"
      ]
     },
     "execution_count": 4,
     "metadata": {},
     "output_type": "execute_result"
    }
   ],
   "source": [
    "L[2]"
   ]
  },
  {
   "cell_type": "code",
   "execution_count": 5,
   "id": "6a64cb14-9d69-4dcf-9227-f6f408f5e07d",
   "metadata": {},
   "outputs": [],
   "source": [
    "L[2] = 3.14"
   ]
  },
  {
   "cell_type": "code",
   "execution_count": 6,
   "id": "4b0c463f-6483-4296-86be-0d21d6572e8b",
   "metadata": {},
   "outputs": [
    {
     "data": {
      "text/plain": [
       "[1,\n",
       " 2,\n",
       " 3.14,\n",
       " 'red',\n",
       " 'green',\n",
       " 'blue',\n",
       " ['cat', 'dog'],\n",
       " int,\n",
       " <function bin(number, /)>,\n",
       " <function oct(number, /)>]"
      ]
     },
     "execution_count": 6,
     "metadata": {},
     "output_type": "execute_result"
    }
   ],
   "source": [
    "L"
   ]
  },
  {
   "cell_type": "code",
   "execution_count": 7,
   "id": "c2161bbd-a054-444f-a524-62b90e401112",
   "metadata": {},
   "outputs": [
    {
     "data": {
      "text/plain": [
       "'green'"
      ]
     },
     "execution_count": 7,
     "metadata": {},
     "output_type": "execute_result"
    }
   ],
   "source": [
    "L[4]"
   ]
  },
  {
   "cell_type": "code",
   "execution_count": 8,
   "id": "0d746180-bca7-487c-b8fa-662d54291f91",
   "metadata": {},
   "outputs": [
    {
     "data": {
      "text/plain": [
       "'e'"
      ]
     },
     "execution_count": 8,
     "metadata": {},
     "output_type": "execute_result"
    }
   ],
   "source": [
    "L[4][2]"
   ]
  },
  {
   "cell_type": "code",
   "execution_count": 9,
   "id": "f4ae5c25-150d-4e43-b216-8f2b33e46082",
   "metadata": {},
   "outputs": [
    {
     "ename": "TypeError",
     "evalue": "'str' object does not support item assignment",
     "output_type": "error",
     "traceback": [
      "\u001b[1;31m---------------------------------------------------------------------------\u001b[0m",
      "\u001b[1;31mTypeError\u001b[0m                                 Traceback (most recent call last)",
      "Cell \u001b[1;32mIn[9], line 1\u001b[0m\n\u001b[1;32m----> 1\u001b[0m L[\u001b[38;5;241m4\u001b[39m][\u001b[38;5;241m2\u001b[39m] \u001b[38;5;241m=\u001b[39m \u001b[38;5;124m'\u001b[39m\u001b[38;5;124mE\u001b[39m\u001b[38;5;124m'\u001b[39m\n",
      "\u001b[1;31mTypeError\u001b[0m: 'str' object does not support item assignment"
     ]
    }
   ],
   "source": [
    "L[4][2] = 'E'"
   ]
  },
  {
   "cell_type": "markdown",
   "id": "0e4a4376-e1a1-44d6-81ba-4c1acfa1b967",
   "metadata": {},
   "source": [
    "### 4.3 Subscripting"
   ]
  },
  {
   "cell_type": "code",
   "execution_count": 10,
   "id": "96b5881d-35c2-4517-9fcc-31ed77228ac4",
   "metadata": {},
   "outputs": [
    {
     "data": {
      "text/plain": [
       "2"
      ]
     },
     "execution_count": 10,
     "metadata": {},
     "output_type": "execute_result"
    }
   ],
   "source": [
    "L[1]"
   ]
  },
  {
   "cell_type": "code",
   "execution_count": 11,
   "id": "a356b494-ee76-40f8-8540-cf98156cb7cd",
   "metadata": {},
   "outputs": [
    {
     "data": {
      "text/plain": [
       "<function oct(number, /)>"
      ]
     },
     "execution_count": 11,
     "metadata": {},
     "output_type": "execute_result"
    }
   ],
   "source": [
    "L[-1]"
   ]
  },
  {
   "cell_type": "code",
   "execution_count": 12,
   "id": "a13fd9c2-995b-4c79-98c1-36150510c30a",
   "metadata": {},
   "outputs": [
    {
     "data": {
      "text/plain": [
       "[2, 3.14, 'red']"
      ]
     },
     "execution_count": 12,
     "metadata": {},
     "output_type": "execute_result"
    }
   ],
   "source": [
    "L[1:4]"
   ]
  },
  {
   "cell_type": "code",
   "execution_count": 13,
   "id": "17450a2c-fb7c-44dc-ba61-b95048010e89",
   "metadata": {},
   "outputs": [
    {
     "data": {
      "text/plain": [
       "[1, 3.14, 'green', ['cat', 'dog'], <function bin(number, /)>]"
      ]
     },
     "execution_count": 13,
     "metadata": {},
     "output_type": "execute_result"
    }
   ],
   "source": [
    "L[::2]"
   ]
  },
  {
   "cell_type": "code",
   "execution_count": 14,
   "id": "2672db81-ccc9-4fd9-8ff9-667fad60b91c",
   "metadata": {},
   "outputs": [
    {
     "data": {
      "text/plain": [
       "[<function oct(number, /)>,\n",
       " <function bin(number, /)>,\n",
       " int,\n",
       " ['cat', 'dog'],\n",
       " 'blue',\n",
       " 'green',\n",
       " 'red',\n",
       " 3.14,\n",
       " 2,\n",
       " 1]"
      ]
     },
     "execution_count": 14,
     "metadata": {},
     "output_type": "execute_result"
    }
   ],
   "source": [
    "L[::-1]"
   ]
  },
  {
   "cell_type": "markdown",
   "id": "f22c579e-d4a2-441e-b67e-d62cb8f8e1b1",
   "metadata": {},
   "source": [
    "### 4.4 Operators"
   ]
  },
  {
   "cell_type": "code",
   "execution_count": 15,
   "id": "ae9032ab-2874-495f-9740-9c4c70ddcd86",
   "metadata": {},
   "outputs": [
    {
     "data": {
      "text/plain": [
       "[1, 2, 3, 4, 5, 6]"
      ]
     },
     "execution_count": 15,
     "metadata": {},
     "output_type": "execute_result"
    }
   ],
   "source": [
    "[1, 2, 3] + [4, 5, 6]"
   ]
  },
  {
   "cell_type": "code",
   "execution_count": 16,
   "id": "6747695e-e690-430f-a025-1ba010174ba3",
   "metadata": {},
   "outputs": [
    {
     "data": {
      "text/plain": [
       "[1, 2, 4, 1, 2, 4, 1, 2, 4]"
      ]
     },
     "execution_count": 16,
     "metadata": {},
     "output_type": "execute_result"
    }
   ],
   "source": [
    "[1, 2, 4] * 3"
   ]
  },
  {
   "cell_type": "code",
   "execution_count": 17,
   "id": "f32c95f5-8969-4591-ae82-57e0c58abd17",
   "metadata": {},
   "outputs": [
    {
     "data": {
      "text/plain": [
       "True"
      ]
     },
     "execution_count": 17,
     "metadata": {},
     "output_type": "execute_result"
    }
   ],
   "source": [
    "'green' in L"
   ]
  },
  {
   "cell_type": "code",
   "execution_count": 18,
   "id": "a9e62871-9283-4f3b-848e-af1b25517c75",
   "metadata": {},
   "outputs": [
    {
     "data": {
      "text/plain": [
       "True"
      ]
     },
     "execution_count": 18,
     "metadata": {},
     "output_type": "execute_result"
    }
   ],
   "source": [
    "type(L) == list"
   ]
  },
  {
   "cell_type": "code",
   "execution_count": 19,
   "id": "bc5e1b29-a73c-45d5-b9ef-5551b55762b5",
   "metadata": {},
   "outputs": [
    {
     "data": {
      "text/plain": [
       "True"
      ]
     },
     "execution_count": 19,
     "metadata": {},
     "output_type": "execute_result"
    }
   ],
   "source": [
    "isinstance(L, list)"
   ]
  },
  {
   "cell_type": "code",
   "execution_count": 20,
   "id": "3f33d17b-7d6a-48ba-9c38-28f8f0c81fb2",
   "metadata": {},
   "outputs": [],
   "source": [
    "del L"
   ]
  },
  {
   "cell_type": "code",
   "execution_count": 21,
   "id": "f2d0af6c-61fe-45e4-bb2e-fed7182a69f8",
   "metadata": {},
   "outputs": [
    {
     "ename": "NameError",
     "evalue": "name 'L' is not defined",
     "output_type": "error",
     "traceback": [
      "\u001b[1;31m---------------------------------------------------------------------------\u001b[0m",
      "\u001b[1;31mNameError\u001b[0m                                 Traceback (most recent call last)",
      "Cell \u001b[1;32mIn[21], line 1\u001b[0m\n\u001b[1;32m----> 1\u001b[0m L\n",
      "\u001b[1;31mNameError\u001b[0m: name 'L' is not defined"
     ]
    }
   ],
   "source": [
    "L"
   ]
  },
  {
   "cell_type": "markdown",
   "id": "01e3c367-93a6-4d76-a2b4-9fd97814a4a9",
   "metadata": {},
   "source": [
    "### 4.5 Adding elements to a list"
   ]
  },
  {
   "cell_type": "code",
   "execution_count": 22,
   "id": "efcaf092-1be4-4183-8d40-857b92890c58",
   "metadata": {},
   "outputs": [],
   "source": [
    "L = [\"red\", \"green\", \"blue\"]"
   ]
  },
  {
   "cell_type": "code",
   "execution_count": 23,
   "id": "08ebbb21-7b28-4f64-b9d1-32dcef1136c7",
   "metadata": {},
   "outputs": [],
   "source": [
    "L.append(\"yellow\")"
   ]
  },
  {
   "cell_type": "code",
   "execution_count": 24,
   "id": "14be8c5d-40f4-47d5-9596-e716d961ef69",
   "metadata": {},
   "outputs": [
    {
     "data": {
      "text/plain": [
       "['red', 'green', 'blue', 'yellow']"
      ]
     },
     "execution_count": 24,
     "metadata": {},
     "output_type": "execute_result"
    }
   ],
   "source": [
    "L"
   ]
  },
  {
   "cell_type": "code",
   "execution_count": 25,
   "id": "e1196fa7-cbe9-42b7-9833-a275621863cc",
   "metadata": {},
   "outputs": [],
   "source": [
    "L.append(\"orange\")"
   ]
  },
  {
   "cell_type": "code",
   "execution_count": 26,
   "id": "130fed0a-828a-4701-8ef9-624e729b1019",
   "metadata": {},
   "outputs": [
    {
     "data": {
      "text/plain": [
       "['red', 'green', 'blue', 'yellow', 'orange']"
      ]
     },
     "execution_count": 26,
     "metadata": {},
     "output_type": "execute_result"
    }
   ],
   "source": [
    "L"
   ]
  },
  {
   "cell_type": "code",
   "execution_count": 27,
   "id": "fefb8e11-d389-4903-9b6b-69ec342ea45b",
   "metadata": {},
   "outputs": [],
   "source": [
    "L.insert(1, \"golden\")"
   ]
  },
  {
   "cell_type": "code",
   "execution_count": 28,
   "id": "9dafaaa7-3411-4c41-be28-43f81450057f",
   "metadata": {},
   "outputs": [
    {
     "data": {
      "text/plain": [
       "['red', 'golden', 'green', 'blue', 'yellow', 'orange']"
      ]
     },
     "execution_count": 28,
     "metadata": {},
     "output_type": "execute_result"
    }
   ],
   "source": [
    "L"
   ]
  },
  {
   "cell_type": "code",
   "execution_count": 29,
   "id": "7ba6498f-6384-4814-a916-c2d4b3e435c8",
   "metadata": {},
   "outputs": [],
   "source": [
    "L1 = [\"white\", \"grey\", \"black\"]"
   ]
  },
  {
   "cell_type": "code",
   "execution_count": 31,
   "id": "5a808450-7a3d-4302-8d59-e9b7bc2f49cb",
   "metadata": {},
   "outputs": [],
   "source": [
    "L.extend(L1)"
   ]
  },
  {
   "cell_type": "code",
   "execution_count": 32,
   "id": "177d556a-cc02-457b-ae4a-37f91551fb77",
   "metadata": {},
   "outputs": [
    {
     "data": {
      "text/plain": [
       "['red',\n",
       " 'golden',\n",
       " 'green',\n",
       " 'blue',\n",
       " 'yellow',\n",
       " 'orange',\n",
       " 'white',\n",
       " 'grey',\n",
       " 'black']"
      ]
     },
     "execution_count": 32,
     "metadata": {},
     "output_type": "execute_result"
    }
   ],
   "source": [
    "L"
   ]
  },
  {
   "cell_type": "code",
   "execution_count": null,
   "id": "191f2d0a-d093-45dc-88e1-711afbd53652",
   "metadata": {},
   "outputs": [],
   "source": [
    "# Questions from Saurabh"
   ]
  },
  {
   "cell_type": "code",
   "execution_count": 33,
   "id": "0f3d604b-a3e4-4892-a505-6ca0ff2424fa",
   "metadata": {},
   "outputs": [],
   "source": [
    "L1.insert(2, \"cyan\")"
   ]
  },
  {
   "cell_type": "code",
   "execution_count": 34,
   "id": "adaaa6e8-de17-4883-a8f6-cf1ec8ff29fe",
   "metadata": {},
   "outputs": [
    {
     "data": {
      "text/plain": [
       "['white', 'grey', 'cyan', 'black']"
      ]
     },
     "execution_count": 34,
     "metadata": {},
     "output_type": "execute_result"
    }
   ],
   "source": [
    "L1"
   ]
  },
  {
   "cell_type": "code",
   "execution_count": 35,
   "id": "d5b7fe7e-0fb9-4918-ab2b-3a0f4ee9e8c2",
   "metadata": {},
   "outputs": [],
   "source": [
    "L1.insert(4, \"brown\")"
   ]
  },
  {
   "cell_type": "code",
   "execution_count": 36,
   "id": "0fd573ce-452e-4eb4-a9e0-ef915d34b565",
   "metadata": {},
   "outputs": [
    {
     "data": {
      "text/plain": [
       "['white', 'grey', 'cyan', 'black', 'brown']"
      ]
     },
     "execution_count": 36,
     "metadata": {},
     "output_type": "execute_result"
    }
   ],
   "source": [
    "L1"
   ]
  },
  {
   "cell_type": "code",
   "execution_count": 37,
   "id": "a8002a5e-bba8-48fc-acc1-2f2af763c97f",
   "metadata": {},
   "outputs": [],
   "source": [
    "L1.insert(10, \"pink\")"
   ]
  },
  {
   "cell_type": "code",
   "execution_count": 38,
   "id": "738f4a64-8487-407b-a609-94ae2943745c",
   "metadata": {},
   "outputs": [
    {
     "data": {
      "text/plain": [
       "['white', 'grey', 'cyan', 'black', 'brown', 'pink']"
      ]
     },
     "execution_count": 38,
     "metadata": {},
     "output_type": "execute_result"
    }
   ],
   "source": [
    "L1"
   ]
  },
  {
   "cell_type": "markdown",
   "id": "5866e0ff-69da-479a-ae7e-741c5e618d4b",
   "metadata": {},
   "source": [
    "### 4.6 Modifying elements in the list"
   ]
  },
  {
   "cell_type": "code",
   "execution_count": 39,
   "id": "640ce379-bb97-4bb7-b316-e82095c0bfa7",
   "metadata": {},
   "outputs": [
    {
     "data": {
      "text/plain": [
       "['red',\n",
       " 'golden',\n",
       " 'green',\n",
       " 'blue',\n",
       " 'yellow',\n",
       " 'orange',\n",
       " 'white',\n",
       " 'grey',\n",
       " 'black']"
      ]
     },
     "execution_count": 39,
     "metadata": {},
     "output_type": "execute_result"
    }
   ],
   "source": [
    "L"
   ]
  },
  {
   "cell_type": "code",
   "execution_count": 42,
   "id": "2bf28c0b-9686-4a99-a151-f460290a43be",
   "metadata": {},
   "outputs": [],
   "source": [
    "L[4] = \"aqua\" # replacing the element"
   ]
  },
  {
   "cell_type": "code",
   "execution_count": 43,
   "id": "12d67b80-0410-4c10-9311-2e9995403039",
   "metadata": {},
   "outputs": [
    {
     "data": {
      "text/plain": [
       "['red', 'golden', 'green', 'blue', 'aqua', 'orange', 'white', 'grey', 'black']"
      ]
     },
     "execution_count": 43,
     "metadata": {},
     "output_type": "execute_result"
    }
   ],
   "source": [
    "L"
   ]
  },
  {
   "cell_type": "code",
   "execution_count": 44,
   "id": "1bba1530-c88f-4fac-bc86-97e685ced210",
   "metadata": {},
   "outputs": [],
   "source": [
    "L2 = [\"white\", \"grey\", \"black\"]"
   ]
  },
  {
   "cell_type": "code",
   "execution_count": 46,
   "id": "d86db7c9-b677-470e-acd6-062e81fefa97",
   "metadata": {},
   "outputs": [],
   "source": [
    "L[4] = L2"
   ]
  },
  {
   "cell_type": "code",
   "execution_count": 47,
   "id": "8b1b5154-a6f5-47e3-9f55-0a0a3393b467",
   "metadata": {},
   "outputs": [
    {
     "data": {
      "text/plain": [
       "['red',\n",
       " 'golden',\n",
       " 'green',\n",
       " 'blue',\n",
       " ['white', 'grey', 'black'],\n",
       " 'orange',\n",
       " 'white',\n",
       " 'grey',\n",
       " 'black']"
      ]
     },
     "execution_count": 47,
     "metadata": {},
     "output_type": "execute_result"
    }
   ],
   "source": [
    "L"
   ]
  },
  {
   "cell_type": "code",
   "execution_count": 48,
   "id": "8ef2c718-8877-43b6-892c-00a42fdef047",
   "metadata": {},
   "outputs": [],
   "source": [
    "L = ['red', 'golden', 'green', 'blue']"
   ]
  },
  {
   "cell_type": "code",
   "execution_count": 49,
   "id": "f3d3c57e-2a86-46de-88f8-2130261acc3c",
   "metadata": {},
   "outputs": [
    {
     "data": {
      "text/plain": [
       "['golden']"
      ]
     },
     "execution_count": 49,
     "metadata": {},
     "output_type": "execute_result"
    }
   ],
   "source": [
    "L[1:2]"
   ]
  },
  {
   "cell_type": "code",
   "execution_count": 50,
   "id": "614d8441-86b7-49d1-95a8-38edbc84e916",
   "metadata": {},
   "outputs": [],
   "source": [
    "L[1:2] = L2"
   ]
  },
  {
   "cell_type": "code",
   "execution_count": 51,
   "id": "0cd55698-edbf-4cc8-ad3b-d49d1cd34577",
   "metadata": {},
   "outputs": [
    {
     "data": {
      "text/plain": [
       "['red', 'white', 'grey', 'black', 'green', 'blue']"
      ]
     },
     "execution_count": 51,
     "metadata": {},
     "output_type": "execute_result"
    }
   ],
   "source": [
    "L"
   ]
  },
  {
   "cell_type": "code",
   "execution_count": 52,
   "id": "df27edba-e36a-4b1b-bc56-7c300f3ddb11",
   "metadata": {},
   "outputs": [
    {
     "data": {
      "text/plain": [
       "['white', 'grey', 'black']"
      ]
     },
     "execution_count": 52,
     "metadata": {},
     "output_type": "execute_result"
    }
   ],
   "source": [
    "L[1:4]"
   ]
  },
  {
   "cell_type": "code",
   "execution_count": 53,
   "id": "83cf33f0-6d28-433a-a252-0a12116fbdd3",
   "metadata": {},
   "outputs": [],
   "source": [
    "L[1:4] = [\"yellow\", \"orange\", \"golden\", \"brown\"]"
   ]
  },
  {
   "cell_type": "code",
   "execution_count": 54,
   "id": "f1b0ba95-db52-4506-86c5-ef8b546e529b",
   "metadata": {},
   "outputs": [
    {
     "data": {
      "text/plain": [
       "['red', 'yellow', 'orange', 'golden', 'brown', 'green', 'blue']"
      ]
     },
     "execution_count": 54,
     "metadata": {},
     "output_type": "execute_result"
    }
   ],
   "source": [
    "L"
   ]
  },
  {
   "cell_type": "code",
   "execution_count": 55,
   "id": "50f48bfc-ae24-4370-90b7-6addff0e52b4",
   "metadata": {},
   "outputs": [],
   "source": [
    "L = ['red', 'golden', 'green', 'blue']"
   ]
  },
  {
   "cell_type": "code",
   "execution_count": 56,
   "id": "f96c3096-cd91-4708-9509-0d12d095e0ac",
   "metadata": {},
   "outputs": [
    {
     "data": {
      "text/plain": [
       "'golden'"
      ]
     },
     "execution_count": 56,
     "metadata": {},
     "output_type": "execute_result"
    }
   ],
   "source": [
    "L[1]"
   ]
  },
  {
   "cell_type": "code",
   "execution_count": 57,
   "id": "c6f577ed-0838-47af-8678-628cfaf84754",
   "metadata": {},
   "outputs": [],
   "source": [
    "L[1] = \"yellow\""
   ]
  },
  {
   "cell_type": "code",
   "execution_count": 58,
   "id": "db87592d-7797-4304-82f1-3908884e36c4",
   "metadata": {},
   "outputs": [
    {
     "data": {
      "text/plain": [
       "['red', 'yellow', 'green', 'blue']"
      ]
     },
     "execution_count": 58,
     "metadata": {},
     "output_type": "execute_result"
    }
   ],
   "source": [
    "L"
   ]
  },
  {
   "cell_type": "code",
   "execution_count": 59,
   "id": "2dcf1f96-5277-4123-bdbd-57dd754cb9fa",
   "metadata": {},
   "outputs": [
    {
     "data": {
      "text/plain": [
       "['yellow']"
      ]
     },
     "execution_count": 59,
     "metadata": {},
     "output_type": "execute_result"
    }
   ],
   "source": [
    "L[1:2]"
   ]
  },
  {
   "cell_type": "code",
   "execution_count": 60,
   "id": "a46cb662-cd7a-4457-891d-50e91bb69d60",
   "metadata": {},
   "outputs": [],
   "source": [
    "L[1:2] = \"golden\""
   ]
  },
  {
   "cell_type": "code",
   "execution_count": 61,
   "id": "354d4a31-19c2-4cff-b571-9886263beecc",
   "metadata": {},
   "outputs": [
    {
     "data": {
      "text/plain": [
       "['red', 'g', 'o', 'l', 'd', 'e', 'n', 'green', 'blue']"
      ]
     },
     "execution_count": 61,
     "metadata": {},
     "output_type": "execute_result"
    }
   ],
   "source": [
    "L"
   ]
  },
  {
   "cell_type": "code",
   "execution_count": 62,
   "id": "0fcd4214-e667-4a01-b85b-579de6f54e65",
   "metadata": {},
   "outputs": [
    {
     "data": {
      "text/plain": [
       "['g', 'o', 'l', 'd', 'e', 'n']"
      ]
     },
     "execution_count": 62,
     "metadata": {},
     "output_type": "execute_result"
    }
   ],
   "source": [
    "list('golden')"
   ]
  },
  {
   "cell_type": "code",
   "execution_count": 63,
   "id": "e44da9f8-31b2-4b7d-a55d-b24c676d5a57",
   "metadata": {},
   "outputs": [],
   "source": [
    "L = ['red', 'yellow', 'green', 'blue']"
   ]
  },
  {
   "cell_type": "code",
   "execution_count": 64,
   "id": "ca9a0a19-73f5-43a0-b338-8600d833fcc0",
   "metadata": {},
   "outputs": [],
   "source": [
    "L[1:2] = [\"golden\"]"
   ]
  },
  {
   "cell_type": "code",
   "execution_count": 65,
   "id": "a136718d-e89b-44b9-bd47-0581ad1061d0",
   "metadata": {},
   "outputs": [
    {
     "data": {
      "text/plain": [
       "['red', 'golden', 'green', 'blue']"
      ]
     },
     "execution_count": 65,
     "metadata": {},
     "output_type": "execute_result"
    }
   ],
   "source": [
    "L"
   ]
  },
  {
   "cell_type": "code",
   "execution_count": null,
   "id": "e44d559a-ab51-4082-822c-bd13436148d6",
   "metadata": {},
   "outputs": [],
   "source": [
    "## Sourabh"
   ]
  },
  {
   "cell_type": "code",
   "execution_count": 68,
   "id": "f23fa7f4-4562-4b3e-aac4-62094f3dcaf7",
   "metadata": {},
   "outputs": [],
   "source": [
    "w = \"computer\" # L = [ [\"computer\"], \"red\", \"green\"]"
   ]
  },
  {
   "cell_type": "code",
   "execution_count": 69,
   "id": "df94a6a8-bb28-48e8-94cd-abddff1a3f77",
   "metadata": {},
   "outputs": [
    {
     "data": {
      "text/plain": [
       "['red', 'golden', 'green', 'blue']"
      ]
     },
     "execution_count": 69,
     "metadata": {},
     "output_type": "execute_result"
    }
   ],
   "source": [
    "L"
   ]
  },
  {
   "cell_type": "code",
   "execution_count": 70,
   "id": "bd52b44c-ec5d-42da-8d2f-fc66b1dd4555",
   "metadata": {},
   "outputs": [],
   "source": [
    "L.append([w])"
   ]
  },
  {
   "cell_type": "code",
   "execution_count": 71,
   "id": "371fac21-9fa6-484b-8262-1fec61d8e406",
   "metadata": {},
   "outputs": [
    {
     "data": {
      "text/plain": [
       "['red', 'golden', 'green', 'blue', ['computer']]"
      ]
     },
     "execution_count": 71,
     "metadata": {},
     "output_type": "execute_result"
    }
   ],
   "source": [
    "L"
   ]
  },
  {
   "cell_type": "markdown",
   "id": "a637f3ae-0bbe-4b32-8454-ac009b444d2b",
   "metadata": {},
   "source": [
    "### 4.7 Removing elements from a list"
   ]
  },
  {
   "cell_type": "code",
   "execution_count": 72,
   "id": "c2aa7b38-6ec8-47de-8582-88b109022571",
   "metadata": {},
   "outputs": [
    {
     "data": {
      "text/plain": [
       "['red', 'golden', 'green', 'blue', ['computer']]"
      ]
     },
     "execution_count": 72,
     "metadata": {},
     "output_type": "execute_result"
    }
   ],
   "source": [
    "L"
   ]
  },
  {
   "cell_type": "code",
   "execution_count": 73,
   "id": "20903392-46aa-432f-80b5-600ea9904b7c",
   "metadata": {},
   "outputs": [
    {
     "data": {
      "text/plain": [
       "['computer']"
      ]
     },
     "execution_count": 73,
     "metadata": {},
     "output_type": "execute_result"
    }
   ],
   "source": [
    "L.pop()"
   ]
  },
  {
   "cell_type": "code",
   "execution_count": 74,
   "id": "96975861-1982-478d-9aab-2f513ebb08d0",
   "metadata": {},
   "outputs": [
    {
     "data": {
      "text/plain": [
       "'blue'"
      ]
     },
     "execution_count": 74,
     "metadata": {},
     "output_type": "execute_result"
    }
   ],
   "source": [
    "L.pop()"
   ]
  },
  {
   "cell_type": "code",
   "execution_count": 75,
   "id": "2edb76e5-95d7-4915-8c9f-2f98eeebb5fd",
   "metadata": {},
   "outputs": [
    {
     "data": {
      "text/plain": [
       "['red', 'golden', 'green']"
      ]
     },
     "execution_count": 75,
     "metadata": {},
     "output_type": "execute_result"
    }
   ],
   "source": [
    "L"
   ]
  },
  {
   "cell_type": "code",
   "execution_count": 76,
   "id": "319f332e-8ba8-4e30-baf3-fab6f5d9f70c",
   "metadata": {},
   "outputs": [
    {
     "data": {
      "text/plain": [
       "'golden'"
      ]
     },
     "execution_count": 76,
     "metadata": {},
     "output_type": "execute_result"
    }
   ],
   "source": [
    "L.pop(1)"
   ]
  },
  {
   "cell_type": "code",
   "execution_count": 77,
   "id": "5f7a1eae-7d96-424c-ba3e-f91e53e2287c",
   "metadata": {},
   "outputs": [
    {
     "data": {
      "text/plain": [
       "['red', 'green']"
      ]
     },
     "execution_count": 77,
     "metadata": {},
     "output_type": "execute_result"
    }
   ],
   "source": [
    "L"
   ]
  },
  {
   "cell_type": "code",
   "execution_count": 78,
   "id": "dd38b1fe-247e-4423-9bce-e2f5e53fb1de",
   "metadata": {},
   "outputs": [],
   "source": [
    "L.remove(\"green\")"
   ]
  },
  {
   "cell_type": "code",
   "execution_count": 79,
   "id": "a1e9c0da-c681-49d6-9c98-a7cf152343bd",
   "metadata": {},
   "outputs": [
    {
     "data": {
      "text/plain": [
       "['red']"
      ]
     },
     "execution_count": 79,
     "metadata": {},
     "output_type": "execute_result"
    }
   ],
   "source": [
    "L"
   ]
  },
  {
   "cell_type": "code",
   "execution_count": 80,
   "id": "95c3e53f-3173-4511-b87f-0f6643cce3b7",
   "metadata": {},
   "outputs": [],
   "source": [
    "## Dinesh Kumar"
   ]
  },
  {
   "cell_type": "code",
   "execution_count": 81,
   "id": "b043b330-979d-451d-a54f-c433c921f3ca",
   "metadata": {},
   "outputs": [],
   "source": [
    "L = ['red', 'green', 'golden', 'green']"
   ]
  },
  {
   "cell_type": "code",
   "execution_count": 82,
   "id": "95b74be9-8efe-40eb-a4a1-8ca8c918ce4b",
   "metadata": {},
   "outputs": [],
   "source": [
    "L.remove('green')"
   ]
  },
  {
   "cell_type": "code",
   "execution_count": 83,
   "id": "a95ea8be-f903-4d97-bc0a-044586b15fdd",
   "metadata": {},
   "outputs": [
    {
     "data": {
      "text/plain": [
       "['red', 'golden', 'green']"
      ]
     },
     "execution_count": 83,
     "metadata": {},
     "output_type": "execute_result"
    }
   ],
   "source": [
    "L"
   ]
  },
  {
   "cell_type": "markdown",
   "id": "4c4161f5-ebb3-423a-9562-f22b08d4c678",
   "metadata": {},
   "source": [
    "### 4.8 Finding elements with in a list"
   ]
  },
  {
   "cell_type": "code",
   "execution_count": 84,
   "id": "c7539798-6d2a-48c9-b4ed-eac67ad62ad5",
   "metadata": {},
   "outputs": [],
   "source": [
    "L = ['red', 'yellow', 'orange', 'golden', 'brown', 'green', 'blue']"
   ]
  },
  {
   "cell_type": "code",
   "execution_count": 85,
   "id": "4df18fd5-129d-49f2-8609-c3c83c9dd349",
   "metadata": {},
   "outputs": [
    {
     "data": {
      "text/plain": [
       "1"
      ]
     },
     "execution_count": 85,
     "metadata": {},
     "output_type": "execute_result"
    }
   ],
   "source": [
    "L.count(\"green\")"
   ]
  },
  {
   "cell_type": "code",
   "execution_count": 86,
   "id": "10ef8b36-da5d-41cb-8da4-1ff76ce67aeb",
   "metadata": {},
   "outputs": [
    {
     "data": {
      "text/plain": [
       "True"
      ]
     },
     "execution_count": 86,
     "metadata": {},
     "output_type": "execute_result"
    }
   ],
   "source": [
    "\"green\" in L"
   ]
  },
  {
   "cell_type": "code",
   "execution_count": 87,
   "id": "0b6942f5-edbe-4499-9c1d-c33c723ec36f",
   "metadata": {},
   "outputs": [
    {
     "data": {
      "text/plain": [
       "5"
      ]
     },
     "execution_count": 87,
     "metadata": {},
     "output_type": "execute_result"
    }
   ],
   "source": [
    "L.index(\"green\")"
   ]
  },
  {
   "cell_type": "code",
   "execution_count": 88,
   "id": "984928fc-8c18-4b04-9c9f-69f4f45efedc",
   "metadata": {},
   "outputs": [
    {
     "ename": "AttributeError",
     "evalue": "'list' object has no attribute 'find'",
     "output_type": "error",
     "traceback": [
      "\u001b[1;31m---------------------------------------------------------------------------\u001b[0m",
      "\u001b[1;31mAttributeError\u001b[0m                            Traceback (most recent call last)",
      "Cell \u001b[1;32mIn[88], line 1\u001b[0m\n\u001b[1;32m----> 1\u001b[0m L\u001b[38;5;241m.\u001b[39mfind(\u001b[38;5;124m\"\u001b[39m\u001b[38;5;124mgreen\u001b[39m\u001b[38;5;124m\"\u001b[39m)\n",
      "\u001b[1;31mAttributeError\u001b[0m: 'list' object has no attribute 'find'"
     ]
    }
   ],
   "source": [
    "L.find(\"green\")"
   ]
  },
  {
   "cell_type": "code",
   "execution_count": 89,
   "id": "31210f8d-b1e9-4eae-99ef-7ed06272fc58",
   "metadata": {},
   "outputs": [
    {
     "ename": "ValueError",
     "evalue": "'black' is not in list",
     "output_type": "error",
     "traceback": [
      "\u001b[1;31m---------------------------------------------------------------------------\u001b[0m",
      "\u001b[1;31mValueError\u001b[0m                                Traceback (most recent call last)",
      "Cell \u001b[1;32mIn[89], line 1\u001b[0m\n\u001b[1;32m----> 1\u001b[0m L\u001b[38;5;241m.\u001b[39mindex(\u001b[38;5;124m\"\u001b[39m\u001b[38;5;124mblack\u001b[39m\u001b[38;5;124m\"\u001b[39m)\n",
      "\u001b[1;31mValueError\u001b[0m: 'black' is not in list"
     ]
    }
   ],
   "source": [
    "L.index(\"black\")"
   ]
  },
  {
   "cell_type": "markdown",
   "id": "af3089e7-299c-4f89-9baa-25426b67b5da",
   "metadata": {},
   "source": [
    "### 4.9 Re-arranging elements in a list"
   ]
  },
  {
   "cell_type": "code",
   "execution_count": 90,
   "id": "26918ebd-8f96-4f88-ab7e-eedcaf0f596b",
   "metadata": {},
   "outputs": [
    {
     "data": {
      "text/plain": [
       "['red', 'yellow', 'orange', 'golden', 'brown', 'green', 'blue']"
      ]
     },
     "execution_count": 90,
     "metadata": {},
     "output_type": "execute_result"
    }
   ],
   "source": [
    "L"
   ]
  },
  {
   "cell_type": "code",
   "execution_count": 92,
   "id": "860806a4-7327-4c90-8372-73b533dcad21",
   "metadata": {},
   "outputs": [
    {
     "data": {
      "text/plain": [
       "['blue', 'green', 'brown', 'golden', 'orange', 'yellow', 'red']"
      ]
     },
     "execution_count": 92,
     "metadata": {},
     "output_type": "execute_result"
    }
   ],
   "source": [
    "list(reversed(L))"
   ]
  },
  {
   "cell_type": "code",
   "execution_count": 93,
   "id": "6844cbea-6965-4689-b50d-c9823afea8ef",
   "metadata": {},
   "outputs": [
    {
     "data": {
      "text/plain": [
       "['blue', 'brown', 'golden', 'green', 'orange', 'red', 'yellow']"
      ]
     },
     "execution_count": 93,
     "metadata": {},
     "output_type": "execute_result"
    }
   ],
   "source": [
    "sorted(L)"
   ]
  },
  {
   "cell_type": "code",
   "execution_count": 94,
   "id": "d685c089-cc00-4e01-8a6c-552d6b0bbeb6",
   "metadata": {},
   "outputs": [
    {
     "data": {
      "text/plain": [
       "['yellow', 'red', 'orange', 'green', 'golden', 'brown', 'blue']"
      ]
     },
     "execution_count": 94,
     "metadata": {},
     "output_type": "execute_result"
    }
   ],
   "source": [
    "sorted(L, reverse= True)"
   ]
  },
  {
   "cell_type": "code",
   "execution_count": 95,
   "id": "da53af4e-e74b-466f-89fd-7a815a5718ef",
   "metadata": {},
   "outputs": [
    {
     "data": {
      "text/plain": [
       "['red', 'yellow', 'orange', 'golden', 'brown', 'green', 'blue']"
      ]
     },
     "execution_count": 95,
     "metadata": {},
     "output_type": "execute_result"
    }
   ],
   "source": [
    "L"
   ]
  },
  {
   "cell_type": "code",
   "execution_count": 96,
   "id": "c2b6a472-eeaa-4a5c-a43c-ecc840141cab",
   "metadata": {},
   "outputs": [],
   "source": [
    "# using sorted() and reversed() will not change the original list"
   ]
  },
  {
   "cell_type": "code",
   "execution_count": 97,
   "id": "b551fef9-6b38-45cf-9378-23a06cf81607",
   "metadata": {},
   "outputs": [],
   "source": [
    "L.sort() # OO Syntax"
   ]
  },
  {
   "cell_type": "code",
   "execution_count": 98,
   "id": "b9519c26-7978-47b7-b2df-b75809104569",
   "metadata": {},
   "outputs": [
    {
     "data": {
      "text/plain": [
       "['blue', 'brown', 'golden', 'green', 'orange', 'red', 'yellow']"
      ]
     },
     "execution_count": 98,
     "metadata": {},
     "output_type": "execute_result"
    }
   ],
   "source": [
    "L"
   ]
  },
  {
   "cell_type": "code",
   "execution_count": 99,
   "id": "6ace5900-e239-4984-b4ff-a3dac3328649",
   "metadata": {},
   "outputs": [],
   "source": [
    "L.sort(reverse=True)"
   ]
  },
  {
   "cell_type": "code",
   "execution_count": 100,
   "id": "c90f10bb-c128-4257-8ab6-14824788e602",
   "metadata": {},
   "outputs": [
    {
     "data": {
      "text/plain": [
       "['yellow', 'red', 'orange', 'green', 'golden', 'brown', 'blue']"
      ]
     },
     "execution_count": 100,
     "metadata": {},
     "output_type": "execute_result"
    }
   ],
   "source": [
    "L"
   ]
  },
  {
   "cell_type": "code",
   "execution_count": 101,
   "id": "ae5f7b8a-7f53-40d6-a4a3-acb3356cd751",
   "metadata": {},
   "outputs": [],
   "source": [
    "L.reverse()"
   ]
  },
  {
   "cell_type": "code",
   "execution_count": 102,
   "id": "e67004f8-650c-4e79-9ae5-789fba5a5d54",
   "metadata": {},
   "outputs": [
    {
     "data": {
      "text/plain": [
       "['blue', 'brown', 'golden', 'green', 'orange', 'red', 'yellow']"
      ]
     },
     "execution_count": 102,
     "metadata": {},
     "output_type": "execute_result"
    }
   ],
   "source": [
    "L"
   ]
  },
  {
   "cell_type": "code",
   "execution_count": 103,
   "id": "d6aa8c32-4704-4edc-a65c-1756e1dd3f28",
   "metadata": {},
   "outputs": [],
   "source": [
    "# using L.sort() and L.reverse() does inplace changes on L"
   ]
  },
  {
   "cell_type": "markdown",
   "id": "343dd3eb-d26e-478c-ac8d-ff8b6e0429e6",
   "metadata": {},
   "source": [
    "### 4.10 Iterate on a list"
   ]
  },
  {
   "cell_type": "code",
   "execution_count": 104,
   "id": "c9d4ba5a-a56a-46a1-94cf-d637852f02f3",
   "metadata": {},
   "outputs": [
    {
     "name": "stdout",
     "output_type": "stream",
     "text": [
      "blue brown golden green orange red yellow "
     ]
    }
   ],
   "source": [
    "for item in L:\n",
    "    print(item, end=\" \")"
   ]
  },
  {
   "cell_type": "code",
   "execution_count": 105,
   "id": "b424ac63-aa84-45fa-bd3c-964143b013b8",
   "metadata": {},
   "outputs": [
    {
     "name": "stdout",
     "output_type": "stream",
     "text": [
      "BLUE BROWN GOLDEN GREEN ORANGE RED YELLOW "
     ]
    }
   ],
   "source": [
    "for item in L:\n",
    "    print(item.swapcase(), end=\" \")"
   ]
  },
  {
   "cell_type": "code",
   "execution_count": 106,
   "id": "4ffc4a9b-648d-4c23-8368-3f4e39530edd",
   "metadata": {},
   "outputs": [
    {
     "name": "stdout",
     "output_type": "stream",
     "text": [
      "BLUE\n",
      "BROWN\n",
      "GOLDEN\n",
      "GREEN\n",
      "ORANGE\n",
      "RED\n",
      "YELLOW\n"
     ]
    }
   ],
   "source": [
    "for item in L:\n",
    "    print(item.swapcase())"
   ]
  },
  {
   "cell_type": "markdown",
   "id": "5d7b5a34-56e4-4f75-9954-4908374fdc7f",
   "metadata": {},
   "source": [
    "### 4.11 Tuples - immutable lists"
   ]
  },
  {
   "cell_type": "code",
   "execution_count": 107,
   "id": "4f03af11-3ea4-4047-8e1d-229e2296458a",
   "metadata": {},
   "outputs": [],
   "source": [
    "T = ('red', 'yellow', 'orange', 'golden')"
   ]
  },
  {
   "cell_type": "code",
   "execution_count": 108,
   "id": "d77563be-410c-4efc-bad4-5b3613013a0b",
   "metadata": {},
   "outputs": [
    {
     "data": {
      "text/plain": [
       "tuple"
      ]
     },
     "execution_count": 108,
     "metadata": {},
     "output_type": "execute_result"
    }
   ],
   "source": [
    "type(T)"
   ]
  },
  {
   "cell_type": "code",
   "execution_count": 109,
   "id": "cc395b61-024a-4bb0-b98a-9f80216ea400",
   "metadata": {},
   "outputs": [],
   "source": [
    "# All operators that work of list will work"
   ]
  },
  {
   "cell_type": "code",
   "execution_count": 110,
   "id": "2a7a7d48-df6d-4517-b3b4-c7ea8f7dc219",
   "metadata": {},
   "outputs": [],
   "source": [
    "# CAnnot do inplace changes - add, modify or remove"
   ]
  },
  {
   "cell_type": "code",
   "execution_count": 111,
   "id": "54352e01-25c9-4595-947f-68b3fcfb7fa8",
   "metadata": {},
   "outputs": [
    {
     "data": {
      "text/plain": [
       "'yellow'"
      ]
     },
     "execution_count": 111,
     "metadata": {},
     "output_type": "execute_result"
    }
   ],
   "source": [
    "T[1]"
   ]
  },
  {
   "cell_type": "code",
   "execution_count": 112,
   "id": "691b9262-e3ad-4ed4-b930-9baf27051704",
   "metadata": {},
   "outputs": [
    {
     "ename": "TypeError",
     "evalue": "'tuple' object does not support item assignment",
     "output_type": "error",
     "traceback": [
      "\u001b[1;31m---------------------------------------------------------------------------\u001b[0m",
      "\u001b[1;31mTypeError\u001b[0m                                 Traceback (most recent call last)",
      "Cell \u001b[1;32mIn[112], line 1\u001b[0m\n\u001b[1;32m----> 1\u001b[0m T[\u001b[38;5;241m1\u001b[39m] \u001b[38;5;241m=\u001b[39m \u001b[38;5;124m\"\u001b[39m\u001b[38;5;124mcyan\u001b[39m\u001b[38;5;124m\"\u001b[39m\n",
      "\u001b[1;31mTypeError\u001b[0m: 'tuple' object does not support item assignment"
     ]
    }
   ],
   "source": [
    "T[1] = \"cyan\""
   ]
  },
  {
   "cell_type": "code",
   "execution_count": 113,
   "id": "6699755b-1296-4b75-b55f-9cd0885739cb",
   "metadata": {},
   "outputs": [],
   "source": [
    "# Cannot fo inplace sorting and reversing - ie L.sort() and L.reverse()"
   ]
  },
  {
   "cell_type": "code",
   "execution_count": 115,
   "id": "b844d58f-3a62-4ad5-bb42-310b9c32c0b7",
   "metadata": {},
   "outputs": [
    {
     "data": {
      "text/plain": [
       "('golden', 'orange', 'yellow', 'red')"
      ]
     },
     "execution_count": 115,
     "metadata": {},
     "output_type": "execute_result"
    }
   ],
   "source": [
    "tuple(reversed(T))"
   ]
  },
  {
   "cell_type": "code",
   "execution_count": 116,
   "id": "87a1f5c1-b2f9-431d-91d3-c462a6ef2520",
   "metadata": {},
   "outputs": [
    {
     "data": {
      "text/plain": [
       "['golden', 'orange', 'red', 'yellow']"
      ]
     },
     "execution_count": 116,
     "metadata": {},
     "output_type": "execute_result"
    }
   ],
   "source": [
    "sorted(T)"
   ]
  },
  {
   "cell_type": "code",
   "execution_count": 117,
   "id": "6f36e605-0414-40fe-97a6-13cc9c28581f",
   "metadata": {},
   "outputs": [
    {
     "data": {
      "text/plain": [
       "('red', 'yellow', 'orange', 'golden')"
      ]
     },
     "execution_count": 117,
     "metadata": {},
     "output_type": "execute_result"
    }
   ],
   "source": [
    "T"
   ]
  },
  {
   "cell_type": "code",
   "execution_count": 118,
   "id": "3c77a623-f8df-4a25-81f0-ac89ba052813",
   "metadata": {},
   "outputs": [],
   "source": [
    "# How to change the tuple?"
   ]
  },
  {
   "cell_type": "code",
   "execution_count": 119,
   "id": "f1c37059-8b43-4de6-9eae-645e9ab71320",
   "metadata": {},
   "outputs": [
    {
     "ename": "AttributeError",
     "evalue": "'tuple' object has no attribute 'append'",
     "output_type": "error",
     "traceback": [
      "\u001b[1;31m---------------------------------------------------------------------------\u001b[0m",
      "\u001b[1;31mAttributeError\u001b[0m                            Traceback (most recent call last)",
      "Cell \u001b[1;32mIn[119], line 1\u001b[0m\n\u001b[1;32m----> 1\u001b[0m T\u001b[38;5;241m.\u001b[39mappend(\u001b[38;5;124m\"\u001b[39m\u001b[38;5;124mbrown\u001b[39m\u001b[38;5;124m\"\u001b[39m)\n",
      "\u001b[1;31mAttributeError\u001b[0m: 'tuple' object has no attribute 'append'"
     ]
    }
   ],
   "source": [
    "T.append(\"brown\")"
   ]
  },
  {
   "cell_type": "code",
   "execution_count": 120,
   "id": "2c323733-7ed5-413f-a4d9-e2f17727f864",
   "metadata": {},
   "outputs": [
    {
     "data": {
      "text/plain": [
       "('red', 'yellow', 'orange', 'golden')"
      ]
     },
     "execution_count": 120,
     "metadata": {},
     "output_type": "execute_result"
    }
   ],
   "source": [
    "T"
   ]
  },
  {
   "cell_type": "code",
   "execution_count": 121,
   "id": "ad5824dd-11d4-46a4-bc9a-dbf451c19c14",
   "metadata": {},
   "outputs": [],
   "source": [
    "temp = list(T)"
   ]
  },
  {
   "cell_type": "code",
   "execution_count": 122,
   "id": "9114cb3d-d1c1-4b84-bdb0-afe8fc1428d9",
   "metadata": {},
   "outputs": [
    {
     "data": {
      "text/plain": [
       "['red', 'yellow', 'orange', 'golden']"
      ]
     },
     "execution_count": 122,
     "metadata": {},
     "output_type": "execute_result"
    }
   ],
   "source": [
    "temp"
   ]
  },
  {
   "cell_type": "code",
   "execution_count": 123,
   "id": "7b23db93-1d54-42a2-8114-d6bed7decd5a",
   "metadata": {},
   "outputs": [],
   "source": [
    "temp.append(\"brown\")"
   ]
  },
  {
   "cell_type": "code",
   "execution_count": 124,
   "id": "99e3a258-361f-46c8-93af-27db3289f126",
   "metadata": {},
   "outputs": [
    {
     "data": {
      "text/plain": [
       "['red', 'yellow', 'orange', 'golden', 'brown']"
      ]
     },
     "execution_count": 124,
     "metadata": {},
     "output_type": "execute_result"
    }
   ],
   "source": [
    "temp"
   ]
  },
  {
   "cell_type": "code",
   "execution_count": 125,
   "id": "100babc7-bfef-46ff-887d-8ffe96f92c8f",
   "metadata": {},
   "outputs": [],
   "source": [
    "T = tuple(temp)"
   ]
  },
  {
   "cell_type": "code",
   "execution_count": 126,
   "id": "8adcbfbc-d581-42cb-a179-8bdb2972e476",
   "metadata": {},
   "outputs": [
    {
     "data": {
      "text/plain": [
       "('red', 'yellow', 'orange', 'golden', 'brown')"
      ]
     },
     "execution_count": 126,
     "metadata": {},
     "output_type": "execute_result"
    }
   ],
   "source": [
    "T"
   ]
  },
  {
   "cell_type": "markdown",
   "id": "05888a82-b12a-4c32-b1e4-2d61e5613565",
   "metadata": {},
   "source": [
    "### 4.12 Unpacking"
   ]
  },
  {
   "cell_type": "code",
   "execution_count": 127,
   "id": "12339f04-4dbd-48fb-9f06-cf9187b8e951",
   "metadata": {},
   "outputs": [],
   "source": [
    "T = (\"red\", \"green\", \"blue\")"
   ]
  },
  {
   "cell_type": "code",
   "execution_count": 128,
   "id": "229c2b30-45f3-4dd1-b162-7999276b47fa",
   "metadata": {},
   "outputs": [],
   "source": [
    "r, g, b = T"
   ]
  },
  {
   "cell_type": "code",
   "execution_count": 129,
   "id": "5f99e873-fb07-44f7-b5a0-a22a78836ece",
   "metadata": {},
   "outputs": [
    {
     "name": "stdout",
     "output_type": "stream",
     "text": [
      "red green blue\n"
     ]
    }
   ],
   "source": [
    "print(r ,g , b)"
   ]
  },
  {
   "cell_type": "code",
   "execution_count": 130,
   "id": "0708acd2-5124-4765-a605-3b729e749c07",
   "metadata": {},
   "outputs": [],
   "source": [
    "T = (\"red\", \"green\", \"blue\", \"yellow\")"
   ]
  },
  {
   "cell_type": "code",
   "execution_count": 131,
   "id": "bcf06daf-530d-4251-9ff8-8f435daf6457",
   "metadata": {},
   "outputs": [
    {
     "ename": "ValueError",
     "evalue": "too many values to unpack (expected 3)",
     "output_type": "error",
     "traceback": [
      "\u001b[1;31m---------------------------------------------------------------------------\u001b[0m",
      "\u001b[1;31mValueError\u001b[0m                                Traceback (most recent call last)",
      "Cell \u001b[1;32mIn[131], line 1\u001b[0m\n\u001b[1;32m----> 1\u001b[0m r, g, b \u001b[38;5;241m=\u001b[39m T\n",
      "\u001b[1;31mValueError\u001b[0m: too many values to unpack (expected 3)"
     ]
    }
   ],
   "source": [
    "r, g, b = T"
   ]
  },
  {
   "cell_type": "code",
   "execution_count": 132,
   "id": "a280b394-bca7-4cb1-b48b-16f46a17bd9f",
   "metadata": {},
   "outputs": [],
   "source": [
    "r, g, *x = T"
   ]
  },
  {
   "cell_type": "code",
   "execution_count": 133,
   "id": "924fbfb3-bbac-40bb-8ba7-e44f4f613e27",
   "metadata": {},
   "outputs": [
    {
     "name": "stdout",
     "output_type": "stream",
     "text": [
      "red green ['blue', 'yellow']\n"
     ]
    }
   ],
   "source": [
    "print(r ,g , x)"
   ]
  },
  {
   "cell_type": "markdown",
   "id": "90bcc5b0-582a-4776-899c-0a62c2d89199",
   "metadata": {},
   "source": [
    "### 4.13 Built in function on list and tuples"
   ]
  },
  {
   "cell_type": "code",
   "execution_count": 134,
   "id": "f0fc6296-29db-4318-bafc-1a38b20ff381",
   "metadata": {},
   "outputs": [],
   "source": [
    "L = [1, 2, 3, 4, 0, -1, -2]"
   ]
  },
  {
   "cell_type": "code",
   "execution_count": 135,
   "id": "5dccbe5a-b75e-4681-a04e-d91b9e56bdcc",
   "metadata": {},
   "outputs": [
    {
     "data": {
      "text/plain": [
       "7"
      ]
     },
     "execution_count": 135,
     "metadata": {},
     "output_type": "execute_result"
    }
   ],
   "source": [
    "sum(L)"
   ]
  },
  {
   "cell_type": "code",
   "execution_count": 136,
   "id": "8996f6bd-ceed-4ec3-a501-68fa04018151",
   "metadata": {},
   "outputs": [
    {
     "data": {
      "text/plain": [
       "4"
      ]
     },
     "execution_count": 136,
     "metadata": {},
     "output_type": "execute_result"
    }
   ],
   "source": [
    "max(L)"
   ]
  },
  {
   "cell_type": "code",
   "execution_count": 137,
   "id": "e129b4c4-a3bb-4d6b-88df-0183b42c97ed",
   "metadata": {},
   "outputs": [
    {
     "data": {
      "text/plain": [
       "-2"
      ]
     },
     "execution_count": 137,
     "metadata": {},
     "output_type": "execute_result"
    }
   ],
   "source": [
    "min(L)"
   ]
  },
  {
   "cell_type": "code",
   "execution_count": 138,
   "id": "dda5c35d-f6a6-46cd-a2cf-11203dba47bb",
   "metadata": {},
   "outputs": [
    {
     "data": {
      "text/plain": [
       "True"
      ]
     },
     "execution_count": 138,
     "metadata": {},
     "output_type": "execute_result"
    }
   ],
   "source": [
    "any(L) # Checks for at least one non-zero value in the list"
   ]
  },
  {
   "cell_type": "code",
   "execution_count": 139,
   "id": "b4413b49-8811-4412-8cd2-2cbfc89b0305",
   "metadata": {},
   "outputs": [
    {
     "data": {
      "text/plain": [
       "False"
      ]
     },
     "execution_count": 139,
     "metadata": {},
     "output_type": "execute_result"
    }
   ],
   "source": [
    "all(L) # Check if all of them are non-zero values"
   ]
  },
  {
   "cell_type": "code",
   "execution_count": 140,
   "id": "b25537d9-2974-4ec3-b381-124b14fc766c",
   "metadata": {},
   "outputs": [
    {
     "data": {
      "text/plain": [
       "[1, 2, 3, 4, 0, -1, -2]"
      ]
     },
     "execution_count": 140,
     "metadata": {},
     "output_type": "execute_result"
    }
   ],
   "source": [
    "L"
   ]
  },
  {
   "cell_type": "code",
   "execution_count": 141,
   "id": "186c3a1e-f5a3-4eb7-97d5-d5db6f84afa1",
   "metadata": {},
   "outputs": [],
   "source": [
    "L = [\"red\", \"green\", \"blue\"]"
   ]
  },
  {
   "cell_type": "code",
   "execution_count": 143,
   "id": "397ffc6c-cc12-46cf-a7d5-3122fe228b7e",
   "metadata": {},
   "outputs": [
    {
     "data": {
      "text/plain": [
       "[(0, 'red'), (1, 'green'), (2, 'blue')]"
      ]
     },
     "execution_count": 143,
     "metadata": {},
     "output_type": "execute_result"
    }
   ],
   "source": [
    "list(enumerate(L))"
   ]
  },
  {
   "cell_type": "code",
   "execution_count": 144,
   "id": "526e9f33-537d-45cc-9bc8-65b602a7beca",
   "metadata": {},
   "outputs": [
    {
     "data": {
      "text/plain": [
       "{0: 'red', 1: 'green', 2: 'blue'}"
      ]
     },
     "execution_count": 144,
     "metadata": {},
     "output_type": "execute_result"
    }
   ],
   "source": [
    "dict(enumerate(L))"
   ]
  },
  {
   "cell_type": "code",
   "execution_count": null,
   "id": "1b18aef8-868f-4db2-81ad-ccf049587d33",
   "metadata": {},
   "outputs": [],
   "source": []
  }
 ],
 "metadata": {
  "kernelspec": {
   "display_name": "Python 3 (ipykernel)",
   "language": "python",
   "name": "python3"
  },
  "language_info": {
   "codemirror_mode": {
    "name": "ipython",
    "version": 3
   },
   "file_extension": ".py",
   "mimetype": "text/x-python",
   "name": "python",
   "nbconvert_exporter": "python",
   "pygments_lexer": "ipython3",
   "version": "3.11.7"
  }
 },
 "nbformat": 4,
 "nbformat_minor": 5
}
