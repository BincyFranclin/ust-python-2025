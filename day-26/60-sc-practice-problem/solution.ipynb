{
 "cells": [
  {
   "cell_type": "code",
   "execution_count": null,
   "id": "a26240a7",
   "metadata": {},
   "outputs": [],
   "source": [
    "# Write the function to check if the two words differ by only one character"
   ]
  },
  {
   "cell_type": "code",
   "execution_count": 9,
   "id": "480871dc",
   "metadata": {},
   "outputs": [],
   "source": [
    "def charDiff(str1, str2):\n",
    "    s1 = set(str1)\n",
    "    s2 = set(str2)\n",
    "    inter = len(s1 ^ s2)\n",
    "    return True if inter == 2 else False"
   ]
  },
  {
   "cell_type": "code",
   "execution_count": 10,
   "id": "fe60b383",
   "metadata": {},
   "outputs": [
    {
     "data": {
      "text/plain": [
       "True"
      ]
     },
     "execution_count": 10,
     "metadata": {},
     "output_type": "execute_result"
    }
   ],
   "source": [
    "charDiff('cat', 'bat')"
   ]
  },
  {
   "cell_type": "code",
   "execution_count": 11,
   "id": "141912e6",
   "metadata": {},
   "outputs": [
    {
     "data": {
      "text/plain": [
       "False"
      ]
     },
     "execution_count": 11,
     "metadata": {},
     "output_type": "execute_result"
    }
   ],
   "source": [
    "charDiff('catx', 'baty')"
   ]
  },
  {
   "cell_type": "code",
   "execution_count": null,
   "id": "4ad48956",
   "metadata": {},
   "outputs": [],
   "source": [
    "# Input: beginWord = \"hit\", endWord = \"cog\", wordList = [\"hot\",\"dot\",\"dog\",\"lot\",\"log\",\"cog\"]\n",
    "# Output: [[\"hit\",\"hot\",\"dot\",\"dog\",\"cog\"],[\"hit\",\"hot\",\"lot\",\"log\",\"cog\"]]"
   ]
  },
  {
   "cell_type": "code",
   "execution_count": 12,
   "id": "0f6ca0b2",
   "metadata": {},
   "outputs": [],
   "source": [
    "beginWord = \"hit\"\n",
    "endWord = \"cog\"\n",
    "wordList = [\"hot\",\"dot\",\"dog\",\"lot\",\"log\",\"cog\"]"
   ]
  },
  {
   "cell_type": "code",
   "execution_count": 13,
   "id": "b2246a05",
   "metadata": {},
   "outputs": [],
   "source": [
    "output = [beginWord]"
   ]
  },
  {
   "cell_type": "code",
   "execution_count": 17,
   "id": "96bb5df0",
   "metadata": {},
   "outputs": [],
   "source": [
    "seq = True\n",
    "\n",
    "while len(wordList) != 0:\n",
    "    currWord = output[-1]\n",
    "    for word in wordList:\n",
    "        if charDiff(currWord, word):\n",
    "            output.append(word)\n",
    "            wordList.remove(word)"
   ]
  },
  {
   "cell_type": "code",
   "execution_count": 18,
   "id": "25a83580",
   "metadata": {},
   "outputs": [
    {
     "data": {
      "text/plain": [
       "['hit', 'hot', 'dot', 'lot', 'log', 'dog', 'cog']"
      ]
     },
     "execution_count": 18,
     "metadata": {},
     "output_type": "execute_result"
    }
   ],
   "source": [
    "output"
   ]
  },
  {
   "cell_type": "code",
   "execution_count": null,
   "id": "fde4eb85",
   "metadata": {},
   "outputs": [],
   "source": []
  }
 ],
 "metadata": {
  "kernelspec": {
   "display_name": "base",
   "language": "python",
   "name": "python3"
  },
  "language_info": {
   "codemirror_mode": {
    "name": "ipython",
    "version": 3
   },
   "file_extension": ".py",
   "mimetype": "text/x-python",
   "name": "python",
   "nbconvert_exporter": "python",
   "pygments_lexer": "ipython3",
   "version": "3.11.7"
  }
 },
 "nbformat": 4,
 "nbformat_minor": 5
}
