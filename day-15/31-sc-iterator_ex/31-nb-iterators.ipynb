{
 "cells": [
  {
   "cell_type": "markdown",
   "id": "3960e008-741b-44ac-9ed3-83baf4efb43c",
   "metadata": {},
   "source": [
    "### 31.1 Definition"
   ]
  },
  {
   "cell_type": "markdown",
   "id": "0f76a3bb-0fd8-4d79-8fb7-d9b8ea8f4c10",
   "metadata": {},
   "source": [
    "Any iterable object is called as an iterator. Important functions __iter__ and __next__"
   ]
  },
  {
   "cell_type": "code",
   "execution_count": null,
   "id": "2c600a4f-4b6c-4cd0-8a59-5da9396642e3",
   "metadata": {},
   "outputs": [],
   "source": []
  },
  {
   "cell_type": "markdown",
   "id": "3087a87f-a8a1-494c-9fd8-375c0523bac4",
   "metadata": {},
   "source": [
    "### 31.2 Creating an iterator"
   ]
  },
  {
   "cell_type": "markdown",
   "id": "2901ca33-4f6e-4612-9427-0fba96fc9fd3",
   "metadata": {},
   "source": [
    "##### Create an iterator which will produce some natural numbers"
   ]
  },
  {
   "cell_type": "code",
   "execution_count": 7,
   "id": "f5b181e6-4e12-421b-b0fd-7a36093126a1",
   "metadata": {},
   "outputs": [],
   "source": [
    "class MyNumbers:\n",
    "\n",
    "    # constructor\n",
    "    def __init__(self):\n",
    "        pass\n",
    "\n",
    "    # print()\n",
    "    def __str__(self):\n",
    "        pass\n",
    "\n",
    "    # custom representation of the objects\n",
    "    def __repr__(self):\n",
    "        pass\n",
    "\n",
    "    # iter()\n",
    "    def __iter__(self):\n",
    "        pass\n",
    "\n",
    "    # for loop -> next()\n",
    "    def __next__(self):\n",
    "        pass\n",
    "\n",
    "    "
   ]
  },
  {
   "cell_type": "code",
   "execution_count": 17,
   "id": "48def1c7-e237-48dd-bb93-3eb19a34b5e4",
   "metadata": {},
   "outputs": [],
   "source": [
    "class MyNumbers:\n",
    "\n",
    "    # constructor\n",
    "    def __init__(self, minimum, maximum):\n",
    "        self.maximum = maximum\n",
    "        self.minimum = minimum\n",
    "        self.a = minimum\n",
    "\n",
    "    # print()\n",
    "    def __str__(self):\n",
    "        return f\"MyNumbers {self.minimum} {self.maximum}\"\n",
    "\n",
    "    # custom representation of the objects\n",
    "    def __repr__(self):\n",
    "        return f\"MyClass\"\n",
    "\n",
    "    # obj <- iter(obj)\n",
    "    def __iter__(self):\n",
    "        self.a = self.minimum\n",
    "        return self\n",
    "        \n",
    "    # for loop -> next()\n",
    "    def __next__(self):\n",
    "        if self.a <= self.maximum:\n",
    "            x = self.a\n",
    "            self.a += 1\n",
    "            return x\n",
    "        else:\n",
    "            raise StopIteration"
   ]
  },
  {
   "cell_type": "code",
   "execution_count": 19,
   "id": "2bbd80c1-e873-4ef0-bef9-2b3ba86d36aa",
   "metadata": {},
   "outputs": [],
   "source": [
    "m = MyNumbers(1, 10)"
   ]
  },
  {
   "cell_type": "code",
   "execution_count": 21,
   "id": "db9c8e16-12c9-42dd-b0d5-e435bc0693cc",
   "metadata": {},
   "outputs": [
    {
     "data": {
      "text/plain": [
       "MyClass"
      ]
     },
     "execution_count": 21,
     "metadata": {},
     "output_type": "execute_result"
    }
   ],
   "source": [
    "m"
   ]
  },
  {
   "cell_type": "code",
   "execution_count": 23,
   "id": "6bce0a78-dc73-499c-b114-6c8759a55f79",
   "metadata": {},
   "outputs": [
    {
     "name": "stdout",
     "output_type": "stream",
     "text": [
      "MyNumbers 1 10\n"
     ]
    }
   ],
   "source": [
    "print(m)"
   ]
  },
  {
   "cell_type": "code",
   "execution_count": 25,
   "id": "57276444-6f4c-4cd1-a7c3-b1c115a26544",
   "metadata": {},
   "outputs": [
    {
     "name": "stdout",
     "output_type": "stream",
     "text": [
      "1\n",
      "2\n",
      "3\n",
      "4\n",
      "5\n",
      "6\n",
      "7\n",
      "8\n",
      "9\n",
      "10\n"
     ]
    }
   ],
   "source": [
    "for i in m:\n",
    "    print(i)"
   ]
  },
  {
   "cell_type": "code",
   "execution_count": 27,
   "id": "81b226a9-5f0a-413d-97e5-90952fba2290",
   "metadata": {},
   "outputs": [
    {
     "name": "stdout",
     "output_type": "stream",
     "text": [
      "1\n",
      "2\n",
      "3\n",
      "4\n",
      "5\n",
      "6\n",
      "7\n",
      "8\n",
      "9\n",
      "10\n"
     ]
    }
   ],
   "source": [
    "for i in m:\n",
    "    print(i)"
   ]
  },
  {
   "cell_type": "markdown",
   "id": "eb5da6e6-1ff5-4a49-9c45-0533e6e65b7e",
   "metadata": {},
   "source": [
    "### 31.2 Exercise"
   ]
  },
  {
   "cell_type": "markdown",
   "id": "a12140d4-c71d-47f1-a883-b25d3f5da083",
   "metadata": {},
   "source": [
    "You are developing a system that processes student attendance data weekly. \n",
    "The data is available in chunks, and your system should process the data week by week. \n",
    "You need to create a custom iterator in Python that will allow iterating through \n",
    "each week's data easily using a for loop.\n",
    "\n",
    "Each week contains a list of student names who were present that week.\n",
    "\n",
    "Write a custom iterator class WeeklyAttendance that:\n",
    "\n",
    "Accepts a list of weeks (each week is a list of names),\n",
    "\n",
    "Allows iteration over the weeks using next() or a for loop.\n",
    "\n"
   ]
  },
  {
   "cell_type": "code",
   "execution_count": 13,
   "id": "ed0cd1d1-474a-4ed3-9ec3-448f0918a31d",
   "metadata": {},
   "outputs": [],
   "source": [
    "class WeeklyAttendence:\n",
    "\n",
    "    def __init__(self, attendence_data):\n",
    "        self.attendence_data = attendence_data\n",
    "        self.index = 0\n",
    "\n",
    "    def __iter__(self):\n",
    "        self.index = 0\n",
    "        return self\n",
    "\n",
    "    def __next__(self):\n",
    "        if(self.index < len(self.attendence_data)):\n",
    "            week = self.attendence_data[self.index]\n",
    "            self.index += 1\n",
    "            return week\n",
    "        else:\n",
    "            raise StopIteration\n",
    "    "
   ]
  },
  {
   "cell_type": "code",
   "execution_count": 15,
   "id": "787ee575-2d8f-4157-ae4d-3f3bf7a14414",
   "metadata": {},
   "outputs": [],
   "source": [
    "weeks_data = [\n",
    "    [\"Alice\", \"Bob\", \"Charlie\"],\n",
    "    [\"Alice\", \"David\"],\n",
    "    [\"Eve\", \"Frank\", \"Alice\"]\n",
    "]"
   ]
  },
  {
   "cell_type": "code",
   "execution_count": 17,
   "id": "881302fc-efc8-455e-8a34-a8d87487606b",
   "metadata": {},
   "outputs": [],
   "source": [
    "attendence_iter = WeeklyAttendence(weeks_data)"
   ]
  },
  {
   "cell_type": "code",
   "execution_count": 19,
   "id": "5a09fd55-5ec5-4f87-8050-18b5db337629",
   "metadata": {},
   "outputs": [
    {
     "name": "stdout",
     "output_type": "stream",
     "text": [
      "['Alice', 'Bob', 'Charlie']\n",
      "['Alice', 'David']\n",
      "['Eve', 'Frank', 'Alice']\n"
     ]
    }
   ],
   "source": [
    "for week in attendence_iter:\n",
    "    print(week)"
   ]
  },
  {
   "cell_type": "code",
   "execution_count": 21,
   "id": "71e6e25f-89f6-418a-999c-761b16253ccd",
   "metadata": {},
   "outputs": [],
   "source": [
    "it = iter(attendence_iter)"
   ]
  },
  {
   "cell_type": "code",
   "execution_count": 23,
   "id": "c607dfeb-4517-44d5-a48c-db4e02cd7470",
   "metadata": {},
   "outputs": [
    {
     "data": {
      "text/plain": [
       "['Alice', 'Bob', 'Charlie']"
      ]
     },
     "execution_count": 23,
     "metadata": {},
     "output_type": "execute_result"
    }
   ],
   "source": [
    "next(it)"
   ]
  },
  {
   "cell_type": "code",
   "execution_count": 25,
   "id": "be88a379-3114-41ff-a1cd-cd2dc9fb365c",
   "metadata": {},
   "outputs": [
    {
     "data": {
      "text/plain": [
       "['Alice', 'David']"
      ]
     },
     "execution_count": 25,
     "metadata": {},
     "output_type": "execute_result"
    }
   ],
   "source": [
    "next(it)"
   ]
  },
  {
   "cell_type": "code",
   "execution_count": 27,
   "id": "7800322c-dc4e-4a3c-b90a-5f93849cd98a",
   "metadata": {},
   "outputs": [
    {
     "data": {
      "text/plain": [
       "['Eve', 'Frank', 'Alice']"
      ]
     },
     "execution_count": 27,
     "metadata": {},
     "output_type": "execute_result"
    }
   ],
   "source": [
    "next(it)"
   ]
  },
  {
   "cell_type": "code",
   "execution_count": 29,
   "id": "dba3d263-a934-4908-8b69-efc11adc8298",
   "metadata": {},
   "outputs": [
    {
     "ename": "StopIteration",
     "evalue": "",
     "output_type": "error",
     "traceback": [
      "\u001b[1;31m---------------------------------------------------------------------------\u001b[0m",
      "\u001b[1;31mStopIteration\u001b[0m                             Traceback (most recent call last)",
      "Cell \u001b[1;32mIn[29], line 1\u001b[0m\n\u001b[1;32m----> 1\u001b[0m \u001b[38;5;28mnext\u001b[39m(it)\n",
      "Cell \u001b[1;32mIn[13], line 17\u001b[0m, in \u001b[0;36mWeeklyAttendence.__next__\u001b[1;34m(self)\u001b[0m\n\u001b[0;32m     15\u001b[0m     \u001b[38;5;28;01mreturn\u001b[39;00m week\n\u001b[0;32m     16\u001b[0m \u001b[38;5;28;01melse\u001b[39;00m:\n\u001b[1;32m---> 17\u001b[0m     \u001b[38;5;28;01mraise\u001b[39;00m \u001b[38;5;167;01mStopIteration\u001b[39;00m\n",
      "\u001b[1;31mStopIteration\u001b[0m: "
     ]
    }
   ],
   "source": [
    "next(it)"
   ]
  },
  {
   "cell_type": "code",
   "execution_count": null,
   "id": "2f803a03-6c0d-439a-9d71-228a5a24671a",
   "metadata": {},
   "outputs": [],
   "source": []
  }
 ],
 "metadata": {
  "kernelspec": {
   "display_name": "Python 3 (ipykernel)",
   "language": "python",
   "name": "python3"
  },
  "language_info": {
   "codemirror_mode": {
    "name": "ipython",
    "version": 3
   },
   "file_extension": ".py",
   "mimetype": "text/x-python",
   "name": "python",
   "nbconvert_exporter": "python",
   "pygments_lexer": "ipython3",
   "version": "3.12.7"
  }
 },
 "nbformat": 4,
 "nbformat_minor": 5
}
