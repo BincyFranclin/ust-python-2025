{
 "cells": [
  {
   "cell_type": "markdown",
   "id": "7bd57583-1dca-459b-9492-9e3a1ae89a8e",
   "metadata": {},
   "source": [
    "### 33.1 Abstract Classes"
   ]
  },
  {
   "cell_type": "markdown",
   "id": "f7f9f936-f7f9-4ab6-9f9c-0f077cb42e87",
   "metadata": {},
   "source": [
    "##### Abstract classes are blueprints/prototypes for deriving other classes. It is the class of a class."
   ]
  },
  {
   "cell_type": "markdown",
   "id": "e838efdc-6ca4-440e-97b2-0056ee492cfd",
   "metadata": {},
   "source": [
    "They cannot be instantiated directly\n",
    "You can have abstract methods (methods with no implementation)\n",
    "    - will enforce the implementation of the function in the derived class\n"
   ]
  },
  {
   "cell_type": "code",
   "execution_count": null,
   "id": "1713fc72-0b9f-4850-a78a-f623092370ca",
   "metadata": {},
   "outputs": [],
   "source": [
    "The abc module - https://docs.python.org/3/library/abc.html \n",
    "    - ABC - Abstract Base Class\n",
    "    - @abstractmethod\n",
    "    - Abstract Property - @property + @abstractmethod\n",
    "    - @staticmethod + @abstractmethod\n",
    "    - @classmethod + @abstractmethod\n",
    "\n",
    "It helps create abstract base classes.\n",
    "Prevents instantiating incomplete classes.\n",
    "Enforces implementation of required methods in derived classes."
   ]
  },
  {
   "cell_type": "markdown",
   "id": "6d690e9b-4675-4902-a02c-30e33a56fc90",
   "metadata": {},
   "source": [
    "### 33.2 Example"
   ]
  },
  {
   "cell_type": "code",
   "execution_count": 12,
   "id": "bf59b884-ea12-4115-be82-3a757308afc0",
   "metadata": {},
   "outputs": [],
   "source": [
    "from abc import ABC, abstractmethod\n",
    "import math"
   ]
  },
  {
   "cell_type": "code",
   "execution_count": 18,
   "id": "9522830f-a2b6-49a4-a6eb-dfdbc24671ba",
   "metadata": {},
   "outputs": [],
   "source": [
    "class Shape(ABC):\n",
    "    \n",
    "    @abstractmethod\n",
    "    def area(self):\n",
    "        pass"
   ]
  },
  {
   "cell_type": "code",
   "execution_count": 20,
   "id": "be9ae02b-251a-4181-af06-1a8838a9d803",
   "metadata": {},
   "outputs": [],
   "source": [
    "class Circle(Shape):\n",
    "\n",
    "    def __init__(self, radius):\n",
    "        self.radius = radius\n",
    "        \n",
    "    def area(self):\n",
    "        return math.pi * (self.radius)**2"
   ]
  },
  {
   "cell_type": "code",
   "execution_count": 22,
   "id": "138efede-f8fc-4f53-8dbc-afed570e77d6",
   "metadata": {},
   "outputs": [],
   "source": [
    "c = Circle(5)"
   ]
  },
  {
   "cell_type": "code",
   "execution_count": 24,
   "id": "1bce5bdc-9517-46e3-96cb-396caf957195",
   "metadata": {},
   "outputs": [
    {
     "data": {
      "text/plain": [
       "78.53981633974483"
      ]
     },
     "execution_count": 24,
     "metadata": {},
     "output_type": "execute_result"
    }
   ],
   "source": [
    "c.area()"
   ]
  },
  {
   "cell_type": "code",
   "execution_count": 26,
   "id": "7b88486f-b81b-413c-bbcc-0837eb89de20",
   "metadata": {},
   "outputs": [],
   "source": [
    "class Triangle(Shape):\n",
    "\n",
    "    def __init__(self, a, b, c):\n",
    "        self.a = a\n",
    "        self.b = b\n",
    "        self.c = c\n",
    "\n",
    "    def circumference(self):\n",
    "        return a + b + c"
   ]
  },
  {
   "cell_type": "code",
   "execution_count": 28,
   "id": "3ba880e7-9c7a-433f-b560-3b2f7ecd12be",
   "metadata": {},
   "outputs": [
    {
     "ename": "TypeError",
     "evalue": "Can't instantiate abstract class Triangle without an implementation for abstract method 'area'",
     "output_type": "error",
     "traceback": [
      "\u001b[1;31m---------------------------------------------------------------------------\u001b[0m",
      "\u001b[1;31mTypeError\u001b[0m                                 Traceback (most recent call last)",
      "Cell \u001b[1;32mIn[28], line 1\u001b[0m\n\u001b[1;32m----> 1\u001b[0m t \u001b[38;5;241m=\u001b[39m Triangle(\u001b[38;5;241m1\u001b[39m, \u001b[38;5;241m2\u001b[39m, \u001b[38;5;241m3\u001b[39m)\n",
      "\u001b[1;31mTypeError\u001b[0m: Can't instantiate abstract class Triangle without an implementation for abstract method 'area'"
     ]
    }
   ],
   "source": [
    "t = Triangle(1, 2, 3)"
   ]
  },
  {
   "cell_type": "markdown",
   "id": "ad45699f-7015-44bf-9690-78125302a30f",
   "metadata": {},
   "source": [
    "What is the problem?\n",
    "The Triangle is derived from Shape.\n",
    "Shape has abstractmethod called area\n",
    "Triangle should implement area\n",
    "You are enforced to implement it"
   ]
  },
  {
   "cell_type": "markdown",
   "id": "2ca789a3-deaf-4e58-979c-6799f2567964",
   "metadata": {},
   "source": [
    "##### Abstract Property"
   ]
  },
  {
   "cell_type": "code",
   "execution_count": 32,
   "id": "868cd5db-e5d7-4062-b41a-f5001e8992fe",
   "metadata": {},
   "outputs": [],
   "source": [
    "class Shape(ABC):\n",
    "\n",
    "    @property\n",
    "    @abstractmethod\n",
    "    def area(self):\n",
    "        pass"
   ]
  },
  {
   "cell_type": "code",
   "execution_count": 40,
   "id": "180d8e27-5128-42ae-aa79-f4de2f827542",
   "metadata": {},
   "outputs": [],
   "source": [
    "class Circle(Shape):\n",
    "\n",
    "    def __init__(self, radius):\n",
    "        self.radius = radius\n",
    "\n",
    "    @property\n",
    "    def area(self):\n",
    "        return math.pi * (self.radius)**2"
   ]
  },
  {
   "cell_type": "code",
   "execution_count": 42,
   "id": "c6dd2d95-c625-42da-9b64-afcae6907854",
   "metadata": {},
   "outputs": [],
   "source": [
    "c = Circle(5)"
   ]
  },
  {
   "cell_type": "code",
   "execution_count": 44,
   "id": "0a1f79cb-0fdd-4131-9431-cef6acc94db7",
   "metadata": {},
   "outputs": [
    {
     "data": {
      "text/plain": [
       "78.53981633974483"
      ]
     },
     "execution_count": 44,
     "metadata": {},
     "output_type": "execute_result"
    }
   ],
   "source": [
    "c.area"
   ]
  },
  {
   "cell_type": "markdown",
   "id": "cded2fad-fd94-486d-a0ad-544259cec0ab",
   "metadata": {},
   "source": [
    "##### Abstract Static Method"
   ]
  },
  {
   "cell_type": "code",
   "execution_count": 47,
   "id": "9d27b882-9d91-40a2-8386-ac51eaeb32be",
   "metadata": {},
   "outputs": [
    {
     "name": "stdout",
     "output_type": "stream",
     "text": [
      "8\n"
     ]
    }
   ],
   "source": [
    "from abc import ABC, abstractmethod\n",
    "\n",
    "class Utility(ABC):\n",
    "    @staticmethod\n",
    "    @abstractmethod\n",
    "    def add(x, y):\n",
    "        pass\n",
    "\n",
    "class MathTool(Utility):\n",
    "    @staticmethod\n",
    "    def add(x, y):\n",
    "        return x + y\n",
    "\n",
    "print(MathTool.add(5, 3))"
   ]
  },
  {
   "cell_type": "markdown",
   "id": "a26661f8-ee0c-4183-ac28-116841adecc4",
   "metadata": {},
   "source": [
    "##### Abstract Class Method"
   ]
  },
  {
   "cell_type": "code",
   "execution_count": 50,
   "id": "1d953826-43e0-4754-ad5d-36214941c0e7",
   "metadata": {},
   "outputs": [
    {
     "name": "stdout",
     "output_type": "stream",
     "text": [
      "[File]: Write this to log file.\n"
     ]
    }
   ],
   "source": [
    "from abc import ABC, abstractmethod\n",
    "\n",
    "class Logger(ABC):\n",
    "    @classmethod\n",
    "    @abstractmethod\n",
    "    def log(cls, message):\n",
    "        pass\n",
    "\n",
    "class FileLogger(Logger):\n",
    "    @classmethod\n",
    "    def log(cls, message):\n",
    "        print(f\"[File]: {message}\")\n",
    "\n",
    "FileLogger.log(\"Write this to log file.\")\n"
   ]
  },
  {
   "cell_type": "code",
   "execution_count": null,
   "id": "2596eaca-5625-4eef-a7d1-637783faada2",
   "metadata": {},
   "outputs": [],
   "source": []
  }
 ],
 "metadata": {
  "kernelspec": {
   "display_name": "Python 3 (ipykernel)",
   "language": "python",
   "name": "python3"
  },
  "language_info": {
   "codemirror_mode": {
    "name": "ipython",
    "version": 3
   },
   "file_extension": ".py",
   "mimetype": "text/x-python",
   "name": "python",
   "nbconvert_exporter": "python",
   "pygments_lexer": "ipython3",
   "version": "3.12.7"
  }
 },
 "nbformat": 4,
 "nbformat_minor": 5
}
