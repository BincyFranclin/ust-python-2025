{
 "cells": [
  {
   "cell_type": "markdown",
   "id": "8f6c94c9-9790-41c6-a4ee-3ee90634f560",
   "metadata": {},
   "source": [
    "### 32.1 Definition"
   ]
  },
  {
   "cell_type": "markdown",
   "id": "311ad6bb-57a9-4e13-a2ae-55d0b5e0a1f4",
   "metadata": {},
   "source": [
    "##### User defined exception that can be processed in the exception handler - try.. except.. block"
   ]
  },
  {
   "cell_type": "code",
   "execution_count": 4,
   "id": "59556764-f864-4f06-a92d-6419b12af7bd",
   "metadata": {},
   "outputs": [],
   "source": [
    "class InvalidSalaryException(Exception):\n",
    "\n",
    "    def __init__(self, salary, message=\"Salary should be greater than 0\"):\n",
    "        self.salary = salary\n",
    "        self.message = message\n",
    "        super().__init__(self.message)\n",
    "\n",
    "    def __str__(self):\n",
    "        return f\"{self.message} -> Given: {self.salary}\""
   ]
  },
  {
   "cell_type": "code",
   "execution_count": 12,
   "id": "b01ffc19-ce04-45a5-8c75-573b29176c5f",
   "metadata": {},
   "outputs": [],
   "source": [
    "class Employee:\n",
    "\n",
    "    def __init__(self, name, company, salary):\n",
    "        if(salary <= 0):\n",
    "            raise InvalidSalaryException(salary)\n",
    "        self.salary = salary\n",
    "        self.name = name\n",
    "        self.company = company\n",
    "\n",
    "    def get_details(self):\n",
    "        return self.name, self.company, self.salary"
   ]
  },
  {
   "cell_type": "code",
   "execution_count": 14,
   "id": "92d1731a-ca24-472e-8ad5-facf9674224e",
   "metadata": {},
   "outputs": [
    {
     "data": {
      "text/plain": [
       "('Anil', 'Wipro', 1000000)"
      ]
     },
     "execution_count": 14,
     "metadata": {},
     "output_type": "execute_result"
    }
   ],
   "source": [
    "e1 = Employee(\"Anil\", \"Wipro\", 1000000)\n",
    "e1.get_details()"
   ]
  },
  {
   "cell_type": "code",
   "execution_count": 16,
   "id": "dd05cfc0-50f9-40b3-8579-a6dc28a5f3f7",
   "metadata": {},
   "outputs": [
    {
     "ename": "InvalidSalaryException",
     "evalue": "Salary should be greater than 0 -> Given: 0",
     "output_type": "error",
     "traceback": [
      "\u001b[1;31m---------------------------------------------------------------------------\u001b[0m",
      "\u001b[1;31mInvalidSalaryException\u001b[0m                    Traceback (most recent call last)",
      "Cell \u001b[1;32mIn[16], line 1\u001b[0m\n\u001b[1;32m----> 1\u001b[0m e1 \u001b[38;5;241m=\u001b[39m Employee(\u001b[38;5;124m\"\u001b[39m\u001b[38;5;124mSunil\u001b[39m\u001b[38;5;124m\"\u001b[39m, \u001b[38;5;124m\"\u001b[39m\u001b[38;5;124mWipro\u001b[39m\u001b[38;5;124m\"\u001b[39m, \u001b[38;5;241m0\u001b[39m)\n\u001b[0;32m      2\u001b[0m e1\u001b[38;5;241m.\u001b[39mget_details()\n",
      "Cell \u001b[1;32mIn[12], line 5\u001b[0m, in \u001b[0;36mEmployee.__init__\u001b[1;34m(self, name, company, salary)\u001b[0m\n\u001b[0;32m      3\u001b[0m \u001b[38;5;28;01mdef\u001b[39;00m \u001b[38;5;21m__init__\u001b[39m(\u001b[38;5;28mself\u001b[39m, name, company, salary):\n\u001b[0;32m      4\u001b[0m     \u001b[38;5;28;01mif\u001b[39;00m(salary \u001b[38;5;241m<\u001b[39m\u001b[38;5;241m=\u001b[39m \u001b[38;5;241m0\u001b[39m):\n\u001b[1;32m----> 5\u001b[0m         \u001b[38;5;28;01mraise\u001b[39;00m InvalidSalaryException(salary)\n\u001b[0;32m      6\u001b[0m     \u001b[38;5;28mself\u001b[39m\u001b[38;5;241m.\u001b[39msalary \u001b[38;5;241m=\u001b[39m salary\n\u001b[0;32m      7\u001b[0m     \u001b[38;5;28mself\u001b[39m\u001b[38;5;241m.\u001b[39mname \u001b[38;5;241m=\u001b[39m name\n",
      "\u001b[1;31mInvalidSalaryException\u001b[0m: Salary should be greater than 0 -> Given: 0"
     ]
    }
   ],
   "source": [
    "e1 = Employee(\"Sunil\", \"Wipro\", 0)\n",
    "e1.get_details()"
   ]
  },
  {
   "cell_type": "code",
   "execution_count": 18,
   "id": "604ab681-b5ba-4021-ae82-f4b533b1858d",
   "metadata": {},
   "outputs": [
    {
     "name": "stdout",
     "output_type": "stream",
     "text": [
      "Salary should be greater than 0 -> Given: 0\n"
     ]
    }
   ],
   "source": [
    "try:\n",
    "    e1 = Employee(\"Sunil\", \"Wipro\", 0)\n",
    "    e1.get_details()\n",
    "except Exception as e:\n",
    "    print(e)"
   ]
  },
  {
   "cell_type": "code",
   "execution_count": null,
   "id": "0a69bf37-6cdc-4088-ba47-b3f3b711f9a7",
   "metadata": {},
   "outputs": [],
   "source": []
  }
 ],
 "metadata": {
  "kernelspec": {
   "display_name": "Python 3 (ipykernel)",
   "language": "python",
   "name": "python3"
  },
  "language_info": {
   "codemirror_mode": {
    "name": "ipython",
    "version": 3
   },
   "file_extension": ".py",
   "mimetype": "text/x-python",
   "name": "python",
   "nbconvert_exporter": "python",
   "pygments_lexer": "ipython3",
   "version": "3.12.7"
  }
 },
 "nbformat": 4,
 "nbformat_minor": 5
}
