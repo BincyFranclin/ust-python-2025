{
 "cells": [
  {
   "cell_type": "markdown",
   "id": "b43b22f2-0ac4-4809-a814-e32b72fd6e3b",
   "metadata": {},
   "source": [
    "### 34.1 Metaclass"
   ]
  },
  {
   "cell_type": "markdown",
   "id": "0a24a6fb-64cb-418d-80f4-84b8c0f0761d",
   "metadata": {},
   "source": [
    "A metaclass is a class of a class. \n",
    "It allows you to customize class creation and behavior\n",
    "\n",
    "What are the uses of metaclasses?\n",
    "- automatically register a class\n",
    "- validating class attributes and methods\n",
    "- modify the class even before it is created\n",
    "- enforce coding standards"
   ]
  },
  {
   "cell_type": "markdown",
   "id": "e51b59f5-520a-4945-9a1d-c1b04b6c2752",
   "metadata": {},
   "source": [
    "### 34.2 Example"
   ]
  },
  {
   "cell_type": "markdown",
   "id": "9fae7a3c-1cac-4ac8-851d-d51f3b028c66",
   "metadata": {},
   "source": [
    "##### Creating a metaclass"
   ]
  },
  {
   "cell_type": "code",
   "execution_count": 19,
   "id": "634a4898-722b-4685-b7d3-3cdcab49de6e",
   "metadata": {},
   "outputs": [],
   "source": [
    "class MyMeta(type):\n",
    "\n",
    "    def __new__(cls, name, bases, dct):\n",
    "        dct['class_id'] = name.upper()\n",
    "        print('Creating a class: ')\n",
    "        print(cls)\n",
    "        print(name)\n",
    "        print(bases)\n",
    "        print(dct)\n",
    "        return super().__new__(cls, name, bases, dct)\n",
    "        "
   ]
  },
  {
   "cell_type": "markdown",
   "id": "1c853b63-8f46-489d-a9b0-97af13a9bf10",
   "metadata": {},
   "source": [
    "##### Using a metaclass"
   ]
  },
  {
   "cell_type": "code",
   "execution_count": 22,
   "id": "4173a847-f135-4958-af69-8ed158f049fa",
   "metadata": {},
   "outputs": [
    {
     "name": "stdout",
     "output_type": "stream",
     "text": [
      "Creating a class: \n",
      "<class '__main__.MyMeta'>\n",
      "MyClass\n",
      "()\n",
      "{'__module__': '__main__', '__qualname__': 'MyClass', 'greet': <function MyClass.greet at 0x000001DCB4EB6B60>, 'class_id': 'MYCLASS'}\n"
     ]
    }
   ],
   "source": [
    "class MyClass(metaclass=MyMeta):\n",
    "\n",
    "    def greet(self):\n",
    "        return f\"{self.class_id}\"\n",
    "    "
   ]
  },
  {
   "cell_type": "code",
   "execution_count": 24,
   "id": "ede72a61-4a8a-4e52-b15b-cc516478d805",
   "metadata": {},
   "outputs": [
    {
     "data": {
      "text/plain": [
       "'MYCLASS'"
      ]
     },
     "execution_count": 24,
     "metadata": {},
     "output_type": "execute_result"
    }
   ],
   "source": [
    "obj = MyClass()\n",
    "obj.greet()"
   ]
  },
  {
   "cell_type": "markdown",
   "id": "0f17e392-2ece-481a-ac54-48d1ad7227ce",
   "metadata": {},
   "source": [
    "What is __new__()?\n",
    "Special method -static method\n",
    "Creates a new instance of a class\n",
    "Gets called before the __init__\n",
    "Hence it can be used to customize the class creation itself\n",
    "Usually used when you want to control how classes are created\n",
    "Sometime you may want to inject some attributes, methods and validation logic in to the class"
   ]
  },
  {
   "cell_type": "markdown",
   "id": "ea8b8a1e-7c4d-4f15-a46f-99f24fabae27",
   "metadata": {},
   "source": [
    "Let's try to use __new__ in a normal class"
   ]
  },
  {
   "cell_type": "code",
   "execution_count": 26,
   "id": "dea88529-d3be-4e9a-ae71-8349fba59ec7",
   "metadata": {},
   "outputs": [],
   "source": [
    "class MyClass:\n",
    "\n",
    "    def __new__(cls):\n",
    "        print(\"Creating the class...\")\n",
    "        instance = super().__new__(cls)\n",
    "        return instance\n",
    "\n",
    "    def __init__(self):\n",
    "        print(\"Initialization starts...\")"
   ]
  },
  {
   "cell_type": "code",
   "execution_count": 28,
   "id": "4991fa20-a8bd-4121-8931-ef9eff93fb9d",
   "metadata": {},
   "outputs": [
    {
     "name": "stdout",
     "output_type": "stream",
     "text": [
      "Creating the class...\n",
      "Initialization starts...\n"
     ]
    }
   ],
   "source": [
    "m = MyClass()"
   ]
  },
  {
   "cell_type": "markdown",
   "id": "5b0000f6-2097-4322-bd69-bde0af5f245f",
   "metadata": {},
   "source": [
    "### 34.3 Validating Attributes using Metaclasses"
   ]
  },
  {
   "cell_type": "markdown",
   "id": "da695a1a-7f39-4fd3-9418-c2c9ad05dfe3",
   "metadata": {},
   "source": [
    "Let's say we want to make sure that the classes implement the required_attrs and it should be in the form of a list. In this case, we can create a metaclass that makes sure of this "
   ]
  },
  {
   "cell_type": "code",
   "execution_count": 43,
   "id": "6d4dfb2e-d985-41c0-a5c5-5f5838a4d0d8",
   "metadata": {},
   "outputs": [],
   "source": [
    "class ValidateAttrs(type):\n",
    "    \n",
    "    def __new__(cls, name, bases, dct):\n",
    "        if 'required_attrs' not in dct:\n",
    "            raise TypeError(f\"Class {name} should implement required_attrs\")\n",
    "        if not isinstance(dct['required_attrs'], list):\n",
    "            raise TypeError(f\"required_attrs in Class {name} should be of type list\")\n",
    "        return super().__new__(cls, name, bases, dct)"
   ]
  },
  {
   "cell_type": "code",
   "execution_count": 51,
   "id": "2442e4a2-dcb1-41aa-a5b4-cc4858f402d8",
   "metadata": {},
   "outputs": [
    {
     "ename": "TypeError",
     "evalue": "Class A should implement required_attrs",
     "output_type": "error",
     "traceback": [
      "\u001b[1;31m---------------------------------------------------------------------------\u001b[0m",
      "\u001b[1;31mTypeError\u001b[0m                                 Traceback (most recent call last)",
      "Cell \u001b[1;32mIn[51], line 2\u001b[0m\n\u001b[0;32m      1\u001b[0m \u001b[38;5;66;03m# Implementing without required_attrs: it will not even allow your to create a class\u001b[39;00m\n\u001b[1;32m----> 2\u001b[0m \u001b[38;5;28;01mclass\u001b[39;00m \u001b[38;5;21;01mA\u001b[39;00m(metaclass\u001b[38;5;241m=\u001b[39mValidateAttrs):\n\u001b[0;32m      4\u001b[0m     \u001b[38;5;28;01mdef\u001b[39;00m \u001b[38;5;21m__init__\u001b[39m(\u001b[38;5;28mself\u001b[39m):\n\u001b[0;32m      5\u001b[0m         \u001b[38;5;28mprint\u001b[39m(\u001b[38;5;124m\"\u001b[39m\u001b[38;5;124mClass created\u001b[39m\u001b[38;5;124m\"\u001b[39m)\n",
      "Cell \u001b[1;32mIn[43], line 5\u001b[0m, in \u001b[0;36mValidateAttrs.__new__\u001b[1;34m(cls, name, bases, dct)\u001b[0m\n\u001b[0;32m      3\u001b[0m \u001b[38;5;28;01mdef\u001b[39;00m \u001b[38;5;21m__new__\u001b[39m(\u001b[38;5;28mcls\u001b[39m, name, bases, dct):\n\u001b[0;32m      4\u001b[0m     \u001b[38;5;28;01mif\u001b[39;00m \u001b[38;5;124m'\u001b[39m\u001b[38;5;124mrequired_attrs\u001b[39m\u001b[38;5;124m'\u001b[39m \u001b[38;5;129;01mnot\u001b[39;00m \u001b[38;5;129;01min\u001b[39;00m dct:\n\u001b[1;32m----> 5\u001b[0m         \u001b[38;5;28;01mraise\u001b[39;00m \u001b[38;5;167;01mTypeError\u001b[39;00m(\u001b[38;5;124mf\u001b[39m\u001b[38;5;124m\"\u001b[39m\u001b[38;5;124mClass \u001b[39m\u001b[38;5;132;01m{\u001b[39;00mname\u001b[38;5;132;01m}\u001b[39;00m\u001b[38;5;124m should implement required_attrs\u001b[39m\u001b[38;5;124m\"\u001b[39m)\n\u001b[0;32m      6\u001b[0m     \u001b[38;5;28;01mif\u001b[39;00m \u001b[38;5;129;01mnot\u001b[39;00m \u001b[38;5;28misinstance\u001b[39m(dct[\u001b[38;5;124m'\u001b[39m\u001b[38;5;124mrequired_attrs\u001b[39m\u001b[38;5;124m'\u001b[39m], \u001b[38;5;28mlist\u001b[39m):\n\u001b[0;32m      7\u001b[0m         \u001b[38;5;28;01mraise\u001b[39;00m \u001b[38;5;167;01mTypeError\u001b[39;00m(\u001b[38;5;124mf\u001b[39m\u001b[38;5;124m\"\u001b[39m\u001b[38;5;124mrequired_attrs in Class \u001b[39m\u001b[38;5;132;01m{\u001b[39;00mname\u001b[38;5;132;01m}\u001b[39;00m\u001b[38;5;124m should be of type list\u001b[39m\u001b[38;5;124m\"\u001b[39m)\n",
      "\u001b[1;31mTypeError\u001b[0m: Class A should implement required_attrs"
     ]
    }
   ],
   "source": [
    "# Implementing without required_attrs: it will not even allow your to create a class\n",
    "class A(metaclass=ValidateAttrs):\n",
    "\n",
    "    def __init__(self):\n",
    "        print(\"Class created\")"
   ]
  },
  {
   "cell_type": "code",
   "execution_count": 47,
   "id": "f9823a06-82a6-4176-b77d-c0ec983ad979",
   "metadata": {},
   "outputs": [],
   "source": [
    "# With required_attrs\n",
    "class A(metaclass=ValidateAttrs):\n",
    "\n",
    "    required_attrs = [\"name\", \"email\"]\n",
    "\n",
    "    def __init__(self):\n",
    "        print(\"Class created\")"
   ]
  },
  {
   "cell_type": "markdown",
   "id": "63225c2a-3b64-4430-988f-7ee2f7b791d3",
   "metadata": {},
   "source": [
    "##### A much better class implementation with a purpose"
   ]
  },
  {
   "cell_type": "code",
   "execution_count": 66,
   "id": "51a22bbd-8832-4d01-ac97-dab412670aab",
   "metadata": {},
   "outputs": [],
   "source": [
    "class Person(metaclass=ValidateAttrs):\n",
    "\n",
    "    required_attrs = ['name', 'email']\n",
    "\n",
    "    def __init__(self, **kargs):\n",
    "\n",
    "        missing = [attr for attr in Person.required_attrs if attr not in kargs]\n",
    "        if missing:\n",
    "            raise ValueError(f\"Missing attributes: {missing}\")\n",
    "\n",
    "        for attr in Person.required_attrs:\n",
    "            setattr(self, attr, kargs[attr])"
   ]
  },
  {
   "cell_type": "code",
   "execution_count": 68,
   "id": "5df355ac-98ae-4a52-967f-09cc775c260c",
   "metadata": {},
   "outputs": [
    {
     "ename": "ValueError",
     "evalue": "Missing attributes: ['email']",
     "output_type": "error",
     "traceback": [
      "\u001b[1;31m---------------------------------------------------------------------------\u001b[0m",
      "\u001b[1;31mValueError\u001b[0m                                Traceback (most recent call last)",
      "Cell \u001b[1;32mIn[68], line 1\u001b[0m\n\u001b[1;32m----> 1\u001b[0m p \u001b[38;5;241m=\u001b[39m Person(name\u001b[38;5;241m=\u001b[39m\u001b[38;5;124m\"\u001b[39m\u001b[38;5;124mAnil\u001b[39m\u001b[38;5;124m\"\u001b[39m)\n",
      "Cell \u001b[1;32mIn[66], line 9\u001b[0m, in \u001b[0;36mPerson.__init__\u001b[1;34m(self, **kargs)\u001b[0m\n\u001b[0;32m      7\u001b[0m missing \u001b[38;5;241m=\u001b[39m [attr \u001b[38;5;28;01mfor\u001b[39;00m attr \u001b[38;5;129;01min\u001b[39;00m Person\u001b[38;5;241m.\u001b[39mrequired_attrs \u001b[38;5;28;01mif\u001b[39;00m attr \u001b[38;5;129;01mnot\u001b[39;00m \u001b[38;5;129;01min\u001b[39;00m kargs]\n\u001b[0;32m      8\u001b[0m \u001b[38;5;28;01mif\u001b[39;00m missing:\n\u001b[1;32m----> 9\u001b[0m     \u001b[38;5;28;01mraise\u001b[39;00m \u001b[38;5;167;01mValueError\u001b[39;00m(\u001b[38;5;124mf\u001b[39m\u001b[38;5;124m\"\u001b[39m\u001b[38;5;124mMissing attributes: \u001b[39m\u001b[38;5;132;01m{\u001b[39;00mmissing\u001b[38;5;132;01m}\u001b[39;00m\u001b[38;5;124m\"\u001b[39m)\n\u001b[0;32m     11\u001b[0m \u001b[38;5;28;01mfor\u001b[39;00m attr \u001b[38;5;129;01min\u001b[39;00m Person\u001b[38;5;241m.\u001b[39mrequired_attrs:\n\u001b[0;32m     12\u001b[0m     \u001b[38;5;28msetattr\u001b[39m(\u001b[38;5;28mself\u001b[39m, attr, kargs[attr])\n",
      "\u001b[1;31mValueError\u001b[0m: Missing attributes: ['email']"
     ]
    }
   ],
   "source": [
    "p = Person(name=\"Anil\")"
   ]
  },
  {
   "cell_type": "code",
   "execution_count": 70,
   "id": "bf396524-4a35-417b-86aa-6ab32676e1c9",
   "metadata": {},
   "outputs": [],
   "source": [
    "p = Person(name=\"Anil\", email=\"anil@ust.com\")"
   ]
  },
  {
   "cell_type": "code",
   "execution_count": 72,
   "id": "b5ace65b-6a09-4af7-861b-049b3912f9b6",
   "metadata": {},
   "outputs": [
    {
     "data": {
      "text/plain": [
       "<__main__.Person at 0x1dcb4fad640>"
      ]
     },
     "execution_count": 72,
     "metadata": {},
     "output_type": "execute_result"
    }
   ],
   "source": [
    "p"
   ]
  },
  {
   "cell_type": "code",
   "execution_count": null,
   "id": "9663a496-9d29-45ee-83df-8335b9a1c13e",
   "metadata": {},
   "outputs": [],
   "source": []
  }
 ],
 "metadata": {
  "kernelspec": {
   "display_name": "Python 3 (ipykernel)",
   "language": "python",
   "name": "python3"
  },
  "language_info": {
   "codemirror_mode": {
    "name": "ipython",
    "version": 3
   },
   "file_extension": ".py",
   "mimetype": "text/x-python",
   "name": "python",
   "nbconvert_exporter": "python",
   "pygments_lexer": "ipython3",
   "version": "3.12.7"
  }
 },
 "nbformat": 4,
 "nbformat_minor": 5
}
