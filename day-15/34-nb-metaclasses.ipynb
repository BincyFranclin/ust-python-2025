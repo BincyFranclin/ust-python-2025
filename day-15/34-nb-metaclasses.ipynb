{
 "cells": [
  {
   "cell_type": "markdown",
   "id": "b43b22f2-0ac4-4809-a814-e32b72fd6e3b",
   "metadata": {},
   "source": [
    "### 34.1 Metaclass"
   ]
  },
  {
   "cell_type": "markdown",
   "id": "0a24a6fb-64cb-418d-80f4-84b8c0f0761d",
   "metadata": {},
   "source": [
    "A metaclass is a class of a class. \n",
    "It allows you to customize class creation and behavior\n",
    "\n",
    "What are the uses of metaclasses?\n",
    "- automatically register a class\n",
    "- validating class attributes and methods\n",
    "- modify the class even before it is created\n",
    "- enforce coding standards"
   ]
  },
  {
   "cell_type": "markdown",
   "id": "e51b59f5-520a-4945-9a1d-c1b04b6c2752",
   "metadata": {},
   "source": [
    "### 34.2 Example"
   ]
  },
  {
   "cell_type": "markdown",
   "id": "9fae7a3c-1cac-4ac8-851d-d51f3b028c66",
   "metadata": {},
   "source": [
    "##### Creating a metaclass"
   ]
  },
  {
   "cell_type": "code",
   "execution_count": 19,
   "id": "634a4898-722b-4685-b7d3-3cdcab49de6e",
   "metadata": {},
   "outputs": [],
   "source": [
    "class MyMeta(type):\n",
    "\n",
    "    def __new__(cls, name, bases, dct):\n",
    "        dct['class_id'] = name.upper()\n",
    "        print('Creating a class: ')\n",
    "        print(cls)\n",
    "        print(name)\n",
    "        print(bases)\n",
    "        print(dct)\n",
    "        return super().__new__(cls, name, bases, dct)\n",
    "        "
   ]
  },
  {
   "cell_type": "markdown",
   "id": "1c853b63-8f46-489d-a9b0-97af13a9bf10",
   "metadata": {},
   "source": [
    "##### Using a metaclass"
   ]
  },
  {
   "cell_type": "code",
   "execution_count": 22,
   "id": "4173a847-f135-4958-af69-8ed158f049fa",
   "metadata": {},
   "outputs": [
    {
     "name": "stdout",
     "output_type": "stream",
     "text": [
      "Creating a class: \n",
      "<class '__main__.MyMeta'>\n",
      "MyClass\n",
      "()\n",
      "{'__module__': '__main__', '__qualname__': 'MyClass', 'greet': <function MyClass.greet at 0x000001DCB4EB6B60>, 'class_id': 'MYCLASS'}\n"
     ]
    }
   ],
   "source": [
    "class MyClass(metaclass=MyMeta):\n",
    "\n",
    "    def greet(self):\n",
    "        return f\"{self.class_id}\"\n",
    "    "
   ]
  },
  {
   "cell_type": "code",
   "execution_count": 24,
   "id": "ede72a61-4a8a-4e52-b15b-cc516478d805",
   "metadata": {},
   "outputs": [
    {
     "data": {
      "text/plain": [
       "'MYCLASS'"
      ]
     },
     "execution_count": 24,
     "metadata": {},
     "output_type": "execute_result"
    }
   ],
   "source": [
    "obj = MyClass()\n",
    "obj.greet()"
   ]
  },
  {
   "cell_type": "markdown",
   "id": "0f17e392-2ece-481a-ac54-48d1ad7227ce",
   "metadata": {},
   "source": [
    "What is __new__()?\n",
    "Special method -static method\n",
    "Creates a new instance of a class\n",
    "Gets called before the __init__\n",
    "Hence it can be used to customize the class creation itself\n",
    "Usually used when you want to control how classes are created\n",
    "Sometime you may want to inject some attributes, methods and validation logic in to the class"
   ]
  },
  {
   "cell_type": "markdown",
   "id": "ea8b8a1e-7c4d-4f15-a46f-99f24fabae27",
   "metadata": {},
   "source": [
    "Let's try to use __new__ in a normal class"
   ]
  },
  {
   "cell_type": "code",
   "execution_count": 26,
   "id": "dea88529-d3be-4e9a-ae71-8349fba59ec7",
   "metadata": {},
   "outputs": [],
   "source": [
    "class MyClass:\n",
    "\n",
    "    def __new__(cls):\n",
    "        print(\"Creating the class...\")\n",
    "        instance = super().__new__(cls)\n",
    "        return instance\n",
    "\n",
    "    def __init__(self):\n",
    "        print(\"Initialization starts...\")"
   ]
  },
  {
   "cell_type": "code",
   "execution_count": 28,
   "id": "4991fa20-a8bd-4121-8931-ef9eff93fb9d",
   "metadata": {},
   "outputs": [
    {
     "name": "stdout",
     "output_type": "stream",
     "text": [
      "Creating the class...\n",
      "Initialization starts...\n"
     ]
    }
   ],
   "source": [
    "m = MyClass()"
   ]
  },
  {
   "cell_type": "markdown",
   "id": "5b0000f6-2097-4322-bd69-bde0af5f245f",
   "metadata": {},
   "source": [
    "### 34.3 Validating Attributes using Metaclasses"
   ]
  },
  {
   "cell_type": "markdown",
   "id": "da695a1a-7f39-4fd3-9418-c2c9ad05dfe3",
   "metadata": {},
   "source": [
    "Let's say we want to make sure that the classes implement the required_attrs and it should be in the form of a list. In this case, we can create a metaclass that makes sure of this "
   ]
  },
  {
   "cell_type": "code",
   "execution_count": 43,
   "id": "6d4dfb2e-d985-41c0-a5c5-5f5838a4d0d8",
   "metadata": {},
   "outputs": [],
   "source": [
    "class ValidateAttrs(type):\n",
    "    \n",
    "    def __new__(cls, name, bases, dct):\n",
    "        if 'required_attrs' not in dct:\n",
    "            raise TypeError(f\"Class {name} should implement required_attrs\")\n",
    "        if not isinstance(dct['required_attrs'], list):\n",
    "            raise TypeError(f\"required_attrs in Class {name} should be of type list\")\n",
    "        return super().__new__(cls, name, bases, dct)"
   ]
  },
  {
   "cell_type": "code",
   "execution_count": 51,
   "id": "2442e4a2-dcb1-41aa-a5b4-cc4858f402d8",
   "metadata": {},
   "outputs": [
    {
     "ename": "TypeError",
     "evalue": "Class A should implement required_attrs",
     "output_type": "error",
     "traceback": [
      "\u001b[1;31m---------------------------------------------------------------------------\u001b[0m",
      "\u001b[1;31mTypeError\u001b[0m                                 Traceback (most recent call last)",
      "Cell \u001b[1;32mIn[51], line 2\u001b[0m\n\u001b[0;32m      1\u001b[0m \u001b[38;5;66;03m# Implementing without required_attrs: it will not even allow your to create a class\u001b[39;00m\n\u001b[1;32m----> 2\u001b[0m \u001b[38;5;28;01mclass\u001b[39;00m \u001b[38;5;21;01mA\u001b[39;00m(metaclass\u001b[38;5;241m=\u001b[39mValidateAttrs):\n\u001b[0;32m      4\u001b[0m     \u001b[38;5;28;01mdef\u001b[39;00m \u001b[38;5;21m__init__\u001b[39m(\u001b[38;5;28mself\u001b[39m):\n\u001b[0;32m      5\u001b[0m         \u001b[38;5;28mprint\u001b[39m(\u001b[38;5;124m\"\u001b[39m\u001b[38;5;124mClass created\u001b[39m\u001b[38;5;124m\"\u001b[39m)\n",
      "Cell \u001b[1;32mIn[43], line 5\u001b[0m, in \u001b[0;36mValidateAttrs.__new__\u001b[1;34m(cls, name, bases, dct)\u001b[0m\n\u001b[0;32m      3\u001b[0m \u001b[38;5;28;01mdef\u001b[39;00m \u001b[38;5;21m__new__\u001b[39m(\u001b[38;5;28mcls\u001b[39m, name, bases, dct):\n\u001b[0;32m      4\u001b[0m     \u001b[38;5;28;01mif\u001b[39;00m \u001b[38;5;124m'\u001b[39m\u001b[38;5;124mrequired_attrs\u001b[39m\u001b[38;5;124m'\u001b[39m \u001b[38;5;129;01mnot\u001b[39;00m \u001b[38;5;129;01min\u001b[39;00m dct:\n\u001b[1;32m----> 5\u001b[0m         \u001b[38;5;28;01mraise\u001b[39;00m \u001b[38;5;167;01mTypeError\u001b[39;00m(\u001b[38;5;124mf\u001b[39m\u001b[38;5;124m\"\u001b[39m\u001b[38;5;124mClass \u001b[39m\u001b[38;5;132;01m{\u001b[39;00mname\u001b[38;5;132;01m}\u001b[39;00m\u001b[38;5;124m should implement required_attrs\u001b[39m\u001b[38;5;124m\"\u001b[39m)\n\u001b[0;32m      6\u001b[0m     \u001b[38;5;28;01mif\u001b[39;00m \u001b[38;5;129;01mnot\u001b[39;00m \u001b[38;5;28misinstance\u001b[39m(dct[\u001b[38;5;124m'\u001b[39m\u001b[38;5;124mrequired_attrs\u001b[39m\u001b[38;5;124m'\u001b[39m], \u001b[38;5;28mlist\u001b[39m):\n\u001b[0;32m      7\u001b[0m         \u001b[38;5;28;01mraise\u001b[39;00m \u001b[38;5;167;01mTypeError\u001b[39;00m(\u001b[38;5;124mf\u001b[39m\u001b[38;5;124m\"\u001b[39m\u001b[38;5;124mrequired_attrs in Class \u001b[39m\u001b[38;5;132;01m{\u001b[39;00mname\u001b[38;5;132;01m}\u001b[39;00m\u001b[38;5;124m should be of type list\u001b[39m\u001b[38;5;124m\"\u001b[39m)\n",
      "\u001b[1;31mTypeError\u001b[0m: Class A should implement required_attrs"
     ]
    }
   ],
   "source": [
    "# Implementing without required_attrs: it will not even allow your to create a class\n",
    "class A(metaclass=ValidateAttrs):\n",
    "\n",
    "    def __init__(self):\n",
    "        print(\"Class created\")"
   ]
  },
  {
   "cell_type": "code",
   "execution_count": 47,
   "id": "f9823a06-82a6-4176-b77d-c0ec983ad979",
   "metadata": {},
   "outputs": [],
   "source": [
    "# With required_attrs\n",
    "class A(metaclass=ValidateAttrs):\n",
    "\n",
    "    required_attrs = [\"name\", \"email\"]\n",
    "\n",
    "    def __init__(self):\n",
    "        print(\"Class created\")"
   ]
  },
  {
   "cell_type": "markdown",
   "id": "63225c2a-3b64-4430-988f-7ee2f7b791d3",
   "metadata": {},
   "source": [
    "##### A much better class implementation with a purpose"
   ]
  },
  {
   "cell_type": "code",
   "execution_count": 96,
   "id": "51a22bbd-8832-4d01-ac97-dab412670aab",
   "metadata": {},
   "outputs": [],
   "source": [
    "class Person(metaclass=ValidateAttrs):\n",
    "\n",
    "    required_attrs = ['name', 'email']\n",
    "\n",
    "    def __init__(self, **kargs):\n",
    "\n",
    "        missing = [attr for attr in Person.required_attrs if attr not in kargs]\n",
    "        if missing:\n",
    "            raise ValueError(f\"Missing attributes: {missing}\")\n",
    "\n",
    "        for key, value in dict(kargs).items():\n",
    "            setattr(self, key, value)"
   ]
  },
  {
   "cell_type": "code",
   "execution_count": 98,
   "id": "5df355ac-98ae-4a52-967f-09cc775c260c",
   "metadata": {},
   "outputs": [
    {
     "ename": "ValueError",
     "evalue": "Missing attributes: ['email']",
     "output_type": "error",
     "traceback": [
      "\u001b[1;31m---------------------------------------------------------------------------\u001b[0m",
      "\u001b[1;31mValueError\u001b[0m                                Traceback (most recent call last)",
      "Cell \u001b[1;32mIn[98], line 1\u001b[0m\n\u001b[1;32m----> 1\u001b[0m p \u001b[38;5;241m=\u001b[39m Person(name\u001b[38;5;241m=\u001b[39m\u001b[38;5;124m\"\u001b[39m\u001b[38;5;124mAnil\u001b[39m\u001b[38;5;124m\"\u001b[39m)\n",
      "Cell \u001b[1;32mIn[96], line 9\u001b[0m, in \u001b[0;36mPerson.__init__\u001b[1;34m(self, **kargs)\u001b[0m\n\u001b[0;32m      7\u001b[0m missing \u001b[38;5;241m=\u001b[39m [attr \u001b[38;5;28;01mfor\u001b[39;00m attr \u001b[38;5;129;01min\u001b[39;00m Person\u001b[38;5;241m.\u001b[39mrequired_attrs \u001b[38;5;28;01mif\u001b[39;00m attr \u001b[38;5;129;01mnot\u001b[39;00m \u001b[38;5;129;01min\u001b[39;00m kargs]\n\u001b[0;32m      8\u001b[0m \u001b[38;5;28;01mif\u001b[39;00m missing:\n\u001b[1;32m----> 9\u001b[0m     \u001b[38;5;28;01mraise\u001b[39;00m \u001b[38;5;167;01mValueError\u001b[39;00m(\u001b[38;5;124mf\u001b[39m\u001b[38;5;124m\"\u001b[39m\u001b[38;5;124mMissing attributes: \u001b[39m\u001b[38;5;132;01m{\u001b[39;00mmissing\u001b[38;5;132;01m}\u001b[39;00m\u001b[38;5;124m\"\u001b[39m)\n\u001b[0;32m     11\u001b[0m \u001b[38;5;28;01mfor\u001b[39;00m key, value \u001b[38;5;129;01min\u001b[39;00m \u001b[38;5;28mdict\u001b[39m(kargs)\u001b[38;5;241m.\u001b[39mitems():\n\u001b[0;32m     12\u001b[0m     \u001b[38;5;28msetattr\u001b[39m(\u001b[38;5;28mself\u001b[39m, key, value)\n",
      "\u001b[1;31mValueError\u001b[0m: Missing attributes: ['email']"
     ]
    }
   ],
   "source": [
    "p = Person(name=\"Anil\")"
   ]
  },
  {
   "cell_type": "code",
   "execution_count": 100,
   "id": "bf396524-4a35-417b-86aa-6ab32676e1c9",
   "metadata": {},
   "outputs": [],
   "source": [
    "p = Person(name=\"Anil\", email=\"anil@ust.com\")"
   ]
  },
  {
   "cell_type": "code",
   "execution_count": 102,
   "id": "b5ace65b-6a09-4af7-861b-049b3912f9b6",
   "metadata": {},
   "outputs": [
    {
     "data": {
      "text/plain": [
       "<__main__.Person at 0x1dcb5d2c230>"
      ]
     },
     "execution_count": 102,
     "metadata": {},
     "output_type": "execute_result"
    }
   ],
   "source": [
    "p"
   ]
  },
  {
   "cell_type": "markdown",
   "id": "88ba5fc2-bd98-4248-8cad-2fed2f7bfc6c",
   "metadata": {},
   "source": [
    "##### The locals() Function"
   ]
  },
  {
   "cell_type": "code",
   "execution_count": 136,
   "id": "50ab5552-da5e-44c0-bb75-ac7369fb1bfb",
   "metadata": {},
   "outputs": [],
   "source": [
    "class Person(metaclass=ValidateAttrs):\n",
    "\n",
    "    required_attrs = ['name', 'email']\n",
    "\n",
    "    def __init__(self, **kargs):\n",
    "\n",
    "        print('LOCALS: ', locals())\n",
    "        \n",
    "        missing = [attr for attr in Person.required_attrs if attr not in kargs]\n",
    "        if missing:\n",
    "            raise ValueError(f\"Missing attributes: {missing}\")\n",
    "\n",
    "        for key, value in dict(kargs).items():\n",
    "            setattr(self, key, value)"
   ]
  },
  {
   "cell_type": "code",
   "execution_count": 138,
   "id": "8bc38770-5165-41b8-9c47-a9f1d58f454c",
   "metadata": {},
   "outputs": [
    {
     "name": "stdout",
     "output_type": "stream",
     "text": [
      "LOCALS:  {'self': <__main__.Person object at 0x000001DCB5D8EE10>, 'kargs': {'name': 'Anil', 'email': 'anil@ust.com'}}\n"
     ]
    }
   ],
   "source": [
    "p = Person(name=\"Anil\", email=\"anil@ust.com\")"
   ]
  },
  {
   "cell_type": "markdown",
   "id": "8c0ae7e1-df77-4cf7-b88e-3c3ca3c47f8e",
   "metadata": {},
   "source": [
    "### 34.4 Getting attributes of an object"
   ]
  },
  {
   "cell_type": "code",
   "execution_count": 104,
   "id": "8876a6b8-8af0-4607-9881-910ecee38b79",
   "metadata": {},
   "outputs": [
    {
     "data": {
      "text/plain": [
       "['__class__',\n",
       " '__delattr__',\n",
       " '__dict__',\n",
       " '__dir__',\n",
       " '__doc__',\n",
       " '__eq__',\n",
       " '__format__',\n",
       " '__ge__',\n",
       " '__getattribute__',\n",
       " '__getstate__',\n",
       " '__gt__',\n",
       " '__hash__',\n",
       " '__init__',\n",
       " '__init_subclass__',\n",
       " '__le__',\n",
       " '__lt__',\n",
       " '__module__',\n",
       " '__ne__',\n",
       " '__new__',\n",
       " '__reduce__',\n",
       " '__reduce_ex__',\n",
       " '__repr__',\n",
       " '__setattr__',\n",
       " '__sizeof__',\n",
       " '__str__',\n",
       " '__subclasshook__',\n",
       " '__weakref__',\n",
       " 'email',\n",
       " 'name',\n",
       " 'required_attrs']"
      ]
     },
     "execution_count": 104,
     "metadata": {},
     "output_type": "execute_result"
    }
   ],
   "source": [
    "dir(p)"
   ]
  },
  {
   "cell_type": "code",
   "execution_count": 106,
   "id": "4efac37f-8cb6-4605-b3bd-3a9383da96dc",
   "metadata": {},
   "outputs": [
    {
     "data": {
      "text/plain": [
       "{'name': 'Anil', 'email': 'anil@ust.com'}"
      ]
     },
     "execution_count": 106,
     "metadata": {},
     "output_type": "execute_result"
    }
   ],
   "source": [
    "p.__dict__"
   ]
  },
  {
   "cell_type": "code",
   "execution_count": 108,
   "id": "3ea43000-303c-429f-b2ed-c1cafda6c2cd",
   "metadata": {},
   "outputs": [],
   "source": [
    "p1 = Person(name=\"Sunil\", email=\"sunil@ust.com\", salary=\"1000000 INR\", location=\"Mumbai\")"
   ]
  },
  {
   "cell_type": "code",
   "execution_count": 110,
   "id": "2564c6c7-ee7e-4d7f-8ab1-62c1f13ad993",
   "metadata": {},
   "outputs": [
    {
     "data": {
      "text/plain": [
       "['__class__',\n",
       " '__delattr__',\n",
       " '__dict__',\n",
       " '__dir__',\n",
       " '__doc__',\n",
       " '__eq__',\n",
       " '__format__',\n",
       " '__ge__',\n",
       " '__getattribute__',\n",
       " '__getstate__',\n",
       " '__gt__',\n",
       " '__hash__',\n",
       " '__init__',\n",
       " '__init_subclass__',\n",
       " '__le__',\n",
       " '__lt__',\n",
       " '__module__',\n",
       " '__ne__',\n",
       " '__new__',\n",
       " '__reduce__',\n",
       " '__reduce_ex__',\n",
       " '__repr__',\n",
       " '__setattr__',\n",
       " '__sizeof__',\n",
       " '__str__',\n",
       " '__subclasshook__',\n",
       " '__weakref__',\n",
       " 'email',\n",
       " 'location',\n",
       " 'name',\n",
       " 'required_attrs',\n",
       " 'salary']"
      ]
     },
     "execution_count": 110,
     "metadata": {},
     "output_type": "execute_result"
    }
   ],
   "source": [
    "dir(p1)"
   ]
  },
  {
   "cell_type": "code",
   "execution_count": 114,
   "id": "c6cad6b4-b378-4b81-9662-5c2018d94c39",
   "metadata": {},
   "outputs": [
    {
     "data": {
      "text/plain": [
       "('1000000 INR', 'Mumbai')"
      ]
     },
     "execution_count": 114,
     "metadata": {},
     "output_type": "execute_result"
    }
   ],
   "source": [
    "p1.salary, p1.location"
   ]
  },
  {
   "cell_type": "code",
   "execution_count": 116,
   "id": "87f2b0f2-ecb7-4138-b028-8a18a19f40bf",
   "metadata": {},
   "outputs": [
    {
     "data": {
      "text/plain": [
       "{'name': 'Sunil',\n",
       " 'email': 'sunil@ust.com',\n",
       " 'salary': '1000000 INR',\n",
       " 'location': 'Mumbai'}"
      ]
     },
     "execution_count": 116,
     "metadata": {},
     "output_type": "execute_result"
    }
   ],
   "source": [
    "p1.__dict__"
   ]
  },
  {
   "cell_type": "markdown",
   "id": "8f7b8f8f-b604-434f-8338-cf8dae632773",
   "metadata": {},
   "source": [
    "### 34.5 Problem Statement"
   ]
  },
  {
   "cell_type": "markdown",
   "id": "ce8d231e-4c94-4136-8e2b-db7b66da299a",
   "metadata": {},
   "source": [
    "Create a metaclass called EnforceFieldTypes that ensures any class using it must define a dictionary called field_types. This dictionary maps attribute names to their expected types (e.g., {\"name\": str, \"age\": int}).\n",
    "\n",
    "The metaclass should inject a custom __init__ method into the class that:\n",
    "\n",
    "    Accepts keyword arguments for all fields in field_types.\n",
    "    Validates that each provided argument matches the expected type.\n",
    "    Raises a TypeError if a field is missing or if the value type is incorrect.\n",
    "\n",
    "Use this metaclass to implement a Student class."
   ]
  },
  {
   "cell_type": "markdown",
   "id": "ecfadee3-8618-47ba-933a-3aad7fcaddf2",
   "metadata": {},
   "source": [
    "#### Without injection of __init__"
   ]
  },
  {
   "cell_type": "code",
   "execution_count": 124,
   "id": "4dec3642-7b30-4aed-94f5-3a658a19059f",
   "metadata": {},
   "outputs": [],
   "source": [
    "# Meta Class\n",
    "class EnforceFieldTypes(type):\n",
    "\n",
    "    def __new__(cls, name, bases, dct):\n",
    "\n",
    "        # Extract field_types\n",
    "        field_types = dct.get('field_types') # dct['field_types']\n",
    "         \n",
    "        # Validate the field_types\n",
    "        if not isinstance(field_types, dict):\n",
    "            raise TypeError(f\"Class '{name}' must define 'field_types' dictionary\")\n",
    "\n",
    "        # We will also enforce __init__ to be defined in the class\n",
    "        if '__init__' not in dct:\n",
    "            raise TypeError(f\"Class '{name}' must define '__init__' function\")\n",
    "\n",
    "        return super().__new__(cls, name, bases, dct)"
   ]
  },
  {
   "cell_type": "code",
   "execution_count": 126,
   "id": "a2954843-7f7f-4ae4-93a1-46d77ac6e1c3",
   "metadata": {},
   "outputs": [
    {
     "ename": "TypeError",
     "evalue": "Class 'A' must define 'field_types' dictionary",
     "output_type": "error",
     "traceback": [
      "\u001b[1;31m---------------------------------------------------------------------------\u001b[0m",
      "\u001b[1;31mTypeError\u001b[0m                                 Traceback (most recent call last)",
      "Cell \u001b[1;32mIn[126], line 1\u001b[0m\n\u001b[1;32m----> 1\u001b[0m \u001b[38;5;28;01mclass\u001b[39;00m \u001b[38;5;21;01mA\u001b[39;00m(metaclass\u001b[38;5;241m=\u001b[39mEnforceFieldTypes):\n\u001b[0;32m      3\u001b[0m     \u001b[38;5;28;01mdef\u001b[39;00m \u001b[38;5;21mprint\u001b[39m(\u001b[38;5;28mself\u001b[39m):\n\u001b[0;32m      4\u001b[0m         \u001b[38;5;28mprint\u001b[39m(\u001b[38;5;124m\"\u001b[39m\u001b[38;5;124mThis is a class\u001b[39m\u001b[38;5;124m\"\u001b[39m)\n",
      "Cell \u001b[1;32mIn[124], line 11\u001b[0m, in \u001b[0;36mEnforceFieldTypes.__new__\u001b[1;34m(cls, name, bases, dct)\u001b[0m\n\u001b[0;32m      9\u001b[0m \u001b[38;5;66;03m# Validate the field_types\u001b[39;00m\n\u001b[0;32m     10\u001b[0m \u001b[38;5;28;01mif\u001b[39;00m \u001b[38;5;129;01mnot\u001b[39;00m \u001b[38;5;28misinstance\u001b[39m(field_types, \u001b[38;5;28mdict\u001b[39m):\n\u001b[1;32m---> 11\u001b[0m     \u001b[38;5;28;01mraise\u001b[39;00m \u001b[38;5;167;01mTypeError\u001b[39;00m(\u001b[38;5;124mf\u001b[39m\u001b[38;5;124m\"\u001b[39m\u001b[38;5;124mClass \u001b[39m\u001b[38;5;124m'\u001b[39m\u001b[38;5;132;01m{\u001b[39;00mname\u001b[38;5;132;01m}\u001b[39;00m\u001b[38;5;124m'\u001b[39m\u001b[38;5;124m must define \u001b[39m\u001b[38;5;124m'\u001b[39m\u001b[38;5;124mfield_types\u001b[39m\u001b[38;5;124m'\u001b[39m\u001b[38;5;124m dictionary\u001b[39m\u001b[38;5;124m\"\u001b[39m)\n\u001b[0;32m     13\u001b[0m \u001b[38;5;66;03m# We will also enforce __init__ to be defined in the class\u001b[39;00m\n\u001b[0;32m     14\u001b[0m \u001b[38;5;28;01mif\u001b[39;00m \u001b[38;5;124m'\u001b[39m\u001b[38;5;124m__init__\u001b[39m\u001b[38;5;124m'\u001b[39m \u001b[38;5;129;01mnot\u001b[39;00m \u001b[38;5;129;01min\u001b[39;00m dct:\n",
      "\u001b[1;31mTypeError\u001b[0m: Class 'A' must define 'field_types' dictionary"
     ]
    }
   ],
   "source": [
    "class A(metaclass=EnforceFieldTypes):\n",
    "\n",
    "    def print(self):\n",
    "        print(\"This is a class\")"
   ]
  },
  {
   "cell_type": "code",
   "execution_count": 129,
   "id": "e145f72f-5308-4f33-b7b0-1a0240be230f",
   "metadata": {},
   "outputs": [
    {
     "ename": "TypeError",
     "evalue": "Class 'A' must define '__init__' function",
     "output_type": "error",
     "traceback": [
      "\u001b[1;31m---------------------------------------------------------------------------\u001b[0m",
      "\u001b[1;31mTypeError\u001b[0m                                 Traceback (most recent call last)",
      "Cell \u001b[1;32mIn[129], line 1\u001b[0m\n\u001b[1;32m----> 1\u001b[0m \u001b[38;5;28;01mclass\u001b[39;00m \u001b[38;5;21;01mA\u001b[39;00m(metaclass\u001b[38;5;241m=\u001b[39mEnforceFieldTypes):\n\u001b[0;32m      3\u001b[0m     field_types \u001b[38;5;241m=\u001b[39m {\u001b[38;5;124m'\u001b[39m\u001b[38;5;124mname\u001b[39m\u001b[38;5;124m'\u001b[39m:\u001b[38;5;28mstr\u001b[39m, \u001b[38;5;124m'\u001b[39m\u001b[38;5;124mage\u001b[39m\u001b[38;5;124m'\u001b[39m:\u001b[38;5;28mint\u001b[39m}\n\u001b[0;32m      5\u001b[0m     \u001b[38;5;28;01mdef\u001b[39;00m \u001b[38;5;21mprint\u001b[39m(\u001b[38;5;28mself\u001b[39m):\n",
      "Cell \u001b[1;32mIn[124], line 15\u001b[0m, in \u001b[0;36mEnforceFieldTypes.__new__\u001b[1;34m(cls, name, bases, dct)\u001b[0m\n\u001b[0;32m     13\u001b[0m \u001b[38;5;66;03m# We will also enforce __init__ to be defined in the class\u001b[39;00m\n\u001b[0;32m     14\u001b[0m \u001b[38;5;28;01mif\u001b[39;00m \u001b[38;5;124m'\u001b[39m\u001b[38;5;124m__init__\u001b[39m\u001b[38;5;124m'\u001b[39m \u001b[38;5;129;01mnot\u001b[39;00m \u001b[38;5;129;01min\u001b[39;00m dct:\n\u001b[1;32m---> 15\u001b[0m     \u001b[38;5;28;01mraise\u001b[39;00m \u001b[38;5;167;01mTypeError\u001b[39;00m(\u001b[38;5;124mf\u001b[39m\u001b[38;5;124m\"\u001b[39m\u001b[38;5;124mClass \u001b[39m\u001b[38;5;124m'\u001b[39m\u001b[38;5;132;01m{\u001b[39;00mname\u001b[38;5;132;01m}\u001b[39;00m\u001b[38;5;124m'\u001b[39m\u001b[38;5;124m must define \u001b[39m\u001b[38;5;124m'\u001b[39m\u001b[38;5;124m__init__\u001b[39m\u001b[38;5;124m'\u001b[39m\u001b[38;5;124m function\u001b[39m\u001b[38;5;124m\"\u001b[39m)\n\u001b[0;32m     17\u001b[0m \u001b[38;5;28;01mreturn\u001b[39;00m \u001b[38;5;28msuper\u001b[39m()\u001b[38;5;241m.\u001b[39m\u001b[38;5;21m__new__\u001b[39m(\u001b[38;5;28mcls\u001b[39m, name, bases, dct)\n",
      "\u001b[1;31mTypeError\u001b[0m: Class 'A' must define '__init__' function"
     ]
    }
   ],
   "source": [
    "# Let's add the field_types\n",
    "class A(metaclass=EnforceFieldTypes):\n",
    "\n",
    "    field_types = {'name':str, 'age':int}\n",
    "\n",
    "    def print(self):\n",
    "        print(\"This is a class\")"
   ]
  },
  {
   "cell_type": "code",
   "execution_count": 131,
   "id": "16b74337-674e-4fa3-89ec-5cda0682f76a",
   "metadata": {},
   "outputs": [],
   "source": [
    "# Let's add the __init__()\n",
    "class A(metaclass=EnforceFieldTypes):\n",
    "\n",
    "    field_types = {'name':str, 'age':int}\n",
    "\n",
    "    def __init__(self):\n",
    "        self.name = \"Anil\"\n",
    "\n",
    "    def print(self):\n",
    "        print(\"This is a class\")"
   ]
  },
  {
   "cell_type": "markdown",
   "id": "6d102b20-227f-4045-9322-8e8ebe885cd3",
   "metadata": {},
   "source": [
    "The above doesn't give an error"
   ]
  },
  {
   "cell_type": "markdown",
   "id": "c43dea5a-2157-4320-bd23-de0a4628e5a7",
   "metadata": {},
   "source": [
    "##### Let's develop the Student class now"
   ]
  },
  {
   "cell_type": "code",
   "execution_count": 152,
   "id": "89c2b173-a373-4b47-b165-6b284c452e6e",
   "metadata": {},
   "outputs": [],
   "source": [
    "class Student(metaclass=EnforceFieldTypes):\n",
    "\n",
    "    field_types = {\n",
    "        \"name\"  : str,\n",
    "        \"age\"   : int,\n",
    "        \"gpa\"   : float,\n",
    "        \"major\" : str\n",
    "    }\n",
    "\n",
    "    def __init__(self, name, age, gpa, major):\n",
    "        print(locals()) # locals() returns a dictionary of the arguemnts that are passed\n",
    "        "
   ]
  },
  {
   "cell_type": "code",
   "execution_count": 154,
   "id": "a2cee070-6506-475c-b23e-838daae48d3b",
   "metadata": {},
   "outputs": [
    {
     "name": "stdout",
     "output_type": "stream",
     "text": [
      "{'self': <__main__.Student object at 0x000001DCB67163F0>, 'name': 'Ram', 'age': 21, 'gpa': 9, 'major': 'AI'}\n"
     ]
    }
   ],
   "source": [
    "s = Student(name='Ram', age=21, gpa=9, major='AI')"
   ]
  },
  {
   "cell_type": "code",
   "execution_count": 164,
   "id": "3205e3bb-af77-4544-8c8f-c930d95ff93f",
   "metadata": {},
   "outputs": [],
   "source": [
    "class Student(metaclass=EnforceFieldTypes):\n",
    "\n",
    "    field_types = {\n",
    "        \"name\"  : str,\n",
    "        \"age\"   : int,\n",
    "        \"gpa\"   : float,\n",
    "        \"major\" : str\n",
    "    }\n",
    "\n",
    "    # The question is how do I inject this section from the metaclass\n",
    "    def __init__(self, name, age, gpa, major):\n",
    "        for field, expected_type in self.field_types.items():\n",
    "            value = locals()[field]\n",
    "            print(value, field, locals()[field])\n",
    "            if not isinstance(value, expected_type):\n",
    "                raise TypeError(f\"{field} must of type {expected_type}\")\n",
    "            setattr(self, field, value)\n",
    "\n",
    "    def get_details(self):\n",
    "        return self.name, self.age, self.gpa, self.major\n",
    "\n",
    "    def is_honors(self):\n",
    "        return self.gpa >= 3.5\n",
    "\n",
    "    def update_gpa(self, new_gpa):\n",
    "        if not isinstance(new_gpa, float):\n",
    "            raise TypeError(\"GPA must be a float\")\n",
    "        elif not (0.0 <= new_gpa <= 4.0):\n",
    "            raise ValueError(\"GPA must be between 0.0 and 4.0\")\n",
    "        self.gpa = new_gpa\n",
    "                            \n",
    "\n",
    "\n",
    "    "
   ]
  },
  {
   "cell_type": "code",
   "execution_count": 166,
   "id": "c81219ec-318c-47c8-916f-a17960a9757a",
   "metadata": {},
   "outputs": [
    {
     "name": "stdout",
     "output_type": "stream",
     "text": [
      "Ram name Ram\n",
      "21 age 21\n",
      "4.0 gpa 4.0\n",
      "AI major AI\n"
     ]
    }
   ],
   "source": [
    "s = Student(name='Ram', age=21, gpa=4.0, major='AI')"
   ]
  },
  {
   "cell_type": "code",
   "execution_count": null,
   "id": "b16b5f1f-67c0-4544-a082-18bf243838ae",
   "metadata": {},
   "outputs": [],
   "source": []
  },
  {
   "cell_type": "code",
   "execution_count": null,
   "id": "bd91627a-8ed3-453c-8c5a-589506bb35dd",
   "metadata": {},
   "outputs": [],
   "source": []
  },
  {
   "cell_type": "code",
   "execution_count": null,
   "id": "f5ca7c71-70db-4229-a56a-d4885485df9b",
   "metadata": {},
   "outputs": [],
   "source": []
  },
  {
   "cell_type": "markdown",
   "id": "dc623625-09e2-45ac-8b36-3db2bcd7ab66",
   "metadata": {},
   "source": [
    "#### With injection of init"
   ]
  },
  {
   "cell_type": "code",
   "execution_count": 172,
   "id": "f1942b02-33e9-487c-899e-76c550dc0680",
   "metadata": {},
   "outputs": [],
   "source": [
    "# Meta Class with __init__ injection\n",
    "class EnforceFieldTypes(type):\n",
    "\n",
    "    def __new__(cls, name, bases, dct):\n",
    "\n",
    "        # Extract field_types\n",
    "        field_types = dct.get('field_types') # dct['field_types']\n",
    "         \n",
    "        # Validate the field_types\n",
    "        if not isinstance(field_types, dict):\n",
    "            raise TypeError(f\"Class '{name}' must define 'field_types' dictionary\")\n",
    "\n",
    "        '''\n",
    "        # We will also enforce __init__ to be defined in the class\n",
    "        # Since you're injecting the code, there is not need to validate\n",
    "        if '__init__' not in dct:\n",
    "            raise TypeError(f\"Class '{name}' must define '__init__' function\")\n",
    "        '''\n",
    "        # code to inject\n",
    "        def __init__(self, **kargs):\n",
    "            for field, expected_type in self.field_types.items():\n",
    "                if field not in kargs:\n",
    "                    raise TypeError(f\"Missing required field: {field}\")\n",
    "                if not isinstance(kargs[field], expected_type):\n",
    "                    raise TypeError(f\"{field} must of type {expected_type}\")\n",
    "                setattr(self, field, kargs[field])\n",
    "\n",
    "        # inject the code\n",
    "        dct['__init__'] = __init__\n",
    "\n",
    "        return super().__new__(cls, name, bases, dct)"
   ]
  },
  {
   "cell_type": "code",
   "execution_count": 174,
   "id": "6f54b9fa-8655-4771-babc-08f94c26cf88",
   "metadata": {},
   "outputs": [],
   "source": [
    "class Student(metaclass=EnforceFieldTypes):\n",
    "\n",
    "    field_types = {\n",
    "        \"name\"  : str,\n",
    "        \"age\"   : int,\n",
    "        \"gpa\"   : float,\n",
    "        \"major\" : str\n",
    "    }\n",
    "\n",
    "    def get_details(self):\n",
    "        return self.name, self.age, self.gpa, self.major\n",
    "\n",
    "    def is_honors(self):\n",
    "        return self.gpa >= 3.5\n",
    "\n",
    "    def update_gpa(self, new_gpa):\n",
    "        if not isinstance(new_gpa, float):\n",
    "            raise TypeError(\"GPA must be a float\")\n",
    "        elif not (0.0 <= new_gpa <= 4.0):\n",
    "            raise ValueError(\"GPA must be between 0.0 and 4.0\")\n",
    "        self.gpa = new_gpa\n",
    "                            "
   ]
  },
  {
   "cell_type": "code",
   "execution_count": 178,
   "id": "5daf3055-bcc6-44ba-b71a-91cb34a0a6ee",
   "metadata": {},
   "outputs": [
    {
     "data": {
      "text/plain": [
       "('Ram', 21, 4.0, 'AI')"
      ]
     },
     "execution_count": 178,
     "metadata": {},
     "output_type": "execute_result"
    }
   ],
   "source": [
    "s = Student(name='Ram', age=21, gpa=4.0, major='AI')\n",
    "s.get_details()"
   ]
  },
  {
   "cell_type": "code",
   "execution_count": 180,
   "id": "a5bda7c2-e8eb-4179-bd3c-fd02bdf502a1",
   "metadata": {},
   "outputs": [
    {
     "ename": "TypeError",
     "evalue": "age must of type <class 'int'>",
     "output_type": "error",
     "traceback": [
      "\u001b[1;31m---------------------------------------------------------------------------\u001b[0m",
      "\u001b[1;31mTypeError\u001b[0m                                 Traceback (most recent call last)",
      "Cell \u001b[1;32mIn[180], line 1\u001b[0m\n\u001b[1;32m----> 1\u001b[0m s \u001b[38;5;241m=\u001b[39m Student(name\u001b[38;5;241m=\u001b[39m\u001b[38;5;124m'\u001b[39m\u001b[38;5;124mRam\u001b[39m\u001b[38;5;124m'\u001b[39m, age\u001b[38;5;241m=\u001b[39m\u001b[38;5;241m2.3\u001b[39m, gpa\u001b[38;5;241m=\u001b[39m\u001b[38;5;241m4.0\u001b[39m, major\u001b[38;5;241m=\u001b[39m\u001b[38;5;124m'\u001b[39m\u001b[38;5;124mAI\u001b[39m\u001b[38;5;124m'\u001b[39m)\n\u001b[0;32m      2\u001b[0m s\u001b[38;5;241m.\u001b[39mget_details()\n",
      "Cell \u001b[1;32mIn[172], line 25\u001b[0m, in \u001b[0;36mEnforceFieldTypes.__new__.<locals>.__init__\u001b[1;34m(self, **kargs)\u001b[0m\n\u001b[0;32m     23\u001b[0m     \u001b[38;5;28;01mraise\u001b[39;00m \u001b[38;5;167;01mTypeError\u001b[39;00m(\u001b[38;5;124mf\u001b[39m\u001b[38;5;124m\"\u001b[39m\u001b[38;5;124mMissing required field: \u001b[39m\u001b[38;5;132;01m{\u001b[39;00mfield\u001b[38;5;132;01m}\u001b[39;00m\u001b[38;5;124m\"\u001b[39m)\n\u001b[0;32m     24\u001b[0m \u001b[38;5;28;01mif\u001b[39;00m \u001b[38;5;129;01mnot\u001b[39;00m \u001b[38;5;28misinstance\u001b[39m(kargs[field], expected_type):\n\u001b[1;32m---> 25\u001b[0m     \u001b[38;5;28;01mraise\u001b[39;00m \u001b[38;5;167;01mTypeError\u001b[39;00m(\u001b[38;5;124mf\u001b[39m\u001b[38;5;124m\"\u001b[39m\u001b[38;5;132;01m{\u001b[39;00mfield\u001b[38;5;132;01m}\u001b[39;00m\u001b[38;5;124m must of type \u001b[39m\u001b[38;5;132;01m{\u001b[39;00mexpected_type\u001b[38;5;132;01m}\u001b[39;00m\u001b[38;5;124m\"\u001b[39m)\n\u001b[0;32m     26\u001b[0m \u001b[38;5;28msetattr\u001b[39m(\u001b[38;5;28mself\u001b[39m, field, kargs[field])\n",
      "\u001b[1;31mTypeError\u001b[0m: age must of type <class 'int'>"
     ]
    }
   ],
   "source": [
    "s = Student(name='Ram', age=2.3, gpa=4.0, major='AI')\n",
    "s.get_details()"
   ]
  },
  {
   "cell_type": "code",
   "execution_count": 182,
   "id": "0e3b93b7-de3c-4d65-9a65-84bf61ce7a13",
   "metadata": {},
   "outputs": [
    {
     "name": "stdout",
     "output_type": "stream",
     "text": [
      "age must of type <class 'int'>\n"
     ]
    }
   ],
   "source": [
    "try:\n",
    "    s = Student(name='Ram', age=2.3, gpa=4.0, major='AI')\n",
    "    s.get_details()\n",
    "except Exception as e:\n",
    "    print(e)"
   ]
  },
  {
   "cell_type": "code",
   "execution_count": null,
   "id": "4c567cb7-de0e-44ca-86c4-ba1fd70893ef",
   "metadata": {},
   "outputs": [],
   "source": []
  }
 ],
 "metadata": {
  "kernelspec": {
   "display_name": "Python 3 (ipykernel)",
   "language": "python",
   "name": "python3"
  },
  "language_info": {
   "codemirror_mode": {
    "name": "ipython",
    "version": 3
   },
   "file_extension": ".py",
   "mimetype": "text/x-python",
   "name": "python",
   "nbconvert_exporter": "python",
   "pygments_lexer": "ipython3",
   "version": "3.12.7"
  }
 },
 "nbformat": 4,
 "nbformat_minor": 5
}
