{
 "cells": [
  {
   "cell_type": "markdown",
   "id": "8547e6a9-3afd-4675-8a43-66feba52c9cd",
   "metadata": {},
   "source": [
    "### 10.1 Function definition"
   ]
  },
  {
   "cell_type": "code",
   "execution_count": 1,
   "id": "dadcaebe-ab3b-4a9f-bf8b-d2dca5b75264",
   "metadata": {},
   "outputs": [],
   "source": [
    "def checkprime(n):\n",
    "    for i in range(2, n):\n",
    "        if(n % i == 0):\n",
    "            return False\n",
    "    return True"
   ]
  },
  {
   "cell_type": "code",
   "execution_count": 2,
   "id": "107593f5-296c-45f0-a6f1-30fcc21625a7",
   "metadata": {},
   "outputs": [
    {
     "data": {
      "text/plain": [
       "False"
      ]
     },
     "execution_count": 2,
     "metadata": {},
     "output_type": "execute_result"
    }
   ],
   "source": [
    "checkprime(10)"
   ]
  },
  {
   "cell_type": "code",
   "execution_count": 3,
   "id": "bfbe3c45-7a14-4105-a63c-a7179072ec03",
   "metadata": {},
   "outputs": [
    {
     "data": {
      "text/plain": [
       "True"
      ]
     },
     "execution_count": 3,
     "metadata": {},
     "output_type": "execute_result"
    }
   ],
   "source": [
    "checkprime(11)"
   ]
  },
  {
   "cell_type": "code",
   "execution_count": 4,
   "id": "e0fde1d9-92b1-4edd-8ee0-37ee4f1862df",
   "metadata": {},
   "outputs": [],
   "source": [
    "# function to get the highest prime number in a given range\n",
    "def get_highest_prime(p, q):\n",
    "    for n in range(q, p-1, -1):\n",
    "        if(checkprime(n)):\n",
    "            return n\n",
    "    return -1"
   ]
  },
  {
   "cell_type": "code",
   "execution_count": 5,
   "id": "c24103c9-61f4-4952-861a-9fccb0526612",
   "metadata": {},
   "outputs": [
    {
     "data": {
      "text/plain": [
       "97"
      ]
     },
     "execution_count": 5,
     "metadata": {},
     "output_type": "execute_result"
    }
   ],
   "source": [
    "get_highest_prime(1, 100)"
   ]
  },
  {
   "cell_type": "code",
   "execution_count": 6,
   "id": "5bb9846e-1fd1-455f-8eb3-bad769c35249",
   "metadata": {},
   "outputs": [
    {
     "data": {
      "text/plain": [
       "53"
      ]
     },
     "execution_count": 6,
     "metadata": {},
     "output_type": "execute_result"
    }
   ],
   "source": [
    "get_highest_prime(50, 55)"
   ]
  },
  {
   "cell_type": "code",
   "execution_count": 7,
   "id": "f27c1712-7c69-4495-bb4c-9a0b7b09b44c",
   "metadata": {},
   "outputs": [
    {
     "data": {
      "text/plain": [
       "-1"
      ]
     },
     "execution_count": 7,
     "metadata": {},
     "output_type": "execute_result"
    }
   ],
   "source": [
    "get_highest_prime(200, 204)"
   ]
  },
  {
   "cell_type": "markdown",
   "id": "1e1ba09e-2554-4e9f-8b17-111419e6b749",
   "metadata": {},
   "source": [
    "### 10.2 Scope of variables"
   ]
  },
  {
   "cell_type": "code",
   "execution_count": 8,
   "id": "5e3161b2-dcda-4819-9c05-f74e96be4fb3",
   "metadata": {},
   "outputs": [],
   "source": [
    "# global variable\n",
    "N = 10\n",
    "\n",
    "def showvalues():\n",
    "    print(N)"
   ]
  },
  {
   "cell_type": "code",
   "execution_count": 9,
   "id": "6ed48713-979f-445d-9a05-98901f9049e1",
   "metadata": {},
   "outputs": [
    {
     "name": "stdout",
     "output_type": "stream",
     "text": [
      "10\n"
     ]
    }
   ],
   "source": [
    "showvalues()"
   ]
  },
  {
   "cell_type": "code",
   "execution_count": 12,
   "id": "64da1fe7-1097-4f52-9628-d91ce26bc7e3",
   "metadata": {},
   "outputs": [],
   "source": [
    "# global variable\n",
    "N = 10\n",
    "\n",
    "def showvalues():\n",
    "    N = 5 # local\n",
    "    print(N)\n",
    "\n",
    "def showvalues2():\n",
    "    N = 6 # local\n",
    "    print(N)"
   ]
  },
  {
   "cell_type": "code",
   "execution_count": 13,
   "id": "290086c9-292e-4986-a92a-eec306d126b1",
   "metadata": {},
   "outputs": [
    {
     "name": "stdout",
     "output_type": "stream",
     "text": [
      "5\n",
      "6\n"
     ]
    },
    {
     "data": {
      "text/plain": [
       "(None, None)"
      ]
     },
     "execution_count": 13,
     "metadata": {},
     "output_type": "execute_result"
    }
   ],
   "source": [
    "showvalues(), showvalues2()"
   ]
  },
  {
   "cell_type": "code",
   "execution_count": 14,
   "id": "ef1d7f58-789c-474b-8520-c2294497846e",
   "metadata": {},
   "outputs": [],
   "source": [
    "# global variable\n",
    "N = 10\n",
    "\n",
    "def showvalues():\n",
    "    N = 5 # local\n",
    "    print(N)\n",
    "\n",
    "def showvalues2():\n",
    "    print(N)"
   ]
  },
  {
   "cell_type": "code",
   "execution_count": 15,
   "id": "95990bfe-b390-4dd2-8784-f9a713ca0424",
   "metadata": {},
   "outputs": [
    {
     "name": "stdout",
     "output_type": "stream",
     "text": [
      "10\n"
     ]
    }
   ],
   "source": [
    "showvalues2()"
   ]
  },
  {
   "cell_type": "code",
   "execution_count": 20,
   "id": "8b95ab89-2664-43b6-a518-aae056680543",
   "metadata": {},
   "outputs": [],
   "source": [
    "# To prove N is local to showvalues...\n",
    "\n",
    "def showvalues():\n",
    "    M = 5 # local\n",
    "    print(N)\n",
    "\n",
    "def showvalues2():\n",
    "    print(M)"
   ]
  },
  {
   "cell_type": "code",
   "execution_count": 21,
   "id": "0b9b2f7f-3f80-42d4-8296-95aac6505537",
   "metadata": {},
   "outputs": [
    {
     "ename": "NameError",
     "evalue": "name 'M' is not defined",
     "output_type": "error",
     "traceback": [
      "\u001b[1;31m---------------------------------------------------------------------------\u001b[0m",
      "\u001b[1;31mNameError\u001b[0m                                 Traceback (most recent call last)",
      "Cell \u001b[1;32mIn[21], line 1\u001b[0m\n\u001b[1;32m----> 1\u001b[0m showvalues2()\n",
      "Cell \u001b[1;32mIn[20], line 8\u001b[0m, in \u001b[0;36mshowvalues2\u001b[1;34m()\u001b[0m\n\u001b[0;32m      7\u001b[0m \u001b[38;5;28;01mdef\u001b[39;00m \u001b[38;5;21mshowvalues2\u001b[39m():\n\u001b[1;32m----> 8\u001b[0m     \u001b[38;5;28mprint\u001b[39m(M)\n",
      "\u001b[1;31mNameError\u001b[0m: name 'M' is not defined"
     ]
    }
   ],
   "source": [
    "showvalues2()"
   ]
  },
  {
   "cell_type": "markdown",
   "id": "79f35ed4-2016-448a-819e-93a124ca1837",
   "metadata": {},
   "source": [
    "##### M is local to showvalues() and cannot be accessed from showvalues2()"
   ]
  },
  {
   "cell_type": "code",
   "execution_count": 29,
   "id": "0efe78b6-254b-4d54-b85d-68a54231e32c",
   "metadata": {},
   "outputs": [],
   "source": [
    "# Understanding non-local scope\n",
    "\n",
    "P = 10\n",
    "\n",
    "def getFunction(choice):\n",
    "\n",
    "    def funcAdd(a, b):\n",
    "        return (a + b) * P\n",
    "\n",
    "    def funcSub(a, b):\n",
    "        return (a - b) * P\n",
    "\n",
    "    return funcAdd if choice == 1 else funcSub  # ternary operator -> ?:"
   ]
  },
  {
   "cell_type": "code",
   "execution_count": 30,
   "id": "84d63e2a-040d-48da-9c88-b6fdb4a39427",
   "metadata": {},
   "outputs": [
    {
     "data": {
      "text/plain": [
       "300"
      ]
     },
     "execution_count": 30,
     "metadata": {},
     "output_type": "execute_result"
    }
   ],
   "source": [
    "f = getFunction(1) # Uses funcAdd and N = 10\n",
    "f(10, 20) "
   ]
  },
  {
   "cell_type": "code",
   "execution_count": 31,
   "id": "1acdeac2-7c38-4a4e-bce3-9504c7a79667",
   "metadata": {},
   "outputs": [],
   "source": [
    "# Understanding non-local scope\n",
    "\n",
    "P = 10\n",
    "\n",
    "def getFunction(choice):\n",
    "\n",
    "    def funcAdd(a, b):\n",
    "        P = 5\n",
    "        return (a + b) * P\n",
    "\n",
    "    def funcSub(a, b):\n",
    "        P = 5\n",
    "        return (a - b) * P\n",
    "\n",
    "    return funcAdd if choice == 1 else funcSub  # ternary operator -> ?:"
   ]
  },
  {
   "cell_type": "code",
   "execution_count": 32,
   "id": "7d2de81e-793c-4d05-ace3-6113ab61b8f6",
   "metadata": {},
   "outputs": [
    {
     "data": {
      "text/plain": [
       "150"
      ]
     },
     "execution_count": 32,
     "metadata": {},
     "output_type": "execute_result"
    }
   ],
   "source": [
    "f = getFunction(1) # Uses funcAdd and N = 5 local to funcAdd\n",
    "f(10, 20) "
   ]
  },
  {
   "cell_type": "code",
   "execution_count": 33,
   "id": "7ddcbe4d-ed1e-4a67-80aa-a786b67c15f8",
   "metadata": {},
   "outputs": [],
   "source": [
    "# Understanding non-local scope\n",
    "\n",
    "P = 10\n",
    "\n",
    "def getFunction(choice):\n",
    "\n",
    "    P = 2  # non-local variable\n",
    "    \n",
    "    def funcAdd(a, b):\n",
    "        P = 5\n",
    "        return (a + b) * P\n",
    "\n",
    "    def funcSub(a, b):\n",
    "        P = 5\n",
    "        return (a - b) * P\n",
    "\n",
    "    return funcAdd if choice == 1 else funcSub  # ternary operator -> ?:"
   ]
  },
  {
   "cell_type": "code",
   "execution_count": 34,
   "id": "de32a5b2-66af-45c1-9e04-14bc7722151e",
   "metadata": {},
   "outputs": [
    {
     "data": {
      "text/plain": [
       "150"
      ]
     },
     "execution_count": 34,
     "metadata": {},
     "output_type": "execute_result"
    }
   ],
   "source": [
    "f = getFunction(1) # Uses funcAdd and N = 5 local to funcAdd\n",
    "f(10, 20) "
   ]
  },
  {
   "cell_type": "code",
   "execution_count": 35,
   "id": "630549e9-91d5-4620-9088-e7260bc3e74f",
   "metadata": {},
   "outputs": [],
   "source": [
    "# Understanding non-local scope\n",
    "\n",
    "P = 10\n",
    "\n",
    "def getFunction(choice):\n",
    "\n",
    "    P = 2  # non-local variable\n",
    "    \n",
    "    def funcAdd(a, b):\n",
    "        return (a + b) * P\n",
    "\n",
    "    def funcSub(a, b):\n",
    "        return (a - b) * P\n",
    "\n",
    "    return funcAdd if choice == 1 else funcSub  # ternary operator -> ?:"
   ]
  },
  {
   "cell_type": "code",
   "execution_count": 36,
   "id": "28bd2fa3-37b6-488a-860f-3e0e5e0f3971",
   "metadata": {},
   "outputs": [
    {
     "data": {
      "text/plain": [
       "60"
      ]
     },
     "execution_count": 36,
     "metadata": {},
     "output_type": "execute_result"
    }
   ],
   "source": [
    "f = getFunction(1) # Uses funcAdd and N = 2 nonlocal to funcAdd\n",
    "f(10, 20) "
   ]
  },
  {
   "cell_type": "code",
   "execution_count": 40,
   "id": "494d8434-f50d-4fe2-b9fe-b06fc65db290",
   "metadata": {},
   "outputs": [],
   "source": [
    "# Understanding non-local scope\n",
    "\n",
    "P = 10\n",
    "\n",
    "def getFunction(choice):\n",
    "\n",
    "    P = 2  # non-local variable\n",
    "    \n",
    "    def funcAdd(a, b):\n",
    "        global P\n",
    "        K = 10\n",
    "        return (a + b) * P + K\n",
    "\n",
    "    def funcSub(a, b):\n",
    "        nonlocal P\n",
    "        K = 1\n",
    "        return (a - b) * P + K\n",
    "\n",
    "    return funcAdd if choice == 1 else funcSub  # ternary operator -> ?:"
   ]
  },
  {
   "cell_type": "code",
   "execution_count": 41,
   "id": "1a84e5a2-568a-4488-ab8d-561dc2a401a5",
   "metadata": {},
   "outputs": [
    {
     "data": {
      "text/plain": [
       "310"
      ]
     },
     "execution_count": 41,
     "metadata": {},
     "output_type": "execute_result"
    }
   ],
   "source": [
    "f = getFunction(1) # Uses funcAdd and N = 10 global to funcAdd\n",
    "f(10, 20) "
   ]
  },
  {
   "cell_type": "code",
   "execution_count": 42,
   "id": "0ab0f225-0409-4954-a8d0-81bddb0ec7d4",
   "metadata": {},
   "outputs": [
    {
     "data": {
      "text/plain": [
       "-19"
      ]
     },
     "execution_count": 42,
     "metadata": {},
     "output_type": "execute_result"
    }
   ],
   "source": [
    "f = getFunction(2) # Uses funcSub and N = 2 nonlocal to funcSub\n",
    "f(10, 20) "
   ]
  },
  {
   "cell_type": "markdown",
   "id": "ade00d18-cf06-4cbd-b85f-c65ff83c9354",
   "metadata": {},
   "source": [
    "##### GUIDELINE: Reduce the global variables"
   ]
  },
  {
   "cell_type": "markdown",
   "id": "555d7f7a-9f2f-4485-af4f-1fcedecc6163",
   "metadata": {},
   "source": [
    "### 10.3 Required Arguements"
   ]
  },
  {
   "cell_type": "code",
   "execution_count": 43,
   "id": "32ee8bee-8a35-4068-bb1f-3bde49616b9e",
   "metadata": {},
   "outputs": [],
   "source": [
    "# Function definition\n",
    "def avg(n1, n2, n3):\n",
    "    return (n1 + n2 + n3)/3"
   ]
  },
  {
   "cell_type": "code",
   "execution_count": 44,
   "id": "6209c1a7-4232-434f-8a17-ff26e3702140",
   "metadata": {},
   "outputs": [
    {
     "data": {
      "text/plain": [
       "2.0"
      ]
     },
     "execution_count": 44,
     "metadata": {},
     "output_type": "execute_result"
    }
   ],
   "source": [
    "# Function call\n",
    "avg(1, 2, 3)"
   ]
  },
  {
   "cell_type": "code",
   "execution_count": 45,
   "id": "1e920bc7-e57a-440b-842e-a1174f77284e",
   "metadata": {},
   "outputs": [
    {
     "ename": "TypeError",
     "evalue": "avg() missing 1 required positional argument: 'n3'",
     "output_type": "error",
     "traceback": [
      "\u001b[1;31m---------------------------------------------------------------------------\u001b[0m",
      "\u001b[1;31mTypeError\u001b[0m                                 Traceback (most recent call last)",
      "Cell \u001b[1;32mIn[45], line 1\u001b[0m\n\u001b[1;32m----> 1\u001b[0m avg(\u001b[38;5;241m1\u001b[39m, \u001b[38;5;241m2\u001b[39m)\n",
      "\u001b[1;31mTypeError\u001b[0m: avg() missing 1 required positional argument: 'n3'"
     ]
    }
   ],
   "source": [
    "avg(1, 2)"
   ]
  },
  {
   "cell_type": "markdown",
   "id": "5e21062b-686e-44f0-932b-2ae7812a35ce",
   "metadata": {},
   "source": [
    "##### During the function call match the number of arguements to the number of arguments in function definition"
   ]
  },
  {
   "cell_type": "code",
   "execution_count": 46,
   "id": "83a51ba2-d52f-4da7-a63e-06ef403e5d68",
   "metadata": {},
   "outputs": [],
   "source": [
    "# Function definition\n",
    "def msg(n1, n2, n3):\n",
    "    print(n1)\n",
    "    print(n2)\n",
    "    print(n3)"
   ]
  },
  {
   "cell_type": "code",
   "execution_count": 47,
   "id": "31004cb5-ac51-482f-b4ae-4123fa1e8d35",
   "metadata": {},
   "outputs": [
    {
     "name": "stdout",
     "output_type": "stream",
     "text": [
      "Anil\n",
      "Sunil\n",
      "Raj\n"
     ]
    }
   ],
   "source": [
    "msg(\"Anil\", \"Sunil\", \"Raj\")"
   ]
  },
  {
   "cell_type": "code",
   "execution_count": 48,
   "id": "fc49304c-446b-4ae9-9933-911c587bd735",
   "metadata": {},
   "outputs": [
    {
     "name": "stdout",
     "output_type": "stream",
     "text": [
      "Anil\n",
      "Raj\n",
      "Sunil\n"
     ]
    }
   ],
   "source": [
    "msg(\"Anil\",\"Raj\", \"Sunil\")"
   ]
  },
  {
   "cell_type": "markdown",
   "id": "e8c3eefa-a0d6-40e9-b682-c4444852ecdd",
   "metadata": {},
   "source": [
    "##### During the function call the order should maintained exactly as in the function definition"
   ]
  },
  {
   "cell_type": "markdown",
   "id": "3b8eb618-1ecd-4e63-9828-9f1746fbd300",
   "metadata": {},
   "source": [
    "### 10.4 Arbitrary number of arguments"
   ]
  },
  {
   "cell_type": "markdown",
   "id": "5196ba61-dd33-48a0-8615-5a4da91d3ae4",
   "metadata": {},
   "source": [
    "##### You cannot write avg() for different number of arguments, can a single avg() handle arbitrary number of arguments"
   ]
  },
  {
   "cell_type": "code",
   "execution_count": 49,
   "id": "91e0931d-377e-472b-97e8-75003f4dabc4",
   "metadata": {},
   "outputs": [],
   "source": [
    "def avg(*n):\n",
    "    print(n)\n",
    "    return sum(n)/len(n)"
   ]
  },
  {
   "cell_type": "code",
   "execution_count": 50,
   "id": "e8e78806-a97f-4f5e-9bfc-7dba22ea44c7",
   "metadata": {},
   "outputs": [
    {
     "name": "stdout",
     "output_type": "stream",
     "text": [
      "(1,)\n"
     ]
    },
    {
     "data": {
      "text/plain": [
       "1.0"
      ]
     },
     "execution_count": 50,
     "metadata": {},
     "output_type": "execute_result"
    }
   ],
   "source": [
    "avg(1)"
   ]
  },
  {
   "cell_type": "code",
   "execution_count": 51,
   "id": "0c57ec38-325e-44fa-90b3-a998f055498d",
   "metadata": {},
   "outputs": [
    {
     "name": "stdout",
     "output_type": "stream",
     "text": [
      "(1, 2)\n"
     ]
    },
    {
     "data": {
      "text/plain": [
       "1.5"
      ]
     },
     "execution_count": 51,
     "metadata": {},
     "output_type": "execute_result"
    }
   ],
   "source": [
    "avg(1, 2)"
   ]
  },
  {
   "cell_type": "code",
   "execution_count": 52,
   "id": "bc3a1a22-2d3e-4c44-8d3d-67de19ea6d73",
   "metadata": {},
   "outputs": [
    {
     "name": "stdout",
     "output_type": "stream",
     "text": [
      "(1, 2, 3, 4)\n"
     ]
    },
    {
     "data": {
      "text/plain": [
       "2.5"
      ]
     },
     "execution_count": 52,
     "metadata": {},
     "output_type": "execute_result"
    }
   ],
   "source": [
    "avg(1, 2, 3, 4)"
   ]
  },
  {
   "cell_type": "code",
   "execution_count": null,
   "id": "a88adc09-0e3f-4768-8796-882b654d87e4",
   "metadata": {},
   "outputs": [],
   "source": []
  }
 ],
 "metadata": {
  "kernelspec": {
   "display_name": "Python 3 (ipykernel)",
   "language": "python",
   "name": "python3"
  },
  "language_info": {
   "codemirror_mode": {
    "name": "ipython",
    "version": 3
   },
   "file_extension": ".py",
   "mimetype": "text/x-python",
   "name": "python",
   "nbconvert_exporter": "python",
   "pygments_lexer": "ipython3",
   "version": "3.11.7"
  }
 },
 "nbformat": 4,
 "nbformat_minor": 5
}
