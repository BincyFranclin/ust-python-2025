{
 "cells": [
  {
   "cell_type": "markdown",
   "id": "1b8af3e8-38c0-417f-9579-e6e94ef994f6",
   "metadata": {},
   "source": [
    "### 30.1 Understanding Generators"
   ]
  },
  {
   "cell_type": "code",
   "execution_count": 3,
   "id": "8805edf8-f92d-4df2-9ce0-47c3fd6087b9",
   "metadata": {},
   "outputs": [],
   "source": [
    "def get_values():\n",
    "    return [1, 2, 3, 4, 5]"
   ]
  },
  {
   "cell_type": "code",
   "execution_count": 18,
   "id": "54c7af2d-88ad-4874-979c-227228a80595",
   "metadata": {},
   "outputs": [],
   "source": [
    "r = get_values()"
   ]
  },
  {
   "cell_type": "code",
   "execution_count": 20,
   "id": "6e855fe1-997f-4f7d-a366-f809955be8c7",
   "metadata": {},
   "outputs": [
    {
     "name": "stdout",
     "output_type": "stream",
     "text": [
      "1 2 3 4 5 "
     ]
    }
   ],
   "source": [
    "for i in r:\n",
    "    print(i, end = ' ')"
   ]
  },
  {
   "cell_type": "code",
   "execution_count": 22,
   "id": "eca14c32-4656-4ade-a741-19f06fbdda00",
   "metadata": {},
   "outputs": [
    {
     "name": "stdout",
     "output_type": "stream",
     "text": [
      "1 2 3 4 5 "
     ]
    }
   ],
   "source": [
    "for i in r:\n",
    "    print(i, end = ' ')"
   ]
  },
  {
   "cell_type": "markdown",
   "id": "4d7ce58c-04fd-4f14-841f-1356ec3e2fd6",
   "metadata": {},
   "source": [
    "##### The yield keyword"
   ]
  },
  {
   "cell_type": "code",
   "execution_count": 32,
   "id": "9a9af435-c4e6-4d7e-9e67-54e365048119",
   "metadata": {},
   "outputs": [],
   "source": [
    "def get_values2():\n",
    "    yield 1\n",
    "    yield 2\n",
    "    yield 3\n",
    "    yield 4\n",
    "    yield 5"
   ]
  },
  {
   "cell_type": "code",
   "execution_count": 34,
   "id": "4bc0fe27-7b3c-4c9a-87d5-fc229113fcd8",
   "metadata": {},
   "outputs": [],
   "source": [
    "r = get_values2()"
   ]
  },
  {
   "cell_type": "code",
   "execution_count": 36,
   "id": "73c39294-7935-4501-a608-bf513a66410e",
   "metadata": {},
   "outputs": [
    {
     "name": "stdout",
     "output_type": "stream",
     "text": [
      "1 2 3 4 5 "
     ]
    }
   ],
   "source": [
    "for i in r:\n",
    "    print(i, end = ' ')"
   ]
  },
  {
   "cell_type": "code",
   "execution_count": 42,
   "id": "8aaad687-f1d2-4f38-a9fb-04c2bdf681f9",
   "metadata": {},
   "outputs": [],
   "source": [
    "for i in r:\n",
    "    print(i, end = ' ')"
   ]
  },
  {
   "cell_type": "code",
   "execution_count": 44,
   "id": "f9bd2f8f-4f75-4c6c-a60a-c8438889a354",
   "metadata": {},
   "outputs": [],
   "source": [
    "r = get_values2()"
   ]
  },
  {
   "cell_type": "code",
   "execution_count": 46,
   "id": "91518d04-dc09-41f3-a4e1-8c87f379a54d",
   "metadata": {},
   "outputs": [
    {
     "name": "stdout",
     "output_type": "stream",
     "text": [
      "1 2 3 4 5 "
     ]
    }
   ],
   "source": [
    "for i in r:\n",
    "    print(i, end = ' ')"
   ]
  },
  {
   "cell_type": "code",
   "execution_count": 48,
   "id": "4a7597d0-6b07-499f-9e45-ea855978a41c",
   "metadata": {},
   "outputs": [],
   "source": [
    "for i in r:\n",
    "    print(i, end = ' ')"
   ]
  },
  {
   "cell_type": "markdown",
   "id": "7cf5316c-c4d2-4dd4-aba7-65a775c86efe",
   "metadata": {},
   "source": [
    "##### The next Keyword"
   ]
  },
  {
   "cell_type": "code",
   "execution_count": 51,
   "id": "6966e41f-6315-4860-a79e-fce6e8d89060",
   "metadata": {},
   "outputs": [],
   "source": [
    "r = get_values2()"
   ]
  },
  {
   "cell_type": "code",
   "execution_count": 53,
   "id": "8a7d4e69-af1d-4a87-81a6-6541174cae0d",
   "metadata": {},
   "outputs": [
    {
     "data": {
      "text/plain": [
       "1"
      ]
     },
     "execution_count": 53,
     "metadata": {},
     "output_type": "execute_result"
    }
   ],
   "source": [
    "next(r)"
   ]
  },
  {
   "cell_type": "code",
   "execution_count": 55,
   "id": "12946c36-4339-43b2-ae1c-1b81156d3266",
   "metadata": {},
   "outputs": [
    {
     "data": {
      "text/plain": [
       "2"
      ]
     },
     "execution_count": 55,
     "metadata": {},
     "output_type": "execute_result"
    }
   ],
   "source": [
    "next(r)"
   ]
  },
  {
   "cell_type": "code",
   "execution_count": 57,
   "id": "fce993f4-8f13-4ee9-80c5-710fb286159c",
   "metadata": {},
   "outputs": [
    {
     "data": {
      "text/plain": [
       "3"
      ]
     },
     "execution_count": 57,
     "metadata": {},
     "output_type": "execute_result"
    }
   ],
   "source": [
    "next(r)"
   ]
  },
  {
   "cell_type": "code",
   "execution_count": 59,
   "id": "460ccc72-0038-4866-9140-16472bf7379f",
   "metadata": {},
   "outputs": [
    {
     "name": "stdout",
     "output_type": "stream",
     "text": [
      "4\n",
      "5\n"
     ]
    }
   ],
   "source": [
    "for i in r:\n",
    "    print(i)"
   ]
  },
  {
   "cell_type": "markdown",
   "id": "601910bc-984e-4b50-af05-08c821f4975d",
   "metadata": {},
   "source": [
    "##### Definition of generator: A generator in Python is a special type of iterable that yields values one at a time using the yield keyword, allowing for efficient, lazy evaluation of sequences without storing the entire sequence in memory."
   ]
  },
  {
   "cell_type": "markdown",
   "id": "aa1164bb-e81c-46c6-8c05-956dd1110d70",
   "metadata": {},
   "source": [
    "### 30.1 Using yield"
   ]
  },
  {
   "cell_type": "markdown",
   "id": "fac49fbc-b73b-427e-bf59-fa750e2155ac",
   "metadata": {},
   "source": [
    "<rn><rn+1><rn+2>\n",
    "45, 46, 47"
   ]
  },
  {
   "cell_type": "code",
   "execution_count": 71,
   "id": "99354bc9-4a8e-4404-a72e-30d245596ab7",
   "metadata": {},
   "outputs": [],
   "source": [
    "import random"
   ]
  },
  {
   "cell_type": "code",
   "execution_count": 73,
   "id": "973be454-e450-442f-ab1d-a147b365a118",
   "metadata": {},
   "outputs": [],
   "source": [
    "def getSeq():\n",
    "    t = random.randint(1, 100)\n",
    "    yield t, t+1, t+2"
   ]
  },
  {
   "cell_type": "code",
   "execution_count": 75,
   "id": "4a720ec5-bdcb-465e-b7e3-5ecd2e079d27",
   "metadata": {},
   "outputs": [
    {
     "data": {
      "text/plain": [
       "<generator object getSeq at 0x00000170632439F0>"
      ]
     },
     "execution_count": 75,
     "metadata": {},
     "output_type": "execute_result"
    }
   ],
   "source": [
    "getSeq()"
   ]
  },
  {
   "cell_type": "code",
   "execution_count": 77,
   "id": "9bed8089-0bd6-4c73-b7f1-c70a95f49b23",
   "metadata": {},
   "outputs": [
    {
     "data": {
      "text/plain": [
       "(84, 85, 86)"
      ]
     },
     "execution_count": 77,
     "metadata": {},
     "output_type": "execute_result"
    }
   ],
   "source": [
    "next(getSeq())"
   ]
  },
  {
   "cell_type": "code",
   "execution_count": 79,
   "id": "c3daa6dc-4ca6-4bd6-9ce4-48fcb9fc8482",
   "metadata": {},
   "outputs": [
    {
     "data": {
      "text/plain": [
       "(97, 98, 99)"
      ]
     },
     "execution_count": 79,
     "metadata": {},
     "output_type": "execute_result"
    }
   ],
   "source": [
    "next(getSeq())"
   ]
  },
  {
   "cell_type": "code",
   "execution_count": 81,
   "id": "aee56317-273a-4aa0-bdaf-6210b96178b2",
   "metadata": {},
   "outputs": [
    {
     "data": {
      "text/plain": [
       "(53, 54, 55)"
      ]
     },
     "execution_count": 81,
     "metadata": {},
     "output_type": "execute_result"
    }
   ],
   "source": [
    "next(getSeq())"
   ]
  },
  {
   "cell_type": "markdown",
   "id": "9469bd4c-3f94-44f0-a88a-24bc2c65334b",
   "metadata": {},
   "source": [
    "### 30.2 Fibonacci Sequence using Generator"
   ]
  },
  {
   "cell_type": "code",
   "execution_count": 84,
   "id": "f96b00a6-1cb4-4569-bc81-918f37677f93",
   "metadata": {},
   "outputs": [],
   "source": [
    "def fibonacci(n):\n",
    "    a, b = 0, 1\n",
    "    for i in range(n):\n",
    "        yield a\n",
    "        a, b = b, a + b"
   ]
  },
  {
   "cell_type": "code",
   "execution_count": 86,
   "id": "63c71d9d-8648-4bf6-9e4d-9c882eaef7fa",
   "metadata": {},
   "outputs": [
    {
     "name": "stdout",
     "output_type": "stream",
     "text": [
      "0\n",
      "1\n",
      "1\n",
      "2\n",
      "3\n",
      "5\n",
      "8\n",
      "13\n",
      "21\n"
     ]
    }
   ],
   "source": [
    "for num in fibonacci(9): # no need of using next, as the for loop by default uses the next protocol\n",
    "    print(num)"
   ]
  },
  {
   "cell_type": "code",
   "execution_count": 92,
   "id": "d13c0519-057a-403f-830d-728ee3b1a4f3",
   "metadata": {},
   "outputs": [
    {
     "name": "stdout",
     "output_type": "stream",
     "text": [
      "0\n",
      "1\n",
      "1\n",
      "2\n",
      "3\n",
      "5\n",
      "8\n",
      "13\n",
      "21\n"
     ]
    }
   ],
   "source": [
    "f = fibonacci(9)\n",
    "for i in range(9):\n",
    "    print(next(f))"
   ]
  },
  {
   "cell_type": "code",
   "execution_count": 94,
   "id": "c3b1100b-3a1c-446b-ba8c-1be3fa856637",
   "metadata": {},
   "outputs": [
    {
     "ename": "StopIteration",
     "evalue": "",
     "output_type": "error",
     "traceback": [
      "\u001b[1;31m---------------------------------------------------------------------------\u001b[0m",
      "\u001b[1;31mStopIteration\u001b[0m                             Traceback (most recent call last)",
      "Cell \u001b[1;32mIn[94], line 2\u001b[0m\n\u001b[0;32m      1\u001b[0m \u001b[38;5;28;01mfor\u001b[39;00m i \u001b[38;5;129;01min\u001b[39;00m \u001b[38;5;28mrange\u001b[39m(\u001b[38;5;241m9\u001b[39m):\n\u001b[1;32m----> 2\u001b[0m     \u001b[38;5;28mprint\u001b[39m(\u001b[38;5;28mnext\u001b[39m(f))\n",
      "\u001b[1;31mStopIteration\u001b[0m: "
     ]
    }
   ],
   "source": [
    "for i in range(9):\n",
    "    print(next(f))"
   ]
  },
  {
   "cell_type": "markdown",
   "id": "853bb92a-328f-4e84-8e01-16008bc5d571",
   "metadata": {},
   "source": [
    "### 30.3 Generator to filter names starting with a specific letter"
   ]
  },
  {
   "cell_type": "code",
   "execution_count": 101,
   "id": "d48bb33a-30ca-4c9b-ad60-55ecfef10c7e",
   "metadata": {},
   "outputs": [],
   "source": [
    "# General definition\n",
    "def g_names_starting_with(names, letter):\n",
    "    n = []\n",
    "    for name in names:\n",
    "        if(name.startswith(letter)):\n",
    "            n.append(name)\n",
    "    return n"
   ]
  },
  {
   "cell_type": "code",
   "execution_count": 97,
   "id": "6f0f4844-73fb-4707-b776-58ed7c451471",
   "metadata": {},
   "outputs": [],
   "source": [
    "# Generator\n",
    "def names_starting_with(names, letter):\n",
    "    for name in names:\n",
    "        if name.startswith(letter):\n",
    "            yield name"
   ]
  },
  {
   "cell_type": "code",
   "execution_count": 99,
   "id": "4f869ce4-be16-4beb-b352-4aef719cd3e3",
   "metadata": {},
   "outputs": [
    {
     "name": "stdout",
     "output_type": "stream",
     "text": [
      "Alice\n",
      "Arun\n",
      "Anita\n"
     ]
    }
   ],
   "source": [
    "names = [\"Alice\", \"Bob\", \"Arun\", \"Charlie\", \"Anita\"]\n",
    "for n in names_starting_with(names, \"A\"):\n",
    "    print(n)"
   ]
  },
  {
   "cell_type": "code",
   "execution_count": 103,
   "id": "04adeef6-448a-45df-8b9f-96aedad0df70",
   "metadata": {},
   "outputs": [
    {
     "data": {
      "text/plain": [
       "['Alice', 'Arun', 'Anita']"
      ]
     },
     "execution_count": 103,
     "metadata": {},
     "output_type": "execute_result"
    }
   ],
   "source": [
    "g_names_starting_with(names, 'A')"
   ]
  },
  {
   "cell_type": "code",
   "execution_count": 105,
   "id": "8a5c1085-02b0-41f0-a2a6-2d0bf003e2a5",
   "metadata": {},
   "outputs": [
    {
     "data": {
      "text/plain": [
       "<generator object names_starting_with at 0x0000017063EFD620>"
      ]
     },
     "execution_count": 105,
     "metadata": {},
     "output_type": "execute_result"
    }
   ],
   "source": [
    "names_starting_with(names, 'A')"
   ]
  },
  {
   "cell_type": "markdown",
   "id": "9858feab-b224-4a5a-a693-2a4c94dd3783",
   "metadata": {},
   "source": [
    "### 30.4 Sliding window generator"
   ]
  },
  {
   "cell_type": "code",
   "execution_count": 124,
   "id": "aa751720-887e-4ea7-a102-8e2713f9b20c",
   "metadata": {},
   "outputs": [],
   "source": [
    "def sliding_window(values, size):\n",
    "    times = len(values) - size\n",
    "    for i in range(times + 1):\n",
    "        yield tuple(values[i:i + size])"
   ]
  },
  {
   "cell_type": "code",
   "execution_count": null,
   "id": "31055034-3717-4143-bf25-084ff263dbec",
   "metadata": {},
   "outputs": [],
   "source": []
  },
  {
   "cell_type": "code",
   "execution_count": 127,
   "id": "c08e73ce-325e-4875-9e5e-eae7669778ab",
   "metadata": {},
   "outputs": [
    {
     "name": "stdout",
     "output_type": "stream",
     "text": [
      "(1, 2, 3)\n",
      "(2, 3, 4)\n",
      "(3, 4, 5)\n"
     ]
    }
   ],
   "source": [
    "for window in sliding_window([1, 2, 3, 4, 5], 3):\n",
    "    print(window)  "
   ]
  },
  {
   "cell_type": "code",
   "execution_count": 129,
   "id": "8e78b583-e181-4594-8e7a-f12bcc8715af",
   "metadata": {},
   "outputs": [
    {
     "name": "stdout",
     "output_type": "stream",
     "text": [
      "('c', 'o', 'm', 'p')\n",
      "('o', 'm', 'p', 'u')\n",
      "('m', 'p', 'u', 't')\n",
      "('p', 'u', 't', 'e')\n",
      "('u', 't', 'e', 'r')\n"
     ]
    }
   ],
   "source": [
    "for window in sliding_window('computer', 4):\n",
    "    print(window) "
   ]
  },
  {
   "cell_type": "markdown",
   "id": "c0468165-c5d5-494e-b6a5-976911b13d5b",
   "metadata": {},
   "source": [
    "### 30.5 Chunking text using generators"
   ]
  },
  {
   "cell_type": "code",
   "execution_count": 132,
   "id": "abe03df8-def3-4ee3-81c1-e9b6537858de",
   "metadata": {},
   "outputs": [],
   "source": [
    "import re"
   ]
  },
  {
   "cell_type": "code",
   "execution_count": 144,
   "id": "ae627768-97ed-417b-9888-4b8952077bbb",
   "metadata": {},
   "outputs": [],
   "source": [
    "def chunk_paragraph(para, chunk_size, include_index=True):\n",
    "    # Split the text in sentences\n",
    "    pattern = r'[^.?!]*[.!?]'\n",
    "    sentences = re.findall(pattern, para)\n",
    "\n",
    "    # remove whitespaces from sentences\n",
    "    sentences = [s.strip() for s in sentences if s.strip()]\n",
    "\n",
    "    # yield the chunks\n",
    "    for i in range(0, len(sentences), chunk_size):\n",
    "        chunk = \" \".join(sentences[i:i + chunk_size])\n",
    "        if(include_index):\n",
    "            yield f\"Chunk {(i//chunk_size) + 1 } : {chunk}\"\n",
    "        else:\n",
    "            yield chunk"
   ]
  },
  {
   "cell_type": "code",
   "execution_count": 150,
   "id": "919934a3-5b1d-4f8c-97b2-3ddbef98bd22",
   "metadata": {},
   "outputs": [
    {
     "name": "stdout",
     "output_type": "stream",
     "text": [
      "Chunk 1 : Python is easy to learn. It is also powerful!\n",
      "Chunk 2 : Many developers love it. Do you use it daily?\n",
      "Chunk 3 : It is used in data science, web development, and automation.\n"
     ]
    }
   ],
   "source": [
    "text = (\n",
    "    \"Python is easy to learn. It is also powerful! \"\n",
    "    \"Many developers love it. Do you use it daily? \"\n",
    "    \"It is used in data science, web development, and automation.\"\n",
    ")\n",
    "\n",
    "for chunk in chunk_paragraph(text, chunk_size=2, include_index=True):\n",
    "    print(chunk)"
   ]
  },
  {
   "cell_type": "code",
   "execution_count": null,
   "id": "e3969565-1996-4401-98a8-068c8270062d",
   "metadata": {},
   "outputs": [],
   "source": []
  }
 ],
 "metadata": {
  "kernelspec": {
   "display_name": "Python 3 (ipykernel)",
   "language": "python",
   "name": "python3"
  },
  "language_info": {
   "codemirror_mode": {
    "name": "ipython",
    "version": 3
   },
   "file_extension": ".py",
   "mimetype": "text/x-python",
   "name": "python",
   "nbconvert_exporter": "python",
   "pygments_lexer": "ipython3",
   "version": "3.12.7"
  }
 },
 "nbformat": 4,
 "nbformat_minor": 5
}
