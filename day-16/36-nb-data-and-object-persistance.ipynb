{
 "cells": [
  {
   "cell_type": "markdown",
   "id": "8d65f494-3265-4fc6-8772-cb88f4569d3c",
   "metadata": {},
   "source": [
    "### 36.1 The sqlite3 Module"
   ]
  },
  {
   "cell_type": "markdown",
   "id": "79bf5822-24bc-4c00-b3f8-9ca185181095",
   "metadata": {},
   "source": [
    "We'll perform the following operations for employee data:\n",
    "\n",
    "- Create database and table\n",
    "- Insert multiple employee records\n",
    "- Fetch all employees\n",
    "- Fetch by condition (e.g., salary > X)\n",
    "- Update employee data\n",
    "- Delete an employee\n",
    "- Count records\n",
    "- Use parameterized queries for security\n",
    "- Commit and close\n",
    "\n"
   ]
  },
  {
   "cell_type": "code",
   "execution_count": 3,
   "id": "4cbaf8aa-b6c3-4b22-ad3c-56efc47013c8",
   "metadata": {},
   "outputs": [],
   "source": [
    "import sqlite3"
   ]
  },
  {
   "cell_type": "code",
   "execution_count": 5,
   "id": "b78c3438-c8a1-4668-bb84-d463014a1938",
   "metadata": {},
   "outputs": [],
   "source": [
    "# Connect to the database\n",
    "conn = sqlite3.connect('employee.db')\n",
    "cursor = conn.cursor()"
   ]
  },
  {
   "cell_type": "code",
   "execution_count": 7,
   "id": "3d4005ac-b36d-416f-842a-ad0870261028",
   "metadata": {},
   "outputs": [
    {
     "data": {
      "text/plain": [
       "<sqlite3.Cursor at 0x17b53c5e5c0>"
      ]
     },
     "execution_count": 7,
     "metadata": {},
     "output_type": "execute_result"
    }
   ],
   "source": [
    "# Create a employees table\n",
    "cursor.execute(''' \n",
    "    CREATE TABLE IF NOT EXISTS employees (\n",
    "            id INTEGER PRIMARY KEY AUTOINCREMENT,\n",
    "            name TEXT NOT NULL,\n",
    "            department TEXT NOT NULL,\n",
    "            salary REAL NOT NULL,\n",
    "            join_date TEXT\n",
    "    )\n",
    "''')"
   ]
  },
  {
   "cell_type": "code",
   "execution_count": 9,
   "id": "633c70c6-ff67-450c-8700-1f6eae3b5567",
   "metadata": {},
   "outputs": [
    {
     "data": {
      "text/plain": [
       "<sqlite3.Cursor at 0x17b53c5e5c0>"
      ]
     },
     "execution_count": 9,
     "metadata": {},
     "output_type": "execute_result"
    }
   ],
   "source": [
    "# insert a single row into that table\n",
    "cursor.execute('''\n",
    "    INSERT INTO employees (name, department, salary, join_date) VALUES (\"Alice\", \"HR\", 60000, \"2023-01-15\")\n",
    "''')"
   ]
  },
  {
   "cell_type": "code",
   "execution_count": 15,
   "id": "49ea0813-399e-4f92-8e85-9d685575b7d4",
   "metadata": {},
   "outputs": [
    {
     "data": {
      "text/plain": [
       "[(1, 'Alice', 'HR', 60000.0, '2023-01-15')]"
      ]
     },
     "execution_count": 15,
     "metadata": {},
     "output_type": "execute_result"
    }
   ],
   "source": [
    "# Selecting the data from the table\n",
    "cursor.execute('''\n",
    "    SELECT * FROM employees\n",
    "''')\n",
    "cursor.fetchall()"
   ]
  },
  {
   "cell_type": "code",
   "execution_count": 17,
   "id": "6b3126fb-db07-4f0b-9470-a0c653f0cfa1",
   "metadata": {},
   "outputs": [
    {
     "data": {
      "text/plain": [
       "<sqlite3.Cursor at 0x17b53c5e5c0>"
      ]
     },
     "execution_count": 17,
     "metadata": {},
     "output_type": "execute_result"
    }
   ],
   "source": [
    "# Inserting more data rows\n",
    "employee_data = [\n",
    "    (\"Bob\", \"Engineering\", 85000, \"2022-09-10\"),\n",
    "    (\"Charlie\", \"Marketing\", 55000, \"2024-03-01\"),\n",
    "    (\"David\", \"Engineering\", 90000, \"2021-11-20\"),\n",
    "]\n",
    "\n",
    "# executing multiple inserts\n",
    "cursor.executemany('''\n",
    "    INSERT INTO employees (name, department, salary, join_date) VALUES (?, ?, ?, ?)\n",
    "''', employee_data)\n"
   ]
  },
  {
   "cell_type": "code",
   "execution_count": 21,
   "id": "8b500441-d8a7-438c-85ac-d18ff6885d88",
   "metadata": {},
   "outputs": [
    {
     "data": {
      "text/plain": [
       "[(1, 'Alice', 'HR', 60000.0, '2023-01-15'),\n",
       " (2, 'Bob', 'Engineering', 85000.0, '2022-09-10'),\n",
       " (3, 'Charlie', 'Marketing', 55000.0, '2024-03-01'),\n",
       " (4, 'David', 'Engineering', 90000.0, '2021-11-20')]"
      ]
     },
     "execution_count": 21,
     "metadata": {},
     "output_type": "execute_result"
    }
   ],
   "source": [
    "# Selecting the data from the table\n",
    "cursor.execute('''\n",
    "    SELECT * FROM employees\n",
    "''')\n",
    "cursor.fetchall()"
   ]
  },
  {
   "cell_type": "code",
   "execution_count": 25,
   "id": "ef492e62-a904-408b-b4af-120de743ed7c",
   "metadata": {},
   "outputs": [
    {
     "name": "stdout",
     "output_type": "stream",
     "text": [
      "Employees with salary > 60000:\n",
      "('Bob', 85000.0)\n",
      "('David', 90000.0)\n",
      "\n"
     ]
    }
   ],
   "source": [
    "# Fetch employees with salary > 60000\n",
    "print(\"Employees with salary > 60000:\")\n",
    "# SELECT name, salary FROM employees WHERE salary > 60000;\n",
    "cursor.execute(\"SELECT name, salary FROM employees WHERE salary > ?\", (60000,))\n",
    "for row in cursor.fetchall():\n",
    "    print(row)\n",
    "print()"
   ]
  },
  {
   "cell_type": "code",
   "execution_count": 27,
   "id": "4db4b382-75a2-472b-9946-d017079e773e",
   "metadata": {},
   "outputs": [
    {
     "data": {
      "text/plain": [
       "<sqlite3.Cursor at 0x17b53c5e5c0>"
      ]
     },
     "execution_count": 27,
     "metadata": {},
     "output_type": "execute_result"
    }
   ],
   "source": [
    "# Update salary of an employee\n",
    "cursor.execute(\"UPDATE employees SET salary = ? WHERE name = ?\", (95000, \"David\"))"
   ]
  },
  {
   "cell_type": "code",
   "execution_count": 29,
   "id": "32c61ebb-7e9f-46d9-b75e-6d7f2fbd6787",
   "metadata": {},
   "outputs": [
    {
     "data": {
      "text/plain": [
       "[(1, 'Alice', 'HR', 60000.0, '2023-01-15'),\n",
       " (2, 'Bob', 'Engineering', 85000.0, '2022-09-10'),\n",
       " (3, 'Charlie', 'Marketing', 55000.0, '2024-03-01'),\n",
       " (4, 'David', 'Engineering', 95000.0, '2021-11-20')]"
      ]
     },
     "execution_count": 29,
     "metadata": {},
     "output_type": "execute_result"
    }
   ],
   "source": [
    "# Selecting the data from the table\n",
    "cursor.execute('''\n",
    "    SELECT * FROM employees\n",
    "''')\n",
    "cursor.fetchall()"
   ]
  },
  {
   "cell_type": "code",
   "execution_count": 31,
   "id": "d35c3c94-ce76-44d5-826f-f4c82d559e4c",
   "metadata": {},
   "outputs": [
    {
     "data": {
      "text/plain": [
       "<sqlite3.Cursor at 0x17b53c5e5c0>"
      ]
     },
     "execution_count": 31,
     "metadata": {},
     "output_type": "execute_result"
    }
   ],
   "source": [
    "# Delete an employee by name\n",
    "cursor.execute(\"DELETE FROM employees WHERE name = ?\", (\"Charlie\",))\n"
   ]
  },
  {
   "cell_type": "code",
   "execution_count": 33,
   "id": "4f12f5c9-556b-4d9c-8a19-f8f21e99362c",
   "metadata": {},
   "outputs": [
    {
     "data": {
      "text/plain": [
       "[(1, 'Alice', 'HR', 60000.0, '2023-01-15'),\n",
       " (2, 'Bob', 'Engineering', 85000.0, '2022-09-10'),\n",
       " (4, 'David', 'Engineering', 95000.0, '2021-11-20')]"
      ]
     },
     "execution_count": 33,
     "metadata": {},
     "output_type": "execute_result"
    }
   ],
   "source": [
    "# Selecting the data from the table\n",
    "cursor.execute('''\n",
    "    SELECT * FROM employees\n",
    "''')\n",
    "cursor.fetchall()"
   ]
  },
  {
   "cell_type": "code",
   "execution_count": 37,
   "id": "a9d722b7-77ac-4880-b826-bb45d1c05f6a",
   "metadata": {},
   "outputs": [
    {
     "data": {
      "text/plain": [
       "3"
      ]
     },
     "execution_count": 37,
     "metadata": {},
     "output_type": "execute_result"
    }
   ],
   "source": [
    "# Count the number of employees\n",
    "cursor.execute(\"SELECT COUNT(*) FROM employees\")\n",
    "cursor.fetchone()[0]"
   ]
  },
  {
   "cell_type": "code",
   "execution_count": 39,
   "id": "06f3cc18-2c8d-4a0d-91e3-18b242ab5e12",
   "metadata": {},
   "outputs": [
    {
     "ename": "TypeError",
     "evalue": "'NoneType' object is not subscriptable",
     "output_type": "error",
     "traceback": [
      "\u001b[1;31m---------------------------------------------------------------------------\u001b[0m",
      "\u001b[1;31mTypeError\u001b[0m                                 Traceback (most recent call last)",
      "Cell \u001b[1;32mIn[39], line 1\u001b[0m\n\u001b[1;32m----> 1\u001b[0m count \u001b[38;5;241m=\u001b[39m cursor\u001b[38;5;241m.\u001b[39mfetchone()[\u001b[38;5;241m0\u001b[39m]\n\u001b[0;32m      2\u001b[0m \u001b[38;5;28mprint\u001b[39m(\u001b[38;5;124mf\u001b[39m\u001b[38;5;124m\"\u001b[39m\u001b[38;5;124mTotal number of employees: \u001b[39m\u001b[38;5;132;01m{\u001b[39;00mcount\u001b[38;5;132;01m}\u001b[39;00m\u001b[38;5;130;01m\\n\u001b[39;00m\u001b[38;5;124m\"\u001b[39m)\n",
      "\u001b[1;31mTypeError\u001b[0m: 'NoneType' object is not subscriptable"
     ]
    }
   ],
   "source": [
    "count = cursor.fetchone()[0] \n",
    "print(f\"Total number of employees: {count}\\n\")"
   ]
  },
  {
   "cell_type": "markdown",
   "id": "872276c7-8ac0-443c-8508-4c2d4a976db1",
   "metadata": {},
   "source": [
    "The above gives an error because the cursor object is a generator"
   ]
  },
  {
   "cell_type": "code",
   "execution_count": 41,
   "id": "e4ea812f-fb36-4cb7-bc38-8a49c23c64b8",
   "metadata": {},
   "outputs": [
    {
     "name": "stdout",
     "output_type": "stream",
     "text": [
      "Total number of employees: 3\n",
      "\n"
     ]
    }
   ],
   "source": [
    "# Count the number of employees\n",
    "cursor.execute(\"SELECT COUNT(*) FROM employees\")\n",
    "count = cursor.fetchone()[0] \n",
    "print(f\"Total number of employees: {count}\\n\")"
   ]
  },
  {
   "cell_type": "code",
   "execution_count": 43,
   "id": "625b28b8-3c9a-4d33-91e2-524c419f56fb",
   "metadata": {},
   "outputs": [],
   "source": [
    "# Close the connection\n",
    "conn.commit()"
   ]
  },
  {
   "cell_type": "code",
   "execution_count": 45,
   "id": "2e6d8d94-925b-48e7-b817-57e6135e02da",
   "metadata": {},
   "outputs": [],
   "source": [
    "conn.close()"
   ]
  },
  {
   "cell_type": "markdown",
   "id": "93fee214-ab99-4bad-9965-1f4fb8813d69",
   "metadata": {},
   "source": [
    "##### Re-open the database"
   ]
  },
  {
   "cell_type": "code",
   "execution_count": 49,
   "id": "923dd345-57bf-40d9-90a0-dbb0189ede29",
   "metadata": {},
   "outputs": [],
   "source": [
    "# Connect to the database\n",
    "conn = sqlite3.connect('employee.db')\n",
    "cursor = conn.cursor()"
   ]
  },
  {
   "cell_type": "code",
   "execution_count": 51,
   "id": "7b63c612-3ea4-46f1-8bec-7c53fcb95f97",
   "metadata": {},
   "outputs": [
    {
     "data": {
      "text/plain": [
       "[(1, 'Alice', 'HR', 60000.0, '2023-01-15'),\n",
       " (2, 'Bob', 'Engineering', 85000.0, '2022-09-10'),\n",
       " (4, 'David', 'Engineering', 95000.0, '2021-11-20')]"
      ]
     },
     "execution_count": 51,
     "metadata": {},
     "output_type": "execute_result"
    }
   ],
   "source": [
    "# Selecting the data from the table\n",
    "cursor.execute('''\n",
    "    SELECT * FROM employees\n",
    "''')\n",
    "cursor.fetchall()"
   ]
  },
  {
   "cell_type": "markdown",
   "id": "e03386d0-0824-4425-bbff-0e129f99c86f",
   "metadata": {},
   "source": [
    "##### You can see the data is still available"
   ]
  },
  {
   "cell_type": "markdown",
   "id": "b616237c-89ef-4880-bebd-3dfeaa15bc0d",
   "metadata": {},
   "source": [
    "### 36.2 The pickle Module"
   ]
  },
  {
   "cell_type": "markdown",
   "id": "472a9fb5-3e2e-4d1a-8e27-920455a2ee3e",
   "metadata": {},
   "source": [
    "Reference: https://docs.python.org/3/library/pickle.html#module-pickle"
   ]
  },
  {
   "cell_type": "markdown",
   "id": "a58c3298-07e7-4442-9e04-d28212d16919",
   "metadata": {},
   "source": [
    "You are building a Python application that needs to save user session data to disk and retrieve it later using the pickle module.\n",
    "\n",
    "Requirements:\n",
    "\n",
    "Define a UserSession class with the following attributes:\n",
    "\n",
    "    username (string)\n",
    "    last_login_time (datetime)\n",
    "    preferences (dictionary of user settings, like theme, language, etc.)\n",
    "\n",
    "- Create at least two instances of the UserSession class with dummy data.\n",
    "- Serialize (save) the list of session objects to a file called sessions.pkl.\n",
    "- Later, deserialize (load) the list of sessions from the file.\n",
    "- Print out each user’s data in a readable format.\n",
    "\n",
    "Deliverables:\n",
    "\n",
    "- Python code demonstrating creation, pickling, and unpickling.\n",
    "- Output showing the loaded data from the pickle file.\n",
    "- Use of proper error handling (e.g., FileNotFoundError or EOFError).\n",
    "\n",
    "Challenge:\n",
    "\n",
    "Add a feature that updates a user’s preferences and re-pickles the modified session list.\n",
    "\n"
   ]
  },
  {
   "cell_type": "code",
   "execution_count": 55,
   "id": "f189e1d8-1699-4edd-a98e-85c91343abbd",
   "metadata": {},
   "outputs": [],
   "source": [
    "import pickle\n",
    "from datetime import datetime "
   ]
  },
  {
   "cell_type": "markdown",
   "id": "9f28c433-8c47-4746-b128-c650973878d1",
   "metadata": {},
   "source": [
    "##### Define the class and create objects"
   ]
  },
  {
   "cell_type": "code",
   "execution_count": 65,
   "id": "f53732e8-2af3-43b2-8d2a-30a925d364f3",
   "metadata": {},
   "outputs": [],
   "source": [
    "# Define the user session class\n",
    "class UserSession:\n",
    "\n",
    "    def __init__(self, username, last_login_time, preferences):\n",
    "        self.username = username\n",
    "        self.last_login_time = last_login_time\n",
    "        self.preferences = preferences\n",
    "\n",
    "    def __repr__(self):\n",
    "        return( f\"UserSession(username='{self.username}', last_login_time={self.last_login_time}, self.preferences={self.preferences})\")"
   ]
  },
  {
   "cell_type": "code",
   "execution_count": 67,
   "id": "1f9db52f-a166-41ab-ad3a-86aa2da9288f",
   "metadata": {},
   "outputs": [],
   "source": [
    "s1 = UserSession('Anil', datetime.now(), {'theme': \"dark\", \"language\":\"English\"})\n",
    "s2 = UserSession('Sunil', datetime.now(), {'theme': \"light\", \"language\":\"French\"})"
   ]
  },
  {
   "cell_type": "code",
   "execution_count": 69,
   "id": "a8a0ded5-86c4-4dad-b78d-b04771dbe8ec",
   "metadata": {},
   "outputs": [
    {
     "data": {
      "text/plain": [
       "UserSession(username='Anil', last_login_time=2025-04-09 13:15:49.988548, self.preferences={'theme': 'dark', 'language': 'English'})"
      ]
     },
     "execution_count": 69,
     "metadata": {},
     "output_type": "execute_result"
    }
   ],
   "source": [
    "s1"
   ]
  },
  {
   "cell_type": "code",
   "execution_count": 71,
   "id": "c8476931-26c8-474c-8c05-53c2a8a87429",
   "metadata": {},
   "outputs": [
    {
     "data": {
      "text/plain": [
       "UserSession(username='Sunil', last_login_time=2025-04-09 13:15:49.988548, self.preferences={'theme': 'light', 'language': 'French'})"
      ]
     },
     "execution_count": 71,
     "metadata": {},
     "output_type": "execute_result"
    }
   ],
   "source": [
    "s2"
   ]
  },
  {
   "cell_type": "markdown",
   "id": "2f2ac73a-2891-491b-bf8f-c673c1537de0",
   "metadata": {},
   "source": [
    "##### How to store the objects in a file"
   ]
  },
  {
   "cell_type": "code",
   "execution_count": 75,
   "id": "755ef7c1-a2d9-40ee-afab-b66bc8a8178f",
   "metadata": {},
   "outputs": [],
   "source": [
    "sessions = [s1, s2]"
   ]
  },
  {
   "cell_type": "code",
   "execution_count": 77,
   "id": "c4ac1b0e-c322-41c6-b611-70d1fe479c89",
   "metadata": {},
   "outputs": [],
   "source": [
    "# Serialize the session list\n",
    "with open(\"sessions.pkl\", \"wb\") as f:\n",
    "    pickle.dump(sessions, f)"
   ]
  },
  {
   "cell_type": "markdown",
   "id": "1aa0684d-1693-4e2e-b5b5-4de86acf07c2",
   "metadata": {},
   "source": [
    "##### How to re-store the objects from a pickle file"
   ]
  },
  {
   "cell_type": "code",
   "execution_count": 80,
   "id": "8afbdaaa-1e99-4057-b4fd-1f51d89a3d26",
   "metadata": {},
   "outputs": [
    {
     "name": "stdout",
     "output_type": "stream",
     "text": [
      "UserSession(username='Anil', last_login_time=2025-04-09 13:15:49.988548, self.preferences={'theme': 'dark', 'language': 'English'})\n",
      "UserSession(username='Sunil', last_login_time=2025-04-09 13:15:49.988548, self.preferences={'theme': 'light', 'language': 'French'})\n"
     ]
    }
   ],
   "source": [
    "try:\n",
    "    with open(\"sessions.pkl\", \"rb\") as f:\n",
    "        loaded_sessions = pickle.load(f)\n",
    "    for session in loaded_sessions:\n",
    "        print(session)\n",
    "except Exception as e:\n",
    "    print(f\"Exception {e}\")"
   ]
  },
  {
   "cell_type": "code",
   "execution_count": 82,
   "id": "b025bbd2-ee92-49b7-a863-87ecd237309a",
   "metadata": {},
   "outputs": [],
   "source": [
    "# Just to make sure they are objects that are retrieved\n",
    "loaded_sessions[0].preferences[\"theme\"] = \"light\"\n",
    "loaded_sessions[0].preferences[\"language\"] = \"Spanish\""
   ]
  },
  {
   "cell_type": "code",
   "execution_count": 84,
   "id": "ad4e1933-b5d3-4893-83d9-346310b87aee",
   "metadata": {},
   "outputs": [
    {
     "name": "stdout",
     "output_type": "stream",
     "text": [
      "UserSession(username='Anil', last_login_time=2025-04-09 13:15:49.988548, self.preferences={'theme': 'light', 'language': 'Spanish'})\n",
      "UserSession(username='Sunil', last_login_time=2025-04-09 13:15:49.988548, self.preferences={'theme': 'light', 'language': 'French'})\n"
     ]
    }
   ],
   "source": [
    "for session in loaded_sessions:\n",
    "    print(session)"
   ]
  },
  {
   "cell_type": "code",
   "execution_count": 88,
   "id": "971b648f-71a0-465b-a7a1-4327da48386f",
   "metadata": {},
   "outputs": [],
   "source": [
    "# Re-Serialize the session list\n",
    "with open(\"sessions.pkl\", \"wb\") as f:\n",
    "    pickle.dump(sessions, f)"
   ]
  },
  {
   "cell_type": "markdown",
   "id": "df95753f-c1cd-4f5b-a27c-e3677189e3cf",
   "metadata": {},
   "source": [
    "##### The sessions.pkl will have the updated session information"
   ]
  },
  {
   "cell_type": "code",
   "execution_count": null,
   "id": "b98b33c6-3922-4f43-9994-0eed24050433",
   "metadata": {},
   "outputs": [],
   "source": []
  }
 ],
 "metadata": {
  "kernelspec": {
   "display_name": "Python 3 (ipykernel)",
   "language": "python",
   "name": "python3"
  },
  "language_info": {
   "codemirror_mode": {
    "name": "ipython",
    "version": 3
   },
   "file_extension": ".py",
   "mimetype": "text/x-python",
   "name": "python",
   "nbconvert_exporter": "python",
   "pygments_lexer": "ipython3",
   "version": "3.12.7"
  }
 },
 "nbformat": 4,
 "nbformat_minor": 5
}
