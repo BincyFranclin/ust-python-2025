{
 "cells": [
  {
   "cell_type": "markdown",
   "id": "69a9d53d-1794-4679-87a5-5feaa7b86993",
   "metadata": {},
   "source": [
    "### 35.1 Recap of metaclasses"
   ]
  },
  {
   "cell_type": "markdown",
   "id": "d4e05b74-5b68-466e-af14-b58fe2758c5d",
   "metadata": {},
   "source": [
    "#### Original\n",
    "Create a metaclass called AutoInit that automatically injects an __init__ method into \n",
    "any class that:\n",
    "\n",
    "Defines a class-level list called init_fields, e.g., [\"name\", \"salary\"].\n",
    "\n",
    "If the __init__ method already exists, the metaclass should not override it.\n",
    "\n",
    "The injected __init__ should assign values to those fields as instance attributes.\n",
    "\n",
    "Raise an error if the init_fields list is missing or not a list."
   ]
  },
  {
   "cell_type": "markdown",
   "id": "4fe5a139-d618-46e6-900e-212a2a1711de",
   "metadata": {},
   "source": [
    "#### Thought through specificaitons"
   ]
  },
  {
   "cell_type": "markdown",
   "id": "ea934f9a-5fcf-4d0e-ba2d-51dd63a3db99",
   "metadata": {},
   "source": [
    "Create a metaclass called AutoInit that automatically injects an __init__ method into \n",
    "any class that:\n",
    "\n",
    "    Spec 1:\n",
    "    Defines a class-level list called init_fields, e.g., [\"name\", \"salary\"].\n",
    "    Raise an error if the init_fields list is missing or not a list.\n",
    "\n",
    "    Spec 2:\n",
    "    If the __init__ method already exists, the metaclass should not override it.\n",
    "    The injected __init__ should assign values to those fields as instance attributes.\n",
    "    \n"
   ]
  },
  {
   "cell_type": "code",
   "execution_count": 5,
   "id": "97585329-f21a-4fa6-9990-d5c9f2c657a7",
   "metadata": {},
   "outputs": [],
   "source": [
    "# Basic structure of a metaclass\n",
    "class AutoInit(type):\n",
    "\n",
    "    def __new__(cls, name, bases, dct):\n",
    "\n",
    "        return super().__new__(cls, name, bases, dct)"
   ]
  },
  {
   "cell_type": "code",
   "execution_count": null,
   "id": "79201c1b-288d-4ecb-b465-1bf512b64bbb",
   "metadata": {},
   "outputs": [],
   "source": [
    "# Spec 1\n",
    "class AutoInit(type):\n",
    "\n",
    "    def __new__(cls, name, bases, dct):\n",
    "\n",
    "        # check for init_fields\n",
    "        init_fields = dct.get('init_fields')\n",
    "        if init_fields is None or not isinstance(init_fields, list):\n",
    "            raise TypeError(f\"Class '{name}' must define class-level list called init_fields\")\n",
    "\n",
    "\n",
    "        return super().__new__(cls, name, bases, dct)"
   ]
  },
  {
   "cell_type": "code",
   "execution_count": 10,
   "id": "90c10614-767f-4bc5-a2e4-c33f6c26d37c",
   "metadata": {},
   "outputs": [],
   "source": [
    "# Spec 1 + Spec 2 (outline)\n",
    "class AutoInit(type):\n",
    "\n",
    "    def __new__(cls, name, bases, dct):\n",
    "\n",
    "        # check for init_fields\n",
    "        init_fields = dct.get('init_fields')\n",
    "        if init_fields is None or not isinstance(init_fields, list):\n",
    "            raise TypeError(f\"Class '{name}' must define class-level list called init_fields\")\n",
    "\n",
    "        # check if __init__ is defined, otherwise inject it\n",
    "        if '__init__' not in dct:\n",
    "            def __init__(self, *args):\n",
    "                pass\n",
    "            dct['__init__'] = __init__\n",
    "\n",
    "\n",
    "        return super().__new__(cls, name, bases, dct)\n"
   ]
  },
  {
   "cell_type": "code",
   "execution_count": 42,
   "id": "be45e86e-dda6-4dc4-ac71-b831dd5558fd",
   "metadata": {},
   "outputs": [],
   "source": [
    "# Spec 1 + Spec 2 \n",
    "class AutoInit(type):\n",
    "\n",
    "    def __new__(cls, name, bases, dct):\n",
    "\n",
    "        # check for init_fields\n",
    "        init_fields = dct.get('init_fields')\n",
    "        if init_fields is None or not isinstance(init_fields, list):\n",
    "            raise TypeError(f\"Class '{name}' must define class-level list called init_fields\")\n",
    "\n",
    "        # check if __init__ is defined, otherwise inject it\n",
    "        if '__init__' not in dct:\n",
    "            def __init__(self, *args):\n",
    "                if len(args) != len(init_fields):\n",
    "                    raise ValueError(f\"{len(init_fields)} expected, got {len(args)}\")\n",
    "                for field, value in zip(init_fields, args):\n",
    "                    setattr(self, field, value)\n",
    "            dct['__init__'] = __init__\n",
    "\n",
    "        # Just to demonstrate that you can inject any function as you need\n",
    "        def somefunction(self):\n",
    "            print(\"This is somefunction\")\n",
    "        dct['somefunction'] = somefunction\n",
    "\n",
    "\n",
    "        return super().__new__(cls, name, bases, dct)"
   ]
  },
  {
   "cell_type": "code",
   "execution_count": 44,
   "id": "eeb6b57f-d376-40f9-be9e-36234af8739d",
   "metadata": {},
   "outputs": [],
   "source": [
    "class E:\n",
    "    pass"
   ]
  },
  {
   "cell_type": "code",
   "execution_count": 46,
   "id": "82a5f480-c636-45bf-94eb-29d30622d73c",
   "metadata": {},
   "outputs": [
    {
     "ename": "TypeError",
     "evalue": "Class 'E' must define class-level list called init_fields",
     "output_type": "error",
     "traceback": [
      "\u001b[1;31m---------------------------------------------------------------------------\u001b[0m",
      "\u001b[1;31mTypeError\u001b[0m                                 Traceback (most recent call last)",
      "Cell \u001b[1;32mIn[46], line 1\u001b[0m\n\u001b[1;32m----> 1\u001b[0m \u001b[38;5;28;01mclass\u001b[39;00m \u001b[38;5;21;01mE\u001b[39;00m(metaclass\u001b[38;5;241m=\u001b[39mAutoInit):\n\u001b[0;32m      2\u001b[0m     \u001b[38;5;28;01mpass\u001b[39;00m\n",
      "Cell \u001b[1;32mIn[42], line 9\u001b[0m, in \u001b[0;36mAutoInit.__new__\u001b[1;34m(cls, name, bases, dct)\u001b[0m\n\u001b[0;32m      7\u001b[0m init_fields \u001b[38;5;241m=\u001b[39m dct\u001b[38;5;241m.\u001b[39mget(\u001b[38;5;124m'\u001b[39m\u001b[38;5;124minit_fields\u001b[39m\u001b[38;5;124m'\u001b[39m)\n\u001b[0;32m      8\u001b[0m \u001b[38;5;28;01mif\u001b[39;00m init_fields \u001b[38;5;129;01mis\u001b[39;00m \u001b[38;5;28;01mNone\u001b[39;00m \u001b[38;5;129;01mor\u001b[39;00m \u001b[38;5;129;01mnot\u001b[39;00m \u001b[38;5;28misinstance\u001b[39m(init_fields, \u001b[38;5;28mlist\u001b[39m):\n\u001b[1;32m----> 9\u001b[0m     \u001b[38;5;28;01mraise\u001b[39;00m \u001b[38;5;167;01mTypeError\u001b[39;00m(\u001b[38;5;124mf\u001b[39m\u001b[38;5;124m\"\u001b[39m\u001b[38;5;124mClass \u001b[39m\u001b[38;5;124m'\u001b[39m\u001b[38;5;132;01m{\u001b[39;00mname\u001b[38;5;132;01m}\u001b[39;00m\u001b[38;5;124m'\u001b[39m\u001b[38;5;124m must define class-level list called init_fields\u001b[39m\u001b[38;5;124m\"\u001b[39m)\n\u001b[0;32m     11\u001b[0m \u001b[38;5;66;03m# check if __init__ is defined, otherwise inject it\u001b[39;00m\n\u001b[0;32m     12\u001b[0m \u001b[38;5;28;01mif\u001b[39;00m \u001b[38;5;124m'\u001b[39m\u001b[38;5;124m__init__\u001b[39m\u001b[38;5;124m'\u001b[39m \u001b[38;5;129;01mnot\u001b[39;00m \u001b[38;5;129;01min\u001b[39;00m dct:\n",
      "\u001b[1;31mTypeError\u001b[0m: Class 'E' must define class-level list called init_fields"
     ]
    }
   ],
   "source": [
    "class E(metaclass=AutoInit):\n",
    "    pass"
   ]
  },
  {
   "cell_type": "code",
   "execution_count": 48,
   "id": "d8d83f66-40ef-4d07-8bae-30093ad6bce9",
   "metadata": {},
   "outputs": [],
   "source": [
    "class Employee(metaclass=AutoInit):\n",
    "    init_fields = ['name', 'salary']\n",
    "\n",
    "    def display(self):\n",
    "        return f\"Employee: {self.name}, Salary: {self.salary}\""
   ]
  },
  {
   "cell_type": "code",
   "execution_count": 50,
   "id": "133f1196-9e58-4c64-98a6-cd5510898c83",
   "metadata": {},
   "outputs": [
    {
     "data": {
      "text/plain": [
       "'Employee: Anil, Salary: 1000000'"
      ]
     },
     "execution_count": 50,
     "metadata": {},
     "output_type": "execute_result"
    }
   ],
   "source": [
    "e = Employee(\"Anil\", 1000000)\n",
    "e.display()"
   ]
  },
  {
   "cell_type": "code",
   "execution_count": 52,
   "id": "aaaa42c2-3832-4752-a84d-2d86162a7b55",
   "metadata": {},
   "outputs": [
    {
     "data": {
      "text/plain": [
       "['__class__',\n",
       " '__delattr__',\n",
       " '__dict__',\n",
       " '__dir__',\n",
       " '__doc__',\n",
       " '__eq__',\n",
       " '__format__',\n",
       " '__ge__',\n",
       " '__getattribute__',\n",
       " '__getstate__',\n",
       " '__gt__',\n",
       " '__hash__',\n",
       " '__init__',\n",
       " '__init_subclass__',\n",
       " '__le__',\n",
       " '__lt__',\n",
       " '__module__',\n",
       " '__ne__',\n",
       " '__new__',\n",
       " '__reduce__',\n",
       " '__reduce_ex__',\n",
       " '__repr__',\n",
       " '__setattr__',\n",
       " '__sizeof__',\n",
       " '__str__',\n",
       " '__subclasshook__',\n",
       " '__weakref__',\n",
       " 'display',\n",
       " 'init_fields',\n",
       " 'somefunction']"
      ]
     },
     "execution_count": 52,
     "metadata": {},
     "output_type": "execute_result"
    }
   ],
   "source": [
    "dir(Employee)"
   ]
  },
  {
   "cell_type": "code",
   "execution_count": 54,
   "id": "704ebcdc-c09d-4cc0-82de-b3b41c7e27dd",
   "metadata": {},
   "outputs": [
    {
     "name": "stdout",
     "output_type": "stream",
     "text": [
      "This is somefunction\n"
     ]
    }
   ],
   "source": [
    "e.somefunction()"
   ]
  },
  {
   "cell_type": "markdown",
   "id": "865abee1-cb38-4c8b-840d-42937e9234ca",
   "metadata": {},
   "source": [
    "### 35.2 The @cache Decorator"
   ]
  },
  {
   "cell_type": "markdown",
   "id": "09d10de3-00a1-4383-a581-ac050de62971",
   "metadata": {},
   "source": [
    "Compute Fibonacci numbers recursively\n",
    "Compare execution with and without caching"
   ]
  },
  {
   "cell_type": "code",
   "execution_count": 61,
   "id": "e7a626b5-e884-4eb8-aff5-7908ee43ff38",
   "metadata": {},
   "outputs": [],
   "source": [
    "import time\n",
    "import tracemalloc\n",
    "from functools import cache  # also use lru_cache -> adv. you can specify max_size"
   ]
  },
  {
   "cell_type": "code",
   "execution_count": 63,
   "id": "d02e53b5-e71f-4d18-88bf-ec0958139276",
   "metadata": {},
   "outputs": [],
   "source": [
    "# without cache\n",
    "def fibogen(n):\n",
    "    if n < 2:\n",
    "        return n\n",
    "    return fibogen(n-1) + fibogen(n-2)"
   ]
  },
  {
   "cell_type": "code",
   "execution_count": 65,
   "id": "a0710ed6-c063-4b3c-a036-4d7112a255ef",
   "metadata": {},
   "outputs": [],
   "source": [
    "# with cache\n",
    "@cache\n",
    "def fibogen_cache(n):\n",
    "    if n < 2:\n",
    "        return n\n",
    "    return fibogen(n-1) + fibogen(n-2)"
   ]
  },
  {
   "cell_type": "code",
   "execution_count": 73,
   "id": "8b350202-3616-481a-bb62-103a7583990a",
   "metadata": {},
   "outputs": [],
   "source": [
    "def measure_execution(func, n):\n",
    "\n",
    "    tracemalloc.start()\n",
    "    start_time = time.time()\n",
    "    result = func(n)\n",
    "    end_time = time.time()\n",
    "    current, peak = tracemalloc.get_traced_memory()\n",
    "    tracemalloc.stop()\n",
    "\n",
    "    print(f\"Funcion: {func.__name__}\")\n",
    "    print(f\"Result: {result}\")\n",
    "    print(f\"Time taken: {end_time - start_time:.4f} seconds\")\n",
    "    print(f\"Memory Used: {current} Bytes; Peak: {peak} Bytes\\n\")"
   ]
  },
  {
   "cell_type": "code",
   "execution_count": 87,
   "id": "acdf2609-553b-4659-81e8-6f8cc9e89a53",
   "metadata": {},
   "outputs": [
    {
     "name": "stdout",
     "output_type": "stream",
     "text": [
      "Funcion: fibogen\n",
      "Result: 102334155\n",
      "Time taken: 19.5016 seconds\n",
      "Memory Used: 1235 Bytes; Peak: 1683 Bytes\n",
      "\n"
     ]
    }
   ],
   "source": [
    "N = 40\n",
    "measure_execution(fibogen, N)"
   ]
  },
  {
   "cell_type": "code",
   "execution_count": 89,
   "id": "a9cc80d6-b475-4c6d-bc37-0de5f01aa024",
   "metadata": {},
   "outputs": [
    {
     "name": "stdout",
     "output_type": "stream",
     "text": [
      "Funcion: fibogen_cache\n",
      "Result: 102334155\n",
      "Time taken: 19.9001 seconds\n",
      "Memory Used: 149153 Bytes; Peak: 149793 Bytes\n",
      "\n"
     ]
    }
   ],
   "source": [
    "N = 40\n",
    "measure_execution(fibogen_cache, N)"
   ]
  },
  {
   "cell_type": "code",
   "execution_count": 91,
   "id": "a9356def-d6cc-4164-aac7-bc51abf0f57c",
   "metadata": {},
   "outputs": [
    {
     "name": "stdout",
     "output_type": "stream",
     "text": [
      "Funcion: fibogen_cache\n",
      "Result: 39088169\n",
      "Time taken: 7.6744 seconds\n",
      "Memory Used: 1857 Bytes; Peak: 2273 Bytes\n",
      "\n"
     ]
    }
   ],
   "source": [
    "N = 38\n",
    "measure_execution(fibogen_cache, N)"
   ]
  },
  {
   "cell_type": "code",
   "execution_count": 93,
   "id": "0c603cfc-c615-4f62-be7e-9c4f87abb07e",
   "metadata": {},
   "outputs": [
    {
     "name": "stdout",
     "output_type": "stream",
     "text": [
      "Funcion: fibogen_cache\n",
      "Result: 267914296\n",
      "Time taken: 54.3010 seconds\n",
      "Memory Used: 1747 Bytes; Peak: 2419 Bytes\n",
      "\n"
     ]
    }
   ],
   "source": [
    "N = 42\n",
    "measure_execution(fibogen_cache, N)"
   ]
  },
  {
   "cell_type": "code",
   "execution_count": 95,
   "id": "33403fc3-8d22-4b7c-86f5-0ae5ebac0fa1",
   "metadata": {},
   "outputs": [
    {
     "name": "stdout",
     "output_type": "stream",
     "text": [
      "Funcion: fibogen_cache\n",
      "Result: 102334155\n",
      "Time taken: 0.0000 seconds\n",
      "Memory Used: 0 Bytes; Peak: 0 Bytes\n",
      "\n"
     ]
    }
   ],
   "source": [
    "N = 40\n",
    "measure_execution(fibogen_cache, N)"
   ]
  },
  {
   "cell_type": "code",
   "execution_count": 97,
   "id": "4c467bed-1c5f-448f-8d6f-e6173e3999fa",
   "metadata": {},
   "outputs": [
    {
     "name": "stdout",
     "output_type": "stream",
     "text": [
      "Funcion: fibogen_cache\n",
      "Result: 39088169\n",
      "Time taken: 0.0000 seconds\n",
      "Memory Used: 0 Bytes; Peak: 0 Bytes\n",
      "\n"
     ]
    }
   ],
   "source": [
    "N = 38\n",
    "measure_execution(fibogen_cache, N)"
   ]
  },
  {
   "cell_type": "code",
   "execution_count": 99,
   "id": "7d1cf469-2504-489f-a80c-09a171ff4128",
   "metadata": {},
   "outputs": [
    {
     "name": "stdout",
     "output_type": "stream",
     "text": [
      "Funcion: fibogen_cache\n",
      "Result: 267914296\n",
      "Time taken: 0.0000 seconds\n",
      "Memory Used: 0 Bytes; Peak: 0 Bytes\n",
      "\n"
     ]
    }
   ],
   "source": [
    "N = 42\n",
    "measure_execution(fibogen_cache, N)"
   ]
  },
  {
   "cell_type": "markdown",
   "id": "9bcbd1a4-1577-4576-8e0f-6c043add61fa",
   "metadata": {},
   "source": [
    "##### See the difference"
   ]
  },
  {
   "cell_type": "code",
   "execution_count": 101,
   "id": "5657d011-24b3-4622-af99-cda0a2de7d8a",
   "metadata": {},
   "outputs": [
    {
     "name": "stdout",
     "output_type": "stream",
     "text": [
      "Funcion: fibogen\n",
      "Result: 102334155\n",
      "Time taken: 20.2619 seconds\n",
      "Memory Used: 1579 Bytes; Peak: 2283 Bytes\n",
      "\n"
     ]
    }
   ],
   "source": [
    "N = 40\n",
    "measure_execution(fibogen, N)"
   ]
  },
  {
   "cell_type": "code",
   "execution_count": 103,
   "id": "5283bc6b-1c8c-4976-97f6-92a66331adf3",
   "metadata": {},
   "outputs": [
    {
     "name": "stdout",
     "output_type": "stream",
     "text": [
      "Funcion: fibogen_cache\n",
      "Result: 102334155\n",
      "Time taken: 0.0000 seconds\n",
      "Memory Used: 0 Bytes; Peak: 0 Bytes\n",
      "\n"
     ]
    }
   ],
   "source": [
    "N = 40\n",
    "measure_execution(fibogen_cache, N)"
   ]
  },
  {
   "cell_type": "markdown",
   "id": "d2af5fc0-46ee-4790-95d5-2bcf52fcae1e",
   "metadata": {},
   "source": [
    "### 35.3 The @total_ordering Decorator"
   ]
  },
  {
   "cell_type": "markdown",
   "id": "86213d79-e8cc-4e09-a225-8fb216af43ca",
   "metadata": {},
   "source": [
    "##### Given a class defining one or more rich comparison ordering methods, this class decorator supplies the rest."
   ]
  },
  {
   "cell_type": "markdown",
   "id": "5f1e8e5c-8e4e-47ee-a818-61a31a5853a3",
   "metadata": {},
   "source": [
    "Why Use @total_ordering?\n",
    "Without it, you'd have to implement all 6 comparison methods:\n",
    "\n",
    "__eq__, __ne__, __lt__, __le__, __gt__, __ge__  -> override all these\n",
    "\n",
    "With @total_ordering, you only need __eq__ + one of the others, and the rest are auto-generated.\n",
    "\n",
    "Reference: https://docs.python.org/3/library/functools.html"
   ]
  },
  {
   "cell_type": "markdown",
   "id": "10f97bd1-1c1a-4f05-8189-1f8f21d344ff",
   "metadata": {},
   "source": [
    "s1 > s2 # compare the average marks"
   ]
  },
  {
   "cell_type": "code",
   "execution_count": 155,
   "id": "0d22a164-3f47-450b-b42b-2ed01febf8a7",
   "metadata": {},
   "outputs": [],
   "source": [
    "from functools import total_ordering\n",
    "\n",
    "@total_ordering\n",
    "class Student(object):\n",
    "\n",
    "    def __init__(self, name, marks):\n",
    "        self.name = name\n",
    "        self.marks = marks\n",
    "\n",
    "    def __eq__(self, other):\n",
    "        if not isinstance(other, Student):\n",
    "            return NotImplemented\n",
    "        return self.marks == other.marks\n",
    "\n",
    "    def __lt__(self, other):\n",
    "        if not isinstance(other, Student):\n",
    "            return NotImplemented \n",
    "        return self.marks < other.marks\n",
    "\n",
    "    def __repr__(self):\n",
    "        return f\"{self.name}({self.marks})\""
   ]
  },
  {
   "cell_type": "code",
   "execution_count": 157,
   "id": "b421676a-0d61-4041-809f-e605b5c0d65b",
   "metadata": {},
   "outputs": [],
   "source": [
    "s1 = (\"Anil\", 398)\n",
    "s2 = (\"Sunil\", 407)"
   ]
  },
  {
   "cell_type": "code",
   "execution_count": 159,
   "id": "95ee2e68-2b85-411e-888a-583b2d4073e9",
   "metadata": {},
   "outputs": [
    {
     "data": {
      "text/plain": [
       "(('Anil', 398), ('Sunil', 407))"
      ]
     },
     "execution_count": 159,
     "metadata": {},
     "output_type": "execute_result"
    }
   ],
   "source": [
    "s1, s2"
   ]
  },
  {
   "cell_type": "code",
   "execution_count": 161,
   "id": "05d453d1-35e2-43ab-ab8e-674d9dd030d9",
   "metadata": {},
   "outputs": [
    {
     "data": {
      "text/plain": [
       "False"
      ]
     },
     "execution_count": 161,
     "metadata": {},
     "output_type": "execute_result"
    }
   ],
   "source": [
    "s1 == s2 # works, because it is implemented"
   ]
  },
  {
   "cell_type": "code",
   "execution_count": 163,
   "id": "ce410e1a-8877-452d-8441-eda6e2aabfad",
   "metadata": {},
   "outputs": [
    {
     "data": {
      "text/plain": [
       "True"
      ]
     },
     "execution_count": 163,
     "metadata": {},
     "output_type": "execute_result"
    }
   ],
   "source": [
    "s1 < s2 # works, because it is implemented"
   ]
  },
  {
   "cell_type": "code",
   "execution_count": 165,
   "id": "318d6a81-8c98-48d3-a6e2-7dc4c0a33a86",
   "metadata": {},
   "outputs": [
    {
     "data": {
      "text/plain": [
       "False"
      ]
     },
     "execution_count": 165,
     "metadata": {},
     "output_type": "execute_result"
    }
   ],
   "source": [
    "s1 >= s2 # technically this will not work, as it is not implemented"
   ]
  },
  {
   "cell_type": "code",
   "execution_count": 168,
   "id": "6a567a5f-ad35-434f-9eec-7641c0372e59",
   "metadata": {},
   "outputs": [
    {
     "data": {
      "text/plain": [
       "True"
      ]
     },
     "execution_count": 168,
     "metadata": {},
     "output_type": "execute_result"
    }
   ],
   "source": [
    "s1 <= s2"
   ]
  },
  {
   "cell_type": "code",
   "execution_count": 170,
   "id": "921c97de-ba70-42ab-ab24-70fd67135a8d",
   "metadata": {},
   "outputs": [
    {
     "data": {
      "text/plain": [
       "False"
      ]
     },
     "execution_count": 170,
     "metadata": {},
     "output_type": "execute_result"
    }
   ],
   "source": [
    "s1 > s2"
   ]
  },
  {
   "cell_type": "code",
   "execution_count": 172,
   "id": "02171e07-ae17-4969-b49f-860be16a674c",
   "metadata": {},
   "outputs": [
    {
     "data": {
      "text/plain": [
       "True"
      ]
     },
     "execution_count": 172,
     "metadata": {},
     "output_type": "execute_result"
    }
   ],
   "source": [
    "s1 < s2"
   ]
  },
  {
   "cell_type": "markdown",
   "id": "4dcb82f9-fec1-4a5e-ab18-ace507d6b78d",
   "metadata": {},
   "source": [
    "## 35.4 The reduce Function"
   ]
  },
  {
   "cell_type": "code",
   "execution_count": 175,
   "id": "aac2694c-ef9b-4dbd-a152-797ad59fdae9",
   "metadata": {},
   "outputs": [],
   "source": [
    "L = [1, 2, 3, 4, 5] # Reduce to -> 15, window = 2"
   ]
  },
  {
   "cell_type": "code",
   "execution_count": 177,
   "id": "30281938-5294-485b-94c2-0f96f3d9ef72",
   "metadata": {},
   "outputs": [
    {
     "data": {
      "text/plain": [
       "15"
      ]
     },
     "execution_count": 177,
     "metadata": {},
     "output_type": "execute_result"
    }
   ],
   "source": [
    "from functools import reduce\n",
    "reduce(lambda a, b: a + b, L)"
   ]
  },
  {
   "cell_type": "code",
   "execution_count": 181,
   "id": "586c356b-ffb7-4a6e-af9d-dbbdb4ba8839",
   "metadata": {},
   "outputs": [
    {
     "data": {
      "text/plain": [
       "120"
      ]
     },
     "execution_count": 181,
     "metadata": {},
     "output_type": "execute_result"
    }
   ],
   "source": [
    "from functools import reduce\n",
    "reduce(lambda a, b: a * b, L)"
   ]
  },
  {
   "cell_type": "code",
   "execution_count": null,
   "id": "ff1b5214-01f0-4a7c-8d44-1888967da080",
   "metadata": {},
   "outputs": [],
   "source": []
  }
 ],
 "metadata": {
  "kernelspec": {
   "display_name": "Python 3 (ipykernel)",
   "language": "python",
   "name": "python3"
  },
  "language_info": {
   "codemirror_mode": {
    "name": "ipython",
    "version": 3
   },
   "file_extension": ".py",
   "mimetype": "text/x-python",
   "name": "python",
   "nbconvert_exporter": "python",
   "pygments_lexer": "ipython3",
   "version": "3.12.7"
  }
 },
 "nbformat": 4,
 "nbformat_minor": 5
}
