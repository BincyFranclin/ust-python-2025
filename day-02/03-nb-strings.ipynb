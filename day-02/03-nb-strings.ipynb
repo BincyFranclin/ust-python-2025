{
 "cells": [
  {
   "cell_type": "markdown",
   "id": "716d77f3-0fe4-43f8-acb9-52d229e979a7",
   "metadata": {},
   "source": [
    "### 3.1 Strings"
   ]
  },
  {
   "cell_type": "code",
   "execution_count": 1,
   "id": "4f3cded2-9b37-423d-8793-901fa1a635d9",
   "metadata": {},
   "outputs": [],
   "source": [
    "s = \"computer\" # single quotes 'computer', double quotes \"computer\", triple quotes '''computer''' (multiline strings)"
   ]
  },
  {
   "cell_type": "code",
   "execution_count": 2,
   "id": "3bb3674f-d726-4cfc-b611-d036ea4e126e",
   "metadata": {},
   "outputs": [
    {
     "data": {
      "text/plain": [
       "str"
      ]
     },
     "execution_count": 2,
     "metadata": {},
     "output_type": "execute_result"
    }
   ],
   "source": [
    "type(s)"
   ]
  },
  {
   "cell_type": "markdown",
   "id": "17ac75a4-e0ea-4d8c-9aa7-f061d736d736",
   "metadata": {},
   "source": [
    "### 3.2 Immutability"
   ]
  },
  {
   "cell_type": "code",
   "execution_count": 3,
   "id": "5ce61549-3ff7-4428-924b-ae1c7515e3b1",
   "metadata": {},
   "outputs": [
    {
     "data": {
      "text/plain": [
       "'c'"
      ]
     },
     "execution_count": 3,
     "metadata": {},
     "output_type": "execute_result"
    }
   ],
   "source": [
    "s[0]"
   ]
  },
  {
   "cell_type": "code",
   "execution_count": 4,
   "id": "e9124292-f93a-4b84-929b-ceae95d2171b",
   "metadata": {},
   "outputs": [
    {
     "ename": "TypeError",
     "evalue": "'str' object does not support item assignment",
     "output_type": "error",
     "traceback": [
      "\u001b[1;31m---------------------------------------------------------------------------\u001b[0m",
      "\u001b[1;31mTypeError\u001b[0m                                 Traceback (most recent call last)",
      "Cell \u001b[1;32mIn[4], line 1\u001b[0m\n\u001b[1;32m----> 1\u001b[0m s[\u001b[38;5;241m0\u001b[39m] \u001b[38;5;241m=\u001b[39m \u001b[38;5;124m'\u001b[39m\u001b[38;5;124ml\u001b[39m\u001b[38;5;124m'\u001b[39m\n",
      "\u001b[1;31mTypeError\u001b[0m: 'str' object does not support item assignment"
     ]
    }
   ],
   "source": [
    "s[0] = 'l'"
   ]
  },
  {
   "cell_type": "code",
   "execution_count": 5,
   "id": "a797e723-409a-4249-921a-b6982e32eba0",
   "metadata": {},
   "outputs": [
    {
     "ename": "TypeError",
     "evalue": "'str' object does not support item assignment",
     "output_type": "error",
     "traceback": [
      "\u001b[1;31m---------------------------------------------------------------------------\u001b[0m",
      "\u001b[1;31mTypeError\u001b[0m                                 Traceback (most recent call last)",
      "Cell \u001b[1;32mIn[5], line 1\u001b[0m\n\u001b[1;32m----> 1\u001b[0m s[\u001b[38;5;241m3\u001b[39m:\u001b[38;5;241m4\u001b[39m] \u001b[38;5;241m=\u001b[39m \u001b[38;5;124m\"\u001b[39m\u001b[38;5;124mg\u001b[39m\u001b[38;5;124m\"\u001b[39m\n",
      "\u001b[1;31mTypeError\u001b[0m: 'str' object does not support item assignment"
     ]
    }
   ],
   "source": [
    "s[3:4] = \"g\""
   ]
  },
  {
   "cell_type": "markdown",
   "id": "0f711247-8e6e-4d25-be23-20f21a551715",
   "metadata": {},
   "source": [
    "### 3.3 Sub-scripting"
   ]
  },
  {
   "cell_type": "markdown",
   "id": "1a9d6ba4-4147-4406-b845-929beb432111",
   "metadata": {},
   "source": [
    "[start:end:interval] [start:end] [index]"
   ]
  },
  {
   "cell_type": "code",
   "execution_count": 6,
   "id": "742371bb-341a-4967-affb-99f631c5a4f6",
   "metadata": {},
   "outputs": [
    {
     "data": {
      "text/plain": [
       "'computer'"
      ]
     },
     "execution_count": 6,
     "metadata": {},
     "output_type": "execute_result"
    }
   ],
   "source": [
    "s"
   ]
  },
  {
   "cell_type": "code",
   "execution_count": 7,
   "id": "d739c1e8-fe05-4528-acee-92c5ab0d03a8",
   "metadata": {},
   "outputs": [
    {
     "data": {
      "text/plain": [
       "'c'"
      ]
     },
     "execution_count": 7,
     "metadata": {},
     "output_type": "execute_result"
    }
   ],
   "source": [
    "s[0]"
   ]
  },
  {
   "cell_type": "code",
   "execution_count": 8,
   "id": "4bf4f4bf-c75c-4595-86fd-910fb97652cf",
   "metadata": {},
   "outputs": [
    {
     "data": {
      "text/plain": [
       "'t'"
      ]
     },
     "execution_count": 8,
     "metadata": {},
     "output_type": "execute_result"
    }
   ],
   "source": [
    "s[5]"
   ]
  },
  {
   "cell_type": "code",
   "execution_count": 9,
   "id": "547025df-8ad5-4c61-ac42-9ffe3a6d2df3",
   "metadata": {},
   "outputs": [
    {
     "data": {
      "text/plain": [
       "'r'"
      ]
     },
     "execution_count": 9,
     "metadata": {},
     "output_type": "execute_result"
    }
   ],
   "source": [
    "s[-1]"
   ]
  },
  {
   "cell_type": "code",
   "execution_count": 10,
   "id": "ea273442-ab92-4222-a114-4fb094602956",
   "metadata": {},
   "outputs": [
    {
     "data": {
      "text/plain": [
       "'e'"
      ]
     },
     "execution_count": 10,
     "metadata": {},
     "output_type": "execute_result"
    }
   ],
   "source": [
    "s[-2]"
   ]
  },
  {
   "cell_type": "code",
   "execution_count": 11,
   "id": "bf71eb55-c211-463f-9c72-41af177d4ebe",
   "metadata": {},
   "outputs": [
    {
     "data": {
      "text/plain": [
       "'mpute'"
      ]
     },
     "execution_count": 11,
     "metadata": {},
     "output_type": "execute_result"
    }
   ],
   "source": [
    "s[2:7]"
   ]
  },
  {
   "cell_type": "code",
   "execution_count": 12,
   "id": "78b886e9-c544-4b89-aaab-849680417279",
   "metadata": {},
   "outputs": [
    {
     "data": {
      "text/plain": [
       "'compu'"
      ]
     },
     "execution_count": 12,
     "metadata": {},
     "output_type": "execute_result"
    }
   ],
   "source": [
    "s[0:5]"
   ]
  },
  {
   "cell_type": "code",
   "execution_count": 13,
   "id": "5e38e0d1-0ce9-4770-b713-a38fe3287751",
   "metadata": {},
   "outputs": [
    {
     "data": {
      "text/plain": [
       "'compu'"
      ]
     },
     "execution_count": 13,
     "metadata": {},
     "output_type": "execute_result"
    }
   ],
   "source": [
    "s[:5]"
   ]
  },
  {
   "cell_type": "code",
   "execution_count": 14,
   "id": "9fe16160-2ca7-4f87-88fd-fc51fe325ef7",
   "metadata": {},
   "outputs": [
    {
     "data": {
      "text/plain": [
       "'ter'"
      ]
     },
     "execution_count": 14,
     "metadata": {},
     "output_type": "execute_result"
    }
   ],
   "source": [
    "s[5:]"
   ]
  },
  {
   "cell_type": "code",
   "execution_count": 16,
   "id": "f0c12ee4-6f00-40e8-80bb-4445b0ec9b16",
   "metadata": {},
   "outputs": [
    {
     "data": {
      "text/plain": [
       "'computer'"
      ]
     },
     "execution_count": 16,
     "metadata": {},
     "output_type": "execute_result"
    }
   ],
   "source": [
    "s[0:8]"
   ]
  },
  {
   "cell_type": "code",
   "execution_count": 17,
   "id": "aff96389-272c-4fb4-b171-c2aa995af7a5",
   "metadata": {},
   "outputs": [
    {
     "data": {
      "text/plain": [
       "'computer'"
      ]
     },
     "execution_count": 17,
     "metadata": {},
     "output_type": "execute_result"
    }
   ],
   "source": [
    "s[:]"
   ]
  },
  {
   "cell_type": "code",
   "execution_count": 18,
   "id": "fb0e5c56-4de8-43a8-962b-17aebd981aaa",
   "metadata": {},
   "outputs": [
    {
     "data": {
      "text/plain": [
       "'cmue'"
      ]
     },
     "execution_count": 18,
     "metadata": {},
     "output_type": "execute_result"
    }
   ],
   "source": [
    "s[0:8:2]"
   ]
  },
  {
   "cell_type": "code",
   "execution_count": 19,
   "id": "eb964d3d-3a91-48f9-b650-bac724717c70",
   "metadata": {},
   "outputs": [
    {
     "data": {
      "text/plain": [
       "'cpe'"
      ]
     },
     "execution_count": 19,
     "metadata": {},
     "output_type": "execute_result"
    }
   ],
   "source": [
    "s[::3]"
   ]
  },
  {
   "cell_type": "code",
   "execution_count": 20,
   "id": "eb5c1598-cb0d-4503-a112-9957f83714aa",
   "metadata": {},
   "outputs": [
    {
     "data": {
      "text/plain": [
       "'retupmoc'"
      ]
     },
     "execution_count": 20,
     "metadata": {},
     "output_type": "execute_result"
    }
   ],
   "source": [
    "s[::-1]"
   ]
  },
  {
   "cell_type": "markdown",
   "id": "8eac3923-0bc3-4a51-9c4b-56235ed77340",
   "metadata": {},
   "source": [
    "### 3.4 Operator on strings"
   ]
  },
  {
   "cell_type": "code",
   "execution_count": 21,
   "id": "377d5d75-5add-4158-90a3-d3a232e36a22",
   "metadata": {},
   "outputs": [
    {
     "data": {
      "text/plain": [
       "'apples'"
      ]
     },
     "execution_count": 21,
     "metadata": {},
     "output_type": "execute_result"
    }
   ],
   "source": [
    "'app' + 'les'"
   ]
  },
  {
   "cell_type": "code",
   "execution_count": 22,
   "id": "4c99fe53-4015-4e76-8a04-65e3bfe6cd5c",
   "metadata": {},
   "outputs": [
    {
     "data": {
      "text/plain": [
       "'abcabcabc'"
      ]
     },
     "execution_count": 22,
     "metadata": {},
     "output_type": "execute_result"
    }
   ],
   "source": [
    "'abc'*3"
   ]
  },
  {
   "cell_type": "code",
   "execution_count": 23,
   "id": "53934cd4-ed84-4abe-a110-b07f7c3c8381",
   "metadata": {},
   "outputs": [
    {
     "data": {
      "text/plain": [
       "True"
      ]
     },
     "execution_count": 23,
     "metadata": {},
     "output_type": "execute_result"
    }
   ],
   "source": [
    "'put' in s"
   ]
  },
  {
   "cell_type": "code",
   "execution_count": 52,
   "id": "a3814be8-fe75-452f-b993-3461bf6fb1c8",
   "metadata": {},
   "outputs": [
    {
     "data": {
      "text/plain": [
       "8"
      ]
     },
     "execution_count": 52,
     "metadata": {},
     "output_type": "execute_result"
    }
   ],
   "source": [
    "s = \"computer\"\n",
    "len(s)"
   ]
  },
  {
   "cell_type": "code",
   "execution_count": 24,
   "id": "f3475cf7-0376-4e93-bc3e-895d77ecbf80",
   "metadata": {},
   "outputs": [
    {
     "data": {
      "text/plain": [
       "str"
      ]
     },
     "execution_count": 24,
     "metadata": {},
     "output_type": "execute_result"
    }
   ],
   "source": [
    "type(s)"
   ]
  },
  {
   "cell_type": "code",
   "execution_count": 25,
   "id": "b881ee12-2f27-468d-8b13-523a50d7bf94",
   "metadata": {},
   "outputs": [
    {
     "data": {
      "text/plain": [
       "True"
      ]
     },
     "execution_count": 25,
     "metadata": {},
     "output_type": "execute_result"
    }
   ],
   "source": [
    "type(s) == str"
   ]
  },
  {
   "cell_type": "code",
   "execution_count": 27,
   "id": "8afdfce9-2553-4cf1-aaf8-16bcc8584383",
   "metadata": {},
   "outputs": [
    {
     "data": {
      "text/plain": [
       "False"
      ]
     },
     "execution_count": 27,
     "metadata": {},
     "output_type": "execute_result"
    }
   ],
   "source": [
    "isinstance(s, int)"
   ]
  },
  {
   "cell_type": "code",
   "execution_count": 28,
   "id": "de132272-2d0b-48cb-aa42-aed73bc6d5d5",
   "metadata": {},
   "outputs": [],
   "source": [
    "del s"
   ]
  },
  {
   "cell_type": "code",
   "execution_count": 29,
   "id": "bee2ba62-ec2c-40b6-a107-fb8a13ede815",
   "metadata": {},
   "outputs": [
    {
     "ename": "NameError",
     "evalue": "name 's' is not defined",
     "output_type": "error",
     "traceback": [
      "\u001b[1;31m---------------------------------------------------------------------------\u001b[0m",
      "\u001b[1;31mNameError\u001b[0m                                 Traceback (most recent call last)",
      "Cell \u001b[1;32mIn[29], line 1\u001b[0m\n\u001b[1;32m----> 1\u001b[0m s\n",
      "\u001b[1;31mNameError\u001b[0m: name 's' is not defined"
     ]
    }
   ],
   "source": [
    "s"
   ]
  },
  {
   "cell_type": "markdown",
   "id": "78bda52d-66c9-4e3d-aba2-1cf01b8b14b5",
   "metadata": {},
   "source": [
    "### 3.5 Working with the case of the string"
   ]
  },
  {
   "cell_type": "code",
   "execution_count": 30,
   "id": "79aeb865-180b-4622-a2d3-55643400ba8f",
   "metadata": {},
   "outputs": [],
   "source": [
    "s = \"computer\""
   ]
  },
  {
   "cell_type": "code",
   "execution_count": 31,
   "id": "4359cde3-2f1d-4cb8-bc7f-f133d344de34",
   "metadata": {},
   "outputs": [
    {
     "data": {
      "text/plain": [
       "'COMPUTER'"
      ]
     },
     "execution_count": 31,
     "metadata": {},
     "output_type": "execute_result"
    }
   ],
   "source": [
    "s.upper()"
   ]
  },
  {
   "cell_type": "code",
   "execution_count": 32,
   "id": "a43b7484-b675-40e6-a122-795e1fdb78e8",
   "metadata": {},
   "outputs": [
    {
     "data": {
      "text/plain": [
       "'computer'"
      ]
     },
     "execution_count": 32,
     "metadata": {},
     "output_type": "execute_result"
    }
   ],
   "source": [
    "s.lower()"
   ]
  },
  {
   "cell_type": "code",
   "execution_count": 33,
   "id": "f3a7ab1a-8e5f-4416-9c5e-7401abbe0ae5",
   "metadata": {},
   "outputs": [
    {
     "data": {
      "text/plain": [
       "'Computer'"
      ]
     },
     "execution_count": 33,
     "metadata": {},
     "output_type": "execute_result"
    }
   ],
   "source": [
    "s.capitalize()"
   ]
  },
  {
   "cell_type": "code",
   "execution_count": 58,
   "id": "c76739dd-f754-42c6-94d8-722e8dbf3033",
   "metadata": {},
   "outputs": [
    {
     "data": {
      "text/plain": [
       "'cOMPuTER'"
      ]
     },
     "execution_count": 58,
     "metadata": {},
     "output_type": "execute_result"
    }
   ],
   "source": [
    "s = \"CompUter\"\n",
    "s.swapcase()"
   ]
  },
  {
   "cell_type": "markdown",
   "id": "a55f9a8d-8b6b-4bbf-a846-34f2461f8aec",
   "metadata": {},
   "source": [
    "### 3.6 String checking"
   ]
  },
  {
   "cell_type": "code",
   "execution_count": 34,
   "id": "8bd7cabf-63a2-46b2-840f-69d83acf9b09",
   "metadata": {},
   "outputs": [
    {
     "data": {
      "text/plain": [
       "True"
      ]
     },
     "execution_count": 34,
     "metadata": {},
     "output_type": "execute_result"
    }
   ],
   "source": [
    "'123'.isdigit()"
   ]
  },
  {
   "cell_type": "code",
   "execution_count": 35,
   "id": "95a3c574-5494-4614-aea5-53f36e0cff1a",
   "metadata": {},
   "outputs": [
    {
     "data": {
      "text/plain": [
       "True"
      ]
     },
     "execution_count": 35,
     "metadata": {},
     "output_type": "execute_result"
    }
   ],
   "source": [
    "'asd'.isalpha()"
   ]
  },
  {
   "cell_type": "code",
   "execution_count": 36,
   "id": "515f64b7-39e8-454b-8276-c4e340e9bcca",
   "metadata": {},
   "outputs": [
    {
     "data": {
      "text/plain": [
       "True"
      ]
     },
     "execution_count": 36,
     "metadata": {},
     "output_type": "execute_result"
    }
   ],
   "source": [
    "'asd123'.isalnum()"
   ]
  },
  {
   "cell_type": "code",
   "execution_count": 37,
   "id": "4684e40e-787a-495b-9314-170a0031ae19",
   "metadata": {},
   "outputs": [
    {
     "data": {
      "text/plain": [
       "False"
      ]
     },
     "execution_count": 37,
     "metadata": {},
     "output_type": "execute_result"
    }
   ],
   "source": [
    "s.isupper()"
   ]
  },
  {
   "cell_type": "code",
   "execution_count": 38,
   "id": "6a8cc34e-531d-44f3-9ac0-9f2d9b176a6f",
   "metadata": {},
   "outputs": [
    {
     "data": {
      "text/plain": [
       "True"
      ]
     },
     "execution_count": 38,
     "metadata": {},
     "output_type": "execute_result"
    }
   ],
   "source": [
    "s.islower()"
   ]
  },
  {
   "cell_type": "code",
   "execution_count": 39,
   "id": "b89c913b-3ea4-4efc-84d7-88f4618a3b2e",
   "metadata": {},
   "outputs": [
    {
     "data": {
      "text/plain": [
       "True"
      ]
     },
     "execution_count": 39,
     "metadata": {},
     "output_type": "execute_result"
    }
   ],
   "source": [
    "' '.isspace()"
   ]
  },
  {
   "cell_type": "code",
   "execution_count": 41,
   "id": "c28e6ce9-3420-443d-8453-836cf85b46f8",
   "metadata": {},
   "outputs": [
    {
     "data": {
      "text/plain": [
       "False"
      ]
     },
     "execution_count": 41,
     "metadata": {},
     "output_type": "execute_result"
    }
   ],
   "source": [
    "'This Is A Python Programming Course'.istitle()"
   ]
  },
  {
   "cell_type": "code",
   "execution_count": 42,
   "id": "3e1ae59e-f9fb-4fe2-99d5-b2dd0b4d71b2",
   "metadata": {},
   "outputs": [],
   "source": [
    "url = 'www.google.com'"
   ]
  },
  {
   "cell_type": "code",
   "execution_count": 43,
   "id": "0797c421-4e4f-4a01-bf4c-05d6a509f783",
   "metadata": {},
   "outputs": [
    {
     "data": {
      "text/plain": [
       "True"
      ]
     },
     "execution_count": 43,
     "metadata": {},
     "output_type": "execute_result"
    }
   ],
   "source": [
    "url.startswith('www')"
   ]
  },
  {
   "cell_type": "code",
   "execution_count": 44,
   "id": "50963157-f06b-45b6-b500-62474faff9aa",
   "metadata": {},
   "outputs": [
    {
     "data": {
      "text/plain": [
       "False"
      ]
     },
     "execution_count": 44,
     "metadata": {},
     "output_type": "execute_result"
    }
   ],
   "source": [
    "url.endswith('org')"
   ]
  },
  {
   "cell_type": "markdown",
   "id": "734ea6db-f6f4-43d5-a1df-a5e6ab27352e",
   "metadata": {},
   "source": [
    "### 3.7 Finding in a string"
   ]
  },
  {
   "cell_type": "code",
   "execution_count": 45,
   "id": "8cce5f04-c898-4c1a-ae9c-cf3c7fba7e73",
   "metadata": {},
   "outputs": [],
   "source": [
    "a = 'mississippi'"
   ]
  },
  {
   "cell_type": "code",
   "execution_count": 46,
   "id": "65ade9a6-4827-4d0f-a71f-65d30f44afdc",
   "metadata": {},
   "outputs": [
    {
     "data": {
      "text/plain": [
       "4"
      ]
     },
     "execution_count": 46,
     "metadata": {},
     "output_type": "execute_result"
    }
   ],
   "source": [
    "a.count('s')"
   ]
  },
  {
   "cell_type": "code",
   "execution_count": 47,
   "id": "6a41dd1d-b588-44e0-a296-9c8f82802e5f",
   "metadata": {},
   "outputs": [
    {
     "data": {
      "text/plain": [
       "2"
      ]
     },
     "execution_count": 47,
     "metadata": {},
     "output_type": "execute_result"
    }
   ],
   "source": [
    "a.count('ss')"
   ]
  },
  {
   "cell_type": "code",
   "execution_count": 48,
   "id": "ab7d04c8-05e0-4177-9239-dd3af7d2874a",
   "metadata": {},
   "outputs": [
    {
     "data": {
      "text/plain": [
       "1"
      ]
     },
     "execution_count": 48,
     "metadata": {},
     "output_type": "execute_result"
    }
   ],
   "source": [
    "a.find('iss')"
   ]
  },
  {
   "cell_type": "code",
   "execution_count": 49,
   "id": "ca537ae0-97bb-4eda-b58c-3dbdd9c4fc9f",
   "metadata": {},
   "outputs": [
    {
     "data": {
      "text/plain": [
       "4"
      ]
     },
     "execution_count": 49,
     "metadata": {},
     "output_type": "execute_result"
    }
   ],
   "source": [
    "a.rfind('iss')"
   ]
  },
  {
   "cell_type": "code",
   "execution_count": 50,
   "id": "dfb326fa-442e-44c4-ad85-2ca5e0d50b2d",
   "metadata": {},
   "outputs": [
    {
     "data": {
      "text/plain": [
       "1"
      ]
     },
     "execution_count": 50,
     "metadata": {},
     "output_type": "execute_result"
    }
   ],
   "source": [
    "a.index('iss')"
   ]
  },
  {
   "cell_type": "markdown",
   "id": "8b5f820b-cf06-4dc5-bd98-3be47340033e",
   "metadata": {},
   "source": [
    "### 3.8 Adjusting and formatting strings"
   ]
  },
  {
   "cell_type": "code",
   "execution_count": 51,
   "id": "a2db0b43-e62b-4f16-b031-00fc71ac7d5d",
   "metadata": {},
   "outputs": [],
   "source": [
    "b = '  python   '"
   ]
  },
  {
   "cell_type": "code",
   "execution_count": 53,
   "id": "5e04e28e-2eda-46fe-8a4b-70f0999abb49",
   "metadata": {},
   "outputs": [
    {
     "data": {
      "text/plain": [
       "('python', '  python', 'python   ')"
      ]
     },
     "execution_count": 53,
     "metadata": {},
     "output_type": "execute_result"
    }
   ],
   "source": [
    "b.strip(), b.rstrip(), b.lstrip()"
   ]
  },
  {
   "cell_type": "code",
   "execution_count": 54,
   "id": "359149f2-29c7-479f-90f7-035102057e0b",
   "metadata": {},
   "outputs": [],
   "source": [
    "b = 'python'"
   ]
  },
  {
   "cell_type": "code",
   "execution_count": 55,
   "id": "c655ef66-8f0d-488c-b8ee-61312d0f1e53",
   "metadata": {},
   "outputs": [
    {
     "data": {
      "text/plain": [
       "'python    '"
      ]
     },
     "execution_count": 55,
     "metadata": {},
     "output_type": "execute_result"
    }
   ],
   "source": [
    "b.ljust(10)"
   ]
  },
  {
   "cell_type": "code",
   "execution_count": 56,
   "id": "0dd3e732-e0e8-4e59-bc11-3db2130efbd2",
   "metadata": {},
   "outputs": [
    {
     "data": {
      "text/plain": [
       "'....python'"
      ]
     },
     "execution_count": 56,
     "metadata": {},
     "output_type": "execute_result"
    }
   ],
   "source": [
    "b.rjust(10, '.')"
   ]
  },
  {
   "cell_type": "code",
   "execution_count": 57,
   "id": "377b5f2f-8594-4f56-bd05-22112412c913",
   "metadata": {},
   "outputs": [
    {
     "data": {
      "text/plain": [
       "'0000python'"
      ]
     },
     "execution_count": 57,
     "metadata": {},
     "output_type": "execute_result"
    }
   ],
   "source": [
    "b.zfill(10)"
   ]
  },
  {
   "cell_type": "markdown",
   "id": "b2b7f2f1-79d5-4dd5-bc77-e89dcef8bfc5",
   "metadata": {},
   "source": [
    "### 3.9 Modifications on the string"
   ]
  },
  {
   "cell_type": "code",
   "execution_count": 59,
   "id": "96afb7ae-7cbb-40c8-ac77-784d0af616a8",
   "metadata": {},
   "outputs": [],
   "source": [
    "id = \"anil#ust.com\""
   ]
  },
  {
   "cell_type": "code",
   "execution_count": 60,
   "id": "589f4382-0af5-4c88-b013-5da4bfda709e",
   "metadata": {},
   "outputs": [
    {
     "data": {
      "text/plain": [
       "'anil@ust.com'"
      ]
     },
     "execution_count": 60,
     "metadata": {},
     "output_type": "execute_result"
    }
   ],
   "source": [
    "newid = id.replace(\"#\", \"@\")\n",
    "newid"
   ]
  },
  {
   "cell_type": "code",
   "execution_count": 61,
   "id": "cb600a45-18b5-498d-bbbf-daf2fc84a043",
   "metadata": {},
   "outputs": [
    {
     "data": {
      "text/plain": [
       "'anil#ust.com'"
      ]
     },
     "execution_count": 61,
     "metadata": {},
     "output_type": "execute_result"
    }
   ],
   "source": [
    "id"
   ]
  },
  {
   "cell_type": "code",
   "execution_count": 62,
   "id": "1af13430-c3fb-4059-acf8-0be09e51f413",
   "metadata": {},
   "outputs": [
    {
     "data": {
      "text/plain": [
       "['mary', 'had', 'a', 'little', 'lamb']"
      ]
     },
     "execution_count": 62,
     "metadata": {},
     "output_type": "execute_result"
    }
   ],
   "source": [
    "text = \"mary had a little lamb\"\n",
    "text.split()"
   ]
  },
  {
   "cell_type": "code",
   "execution_count": 63,
   "id": "3bfb42b0-f55e-4891-8fac-58f9bbf88a68",
   "metadata": {},
   "outputs": [
    {
     "data": {
      "text/plain": [
       "['m', 'ry h', 'd ', ' little l', 'mb']"
      ]
     },
     "execution_count": 63,
     "metadata": {},
     "output_type": "execute_result"
    }
   ],
   "source": [
    "text.split('a')"
   ]
  },
  {
   "cell_type": "code",
   "execution_count": 64,
   "id": "27c97e92-3089-47e8-8e45-fb32d05c6b93",
   "metadata": {},
   "outputs": [
    {
     "data": {
      "text/plain": [
       "'sky-is-blue'"
      ]
     },
     "execution_count": 64,
     "metadata": {},
     "output_type": "execute_result"
    }
   ],
   "source": [
    "L = [\"sky\", \"is\", \"blue\"]\n",
    "'-'.join(L)"
   ]
  },
  {
   "cell_type": "code",
   "execution_count": 65,
   "id": "4517de41-fb3e-4ba3-8b47-1cf00b075c32",
   "metadata": {},
   "outputs": [
    {
     "data": {
      "text/plain": [
       "'mississippi'"
      ]
     },
     "execution_count": 65,
     "metadata": {},
     "output_type": "execute_result"
    }
   ],
   "source": [
    "a"
   ]
  },
  {
   "cell_type": "code",
   "execution_count": 72,
   "id": "ebf4f759-4980-4c44-bada-3e4dd09a876f",
   "metadata": {},
   "outputs": [
    {
     "data": {
      "text/plain": [
       "(b'mississippi', bytes)"
      ]
     },
     "execution_count": 72,
     "metadata": {},
     "output_type": "execute_result"
    }
   ],
   "source": [
    "enc = a.encode('utf-8')\n",
    "enc, type(enc)"
   ]
  },
  {
   "cell_type": "code",
   "execution_count": 69,
   "id": "75660fab-46d5-4470-a874-d88ceda10855",
   "metadata": {},
   "outputs": [],
   "source": [
    "dec = enc.decode()"
   ]
  },
  {
   "cell_type": "code",
   "execution_count": 70,
   "id": "4b50ddb4-3ccb-4961-986a-02e87ac0a3ee",
   "metadata": {},
   "outputs": [
    {
     "data": {
      "text/plain": [
       "'mississippi'"
      ]
     },
     "execution_count": 70,
     "metadata": {},
     "output_type": "execute_result"
    }
   ],
   "source": [
    "dec"
   ]
  },
  {
   "cell_type": "code",
   "execution_count": 71,
   "id": "f28fc143-fb71-43c3-8aa2-f67ff36888bc",
   "metadata": {},
   "outputs": [
    {
     "data": {
      "text/plain": [
       "str"
      ]
     },
     "execution_count": 71,
     "metadata": {},
     "output_type": "execute_result"
    }
   ],
   "source": [
    "type(dec)"
   ]
  },
  {
   "cell_type": "code",
   "execution_count": 73,
   "id": "3ec9ea9b-e558-4db9-af26-31116f6565cd",
   "metadata": {},
   "outputs": [
    {
     "data": {
      "text/plain": [
       "97"
      ]
     },
     "execution_count": 73,
     "metadata": {},
     "output_type": "execute_result"
    }
   ],
   "source": [
    "ord('a')"
   ]
  },
  {
   "cell_type": "code",
   "execution_count": 74,
   "id": "7c17a687-5336-4768-99ae-3759e7321a51",
   "metadata": {},
   "outputs": [
    {
     "data": {
      "text/plain": [
       "'a'"
      ]
     },
     "execution_count": 74,
     "metadata": {},
     "output_type": "execute_result"
    }
   ],
   "source": [
    "chr(97)"
   ]
  },
  {
   "cell_type": "markdown",
   "id": "e78e6ba9-17c6-4a58-8358-5e08869c26dd",
   "metadata": {},
   "source": [
    "### 3.10 Translations and format"
   ]
  },
  {
   "cell_type": "code",
   "execution_count": 75,
   "id": "167b935e-4c8e-46f4-a7f3-04ff1387a4ad",
   "metadata": {},
   "outputs": [],
   "source": [
    "s = 'computer' # p -> PPP  t -> TT r -> R"
   ]
  },
  {
   "cell_type": "code",
   "execution_count": 77,
   "id": "ee088139-de22-4b77-a293-6db8a0cdab3e",
   "metadata": {},
   "outputs": [
    {
     "data": {
      "text/plain": [
       "{112: 'PPP', 116: 'TT', 114: 'R'}"
      ]
     },
     "execution_count": 77,
     "metadata": {},
     "output_type": "execute_result"
    }
   ],
   "source": [
    "tt = s.maketrans({'p':'PPP', 't':'TT', 'r':'R'})\n",
    "tt"
   ]
  },
  {
   "cell_type": "code",
   "execution_count": 78,
   "id": "315900f5-b523-43d8-894c-2eef4679d831",
   "metadata": {},
   "outputs": [
    {
     "data": {
      "text/plain": [
       "'comPPPuTTeR'"
      ]
     },
     "execution_count": 78,
     "metadata": {},
     "output_type": "execute_result"
    }
   ],
   "source": [
    "s.translate(tt)"
   ]
  },
  {
   "cell_type": "code",
   "execution_count": 79,
   "id": "57705166-df65-4213-a11a-cbf5323c8824",
   "metadata": {},
   "outputs": [
    {
     "data": {
      "text/plain": [
       "'The name is anil            and the age is    35'"
      ]
     },
     "execution_count": 79,
     "metadata": {},
     "output_type": "execute_result"
    }
   ],
   "source": [
    "\"The name is {0:15} and the age is {1:5}\".format(\"anil\", 35)"
   ]
  },
  {
   "cell_type": "code",
   "execution_count": 80,
   "id": "f1bb4add-138a-422d-b80b-6f1e0a67eff7",
   "metadata": {},
   "outputs": [
    {
     "data": {
      "text/plain": [
       "'The name is            anil and the age is 35   '"
      ]
     },
     "execution_count": 80,
     "metadata": {},
     "output_type": "execute_result"
    }
   ],
   "source": [
    "\"The name is {0:>15} and the age is {1:<5}\".format(\"anil\", 35)"
   ]
  },
  {
   "cell_type": "code",
   "execution_count": 81,
   "id": "fd7821b0-ef00-45a5-b523-f56086f86dbe",
   "metadata": {},
   "outputs": [
    {
     "data": {
      "text/plain": [
       "'The name is      anil       and the age is  35  '"
      ]
     },
     "execution_count": 81,
     "metadata": {},
     "output_type": "execute_result"
    }
   ],
   "source": [
    "\"The name is {0:^15} and the age is {1:^5}\".format(\"anil\", 35)"
   ]
  },
  {
   "cell_type": "code",
   "execution_count": 82,
   "id": "d36a41ac-b3be-4626-b720-c9b13b0729c3",
   "metadata": {},
   "outputs": [],
   "source": [
    "template = \"Current date {0:20} | o2 {1:5} | n2 {1:5} | h2 {1:5}\""
   ]
  },
  {
   "cell_type": "code",
   "execution_count": 83,
   "id": "c2f5aa49-882c-4772-a19c-af0e46c5b8a7",
   "metadata": {},
   "outputs": [],
   "source": [
    "from datetime import datetime"
   ]
  },
  {
   "cell_type": "code",
   "execution_count": 84,
   "id": "be457550-2e91-4935-9a83-1eaf131061c7",
   "metadata": {},
   "outputs": [
    {
     "data": {
      "text/plain": [
       "'Current date 20 | o2    32 | n2    32 | h2    32'"
      ]
     },
     "execution_count": 84,
     "metadata": {},
     "output_type": "execute_result"
    }
   ],
   "source": [
    "template.format(datetime.now(), 32, 44, 53)"
   ]
  },
  {
   "cell_type": "code",
   "execution_count": 87,
   "id": "186d5ea6-fcc1-4c67-8161-500f3aa2acbd",
   "metadata": {},
   "outputs": [
    {
     "name": "stdout",
     "output_type": "stream",
     "text": [
      "Current date 20 | o2    42 | n2    42 | h2    42\n",
      "Current date 20 | o2    65 | n2    65 | h2    65\n",
      "Current date 20 | o2    36 | n2    36 | h2    36\n",
      "Current date 20 | o2    78 | n2    78 | h2    78\n",
      "Current date 20 | o2    67 | n2    67 | h2    67\n",
      "Current date 20 | o2     4 | n2     4 | h2     4\n",
      "Current date 20 | o2    41 | n2    41 | h2    41\n",
      "Current date 20 | o2    61 | n2    61 | h2    61\n",
      "Current date 20 | o2    77 | n2    77 | h2    77\n",
      "Current date 20 | o2    13 | n2    13 | h2    13\n"
     ]
    }
   ],
   "source": [
    "import random\n",
    "for i in range(10):\n",
    "    print(template.format(datetime.now(), random.randint(1, 100), random.randint(1, 100), random.randint(1, 100)))"
   ]
  },
  {
   "cell_type": "code",
   "execution_count": null,
   "id": "00a8f33a-2bae-4968-b0a7-c0dd70b7908b",
   "metadata": {},
   "outputs": [],
   "source": []
  }
 ],
 "metadata": {
  "kernelspec": {
   "display_name": "Python 3 (ipykernel)",
   "language": "python",
   "name": "python3"
  },
  "language_info": {
   "codemirror_mode": {
    "name": "ipython",
    "version": 3
   },
   "file_extension": ".py",
   "mimetype": "text/x-python",
   "name": "python",
   "nbconvert_exporter": "python",
   "pygments_lexer": "ipython3",
   "version": "3.11.7"
  }
 },
 "nbformat": 4,
 "nbformat_minor": 5
}
