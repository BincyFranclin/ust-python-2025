{
 "cells": [
  {
   "cell_type": "markdown",
   "id": "8b39bd05-edfb-4e45-98cb-df362a844f64",
   "metadata": {},
   "source": [
    "### 2.1 Generating outputs on the console"
   ]
  },
  {
   "cell_type": "code",
   "execution_count": 1,
   "id": "d4572027-81ea-4405-a409-ee81109aa786",
   "metadata": {},
   "outputs": [
    {
     "name": "stdout",
     "output_type": "stream",
     "text": [
      "Hello!\n"
     ]
    }
   ],
   "source": [
    "print(\"Hello!\")"
   ]
  },
  {
   "cell_type": "code",
   "execution_count": 2,
   "id": "3cd95c60-a004-4382-9da9-8c7e81fa5347",
   "metadata": {},
   "outputs": [
    {
     "data": {
      "text/plain": [
       "3.142857142857143"
      ]
     },
     "execution_count": 2,
     "metadata": {},
     "output_type": "execute_result"
    }
   ],
   "source": [
    "pi = 22/7\n",
    "pi"
   ]
  },
  {
   "cell_type": "code",
   "execution_count": 4,
   "id": "688303d1-aedf-409c-ad7f-245aadba76ee",
   "metadata": {},
   "outputs": [
    {
     "name": "stdout",
     "output_type": "stream",
     "text": [
      "The value of pi is  3.142857142857143  and that is great!\n"
     ]
    }
   ],
   "source": [
    "print(\"The value of pi is \", pi, \" and that is great!\")"
   ]
  },
  {
   "cell_type": "code",
   "execution_count": 5,
   "id": "61f6cd78-603a-4930-b28b-84c9f7af3617",
   "metadata": {},
   "outputs": [
    {
     "name": "stdout",
     "output_type": "stream",
     "text": [
      "The value of pi is 3.142857 and that is great!\n"
     ]
    }
   ],
   "source": [
    "print(\"The value of pi is %f and that is great!\" % pi)"
   ]
  },
  {
   "cell_type": "code",
   "execution_count": 6,
   "id": "647ed83c-63e0-4379-a948-b4220de2e030",
   "metadata": {},
   "outputs": [
    {
     "name": "stdout",
     "output_type": "stream",
     "text": [
      "The value of pi is 3.14 and that is great!\n"
     ]
    }
   ],
   "source": [
    "print(\"The value of pi is %.2f and that is great!\" % pi)"
   ]
  },
  {
   "cell_type": "code",
   "execution_count": 7,
   "id": "5f26c391-5488-4bf6-9242-02f5f9b0bb56",
   "metadata": {},
   "outputs": [
    {
     "name": "stdout",
     "output_type": "stream",
     "text": [
      "The values are 45, 6.445000, python\n"
     ]
    }
   ],
   "source": [
    "print(\"The values are %d, %f, %s\" % (45, 6.445, 'python'))"
   ]
  },
  {
   "cell_type": "code",
   "execution_count": 11,
   "id": "3a7e6c64-affe-49ae-a0e0-63be067f2e82",
   "metadata": {},
   "outputs": [
    {
     "name": "stdout",
     "output_type": "stream",
     "text": [
      "The name is Anil Kumar      and the age is 3.142857142857143\n"
     ]
    }
   ],
   "source": [
    "print(\"The name is {0:15} and the age is {1:5}\".format(\"Anil Kumar\", pi))"
   ]
  },
  {
   "cell_type": "markdown",
   "id": "4532ee8e-d86e-407b-86bc-cd4e618a8a7c",
   "metadata": {},
   "source": [
    "### 2.2 Taking input from the console"
   ]
  },
  {
   "cell_type": "code",
   "execution_count": 12,
   "id": "5c4429a9-7e56-487b-9adf-522eafa127cb",
   "metadata": {},
   "outputs": [
    {
     "name": "stdin",
     "output_type": "stream",
     "text": [
      " 56\n"
     ]
    },
    {
     "data": {
      "text/plain": [
       "'56'"
      ]
     },
     "execution_count": 12,
     "metadata": {},
     "output_type": "execute_result"
    }
   ],
   "source": [
    "input()"
   ]
  },
  {
   "cell_type": "code",
   "execution_count": 13,
   "id": "7524406e-aa06-422c-b8f7-cf04cbb42ab0",
   "metadata": {},
   "outputs": [
    {
     "name": "stdin",
     "output_type": "stream",
     "text": [
      " 56\n"
     ]
    }
   ],
   "source": [
    "a = input()"
   ]
  },
  {
   "cell_type": "code",
   "execution_count": 14,
   "id": "f9131dd8-00e3-48f8-a4cb-9f52604b3580",
   "metadata": {},
   "outputs": [
    {
     "data": {
      "text/plain": [
       "'56'"
      ]
     },
     "execution_count": 14,
     "metadata": {},
     "output_type": "execute_result"
    }
   ],
   "source": [
    "a"
   ]
  },
  {
   "cell_type": "code",
   "execution_count": 15,
   "id": "ad5bb4e8-fb6d-43de-a86b-752eaedef191",
   "metadata": {},
   "outputs": [
    {
     "name": "stdin",
     "output_type": "stream",
     "text": [
      "Enter the value : 45\n"
     ]
    }
   ],
   "source": [
    "a = input(\"Enter the value :\")"
   ]
  },
  {
   "cell_type": "code",
   "execution_count": 16,
   "id": "216158e3-e207-4b80-9fc5-c83306b118e0",
   "metadata": {},
   "outputs": [
    {
     "ename": "TypeError",
     "evalue": "can only concatenate str (not \"int\") to str",
     "output_type": "error",
     "traceback": [
      "\u001b[1;31m---------------------------------------------------------------------------\u001b[0m",
      "\u001b[1;31mTypeError\u001b[0m                                 Traceback (most recent call last)",
      "Cell \u001b[1;32mIn[16], line 1\u001b[0m\n\u001b[1;32m----> 1\u001b[0m a \u001b[38;5;241m+\u001b[39m \u001b[38;5;241m67\u001b[39m\n",
      "\u001b[1;31mTypeError\u001b[0m: can only concatenate str (not \"int\") to str"
     ]
    }
   ],
   "source": [
    "a + 67"
   ]
  },
  {
   "cell_type": "code",
   "execution_count": 17,
   "id": "d3377fc2-3153-4c75-880f-cfc1540b430d",
   "metadata": {},
   "outputs": [
    {
     "data": {
      "text/plain": [
       "101"
      ]
     },
     "execution_count": 17,
     "metadata": {},
     "output_type": "execute_result"
    }
   ],
   "source": [
    "int(a) + 56"
   ]
  },
  {
   "cell_type": "code",
   "execution_count": 22,
   "id": "87b03efe-7870-421c-bc33-e03440f1068c",
   "metadata": {},
   "outputs": [
    {
     "name": "stdin",
     "output_type": "stream",
     "text": [
      "Enter the value : 12\n"
     ]
    }
   ],
   "source": [
    "a = float(input(\"Enter the value :\"))"
   ]
  },
  {
   "cell_type": "code",
   "execution_count": 19,
   "id": "f3d2a418-651d-4039-8878-a99c92631168",
   "metadata": {},
   "outputs": [
    {
     "data": {
      "text/plain": [
       "float"
      ]
     },
     "execution_count": 19,
     "metadata": {},
     "output_type": "execute_result"
    }
   ],
   "source": [
    "type(a)"
   ]
  },
  {
   "cell_type": "code",
   "execution_count": 20,
   "id": "5f980e8b-6a2c-4168-b80b-1c942a9a3489",
   "metadata": {},
   "outputs": [
    {
     "data": {
      "text/plain": [
       "53.27"
      ]
     },
     "execution_count": 20,
     "metadata": {},
     "output_type": "execute_result"
    }
   ],
   "source": [
    "a + 7.6"
   ]
  },
  {
   "cell_type": "markdown",
   "id": "8590b4d3-5476-4934-b131-9fe9a811f526",
   "metadata": {},
   "source": [
    "### 2.3 Branching using if.. else.. block"
   ]
  },
  {
   "cell_type": "code",
   "execution_count": 29,
   "id": "2cd7fbb6-5017-4d15-87b8-e99563f8d69d",
   "metadata": {},
   "outputs": [],
   "source": [
    "a = 55"
   ]
  },
  {
   "cell_type": "code",
   "execution_count": 24,
   "id": "dd545d16-a642-4a68-b4e3-935d5c0941f1",
   "metadata": {},
   "outputs": [],
   "source": [
    "m = 1\n",
    "n = 20"
   ]
  },
  {
   "cell_type": "code",
   "execution_count": 25,
   "id": "7112169d-e8a3-4f6c-ac3a-08f352e391f7",
   "metadata": {},
   "outputs": [
    {
     "name": "stdout",
     "output_type": "stream",
     "text": [
      "The value is in range\n"
     ]
    }
   ],
   "source": [
    "if a >= m and a <= n:\n",
    "    print(\"The value is in range\")\n",
    "else:\n",
    "    print(\"The value is out of range\")"
   ]
  },
  {
   "cell_type": "code",
   "execution_count": 30,
   "id": "b67da3e1-6cd5-401f-a8cc-edbe8f5e5afd",
   "metadata": {},
   "outputs": [
    {
     "name": "stdout",
     "output_type": "stream",
     "text": [
      "The value is above range\n"
     ]
    }
   ],
   "source": [
    "if a < m:\n",
    "    print(\"The value is below range\")\n",
    "elif m <= a <= n:\n",
    "    print(\"The value is in range\")\n",
    "else:\n",
    "    print(\"The value is above range\")"
   ]
  },
  {
   "cell_type": "code",
   "execution_count": null,
   "id": "2bc200a5-8edb-4834-86a9-ea1f6da4dec5",
   "metadata": {},
   "outputs": [],
   "source": []
  }
 ],
 "metadata": {
  "kernelspec": {
   "display_name": "Python 3 (ipykernel)",
   "language": "python",
   "name": "python3"
  },
  "language_info": {
   "codemirror_mode": {
    "name": "ipython",
    "version": 3
   },
   "file_extension": ".py",
   "mimetype": "text/x-python",
   "name": "python",
   "nbconvert_exporter": "python",
   "pygments_lexer": "ipython3",
   "version": "3.11.7"
  }
 },
 "nbformat": 4,
 "nbformat_minor": 5
}
