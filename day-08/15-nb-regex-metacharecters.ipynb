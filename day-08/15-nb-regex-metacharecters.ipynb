{
 "cells": [
  {
   "cell_type": "markdown",
   "id": "16901e54-be18-41eb-9460-a5da3430fea1",
   "metadata": {},
   "source": [
    "### 15.1 Metacharecters - 1"
   ]
  },
  {
   "cell_type": "code",
   "execution_count": 2,
   "id": "fe246ee5-d6a4-4107-b6ee-4d9867ae10b8",
   "metadata": {},
   "outputs": [
    {
     "name": "stdout",
     "output_type": "stream",
     "text": [
      "abc matched in 'abc'\n",
      "abc matched in 'abc ab'\n"
     ]
    }
   ],
   "source": [
    "# regex_experiments.py\n",
    "\n",
    "import re\n",
    "data = ['ab', 'abc', 'a5e', 'a6f', '123 a6c', 'a5b', 'a55b', 'a555b', 'a5555b',\n",
    "        'a55555b', 'a555555b', 'a5xb', '1/4', '3+2=5', 'def ghi', 'abc ab']\n"
   ]
  },
  {
   "cell_type": "code",
   "execution_count": 4,
   "id": "00724d51-dd78-4ac9-b3a9-3cbc5215f69f",
   "metadata": {},
   "outputs": [
    {
     "name": "stdout",
     "output_type": "stream",
     "text": [
      "abc matched in 'abc'\n",
      "abc matched in 'abc ab'\n"
     ]
    }
   ],
   "source": [
    "for item in data:\n",
    "\tm = re.match(r'a.c', item)\n",
    "\tif m:\n",
    "\t\tprint (m.group() + ' matched in ' + '\\'' + item + '\\'')"
   ]
  },
  {
   "cell_type": "code",
   "execution_count": 5,
   "id": "e2fc931a-8836-4d1f-a7b3-e726767f7b6e",
   "metadata": {},
   "outputs": [
    {
     "name": "stdout",
     "output_type": "stream",
     "text": [
      "abc matched in 'abc'\n",
      "a6c matched in '123 a6c'\n",
      "abc matched in 'abc ab'\n"
     ]
    }
   ],
   "source": [
    "for item in data:\n",
    "\tm = re.search(r'a.c', item)\n",
    "\tif m:\n",
    "\t\tprint (m.group() + ' matched in ' + '\\'' + item + '\\'')"
   ]
  },
  {
   "cell_type": "code",
   "execution_count": 6,
   "id": "7f6171ef-22a0-4212-abde-6d81d06a4d69",
   "metadata": {},
   "outputs": [
    {
     "name": "stdout",
     "output_type": "stream",
     "text": [
      "abc matched in 'abc'\n",
      "a5e matched in 'a5e'\n",
      "a6f matched in 'a6f'\n",
      "a6c matched in '123 a6c'\n",
      "a5b matched in 'a5b'\n",
      "a55 matched in 'a55b'\n",
      "a55 matched in 'a555b'\n",
      "a55 matched in 'a5555b'\n",
      "a55 matched in 'a55555b'\n",
      "a55 matched in 'a555555b'\n",
      "a5x matched in 'a5xb'\n",
      "abc matched in 'abc ab'\n"
     ]
    }
   ],
   "source": [
    "# any 3 charecter pattern starting with a\n",
    "for item in data:\n",
    "\tm = re.search(r'a..', item)\n",
    "\tif m:\n",
    "\t\tprint (m.group() + ' matched in ' + '\\'' + item + '\\'')"
   ]
  },
  {
   "cell_type": "code",
   "execution_count": 9,
   "id": "368d3413-5e8d-48b2-aa12-2b8f98e67565",
   "metadata": {},
   "outputs": [
    {
     "name": "stdout",
     "output_type": "stream",
     "text": [
      "abc matched in 'abc'\n",
      "a6f matched in 'a6f'\n",
      "a6c matched in '123 a6c'\n",
      "a5b matched in 'a5b'\n",
      "abc matched in 'abc ab'\n"
     ]
    }
   ],
   "source": [
    "# any three charecters starting with a, followed by any charecter, followed by one of b, c, or f\n",
    "for item in data:\n",
    "\tm = re.search(r'a.[bcf]', item)\n",
    "\tif m:\n",
    "\t\tprint (m.group() + ' matched in ' + '\\'' + item + '\\'')"
   ]
  },
  {
   "cell_type": "code",
   "execution_count": 12,
   "id": "40a6ff81-c36e-410c-83a5-653c5226bdea",
   "metadata": {},
   "outputs": [
    {
     "name": "stdout",
     "output_type": "stream",
     "text": [
      "a5e matched in 'a5e'\n",
      "a6f matched in 'a6f'\n",
      "a5b matched in 'a5b'\n",
      "a5x matched in 'a5xb'\n"
     ]
    }
   ],
   "source": [
    "# [abd-z] except c match all small alphabets: d-z => d to z, 0-9 => 0 to 9\n",
    "\n",
    "for item in data: \n",
    "\tm = re.search(r'a.[abd-z]', item)  #'a.[a-z]'\n",
    "\tif m:\n",
    "\t\tprint (m.group() + ' matched in ' + '\\'' + item + '\\'')"
   ]
  },
  {
   "cell_type": "code",
   "execution_count": 13,
   "id": "ba3ae914-4b9b-46f3-9409-a1b678e32492",
   "metadata": {},
   "outputs": [
    {
     "name": "stdout",
     "output_type": "stream",
     "text": [
      "a5e matched in 'a5e'\n",
      "a6f matched in 'a6f'\n",
      "a6c matched in '123 a6c'\n",
      "a5b matched in 'a5b'\n",
      "a5x matched in 'a5xb'\n"
     ]
    }
   ],
   "source": [
    "# [abd-z] except c match all small alphabets: d-z => d to z, 0-9 => 0 to 9\n",
    "\n",
    "for item in data:\n",
    "\tm = re.search(r'a[0-9][a-z]', item)\n",
    "\tif m:\n",
    "\t\tprint (m.group() + ' matched in ' + '\\'' + item + '\\'')"
   ]
  },
  {
   "cell_type": "code",
   "execution_count": 15,
   "id": "ce723054-659b-457e-963e-345ba8244be1",
   "metadata": {},
   "outputs": [
    {
     "name": "stdout",
     "output_type": "stream",
     "text": [
      "a6f matched in 'a6f'\n",
      "a6c matched in '123 a6c'\n"
     ]
    }
   ],
   "source": [
    "# [^cf] except c and f match all other alphabets\n",
    "\n",
    "for item in data:\n",
    "\tm = re.search(r'a[0-9][cf]', item)\n",
    "\tif m:\n",
    "\t\tprint (m.group() + ' matched in ' + '\\'' + item + '\\'')"
   ]
  },
  {
   "cell_type": "code",
   "execution_count": 16,
   "id": "3de16b97-3cb1-46ed-841d-8aa8cf5c7fa9",
   "metadata": {},
   "outputs": [
    {
     "name": "stdout",
     "output_type": "stream",
     "text": [
      "a5e matched in 'a5e'\n",
      "a5b matched in 'a5b'\n",
      "a55 matched in 'a55b'\n",
      "a55 matched in 'a555b'\n",
      "a55 matched in 'a5555b'\n",
      "a55 matched in 'a55555b'\n",
      "a55 matched in 'a555555b'\n",
      "a5x matched in 'a5xb'\n"
     ]
    }
   ],
   "source": [
    "# [^cf] except c and f match all other alphabets\n",
    "\n",
    "for item in data:\n",
    "\tm = re.search(r'a[0-9][^cf]', item)\n",
    "\tif m:\n",
    "\t\tprint (m.group() + ' matched in ' + '\\'' + item + '\\'')"
   ]
  },
  {
   "cell_type": "code",
   "execution_count": 22,
   "id": "e1cde478-2ff1-4062-bf55-12bb4642fbb4",
   "metadata": {},
   "outputs": [],
   "source": [
    "# 3+2\n",
    "for item in data:\n",
    "\tm = re.search(r'3+2', item) # + has a special meaning in re\n",
    "\tif m:\n",
    "\t\tprint (m.group() + ' matched in ' + '\\'' + item + '\\'')"
   ]
  },
  {
   "cell_type": "code",
   "execution_count": 24,
   "id": "e6ef0952-5487-4edf-be8f-2a887fa22e20",
   "metadata": {},
   "outputs": [
    {
     "name": "stdout",
     "output_type": "stream",
     "text": [
      "3+2 matched in '3+2=5'\n"
     ]
    }
   ],
   "source": [
    "for item in data:\n",
    "\tm = re.search(r'3\\+2', item) # + has a special meaning in re\n",
    "\tif m:\n",
    "\t\tprint (m.group() + ' matched in ' + '\\'' + item + '\\'')"
   ]
  },
  {
   "cell_type": "code",
   "execution_count": 21,
   "id": "7cd36d59-d172-4c82-8f52-86f8f6ad4e54",
   "metadata": {},
   "outputs": [
    {
     "name": "stdout",
     "output_type": "stream",
     "text": [
      "123 matched in '123 a6c'\n",
      "55 matched in 'a55b'\n",
      "555 matched in 'a555b'\n",
      "5555 matched in 'a5555b'\n",
      "55555 matched in 'a55555b'\n",
      "555555 matched in 'a555555b'\n"
     ]
    }
   ],
   "source": [
    "for item in data:\n",
    "\tm = re.search(r'[0-9]+[0-9]', item) # + has a special meaning in re\n",
    "\tif m:\n",
    "\t\tprint (m.group() + ' matched in ' + '\\'' + item + '\\'')"
   ]
  },
  {
   "cell_type": "code",
   "execution_count": 26,
   "id": "29ca07bc-0fe5-4667-b0a5-664016a2b7f6",
   "metadata": {},
   "outputs": [
    {
     "name": "stdout",
     "output_type": "stream",
     "text": [
      "3+2 matched in '3+2=5'\n"
     ]
    }
   ],
   "source": [
    "for item in data:\n",
    "\tm = re.search(r'[0-9]\\+[0-9]', item) # + has a special meaning in re\n",
    "\tif m:\n",
    "\t\tprint (m.group() + ' matched in ' + '\\'' + item + '\\'')"
   ]
  },
  {
   "cell_type": "code",
   "execution_count": 27,
   "id": "ef82aefe-94bf-4968-8a41-111ec981bdbe",
   "metadata": {},
   "outputs": [
    {
     "name": "stdout",
     "output_type": "stream",
     "text": [
      "abc matched in 'abc'\n",
      "a6c matched in '123 a6c'\n",
      "3+2 matched in '3+2=5'\n",
      "abc matched in 'abc ab'\n"
     ]
    }
   ],
   "source": [
    "# Use | symbol for considering two or more regular expressions\n",
    "for item in data:\n",
    "\tm = re.search(r'[0-9]\\+[0-9]|a.c', item) # + has a special meaning in re\n",
    "\tif m:\n",
    "\t\tprint (m.group() + ' matched in ' + '\\'' + item + '\\'')"
   ]
  },
  {
   "cell_type": "markdown",
   "id": "43cfedd2-3d2c-4e9e-92f1-6d82e8d1b74f",
   "metadata": {},
   "source": [
    "### 15.2 Metacharecters - 2"
   ]
  },
  {
   "cell_type": "code",
   "execution_count": 29,
   "id": "ab2abff2-7814-4fb8-aeab-83c64f7a8cca",
   "metadata": {},
   "outputs": [
    {
     "name": "stdout",
     "output_type": "stream",
     "text": [
      "3+2 matched in '3+2=5'\n"
     ]
    }
   ],
   "source": [
    "for item in data:\n",
    "\tm = re.search(r'\\d\\+\\d', item) \n",
    "\tif m:\n",
    "\t\tprint (m.group() + ' matched in ' + '\\'' + item + '\\'')"
   ]
  },
  {
   "cell_type": "code",
   "execution_count": 30,
   "id": "da548d30-3b6f-488e-8c64-638ab03ff2e8",
   "metadata": {},
   "outputs": [
    {
     "name": "stdout",
     "output_type": "stream",
     "text": [
      "3 a matched in '123 a6c'\n",
      "f g matched in 'def ghi'\n",
      "c a matched in 'abc ab'\n"
     ]
    }
   ],
   "source": [
    "for item in data:\n",
    "\tm = re.search(r'\\w\\s\\w', item) \n",
    "\tif m:\n",
    "\t\tprint (m.group() + ' matched in ' + '\\'' + item + '\\'')"
   ]
  },
  {
   "cell_type": "markdown",
   "id": "a22e5181-d0bf-44bc-9761-f329fa1193ec",
   "metadata": {},
   "source": [
    "### 15.3 Metacharecters - 3"
   ]
  },
  {
   "cell_type": "code",
   "execution_count": 31,
   "id": "79461abb-61a7-4e6c-95dd-d1bddcbb120f",
   "metadata": {},
   "outputs": [
    {
     "name": "stdout",
     "output_type": "stream",
     "text": [
      "a6 matched in 'a6f'\n",
      "a6 matched in '123 a6c'\n"
     ]
    }
   ],
   "source": [
    "for item in data:\n",
    "\tm = re.search(r'a6', item) \n",
    "\tif m:\n",
    "\t\tprint (m.group() + ' matched in ' + '\\'' + item + '\\'')"
   ]
  },
  {
   "cell_type": "code",
   "execution_count": 32,
   "id": "80d4227a-ec35-48de-b893-ab35cc4f44d9",
   "metadata": {},
   "outputs": [
    {
     "name": "stdout",
     "output_type": "stream",
     "text": [
      "a6 matched in 'a6f'\n"
     ]
    }
   ],
   "source": [
    "for item in data:\n",
    "\tm = re.search(r'^a6', item) \n",
    "\tif m:\n",
    "\t\tprint (m.group() + ' matched in ' + '\\'' + item + '\\'')"
   ]
  },
  {
   "cell_type": "code",
   "execution_count": 33,
   "id": "c99728a2-454f-4206-a4d0-7a62e8da90c8",
   "metadata": {},
   "outputs": [
    {
     "name": "stdout",
     "output_type": "stream",
     "text": [
      "abc matched in 'abc'\n",
      "a6c matched in '123 a6c'\n",
      "abc matched in 'abc ab'\n"
     ]
    }
   ],
   "source": [
    "for item in data:\n",
    "\tm = re.search(r'..c', item) \n",
    "\tif m:\n",
    "\t\tprint (m.group() + ' matched in ' + '\\'' + item + '\\'')"
   ]
  },
  {
   "cell_type": "code",
   "execution_count": 34,
   "id": "111f74cf-328a-4a53-b88b-f672c2567b00",
   "metadata": {},
   "outputs": [
    {
     "name": "stdout",
     "output_type": "stream",
     "text": [
      "abc matched in 'abc'\n",
      "a6c matched in '123 a6c'\n"
     ]
    }
   ],
   "source": [
    "for item in data:\n",
    "\tm = re.search(r'..c$', item) \n",
    "\tif m:\n",
    "\t\tprint (m.group() + ' matched in ' + '\\'' + item + '\\'')"
   ]
  },
  {
   "cell_type": "code",
   "execution_count": 35,
   "id": "f2cb86d0-bdcd-49ba-9cc2-08007f507e19",
   "metadata": {},
   "outputs": [
    {
     "name": "stdout",
     "output_type": "stream",
     "text": [
      "ab matched in 'ab'\n",
      "ab matched in 'abc ab'\n"
     ]
    }
   ],
   "source": [
    "for item in data:\n",
    "\tm = re.search(r'ab\\b', item) \n",
    "\tif m:\n",
    "\t\tprint (m.group() + ' matched in ' + '\\'' + item + '\\'')"
   ]
  },
  {
   "cell_type": "code",
   "execution_count": 36,
   "id": "364eabbc-d019-4135-895f-9f79c89ed5fe",
   "metadata": {},
   "outputs": [
    {
     "name": "stdout",
     "output_type": "stream",
     "text": [
      "ab matched in 'abc'\n",
      "ab matched in 'abc ab'\n"
     ]
    }
   ],
   "source": [
    "for item in data:\n",
    "\tm = re.search(r'ab\\B', item) \n",
    "\tif m:\n",
    "\t\tprint (m.group() + ' matched in ' + '\\'' + item + '\\'')"
   ]
  },
  {
   "cell_type": "markdown",
   "id": "0f1590c5-2aaa-4eba-8a13-0a96d2bc2a8d",
   "metadata": {},
   "source": [
    "### 15.4 Metacharecters - 4"
   ]
  },
  {
   "cell_type": "code",
   "execution_count": 37,
   "id": "800140ac-0da2-48ca-a891-da11f255b79a",
   "metadata": {},
   "outputs": [
    {
     "name": "stdout",
     "output_type": "stream",
     "text": [
      "a5b matched in 'a5b'\n",
      "a55b matched in 'a55b'\n",
      "a555b matched in 'a555b'\n",
      "a5555b matched in 'a5555b'\n",
      "a55555b matched in 'a55555b'\n",
      "a555555b matched in 'a555555b'\n"
     ]
    }
   ],
   "source": [
    "for item in data:\n",
    "\tm = re.search(r'a55*b', item) \n",
    "\tif m:\n",
    "\t\tprint (m.group() + ' matched in ' + '\\'' + item + '\\'')"
   ]
  },
  {
   "cell_type": "code",
   "execution_count": 38,
   "id": "c5b44d0e-6903-46e6-943d-aebbee1033d7",
   "metadata": {},
   "outputs": [
    {
     "name": "stdout",
     "output_type": "stream",
     "text": [
      "a55b matched in 'a55b'\n",
      "a555b matched in 'a555b'\n",
      "a5555b matched in 'a5555b'\n",
      "a55555b matched in 'a55555b'\n",
      "a555555b matched in 'a555555b'\n"
     ]
    }
   ],
   "source": [
    "for item in data:\n",
    "\tm = re.search(r'a55+b', item) \n",
    "\tif m:\n",
    "\t\tprint (m.group() + ' matched in ' + '\\'' + item + '\\'')"
   ]
  },
  {
   "cell_type": "code",
   "execution_count": 39,
   "id": "9ac11bfa-d7ee-4263-bef2-470bc4dc4282",
   "metadata": {},
   "outputs": [
    {
     "name": "stdout",
     "output_type": "stream",
     "text": [
      "a5b matched in 'a5b'\n",
      "a55b matched in 'a55b'\n"
     ]
    }
   ],
   "source": [
    "for item in data:\n",
    "\tm = re.search(r'a55?b', item) \n",
    "\tif m:\n",
    "\t\tprint (m.group() + ' matched in ' + '\\'' + item + '\\'')"
   ]
  },
  {
   "cell_type": "code",
   "execution_count": 40,
   "id": "86a63bdc-af5d-4cac-8ca2-a9ebd24ba401",
   "metadata": {},
   "outputs": [
    {
     "name": "stdout",
     "output_type": "stream",
     "text": [
      "a55555b matched in 'a55555b'\n"
     ]
    }
   ],
   "source": [
    "for item in data:\n",
    "\tm = re.search(r'a55{4}b', item) \n",
    "\tif m:\n",
    "\t\tprint (m.group() + ' matched in ' + '\\'' + item + '\\'')"
   ]
  },
  {
   "cell_type": "code",
   "execution_count": 41,
   "id": "0269bd17-5b8c-435e-994d-e54a4bbf2d9b",
   "metadata": {},
   "outputs": [
    {
     "name": "stdout",
     "output_type": "stream",
     "text": [
      "a555b matched in 'a555b'\n",
      "a5555b matched in 'a5555b'\n",
      "a55555b matched in 'a55555b'\n"
     ]
    }
   ],
   "source": [
    "for item in data:\n",
    "\tm = re.search(r'a55{2,4}b', item) \n",
    "\tif m:\n",
    "\t\tprint (m.group() + ' matched in ' + '\\'' + item + '\\'')"
   ]
  },
  {
   "cell_type": "code",
   "execution_count": 42,
   "id": "51302260-461b-4a4e-95b2-6504ded332ed",
   "metadata": {},
   "outputs": [
    {
     "name": "stdout",
     "output_type": "stream",
     "text": [
      "a555b matched in 'a555b'\n",
      "a5555b matched in 'a5555b'\n",
      "a55555b matched in 'a55555b'\n",
      "a555555b matched in 'a555555b'\n"
     ]
    }
   ],
   "source": [
    "for item in data:\n",
    "\tm = re.search(r'a55{2,}b', item) \n",
    "\tif m:\n",
    "\t\tprint (m.group() + ' matched in ' + '\\'' + item + '\\'')"
   ]
  },
  {
   "cell_type": "code",
   "execution_count": 43,
   "id": "aad8e578-644a-4810-8c58-ba586ea27655",
   "metadata": {},
   "outputs": [
    {
     "name": "stdout",
     "output_type": "stream",
     "text": [
      "a5b matched in 'a5b'\n",
      "a55b matched in 'a55b'\n",
      "a555b matched in 'a555b'\n",
      "a5555b matched in 'a5555b'\n",
      "a55555b matched in 'a55555b'\n"
     ]
    }
   ],
   "source": [
    "for item in data:\n",
    "\tm = re.search(r'a55{,4}b', item) \n",
    "\tif m:\n",
    "\t\tprint (m.group() + ' matched in ' + '\\'' + item + '\\'')"
   ]
  },
  {
   "cell_type": "code",
   "execution_count": 44,
   "id": "18f034ba-2510-448b-bb08-fbd63d236df5",
   "metadata": {},
   "outputs": [
    {
     "name": "stdout",
     "output_type": "stream",
     "text": [
      "a5555b matched in 'a5555b'\n"
     ]
    }
   ],
   "source": [
    "for item in data:\n",
    "\tm = re.search(r'a(55){2}b', item) \n",
    "\tif m:\n",
    "\t\tprint (m.group() + ' matched in ' + '\\'' + item + '\\'')"
   ]
  },
  {
   "cell_type": "markdown",
   "id": "591a918e-5f6c-4f39-917d-1eafc55162ec",
   "metadata": {},
   "source": [
    "### Exercise"
   ]
  },
  {
   "cell_type": "code",
   "execution_count": 46,
   "id": "45653a7a-d63d-4b31-932f-9c6a8b72f92f",
   "metadata": {},
   "outputs": [],
   "source": [
    "text = \"This statement 3.1245 containes 66.564 floating point 45645 numbers\""
   ]
  },
  {
   "cell_type": "code",
   "execution_count": 47,
   "id": "5bffd82f-5431-47bb-ae94-24f81a8a4bd8",
   "metadata": {},
   "outputs": [],
   "source": [
    "p = r\"\\d+\\.\\d+\" # floating point numbers"
   ]
  },
  {
   "cell_type": "code",
   "execution_count": 48,
   "id": "901e75ea-519b-4f6f-ba9e-e505e6dd98d7",
   "metadata": {},
   "outputs": [
    {
     "data": {
      "text/plain": [
       "['3.1245', '66.564']"
      ]
     },
     "execution_count": 48,
     "metadata": {},
     "output_type": "execute_result"
    }
   ],
   "source": [
    "re.findall(p, text)"
   ]
  },
  {
   "cell_type": "code",
   "execution_count": 49,
   "id": "a4b259f6-089e-4e05-a6a3-814c97e9c77a",
   "metadata": {},
   "outputs": [],
   "source": [
    "p = r\"\\d+\\.?\\d*\" # All numbers"
   ]
  },
  {
   "cell_type": "code",
   "execution_count": 50,
   "id": "67faec0b-0e49-4b25-bb8b-7c1484adf643",
   "metadata": {},
   "outputs": [
    {
     "data": {
      "text/plain": [
       "['3.1245', '66.564', '45645']"
      ]
     },
     "execution_count": 50,
     "metadata": {},
     "output_type": "execute_result"
    }
   ],
   "source": [
    "re.findall(p, text)"
   ]
  },
  {
   "cell_type": "code",
   "execution_count": null,
   "id": "7d411e8c-2ed7-4ba7-b1bd-d87324504711",
   "metadata": {},
   "outputs": [],
   "source": []
  },
  {
   "cell_type": "code",
   "execution_count": 51,
   "id": "51bdd8e6-67c9-4cb0-a3e0-ced7f503b991",
   "metadata": {},
   "outputs": [],
   "source": [
    "text = \"These are +919847387483, Another 9877634554, Yet another 09877687635 phone numbers\""
   ]
  },
  {
   "cell_type": "code",
   "execution_count": 68,
   "id": "b915ba60-2519-45bb-b136-5db517f8e394",
   "metadata": {},
   "outputs": [],
   "source": [
    "pp = r\"0?(\\+91)?\\d{10}\" # [abc] => [(ab)(bc)(cd)]"
   ]
  },
  {
   "cell_type": "code",
   "execution_count": 71,
   "id": "1f73c4e5-4258-482c-92a6-9d8f027edc11",
   "metadata": {},
   "outputs": [
    {
     "name": "stdout",
     "output_type": "stream",
     "text": [
      "+919847387483\n",
      "9877634554\n",
      "09877687635\n"
     ]
    }
   ],
   "source": [
    "for m in re.finditer(pp, text):\n",
    "    print(m.group())"
   ]
  },
  {
   "cell_type": "code",
   "execution_count": null,
   "id": "3349659c-f7f0-49a4-b79d-4a5480531ac5",
   "metadata": {},
   "outputs": [],
   "source": []
  }
 ],
 "metadata": {
  "kernelspec": {
   "display_name": "Python 3 (ipykernel)",
   "language": "python",
   "name": "python3"
  },
  "language_info": {
   "codemirror_mode": {
    "name": "ipython",
    "version": 3
   },
   "file_extension": ".py",
   "mimetype": "text/x-python",
   "name": "python",
   "nbconvert_exporter": "python",
   "pygments_lexer": "ipython3",
   "version": "3.11.7"
  }
 },
 "nbformat": 4,
 "nbformat_minor": 5
}
