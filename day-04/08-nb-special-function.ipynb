{
 "cells": [
  {
   "cell_type": "markdown",
   "id": "5eadebe0-3081-4e41-9af5-75694c7e98c8",
   "metadata": {},
   "source": [
    "### 8.1 Functions in python"
   ]
  },
  {
   "cell_type": "markdown",
   "id": "4b6f370b-2d22-44fc-8bb0-66894ee631e0",
   "metadata": {},
   "source": [
    "def <function-name>(<input-values>):\n",
    "    return <output-alue>"
   ]
  },
  {
   "cell_type": "code",
   "execution_count": 1,
   "id": "ce81d3b7-5b20-423a-8450-8ffcf2df28e0",
   "metadata": {},
   "outputs": [],
   "source": [
    "# Function definition\n",
    "def checkprime(n):\n",
    "    prime = True\n",
    "    for i in range(2, n):\n",
    "        if(n % i == 0):\n",
    "            prime = False\n",
    "            break\n",
    "    return prime"
   ]
  },
  {
   "cell_type": "code",
   "execution_count": 2,
   "id": "e43ace03-e32b-4403-908b-012c3fbc9bb5",
   "metadata": {},
   "outputs": [
    {
     "data": {
      "text/plain": [
       "True"
      ]
     },
     "execution_count": 2,
     "metadata": {},
     "output_type": "execute_result"
    }
   ],
   "source": [
    "checkprime(19)"
   ]
  },
  {
   "cell_type": "code",
   "execution_count": 3,
   "id": "92328770-2bf7-470a-8e19-f8e2de3bf06e",
   "metadata": {},
   "outputs": [
    {
     "data": {
      "text/plain": [
       "False"
      ]
     },
     "execution_count": 3,
     "metadata": {},
     "output_type": "execute_result"
    }
   ],
   "source": [
    "checkprime(4)"
   ]
  },
  {
   "cell_type": "code",
   "execution_count": 5,
   "id": "33789f39-2cf3-4484-8006-b3ca46873cd5",
   "metadata": {},
   "outputs": [
    {
     "data": {
      "text/plain": [
       "[2, 3, 5, 7, 11, 13, 17, 19, 23, 29, 31, 37, 41, 43, 47]"
      ]
     },
     "execution_count": 5,
     "metadata": {},
     "output_type": "execute_result"
    }
   ],
   "source": [
    "# Extract all the prime numbers between 2 and 50\n",
    "N = list(range(2, 50))\n",
    "primes = []\n",
    "for number in N:\n",
    "    if checkprime(number):\n",
    "        primes.append(number)\n",
    "primes"
   ]
  },
  {
   "cell_type": "markdown",
   "id": "a3ee1401-74bc-4060-8ae0-bdcd2137b898",
   "metadata": {},
   "source": [
    "### 8.2 Lambda Functions"
   ]
  },
  {
   "cell_type": "markdown",
   "id": "13a3c4e2-5353-4fb5-8480-69f5da059a0e",
   "metadata": {},
   "source": [
    "##### They are anonymous functions with short definitions, the lambda expression returns a function object"
   ]
  },
  {
   "cell_type": "markdown",
   "id": "7ccac2a6-366e-4c9a-9f8a-62e04d773e4d",
   "metadata": {},
   "source": [
    "f = lambda <input>:<output>"
   ]
  },
  {
   "cell_type": "code",
   "execution_count": 6,
   "id": "322d3b16-eadd-49df-b731-5370b678531f",
   "metadata": {},
   "outputs": [],
   "source": [
    "f = lambda a,b:a + b"
   ]
  },
  {
   "cell_type": "code",
   "execution_count": 7,
   "id": "ff526316-6fb8-4499-bf43-02fbfee0d157",
   "metadata": {},
   "outputs": [
    {
     "data": {
      "text/plain": [
       "function"
      ]
     },
     "execution_count": 7,
     "metadata": {},
     "output_type": "execute_result"
    }
   ],
   "source": [
    "type(f)"
   ]
  },
  {
   "cell_type": "code",
   "execution_count": 8,
   "id": "f3f6fada-4beb-4a7a-b184-176837e79c2b",
   "metadata": {},
   "outputs": [
    {
     "data": {
      "text/plain": [
       "30"
      ]
     },
     "execution_count": 8,
     "metadata": {},
     "output_type": "execute_result"
    }
   ],
   "source": [
    "f(10, 20)"
   ]
  },
  {
   "cell_type": "code",
   "execution_count": 9,
   "id": "d319b178-988f-44f9-b87b-d502aab417da",
   "metadata": {},
   "outputs": [
    {
     "data": {
      "text/plain": [
       "'abcdef'"
      ]
     },
     "execution_count": 9,
     "metadata": {},
     "output_type": "execute_result"
    }
   ],
   "source": [
    "f('abc', 'def')"
   ]
  },
  {
   "cell_type": "code",
   "execution_count": 10,
   "id": "6287b580-a3d8-4cd2-9c3c-57f50bd34115",
   "metadata": {},
   "outputs": [
    {
     "data": {
      "text/plain": [
       "[1, 2, 4, 4, 5, 6]"
      ]
     },
     "execution_count": 10,
     "metadata": {},
     "output_type": "execute_result"
    }
   ],
   "source": [
    "f([1,2,4], [4, 5, 6])"
   ]
  },
  {
   "cell_type": "markdown",
   "id": "4f3ebd74-09e8-4c46-a461-a7aa5c0df571",
   "metadata": {},
   "source": [
    "### 8.3 Special Functions"
   ]
  },
  {
   "cell_type": "code",
   "execution_count": 11,
   "id": "19017b34-cdc9-4f3a-93ef-6590e20e03f3",
   "metadata": {},
   "outputs": [],
   "source": [
    "T = [12, 34, 56, 78, 100] # Temperatures in celcius"
   ]
  },
  {
   "cell_type": "code",
   "execution_count": 12,
   "id": "b5eb2d8b-bf9e-4b79-a6f3-2df1a11c4f04",
   "metadata": {},
   "outputs": [
    {
     "data": {
      "text/plain": [
       "[53.6, 93.2, 132.8, 172.4, 212.0]"
      ]
     },
     "execution_count": 12,
     "metadata": {},
     "output_type": "execute_result"
    }
   ],
   "source": [
    "F = []\n",
    "for temp in T:\n",
    "    F.append(temp * 1.8 + 32)\n",
    "F"
   ]
  },
  {
   "cell_type": "markdown",
   "id": "2e5dcd5c-97e9-4520-8436-1143b1dc892e",
   "metadata": {},
   "source": [
    "8.3.1 map(<function>, <iterator>) -> <collection>"
   ]
  },
  {
   "cell_type": "code",
   "execution_count": 14,
   "id": "6ea41837-1b27-40df-8801-dc66e90b7d97",
   "metadata": {},
   "outputs": [
    {
     "data": {
      "text/plain": [
       "[53.6, 93.2, 132.8, 172.4, 212.0]"
      ]
     },
     "execution_count": 14,
     "metadata": {},
     "output_type": "execute_result"
    }
   ],
   "source": [
    "F1 = map(lambda t : t * 1.8 + 32, T)\n",
    "list(F1)"
   ]
  },
  {
   "cell_type": "markdown",
   "id": "ef1ffbd4-4424-4a7e-a5b7-e90b911ca377",
   "metadata": {},
   "source": [
    "8.3.2 filter(<function>, <iterator>) -> <filtered-collection>"
   ]
  },
  {
   "cell_type": "code",
   "execution_count": 15,
   "id": "cee9b058-d91d-4dbc-a35d-a7fc2c2ab375",
   "metadata": {},
   "outputs": [
    {
     "data": {
      "text/plain": [
       "[2, 3, 5, 7, 11, 13, 17, 19, 23, 29, 31, 37, 41, 43, 47]"
      ]
     },
     "execution_count": 15,
     "metadata": {},
     "output_type": "execute_result"
    }
   ],
   "source": [
    "# Extract all the prime numbers between 2 and 50\n",
    "N = list(range(2, 50))\n",
    "primes = []\n",
    "for number in N:\n",
    "    if checkprime(number):\n",
    "        primes.append(number)\n",
    "primes"
   ]
  },
  {
   "cell_type": "code",
   "execution_count": 17,
   "id": "deb883e9-f1ce-473e-af71-0a8b0bb8c1af",
   "metadata": {},
   "outputs": [
    {
     "data": {
      "text/plain": [
       "[2, 3, 5, 7, 11, 13, 17, 19, 23, 29, 31, 37, 41, 43, 47]"
      ]
     },
     "execution_count": 17,
     "metadata": {},
     "output_type": "execute_result"
    }
   ],
   "source": [
    "P2 = filter(checkprime, range(2, 50))\n",
    "list(P2)"
   ]
  },
  {
   "cell_type": "markdown",
   "id": "14ca7762-529a-4cfa-886d-fc2d6aebc3ea",
   "metadata": {},
   "source": [
    "8.3.3 zip(<c1>, <c2>) -> (c1, c2)"
   ]
  },
  {
   "cell_type": "code",
   "execution_count": 21,
   "id": "10b063fe-964d-4bcc-8c97-5059397cfc76",
   "metadata": {},
   "outputs": [],
   "source": [
    "A = [\"red\", \"green\", \"blue\"]\n",
    "B = [1 ,2 ,3]\n",
    "Z = zip(A, B)"
   ]
  },
  {
   "cell_type": "code",
   "execution_count": 22,
   "id": "2b575da6-2ad4-40ca-8e2e-932be1c6b07a",
   "metadata": {},
   "outputs": [
    {
     "data": {
      "text/plain": [
       "zip"
      ]
     },
     "execution_count": 22,
     "metadata": {},
     "output_type": "execute_result"
    }
   ],
   "source": [
    "type(Z) # generator"
   ]
  },
  {
   "cell_type": "code",
   "execution_count": 19,
   "id": "e504b1c7-af38-4492-b5e3-3aaef78ac4fa",
   "metadata": {},
   "outputs": [
    {
     "data": {
      "text/plain": [
       "[('red', 1), ('green', 2), ('blue', 3)]"
      ]
     },
     "execution_count": 19,
     "metadata": {},
     "output_type": "execute_result"
    }
   ],
   "source": [
    "list(Z)"
   ]
  },
  {
   "cell_type": "code",
   "execution_count": 20,
   "id": "2b795606-4e36-49d6-ab3e-8038ac2712e8",
   "metadata": {},
   "outputs": [
    {
     "data": {
      "text/plain": [
       "{}"
      ]
     },
     "execution_count": 20,
     "metadata": {},
     "output_type": "execute_result"
    }
   ],
   "source": [
    "dict(Z) "
   ]
  },
  {
   "cell_type": "code",
   "execution_count": 23,
   "id": "9791069f-6242-47c9-8b7f-4fce0281e3f7",
   "metadata": {},
   "outputs": [],
   "source": [
    "# Once the generator is accessed, its values will be exhausted"
   ]
  },
  {
   "cell_type": "code",
   "execution_count": 24,
   "id": "c5d71e03-e3ab-4b5d-a305-8d488f7528f6",
   "metadata": {},
   "outputs": [],
   "source": [
    "A = [\"red\", \"green\", \"blue\"]\n",
    "B = [1 ,2 ,3]\n",
    "Z = zip(A, B)"
   ]
  },
  {
   "cell_type": "code",
   "execution_count": 26,
   "id": "0c87cd58-548c-4337-8438-ebc8a25d5f53",
   "metadata": {},
   "outputs": [
    {
     "data": {
      "text/plain": [
       "{'red': 1, 'green': 2, 'blue': 3}"
      ]
     },
     "execution_count": 26,
     "metadata": {},
     "output_type": "execute_result"
    }
   ],
   "source": [
    "dict(Z)"
   ]
  },
  {
   "cell_type": "code",
   "execution_count": 27,
   "id": "dbd945b8-660e-45dc-bf4d-717cb6bfc6f6",
   "metadata": {},
   "outputs": [
    {
     "data": {
      "text/plain": [
       "[]"
      ]
     },
     "execution_count": 27,
     "metadata": {},
     "output_type": "execute_result"
    }
   ],
   "source": [
    "list(Z)"
   ]
  },
  {
   "cell_type": "markdown",
   "id": "073e6d95-1723-4a7f-84f9-400b678a0c00",
   "metadata": {},
   "source": [
    "8.3.4 sort function with keys"
   ]
  },
  {
   "cell_type": "code",
   "execution_count": 28,
   "id": "6402b6e7-cf5d-4e68-8b77-97f507fbd13d",
   "metadata": {},
   "outputs": [],
   "source": [
    "L = [ (\"apples\", 25), (\"cherries\", 5), (\"banana\", 34)]"
   ]
  },
  {
   "cell_type": "code",
   "execution_count": 29,
   "id": "60a6c739-731c-47b0-b52e-c614fbb4cce8",
   "metadata": {},
   "outputs": [
    {
     "data": {
      "text/plain": [
       "[('apples', 25), ('banana', 34), ('cherries', 5)]"
      ]
     },
     "execution_count": 29,
     "metadata": {},
     "output_type": "execute_result"
    }
   ],
   "source": [
    "L.sort()\n",
    "L"
   ]
  },
  {
   "cell_type": "code",
   "execution_count": 31,
   "id": "582ecccc-d88f-4e37-a553-6bba8eaef283",
   "metadata": {},
   "outputs": [],
   "source": [
    "# key -> with respect to what should you sort, by default it is the first available element"
   ]
  },
  {
   "cell_type": "code",
   "execution_count": 30,
   "id": "a673e01d-7f8d-4baf-bb5e-4646564ff348",
   "metadata": {},
   "outputs": [
    {
     "data": {
      "text/plain": [
       "[('cherries', 5), ('apples', 25), ('banana', 34)]"
      ]
     },
     "execution_count": 30,
     "metadata": {},
     "output_type": "execute_result"
    }
   ],
   "source": [
    "L.sort(key=lambda e : e[1])\n",
    "L"
   ]
  },
  {
   "cell_type": "code",
   "execution_count": null,
   "id": "9f867211-4778-4998-ad34-910a235762d5",
   "metadata": {},
   "outputs": [],
   "source": []
  }
 ],
 "metadata": {
  "kernelspec": {
   "display_name": "Python 3 (ipykernel)",
   "language": "python",
   "name": "python3"
  },
  "language_info": {
   "codemirror_mode": {
    "name": "ipython",
    "version": 3
   },
   "file_extension": ".py",
   "mimetype": "text/x-python",
   "name": "python",
   "nbconvert_exporter": "python",
   "pygments_lexer": "ipython3",
   "version": "3.11.7"
  }
 },
 "nbformat": 4,
 "nbformat_minor": 5
}
